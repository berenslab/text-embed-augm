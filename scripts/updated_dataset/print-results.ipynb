{
 "cells": [
  {
   "cell_type": "code",
   "execution_count": null,
   "metadata": {},
   "outputs": [],
   "source": [
    "import pandas as pd\n",
    "import random\n",
    "import numpy as np\n",
    "from random import randint\n",
    "import torch\n",
    "from datasets import load_dataset\n",
    "\n",
    "# from transformers import AutoTokenizer, AutoModel\n",
    "\n",
    "# import adapters\n",
    "# from adapters import AutoAdapterModel\n",
    "# import gc\n",
    "\n",
    "# import scipy as sp\n",
    "# from scipy import sparse\n",
    "# import sklearn\n",
    "# from sklearn.feature_extraction.text import TfidfVectorizer\n",
    "\n",
    "# from sklearn.decomposition import TruncatedSVD\n",
    "# from sklearn.preprocessing import normalize\n",
    "\n",
    "# from openTSNE import TSNE, affinity\n",
    "\n",
    "import matplotlib.pyplot as plt\n",
    "import matplotlib as mpl\n",
    "\n",
    "\n",
    "import pickle\n",
    "import time\n",
    "import memory_profiler\n",
    "from tqdm.notebook import tqdm\n",
    "\n",
    "%load_ext memory_profiler\n",
    "\n",
    "from pathlib import Path\n",
    "import distro\n",
    "\n",
    "%load_ext watermark"
   ]
  },
  {
   "cell_type": "code",
   "execution_count": null,
   "metadata": {},
   "outputs": [
    {
     "data": {
      "text/plain": [
       "'2.5.0+cu124'"
      ]
     },
     "execution_count": null,
     "metadata": {},
     "output_type": "execute_result"
    }
   ],
   "source": [
    "# old one '1.8.1+cu111'\n",
    "torch.__version__"
   ]
  },
  {
   "cell_type": "code",
   "execution_count": null,
   "metadata": {},
   "outputs": [],
   "source": [
    "# %load_ext autoreload\n",
    "# %autoreload 2\n",
    "\n",
    "# from text_embeddings_src.model_stuff import train_loop\n",
    "# from text_embeddings_src.data_stuff import (\n",
    "#     SameSentencePairDataset,\n",
    "# )\n",
    "# from text_embeddings_src.embeddings import generate_embeddings\n",
    "\n",
    "# from text_embeddings_src.metrics import knn_accuracy, logistic_accuracy\n",
    "# from text_embeddings_src.dim_red import run_tsne_simple\n",
    "# from text_embeddings_src.plotting import plot_tsne_colors"
   ]
  },
  {
   "cell_type": "code",
   "execution_count": null,
   "metadata": {},
   "outputs": [],
   "source": [
    "import black\n",
    "import jupyter_black\n",
    "\n",
    "jupyter_black.load(line_length=79)"
   ]
  },
  {
   "cell_type": "code",
   "execution_count": null,
   "metadata": {},
   "outputs": [],
   "source": [
    "variables_path = Path(\"../../results/variables\")\n",
    "# variables_pubmed_path = Path(\"../../pubmed-landscape/results/variables\")\n",
    "figures_path = Path(\"../../results/figures/updated_dataset\")\n",
    "data_path = Path(\"../../data\")\n",
    "berenslab_data_path = Path(\"/gpfs01/berens/data/data/pubmed_processed\")"
   ]
  },
  {
   "cell_type": "code",
   "execution_count": null,
   "metadata": {},
   "outputs": [
    {
     "data": {
      "text/plain": [
       "'/gpfs01/berens/user/rgonzalesmarquez'"
      ]
     },
     "execution_count": null,
     "metadata": {},
     "output_type": "execute_result"
    }
   ],
   "source": [
    "pwd"
   ]
  },
  {
   "cell_type": "code",
   "execution_count": null,
   "metadata": {},
   "outputs": [],
   "source": [
    "# MANUAL FIX TO PATH ISSUE FROM VSCODE\n",
    "import text_embeddings_src\n",
    "\n",
    "nb_path = Path(text_embeddings_src.__path__[0]).parents[0] / Path(\n",
    "    \"scripts/updated_dataset\"\n",
    ")\n",
    "assert nb_path.exists(), \"The path does not exist\"\n",
    "\n",
    "variables_path = (nb_path / variables_path).resolve(strict=True)\n",
    "figures_path = (nb_path / figures_path).resolve(strict=True)\n",
    "data_path = (nb_path / data_path).resolve(strict=True)"
   ]
  },
  {
   "cell_type": "code",
   "execution_count": null,
   "metadata": {},
   "outputs": [],
   "source": [
    "plt.style.use((nb_path / Path(\"../matplotlib_style.txt\")).resolve(strict=True))"
   ]
  },
  {
   "cell_type": "markdown",
   "metadata": {},
   "source": [
    "## MTEB benchmark -- move to notebook 27"
   ]
  },
  {
   "cell_type": "markdown",
   "metadata": {},
   "source": [
    "### Load results"
   ]
  },
  {
   "cell_type": "code",
   "execution_count": null,
   "metadata": {},
   "outputs": [],
   "source": [
    "import os\n",
    "import json\n",
    "\n",
    "\n",
    "def load_mteb_results(directory):\n",
    "    results = {}\n",
    "    for root, dirs, files in os.walk(directory):\n",
    "        for file in files:\n",
    "            if file.endswith(\".json\"):\n",
    "                file_path = os.path.join(root, file)\n",
    "                with open(file_path, \"r\") as f:\n",
    "                    data = json.load(f)\n",
    "\n",
    "                # Create a key based on the relative path\n",
    "                relative_path = os.path.relpath(file_path, directory)\n",
    "                key = os.path.splitext(relative_path)[\n",
    "                    0\n",
    "                ]  # Remove the .json extension\n",
    "                results[key] = data\n",
    "\n",
    "    return results"
   ]
  },
  {
   "cell_type": "markdown",
   "metadata": {},
   "source": [
    "### Pre-trained MPNet"
   ]
  },
  {
   "cell_type": "code",
   "execution_count": null,
   "metadata": {},
   "outputs": [],
   "source": [
    "# IMPORT RESULTS\n",
    "model_name = \"MPNet\"\n",
    "saving_path = (\n",
    "    Path(\"embeddings_\" + model_name.lower())\n",
    "    / Path(\"updated_dataset\")\n",
    "    / Path(\"mteb_benchmark\")\n",
    ")\n",
    "root_directory = variables_path / saving_path / \"results_mpnet\"\n",
    "mteb_results_mpnet = load_mteb_results(root_directory)"
   ]
  },
  {
   "cell_type": "code",
   "execution_count": null,
   "metadata": {},
   "outputs": [],
   "source": [
    "# mteb_results_mpnet[\n",
    "#     \"microsoft__mpnet-base/6996ce1e91bd2a9c7d7f61daec37463394f73f09/ArxivClusteringP2P\"\n",
    "# ][\"scores\"][\"test\"][0][\"main_score\"]"
   ]
  },
  {
   "cell_type": "code",
   "execution_count": null,
   "metadata": {},
   "outputs": [],
   "source": [
    "# for key in list(mteb_results_mpnet.keys()):\n",
    "#     task = key.split(\"/\")[-1]\n",
    "#     print(f\"{task}\")\n",
    "#     print(mteb_results_mpnet[key])\n",
    "#     print(\"--------------------------\")"
   ]
  },
  {
   "cell_type": "code",
   "execution_count": null,
   "metadata": {},
   "outputs": [],
   "source": [
    "# for key in np.sort(list(mteb_results_mpnet.keys())):\n",
    "#     task = key.split(\"/\")[-1]\n",
    "#     if \"scores\" in mteb_results_mpnet[key].keys():\n",
    "#         score = mteb_results_mpnet[key][\"scores\"][\"test\"][0][\"main_score\"]\n",
    "#         print(f\"{task}: {score:.3f}\")\n",
    "#     else:\n",
    "#         continue"
   ]
  },
  {
   "cell_type": "code",
   "execution_count": null,
   "metadata": {},
   "outputs": [
    {
     "data": {
      "text/plain": [
       "{'ArguAna': 0.22227,\n",
       " 'ArxivClusteringP2P': 0.2779650469944176,\n",
       " 'BiorxivClusteringP2P': 0.2316813048895084,\n",
       " 'MedrxivClusteringP2P': 0.22468332848232406,\n",
       " 'MindSmallReranking': 0.27467856502239324,\n",
       " 'RedditClusteringP2P': 0.37379575022250616,\n",
       " 'SCIDOCS': 0.01393,\n",
       " 'STS12': 0.24343101795237168,\n",
       " 'STS13': 0.5201615715576864,\n",
       " 'STS14': 0.44645413158213426,\n",
       " 'STS15': 0.5348951971140059,\n",
       " 'STS16': 0.5058634949427733,\n",
       " 'STSBenchmark': 0.5198777389220091,\n",
       " 'SciDocsRR': 0.5605790878568542,\n",
       " 'StackExchangeClusteringP2P': 0.26347092269579386,\n",
       " 'TwentyNewsgroupsClustering': 0.13326264143335598}"
      ]
     },
     "execution_count": null,
     "metadata": {},
     "output_type": "execute_result"
    }
   ],
   "source": [
    "# CREATE DIC FOR RESULTS\n",
    "mteb_scores_mpnet = dict()\n",
    "for key in np.sort(list(mteb_results_mpnet.keys())):\n",
    "    task = key.split(\"/\")[-1]\n",
    "    if \"scores\" in mteb_results_mpnet[key].keys():\n",
    "        # pretrained mpnet\n",
    "        score_mpnet = mteb_results_mpnet[key][\"scores\"][\"test\"][0][\n",
    "            \"main_score\"\n",
    "        ]\n",
    "        mteb_scores_mpnet[task] = score_mpnet\n",
    "\n",
    "    else:\n",
    "        continue\n",
    "\n",
    "mteb_scores_mpnet"
   ]
  },
  {
   "cell_type": "markdown",
   "metadata": {},
   "source": [
    "### Fine-tuned MPNet (Crops)"
   ]
  },
  {
   "cell_type": "code",
   "execution_count": null,
   "metadata": {},
   "outputs": [],
   "source": [
    "# IMPORT RESULTS\n",
    "model_name = \"MPNet\"\n",
    "saving_path = (\n",
    "    Path(\"embeddings_\" + model_name.lower())\n",
    "    / Path(\"updated_dataset\")\n",
    "    / Path(\"mteb_benchmark\")\n",
    ")\n",
    "root_directory = (\n",
    "    variables_path\n",
    "    / saving_path\n",
    "    / f\"results_{model_name.lower()}_crops_finetuning\"\n",
    ")\n",
    "mteb_results_mpnet_crops = load_mteb_results(root_directory)"
   ]
  },
  {
   "cell_type": "code",
   "execution_count": null,
   "metadata": {},
   "outputs": [],
   "source": [
    "# CREATE DIC FOR RESULTS\n",
    "mteb_scores_mpnet_crops = dict()\n",
    "for key in np.sort(list(mteb_results_mpnet_crops.keys())):\n",
    "    task = key.split(\"/\")[-1]\n",
    "    if \"scores\" in mteb_results_mpnet_crops[key].keys():\n",
    "        # pretrained mpnet\n",
    "        score_mpnet = mteb_results_mpnet_crops[key][\"scores\"][\"test\"][0][\n",
    "            \"main_score\"\n",
    "        ]\n",
    "        mteb_scores_mpnet_crops[task] = score_mpnet\n",
    "\n",
    "    else:\n",
    "        continue"
   ]
  },
  {
   "cell_type": "code",
   "execution_count": null,
   "metadata": {},
   "outputs": [
    {
     "data": {
      "text/plain": [
       "{'ArguAna': 0.50645,\n",
       " 'ArxivClusteringP2P': 0.3831448182125486,\n",
       " 'BiorxivClusteringP2P': 0.3239812131713279,\n",
       " 'MedrxivClusteringP2P': 0.30846324327144165,\n",
       " 'MindSmallReranking': 0.3016545622166566,\n",
       " 'RedditClusteringP2P': 0.5585157919463574,\n",
       " 'SCIDOCS': 0.13043,\n",
       " 'STS12': 0.4910681280246965,\n",
       " 'STS13': 0.7369556305640635,\n",
       " 'STS14': 0.6407907818531218,\n",
       " 'STS15': 0.724794851067155,\n",
       " 'STS16': 0.7595258391529889,\n",
       " 'STSBenchmark': 0.7170197143136364,\n",
       " 'SciDocsRR': 0.7361146962017713,\n",
       " 'StackExchangeClusteringP2P': 0.31285921622475893,\n",
       " 'TwentyNewsgroupsClustering': 0.27660299969511837}"
      ]
     },
     "execution_count": null,
     "metadata": {},
     "output_type": "execute_result"
    }
   ],
   "source": [
    "mteb_scores_mpnet_crops"
   ]
  },
  {
   "cell_type": "markdown",
   "metadata": {},
   "source": [
    "### Fine-tuned MPNet (SimCSE-like)"
   ]
  },
  {
   "cell_type": "code",
   "execution_count": null,
   "metadata": {},
   "outputs": [],
   "source": [
    "# IMPORT RESULTS\n",
    "model_name = \"MPNet\"\n",
    "saving_path = (\n",
    "    Path(\"embeddings_\" + model_name.lower())\n",
    "    / Path(\"updated_dataset\")\n",
    "    / Path(\"mteb_benchmark\")\n",
    ")\n",
    "root_directory = (\n",
    "    variables_path\n",
    "    / saving_path\n",
    "    / f\"results_{model_name.lower()}_simcse_finetuning\"\n",
    ")\n",
    "mteb_results_mpnet_simcse = load_mteb_results(root_directory)"
   ]
  },
  {
   "cell_type": "code",
   "execution_count": null,
   "metadata": {},
   "outputs": [],
   "source": [
    "# CREATE DIC FOR RESULTS\n",
    "mteb_scores_mpnet_simcse = dict()\n",
    "for key in np.sort(list(mteb_results_mpnet_simcse.keys())):\n",
    "    task = key.split(\"/\")[-1]\n",
    "    if \"scores\" in mteb_results_mpnet_simcse[key].keys():\n",
    "        # pretrained mpnet\n",
    "        score_mpnet = mteb_results_mpnet_simcse[key][\"scores\"][\"test\"][0][\n",
    "            \"main_score\"\n",
    "        ]\n",
    "        mteb_scores_mpnet_simcse[task] = score_mpnet\n",
    "\n",
    "    else:\n",
    "        continue"
   ]
  },
  {
   "cell_type": "markdown",
   "metadata": {},
   "source": [
    "### Pre-trained SBERT"
   ]
  },
  {
   "cell_type": "code",
   "execution_count": null,
   "metadata": {},
   "outputs": [],
   "source": [
    "# IMPORT RESULTS\n",
    "model_name = \"SBERT\"\n",
    "saving_path = (\n",
    "    Path(\"embeddings_\" + model_name.lower())\n",
    "    / Path(\"updated_dataset\")\n",
    "    / Path(\"mteb_benchmark\")\n",
    ")\n",
    "root_directory = variables_path / saving_path / f\"results_{model_name.lower()}\"\n",
    "mteb_results_sbert = load_mteb_results(root_directory)"
   ]
  },
  {
   "cell_type": "code",
   "execution_count": null,
   "metadata": {},
   "outputs": [],
   "source": [
    "# CREATE DIC FOR RESULTS\n",
    "mteb_scores_sbert = dict()\n",
    "for key in np.sort(list(mteb_results_sbert.keys())):\n",
    "    task = key.split(\"/\")[-1]\n",
    "    if \"scores\" in mteb_results_sbert[key].keys():\n",
    "        # pretrained mpnet\n",
    "        score_mpnet = mteb_results_sbert[key][\"scores\"][\"test\"][0][\n",
    "            \"main_score\"\n",
    "        ]\n",
    "        mteb_scores_sbert[task] = score_mpnet\n",
    "\n",
    "    else:\n",
    "        continue"
   ]
  },
  {
   "cell_type": "markdown",
   "metadata": {},
   "source": [
    "### Pre-trained SimCSE"
   ]
  },
  {
   "cell_type": "code",
   "execution_count": null,
   "metadata": {},
   "outputs": [],
   "source": [
    "# IMPORT RESULTS\n",
    "model_name = \"SimCSE\"\n",
    "saving_path = (\n",
    "    Path(\"embeddings_\" + model_name.lower())\n",
    "    / Path(\"updated_dataset\")\n",
    "    / Path(\"mteb_benchmark\")\n",
    ")\n",
    "root_directory = variables_path / saving_path / f\"results_{model_name.lower()}\"\n",
    "mteb_results_simcse = load_mteb_results(root_directory)"
   ]
  },
  {
   "cell_type": "code",
   "execution_count": null,
   "metadata": {},
   "outputs": [],
   "source": [
    "# CREATE DIC FOR RESULTS\n",
    "mteb_scores_simcse = dict()\n",
    "for key in np.sort(list(mteb_results_simcse.keys())):\n",
    "    task = key.split(\"/\")[-1]\n",
    "    if \"scores\" in mteb_results_simcse[key].keys():\n",
    "        # pretrained mpnet\n",
    "        score_mpnet = mteb_results_simcse[key][\"scores\"][\"test\"][0][\n",
    "            \"main_score\"\n",
    "        ]\n",
    "        mteb_scores_simcse[task] = score_mpnet\n",
    "\n",
    "    else:\n",
    "        continue"
   ]
  },
  {
   "cell_type": "markdown",
   "metadata": {},
   "source": [
    "### Random embeddings layer "
   ]
  },
  {
   "cell_type": "code",
   "execution_count": null,
   "metadata": {},
   "outputs": [],
   "source": [
    "# IMPORT RESULTS\n",
    "\n",
    "saving_path = (\n",
    "    Path(\"embeddings_random_bert\")\n",
    "    / Path(\"updated_dataset\")\n",
    "    / Path(\"mteb_benchmark\")\n",
    ")\n",
    "root_directory = (\n",
    "    variables_path / saving_path / \"results_embedding_layer_random_bert\"\n",
    ")\n",
    "mteb_results_embeddings_layer_random = load_mteb_results(root_directory)"
   ]
  },
  {
   "cell_type": "code",
   "execution_count": null,
   "metadata": {},
   "outputs": [],
   "source": [
    "# CREATE DIC FOR RESULTS\n",
    "mteb_scores_embeddings_layer_random = dict()\n",
    "for key in np.sort(list(mteb_results_embeddings_layer_random.keys())):\n",
    "    task = key.split(\"/\")[-1]\n",
    "    if \"scores\" in mteb_results_embeddings_layer_random[key].keys():\n",
    "        # pretrained mpnet\n",
    "        score_mpnet = mteb_results_embeddings_layer_random[key][\"scores\"][\n",
    "            \"test\"\n",
    "        ][0][\"main_score\"]\n",
    "        mteb_scores_embeddings_layer_random[task] = score_mpnet\n",
    "\n",
    "    else:\n",
    "        continue"
   ]
  },
  {
   "cell_type": "markdown",
   "metadata": {},
   "source": [
    "### Random embeddings module "
   ]
  },
  {
   "cell_type": "code",
   "execution_count": null,
   "metadata": {},
   "outputs": [],
   "source": [
    "# # IMPORT RESULTS\n",
    "\n",
    "# saving_path = (\n",
    "#     Path(\"embeddings_random_bert\")\n",
    "#     / Path(\"updated_dataset\")\n",
    "#     / Path(\"mteb_benchmark\")\n",
    "# )\n",
    "# root_directory = (\n",
    "#     variables_path / saving_path / \"results_embedding_module_random_bert\"\n",
    "# )\n",
    "# mteb_results_embeddings_module_random = load_mteb_results(root_directory)"
   ]
  },
  {
   "cell_type": "code",
   "execution_count": null,
   "metadata": {},
   "outputs": [],
   "source": [
    "# # CREATE DIC FOR RESULTS\n",
    "# mteb_scores_embeddings_module_random = dict()\n",
    "# for key in np.sort(list(mteb_results_embeddings_module_random.keys())):\n",
    "#     task = key.split(\"/\")[-1]\n",
    "#     if \"scores\" in mteb_results_embeddings_module_random[key].keys():\n",
    "#         # pretrained mpnet\n",
    "#         score_mpnet = mteb_results_embeddings_module_random[key][\"scores\"][\n",
    "#             \"test\"\n",
    "#         ][0][\"main_score\"]\n",
    "#         mteb_scores_embeddings_module_random[task] = score_mpnet\n",
    "\n",
    "#     else:\n",
    "#         continue"
   ]
  },
  {
   "cell_type": "markdown",
   "metadata": {},
   "source": [
    "### Pre-trained embeddings module MPNet"
   ]
  },
  {
   "cell_type": "code",
   "execution_count": null,
   "metadata": {},
   "outputs": [],
   "source": [
    "# # IMPORT RESULTS\n",
    "# model_name = \"MPNet\"\n",
    "# saving_path = (\n",
    "#     Path(\"embeddings_\" + model_name.lower())\n",
    "#     / Path(\"updated_dataset\")\n",
    "#     / Path(\"mteb_benchmark\")\n",
    "# )\n",
    "# root_directory = (\n",
    "#     variables_path / saving_path / \"results_embedding_module_mpnet\"\n",
    "# )\n",
    "# mteb_results_embeddings_module_mpnet = load_mteb_results(root_directory)"
   ]
  },
  {
   "cell_type": "code",
   "execution_count": null,
   "metadata": {},
   "outputs": [],
   "source": [
    "# # CREATE DIC FOR RESULTS\n",
    "# mteb_scores_embeddings_module_mpnet = dict()\n",
    "# for key in np.sort(list(mteb_results_embeddings_module_mpnet.keys())):\n",
    "#     task = key.split(\"/\")[-1]\n",
    "#     if \"scores\" in mteb_results_embeddings_module_mpnet[key].keys():\n",
    "#         # pretrained mpnet\n",
    "#         score_mpnet = mteb_results_embeddings_module_mpnet[key][\"scores\"][\n",
    "#             \"test\"\n",
    "#         ][0][\"main_score\"]\n",
    "#         mteb_scores_embeddings_module_mpnet[task] = score_mpnet\n",
    "\n",
    "#     else:\n",
    "#         continue"
   ]
  },
  {
   "cell_type": "markdown",
   "metadata": {},
   "source": [
    "### Print table -- move to notebook 27"
   ]
  },
  {
   "cell_type": "code",
   "execution_count": null,
   "metadata": {},
   "outputs": [],
   "source": [
    "tasks = [\n",
    "    \"ArxivClusteringP2P\",\n",
    "    \"BiorxivClusteringP2P\",\n",
    "    \"MedrxivClusteringP2P\",\n",
    "    \"RedditClusteringP2P\",\n",
    "    # \"TwentyNewsgroupsClustering\",\n",
    "    \"StackExchangeClusteringP2P\",\n",
    "    \"SciDocsRR\",\n",
    "    \"MindSmallReranking\",\n",
    "    \"SCIDOCS\",\n",
    "    \"ArguAna\",\n",
    "    \"STS12\",\n",
    "    \"STS13\",\n",
    "    \"STS14\",\n",
    "    \"STS15\",\n",
    "    \"STS16\",\n",
    "    \"STSBenchmark\",\n",
    "]"
   ]
  },
  {
   "cell_type": "code",
   "execution_count": null,
   "metadata": {},
   "outputs": [
    {
     "name": "stdout",
     "output_type": "stream",
     "text": [
      "| Task                          |MPNet |Dropout|Crops|SimCSE|SBERT|\n",
      "--------------------------------------------------------------------\n",
      "| ArxivClusteringP2P            | 27.8 | 33.3 | 38.3 | 35.4 | 48.1 |\n",
      "| BiorxivClusteringP2P          | 23.2 | 31.1 | 32.4 | 30.1 | 39.3 |\n",
      "| MedrxivClusteringP2P          | 22.5 | 29.3 | 30.8 | 28.0 | 35.6 |\n",
      "| RedditClusteringP2P           | 37.4 | 49.5 | 55.9 | 44.7 | 56.6 |\n",
      "| StackExchangeClusteringP2P    | 26.3 | 30.2 | 31.3 | 28.8 | 34.3 |\n",
      "--------------------------------------------------------------------\n",
      "| SciDocsRR                     | 56.1 | 64.6 | 73.6 | 69.5 | 88.7 |\n",
      "| MindSmallReranking            | 27.5 | 28.4 | 30.2 | 29.3 | 31.0 |\n",
      "--------------------------------------------------------------------\n",
      "| SCIDOCS                       | 1.4 | 6.5 | 13.0 | 7.9 | 23.8 |\n",
      "| ArguAna                       | 22.2 | 41.9 | 50.6 | 41.4 | 46.5 |\n",
      "--------------------------------------------------------------------\n",
      "| STS12                         | 24.3 | 39.8 | 49.1 | 67.5 | 72.6 |\n",
      "| STS13                         | 52.0 | 67.4 | 73.7 | 82.5 | 83.5 |\n",
      "| STS14                         | 44.6 | 58.6 | 64.1 | 74.1 | 78.0 |\n",
      "| STS15                         | 53.5 | 63.5 | 72.5 | 82.3 | 85.7 |\n",
      "| STS16                         | 50.6 | 66.2 | 76.0 | 77.7 | 80.0 |\n",
      "| STSBenchmark                  | 52.0 | 67.9 | 71.7 | 78.6 | 83.4 |\n",
      "--------------------------------------------------------------------\n"
     ]
    }
   ],
   "source": [
    "# PRINT RESULTS\n",
    "for i, task in enumerate(tasks):\n",
    "    if i == 0:\n",
    "        headers = [\"Task\", \"MPNet\", \"Dropout\", \"Crops\", \"SimCSE\", \"SBERT\"]\n",
    "        print(\"| {:29} |{:3} |{:3}|{:3}|{:3}|{:3}|\".format(*headers))\n",
    "        print(\n",
    "            \"--------------------------------------------------------------------\"\n",
    "        )\n",
    "\n",
    "    print(\n",
    "        f\"| {task:29} | {mteb_scores_mpnet[task]*100:.1f} | {mteb_scores_mpnet_simcse[task]*100:.1f} | {mteb_scores_mpnet_crops[task]*100:.1f} | {mteb_scores_simcse[task]*100:.1f} | {mteb_scores_sbert[task]*100:.1f} |\"\n",
    "    )\n",
    "    if i in {4, 6, 8, len(tasks) - 1}:\n",
    "        print(\n",
    "            \"--------------------------------------------------------------------\"\n",
    "        )"
   ]
  },
  {
   "cell_type": "code",
   "execution_count": null,
   "metadata": {},
   "outputs": [
    {
     "name": "stdout",
     "output_type": "stream",
     "text": [
      "| Task                          |MPNet |EmbdR|EmbdM|Crops |Dropout|SimCSE|SBERT|\n",
      "--------------------------------------------------------------------------------\n",
      "| ArxivClusteringP2P            | 27.8 |21.0 |21.2 | 38.3 | 33.3 | 35.4 | 48.1 |\n",
      "| BiorxivClusteringP2P          | 23.2 |17.7 |17.3 | 32.4 | 31.1 | 30.1 | 39.3 |\n",
      "| MedrxivClusteringP2P          | 22.5 |18.8 |19.2 | 30.8 | 29.3 | 28.0 | 35.6 |\n",
      "| RedditClusteringP2P           | 37.4 |17.9 |17.9 | 55.9 | 49.5 | 44.7 | 56.6 |\n",
      "| TwentyNewsgroupsClustering    | 13.3 |9.5 |9.5 | 27.7 | 22.5 | 26.7 | 50.1 |\n",
      "--------------------------------------------------------------------------------\n",
      "| SciDocsRR                     | 56.1 |66.7 |66.7 | 73.6 | 64.6 | 69.5 | 88.7 |\n",
      "| MindSmallReranking            | 27.5 |25.6 |25.6 | 30.2 | 28.4 | 29.3 | 31.0 |\n",
      "--------------------------------------------------------------------------------\n",
      "| SCIDOCS                       | 1.4 |7.1 |7.1 | 13.0 | 6.5 | 7.9 | 23.8 |\n",
      "| ArguAna                       | 22.2 |16.0 |16.0 | 50.6 | 41.9 | 41.4 | 46.5 |\n",
      "--------------------------------------------------------------------------------\n",
      "| STS12                         | 24.3 |47.9 |48.8 | 49.1 | 39.8 | 67.5 | 72.6 |\n",
      "| STS13                         | 52.0 |52.1 |52.1 | 73.7 | 67.4 | 82.5 | 83.5 |\n",
      "| STS14                         | 44.6 |56.3 |56.3 | 64.1 | 58.6 | 74.1 | 78.0 |\n",
      "| STS15                         | 53.5 |69.1 |69.1 | 72.5 | 63.5 | 82.3 | 85.7 |\n",
      "| STS16                         | 50.6 |60.9 |60.9 | 76.0 | 66.2 | 77.7 | 80.0 |\n",
      "| STSBenchmark                  | 52.0 |55.2 |55.2 | 71.7 | 67.9 | 78.6 | 83.4 |\n",
      "--------------------------------------------------------------------------------\n"
     ]
    }
   ],
   "source": [
    "# PRINT RESULTS\n",
    "for i, task in enumerate(tasks):\n",
    "    if i == 0:\n",
    "        headers = [\n",
    "            \"Task\",\n",
    "            \"MPNet\",\n",
    "            \"EmbdR\",\n",
    "            \"EmbdM\",\n",
    "            \"Crops\",\n",
    "            \"Dropout\",\n",
    "            \"SimCSE\",\n",
    "            \"SBERT\",\n",
    "        ]\n",
    "        print(\n",
    "            \"| {:29} |{:3} |{:3}|{:3}|{:3} |{:3}|{:3}|{:3}|\".format(*headers)\n",
    "        )\n",
    "        print(\n",
    "            \"--------------------------------------------------------------------------------\"\n",
    "        )\n",
    "\n",
    "    print(\n",
    "        f\"| {task:29} | {mteb_scores_mpnet[task]*100:.1f} |{mteb_scores_embeddings_module_random[task]*100:.1f} |{mteb_scores_embeddings_module_mpnet[task]*100:.1f} | {mteb_scores_mpnet_crops[task]*100:.1f} | {mteb_scores_mpnet_simcse[task]*100:.1f} | {mteb_scores_simcse[task]*100:.1f} | {mteb_scores_sbert[task]*100:.1f} |\"\n",
    "    )\n",
    "    if i in {4, 6, 8, len(tasks) - 1}:\n",
    "        print(\n",
    "            \"--------------------------------------------------------------------------------\"\n",
    "        )"
   ]
  },
  {
   "cell_type": "code",
   "execution_count": null,
   "metadata": {},
   "outputs": [
    {
     "name": "stdout",
     "output_type": "stream",
     "text": [
      "| Task                          |MPNet |EmbdR|Crops |Dropout|SimCSE|SBERT|\n",
      "--------------------------------------------------------------------------------\n",
      "| ArxivClusteringP2P            | 27.8 |24.2 | 38.3 | 33.3 | 35.4 | 48.1 |\n",
      "| BiorxivClusteringP2P          | 23.2 |19.2 | 32.4 | 31.1 | 30.1 | 39.3 |\n",
      "| MedrxivClusteringP2P          | 22.5 |20.2 | 30.8 | 29.3 | 28.0 | 35.6 |\n",
      "| RedditClusteringP2P           | 37.4 |20.7 | 55.9 | 49.5 | 44.7 | 56.6 |\n",
      "| StackExchangeClusteringP2P    | 26.3 |26.3 | 31.3 | 30.2 | 28.8 | 34.3 |\n",
      "--------------------------------------------------------------------------------\n",
      "| SciDocsRR                     | 56.1 |65.6 | 73.6 | 64.6 | 69.5 | 88.7 |\n",
      "| MindSmallReranking            | 27.5 |25.9 | 30.2 | 28.4 | 29.3 | 31.0 |\n",
      "--------------------------------------------------------------------------------\n",
      "| SCIDOCS                       | 1.4 |9.6 | 13.0 | 6.5 | 7.9 | 23.8 |\n",
      "| ArguAna                       | 22.2 |24.1 | 50.6 | 41.9 | 41.4 | 46.5 |\n",
      "--------------------------------------------------------------------------------\n",
      "| STS12                         | 24.3 |49.9 | 49.1 | 39.8 | 67.5 | 72.6 |\n",
      "| STS13                         | 52.0 |45.7 | 73.7 | 67.4 | 82.5 | 83.5 |\n",
      "| STS14                         | 44.6 |52.4 | 64.1 | 58.6 | 74.1 | 78.0 |\n",
      "| STS15                         | 53.5 |63.8 | 72.5 | 63.5 | 82.3 | 85.7 |\n",
      "| STS16                         | 50.6 |56.9 | 76.0 | 66.2 | 77.7 | 80.0 |\n",
      "| STSBenchmark                  | 52.0 |48.8 | 71.7 | 67.9 | 78.6 | 83.4 |\n",
      "--------------------------------------------------------------------------------\n"
     ]
    }
   ],
   "source": [
    "# PRINT RESULTS\n",
    "for i, task in enumerate(tasks):\n",
    "    if i == 0:\n",
    "        headers = [\n",
    "            \"Task\",\n",
    "            \"MPNet\",\n",
    "            \"EmbdR\",\n",
    "            \"Crops\",\n",
    "            \"Dropout\",\n",
    "            \"SimCSE\",\n",
    "            \"SBERT\",\n",
    "        ]\n",
    "        print(\"| {:29} |{:3} |{:3}|{:3} |{:3}|{:3}|{:3}|\".format(*headers))\n",
    "        print(\n",
    "            \"--------------------------------------------------------------------------------\"\n",
    "        )\n",
    "\n",
    "    print(\n",
    "        f\"| {task:29} | {mteb_scores_mpnet[task]*100:.1f} |{mteb_scores_embeddings_layer_random[task]*100:.1f} | {mteb_scores_mpnet_crops[task]*100:.1f} | {mteb_scores_mpnet_simcse[task]*100:.1f} | {mteb_scores_simcse[task]*100:.1f} | {mteb_scores_sbert[task]*100:.1f} |\"\n",
    "    )\n",
    "    if i in {4, 6, 8, len(tasks) - 1}:\n",
    "        print(\n",
    "            \"--------------------------------------------------------------------------------\"\n",
    "        )"
   ]
  },
  {
   "cell_type": "code",
   "execution_count": null,
   "metadata": {},
   "outputs": [
    {
     "name": "stdout",
     "output_type": "stream",
     "text": [
      " Task                          & MPNet & SimCSE & SBERT & Crops & Dropout & Embdd* \\\\\n",
      "\\midrule\n",
      " ArxivClusteringP2P            & 27.8\\% & 35.4\\% & 48.1\\% & 38.3\\% & 33.3\\% & 24.2\\%  \\\\ \n",
      " BiorxivClusteringP2P          & 23.2\\% & 30.1\\% & 39.3\\% & 32.4\\% & 31.1\\% & 19.2\\%  \\\\ \n",
      " MedrxivClusteringP2P          & 22.5\\% & 28.0\\% & 35.6\\% & 30.8\\% & 29.3\\% & 20.2\\%  \\\\ \n",
      " RedditClusteringP2P           & 37.4\\% & 44.7\\% & 56.6\\% & 55.9\\% & 49.5\\% & 20.7\\%  \\\\ \n",
      " StackExchangeClusteringP2P    & 26.3\\% & 28.8\\% & 34.3\\% & 31.3\\% & 30.2\\% & 26.3\\%  \\\\ \n",
      "\\midrule\n",
      " SciDocsRR                     & 56.1\\% & 69.5\\% & 88.7\\% & 73.6\\% & 64.6\\% & 65.6\\%  \\\\ \n",
      " MindSmallReranking            & 27.5\\% & 29.3\\% & 31.0\\% & 30.2\\% & 28.4\\% & 25.9\\%  \\\\ \n",
      "\\midrule\n",
      " SCIDOCS                       & 1.4\\% & 7.9\\% & 23.8\\% & 13.0\\% & 6.5\\% & 9.6\\%  \\\\ \n",
      " ArguAna                       & 22.2\\% & 41.4\\% & 46.5\\% & 50.6\\% & 41.9\\% & 24.1\\%  \\\\ \n",
      "\\midrule\n",
      " STS12                         & 24.3\\% & 67.5\\% & 72.6\\% & 49.1\\% & 39.8\\% & 49.9\\%  \\\\ \n",
      " STS13                         & 52.0\\% & 82.5\\% & 83.5\\% & 73.7\\% & 67.4\\% & 45.7\\%  \\\\ \n",
      " STS14                         & 44.6\\% & 74.1\\% & 78.0\\% & 64.1\\% & 58.6\\% & 52.4\\%  \\\\ \n",
      " STS15                         & 53.5\\% & 82.3\\% & 85.7\\% & 72.5\\% & 63.5\\% & 63.8\\%  \\\\ \n",
      " STS16                         & 50.6\\% & 77.7\\% & 80.0\\% & 76.0\\% & 66.2\\% & 56.9\\%  \\\\ \n",
      " STSBenchmark                  & 52.0\\% & 78.6\\% & 83.4\\% & 71.7\\% & 67.9\\% & 48.8\\%  \\\\ \n",
      "\\midrule\n"
     ]
    }
   ],
   "source": [
    "# PRINT RESULTS\n",
    "for i, task in enumerate(tasks):\n",
    "    if i == 0:\n",
    "        headers = [\n",
    "            \"Task\",\n",
    "            \"MPNet\",\n",
    "            \"SimCSE\",\n",
    "            \"SBERT\",\n",
    "            \"Crops\",\n",
    "            \"Dropout\",\n",
    "            \"Embdd*\",\n",
    "        ]\n",
    "        print(\n",
    "            \" {:29} & {:3} & {:3} & {:3} & {:3} & {:3} & {:3} \\\\\\\\\".format(\n",
    "                *headers\n",
    "            )\n",
    "        )\n",
    "        print(\"\\midrule\")\n",
    "\n",
    "    print(\n",
    "        f\" {task:29} & {mteb_scores_mpnet[task]*100:.1f}\\% & {mteb_scores_simcse[task]*100:.1f}\\% & {mteb_scores_sbert[task]*100:.1f}\\% & {mteb_scores_mpnet_crops[task]*100:.1f}\\% & {mteb_scores_mpnet_simcse[task]*100:.1f}\\% & {mteb_scores_embeddings_layer_random[task]*100:.1f}\\%  \\\\\\\\ \"\n",
    "    )\n",
    "    if i in {4, 6, 8, len(tasks) - 1}:\n",
    "        print(\"\\midrule\")"
   ]
  },
  {
   "cell_type": "code",
   "execution_count": null,
   "metadata": {},
   "outputs": [],
   "source": [
    "tasks = [\n",
    "    \"ArxivClusteringP2P\",\n",
    "    \"BiorxivClusteringP2P\",\n",
    "    \"MedrxivClusteringP2P\",\n",
    "    \"RedditClusteringP2P\",\n",
    "    # \"TwentyNewsgroupsClustering\",\n",
    "    \"StackExchangeClusteringP2P\",\n",
    "    \"SciDocsRR\",\n",
    "    \"MindSmallReranking\",\n",
    "    \"SCIDOCS\",\n",
    "    \"ArguAna\",\n",
    "    # \"STS12\",\n",
    "    # \"STS13\",\n",
    "    # \"STS14\",\n",
    "    \"STS15\",\n",
    "    \"STS16\",\n",
    "    \"STSBenchmark\",\n",
    "]"
   ]
  },
  {
   "cell_type": "code",
   "execution_count": null,
   "metadata": {},
   "outputs": [
    {
     "data": {
      "text/html": [
       "<div>\n",
       "<style scoped>\n",
       "    .dataframe tbody tr th:only-of-type {\n",
       "        vertical-align: middle;\n",
       "    }\n",
       "\n",
       "    .dataframe tbody tr th {\n",
       "        vertical-align: top;\n",
       "    }\n",
       "\n",
       "    .dataframe thead th {\n",
       "        text-align: right;\n",
       "    }\n",
       "</style>\n",
       "<table border=\"1\" class=\"dataframe\">\n",
       "  <thead>\n",
       "    <tr style=\"text-align: right;\">\n",
       "      <th></th>\n",
       "      <th>MPNet</th>\n",
       "      <th>SimCSE</th>\n",
       "      <th>SBERT</th>\n",
       "      <th>Crops</th>\n",
       "      <th>Dropout</th>\n",
       "      <th>Embdd*</th>\n",
       "    </tr>\n",
       "  </thead>\n",
       "  <tbody>\n",
       "    <tr>\n",
       "      <th>ArxivClusteringP2P</th>\n",
       "      <td>NaN</td>\n",
       "      <td>NaN</td>\n",
       "      <td>NaN</td>\n",
       "      <td>NaN</td>\n",
       "      <td>NaN</td>\n",
       "      <td>NaN</td>\n",
       "    </tr>\n",
       "    <tr>\n",
       "      <th>BiorxivClusteringP2P</th>\n",
       "      <td>NaN</td>\n",
       "      <td>NaN</td>\n",
       "      <td>NaN</td>\n",
       "      <td>NaN</td>\n",
       "      <td>NaN</td>\n",
       "      <td>NaN</td>\n",
       "    </tr>\n",
       "    <tr>\n",
       "      <th>MedrxivClusteringP2P</th>\n",
       "      <td>NaN</td>\n",
       "      <td>NaN</td>\n",
       "      <td>NaN</td>\n",
       "      <td>NaN</td>\n",
       "      <td>NaN</td>\n",
       "      <td>NaN</td>\n",
       "    </tr>\n",
       "    <tr>\n",
       "      <th>RedditClusteringP2P</th>\n",
       "      <td>NaN</td>\n",
       "      <td>NaN</td>\n",
       "      <td>NaN</td>\n",
       "      <td>NaN</td>\n",
       "      <td>NaN</td>\n",
       "      <td>NaN</td>\n",
       "    </tr>\n",
       "    <tr>\n",
       "      <th>StackExchangeClusteringP2P</th>\n",
       "      <td>NaN</td>\n",
       "      <td>NaN</td>\n",
       "      <td>NaN</td>\n",
       "      <td>NaN</td>\n",
       "      <td>NaN</td>\n",
       "      <td>NaN</td>\n",
       "    </tr>\n",
       "    <tr>\n",
       "      <th>SciDocsRR</th>\n",
       "      <td>NaN</td>\n",
       "      <td>NaN</td>\n",
       "      <td>NaN</td>\n",
       "      <td>NaN</td>\n",
       "      <td>NaN</td>\n",
       "      <td>NaN</td>\n",
       "    </tr>\n",
       "    <tr>\n",
       "      <th>MindSmallReranking</th>\n",
       "      <td>NaN</td>\n",
       "      <td>NaN</td>\n",
       "      <td>NaN</td>\n",
       "      <td>NaN</td>\n",
       "      <td>NaN</td>\n",
       "      <td>NaN</td>\n",
       "    </tr>\n",
       "    <tr>\n",
       "      <th>SCIDOCS</th>\n",
       "      <td>NaN</td>\n",
       "      <td>NaN</td>\n",
       "      <td>NaN</td>\n",
       "      <td>NaN</td>\n",
       "      <td>NaN</td>\n",
       "      <td>NaN</td>\n",
       "    </tr>\n",
       "    <tr>\n",
       "      <th>ArguAna</th>\n",
       "      <td>NaN</td>\n",
       "      <td>NaN</td>\n",
       "      <td>NaN</td>\n",
       "      <td>NaN</td>\n",
       "      <td>NaN</td>\n",
       "      <td>NaN</td>\n",
       "    </tr>\n",
       "    <tr>\n",
       "      <th>STS15</th>\n",
       "      <td>NaN</td>\n",
       "      <td>NaN</td>\n",
       "      <td>NaN</td>\n",
       "      <td>NaN</td>\n",
       "      <td>NaN</td>\n",
       "      <td>NaN</td>\n",
       "    </tr>\n",
       "    <tr>\n",
       "      <th>STS16</th>\n",
       "      <td>NaN</td>\n",
       "      <td>NaN</td>\n",
       "      <td>NaN</td>\n",
       "      <td>NaN</td>\n",
       "      <td>NaN</td>\n",
       "      <td>NaN</td>\n",
       "    </tr>\n",
       "    <tr>\n",
       "      <th>STSBenchmark</th>\n",
       "      <td>NaN</td>\n",
       "      <td>NaN</td>\n",
       "      <td>NaN</td>\n",
       "      <td>NaN</td>\n",
       "      <td>NaN</td>\n",
       "      <td>NaN</td>\n",
       "    </tr>\n",
       "  </tbody>\n",
       "</table>\n",
       "</div>"
      ],
      "text/plain": [
       "                           MPNet SimCSE SBERT Crops Dropout Embdd*\n",
       "ArxivClusteringP2P           NaN    NaN   NaN   NaN     NaN    NaN\n",
       "BiorxivClusteringP2P         NaN    NaN   NaN   NaN     NaN    NaN\n",
       "MedrxivClusteringP2P         NaN    NaN   NaN   NaN     NaN    NaN\n",
       "RedditClusteringP2P          NaN    NaN   NaN   NaN     NaN    NaN\n",
       "StackExchangeClusteringP2P   NaN    NaN   NaN   NaN     NaN    NaN\n",
       "SciDocsRR                    NaN    NaN   NaN   NaN     NaN    NaN\n",
       "MindSmallReranking           NaN    NaN   NaN   NaN     NaN    NaN\n",
       "SCIDOCS                      NaN    NaN   NaN   NaN     NaN    NaN\n",
       "ArguAna                      NaN    NaN   NaN   NaN     NaN    NaN\n",
       "STS15                        NaN    NaN   NaN   NaN     NaN    NaN\n",
       "STS16                        NaN    NaN   NaN   NaN     NaN    NaN\n",
       "STSBenchmark                 NaN    NaN   NaN   NaN     NaN    NaN"
      ]
     },
     "execution_count": null,
     "metadata": {},
     "output_type": "execute_result"
    }
   ],
   "source": [
    "results = pd.DataFrame(\n",
    "    # columns=[\"MPNet\", \"Crops\", \"Dropout\", \"SimCSE\", \"SBERT\"],\n",
    "    columns=[\n",
    "        \"MPNet\",\n",
    "        \"SimCSE\",\n",
    "        \"SBERT\",\n",
    "        \"Crops\",\n",
    "        \"Dropout\",\n",
    "        \"Embdd*\",\n",
    "    ],\n",
    "    index=tasks,\n",
    ")\n",
    "results"
   ]
  },
  {
   "cell_type": "code",
   "execution_count": null,
   "metadata": {},
   "outputs": [],
   "source": [
    "# PRINT RESULTS\n",
    "for i, task in enumerate(tasks):\n",
    "    results[\"MPNet\"].loc[task] = mteb_scores_mpnet[task] * 100\n",
    "    results[\"SimCSE\"].loc[task] = mteb_scores_simcse[task] * 100\n",
    "    results[\"SBERT\"].loc[task] = mteb_scores_sbert[task] * 100\n",
    "    results[\"Crops\"].loc[task] = mteb_scores_mpnet_crops[task] * 100\n",
    "    results[\"Dropout\"].loc[task] = mteb_scores_mpnet_simcse[task] * 100\n",
    "    results[\"Embdd*\"].loc[task] = (\n",
    "        mteb_scores_embeddings_layer_random[task] * 100\n",
    "    )"
   ]
  },
  {
   "cell_type": "code",
   "execution_count": null,
   "metadata": {},
   "outputs": [
    {
     "data": {
      "text/html": [
       "<div>\n",
       "<style scoped>\n",
       "    .dataframe tbody tr th:only-of-type {\n",
       "        vertical-align: middle;\n",
       "    }\n",
       "\n",
       "    .dataframe tbody tr th {\n",
       "        vertical-align: top;\n",
       "    }\n",
       "\n",
       "    .dataframe thead th {\n",
       "        text-align: right;\n",
       "    }\n",
       "</style>\n",
       "<table border=\"1\" class=\"dataframe\">\n",
       "  <thead>\n",
       "    <tr style=\"text-align: right;\">\n",
       "      <th></th>\n",
       "      <th>MPNet</th>\n",
       "      <th>SimCSE</th>\n",
       "      <th>SBERT</th>\n",
       "      <th>Crops</th>\n",
       "      <th>Dropout</th>\n",
       "      <th>Embdd*</th>\n",
       "    </tr>\n",
       "  </thead>\n",
       "  <tbody>\n",
       "    <tr>\n",
       "      <th>ArxivClusteringP2P</th>\n",
       "      <td>27.8</td>\n",
       "      <td>35.4</td>\n",
       "      <td>48.1</td>\n",
       "      <td>38.3</td>\n",
       "      <td>33.3</td>\n",
       "      <td>24.2</td>\n",
       "    </tr>\n",
       "    <tr>\n",
       "      <th>BiorxivClusteringP2P</th>\n",
       "      <td>23.2</td>\n",
       "      <td>30.1</td>\n",
       "      <td>39.3</td>\n",
       "      <td>32.4</td>\n",
       "      <td>31.1</td>\n",
       "      <td>19.2</td>\n",
       "    </tr>\n",
       "    <tr>\n",
       "      <th>MedrxivClusteringP2P</th>\n",
       "      <td>22.5</td>\n",
       "      <td>28.0</td>\n",
       "      <td>35.6</td>\n",
       "      <td>30.8</td>\n",
       "      <td>29.3</td>\n",
       "      <td>20.2</td>\n",
       "    </tr>\n",
       "    <tr>\n",
       "      <th>RedditClusteringP2P</th>\n",
       "      <td>37.4</td>\n",
       "      <td>44.7</td>\n",
       "      <td>56.6</td>\n",
       "      <td>55.9</td>\n",
       "      <td>49.5</td>\n",
       "      <td>20.7</td>\n",
       "    </tr>\n",
       "    <tr>\n",
       "      <th>StackExchangeClusteringP2P</th>\n",
       "      <td>26.3</td>\n",
       "      <td>28.8</td>\n",
       "      <td>34.3</td>\n",
       "      <td>31.3</td>\n",
       "      <td>30.2</td>\n",
       "      <td>26.3</td>\n",
       "    </tr>\n",
       "    <tr>\n",
       "      <th>SciDocsRR</th>\n",
       "      <td>56.1</td>\n",
       "      <td>69.5</td>\n",
       "      <td>88.7</td>\n",
       "      <td>73.6</td>\n",
       "      <td>64.6</td>\n",
       "      <td>65.6</td>\n",
       "    </tr>\n",
       "    <tr>\n",
       "      <th>MindSmallReranking</th>\n",
       "      <td>27.5</td>\n",
       "      <td>29.3</td>\n",
       "      <td>31.0</td>\n",
       "      <td>30.2</td>\n",
       "      <td>28.4</td>\n",
       "      <td>25.9</td>\n",
       "    </tr>\n",
       "    <tr>\n",
       "      <th>SCIDOCS</th>\n",
       "      <td>1.4</td>\n",
       "      <td>7.9</td>\n",
       "      <td>23.8</td>\n",
       "      <td>13.0</td>\n",
       "      <td>6.5</td>\n",
       "      <td>9.6</td>\n",
       "    </tr>\n",
       "    <tr>\n",
       "      <th>ArguAna</th>\n",
       "      <td>22.2</td>\n",
       "      <td>41.4</td>\n",
       "      <td>46.5</td>\n",
       "      <td>50.6</td>\n",
       "      <td>41.9</td>\n",
       "      <td>24.1</td>\n",
       "    </tr>\n",
       "    <tr>\n",
       "      <th>STS15</th>\n",
       "      <td>53.5</td>\n",
       "      <td>82.3</td>\n",
       "      <td>85.7</td>\n",
       "      <td>72.5</td>\n",
       "      <td>63.5</td>\n",
       "      <td>63.8</td>\n",
       "    </tr>\n",
       "    <tr>\n",
       "      <th>STS16</th>\n",
       "      <td>50.6</td>\n",
       "      <td>77.7</td>\n",
       "      <td>80.0</td>\n",
       "      <td>76.0</td>\n",
       "      <td>66.2</td>\n",
       "      <td>56.9</td>\n",
       "    </tr>\n",
       "    <tr>\n",
       "      <th>STSBenchmark</th>\n",
       "      <td>52.0</td>\n",
       "      <td>78.6</td>\n",
       "      <td>83.4</td>\n",
       "      <td>71.7</td>\n",
       "      <td>67.9</td>\n",
       "      <td>48.8</td>\n",
       "    </tr>\n",
       "  </tbody>\n",
       "</table>\n",
       "</div>"
      ],
      "text/plain": [
       "                            MPNet  SimCSE  SBERT  Crops  Dropout  Embdd*\n",
       "ArxivClusteringP2P           27.8    35.4   48.1   38.3     33.3    24.2\n",
       "BiorxivClusteringP2P         23.2    30.1   39.3   32.4     31.1    19.2\n",
       "MedrxivClusteringP2P         22.5    28.0   35.6   30.8     29.3    20.2\n",
       "RedditClusteringP2P          37.4    44.7   56.6   55.9     49.5    20.7\n",
       "StackExchangeClusteringP2P   26.3    28.8   34.3   31.3     30.2    26.3\n",
       "SciDocsRR                    56.1    69.5   88.7   73.6     64.6    65.6\n",
       "MindSmallReranking           27.5    29.3   31.0   30.2     28.4    25.9\n",
       "SCIDOCS                       1.4     7.9   23.8   13.0      6.5     9.6\n",
       "ArguAna                      22.2    41.4   46.5   50.6     41.9    24.1\n",
       "STS15                        53.5    82.3   85.7   72.5     63.5    63.8\n",
       "STS16                        50.6    77.7   80.0   76.0     66.2    56.9\n",
       "STSBenchmark                 52.0    78.6   83.4   71.7     67.9    48.8"
      ]
     },
     "execution_count": null,
     "metadata": {},
     "output_type": "execute_result"
    }
   ],
   "source": [
    "results.astype(float).round(1)"
   ]
  },
  {
   "cell_type": "code",
   "execution_count": null,
   "metadata": {},
   "outputs": [
    {
     "data": {
      "text/plain": [
       "33.36408697618821"
      ]
     },
     "execution_count": null,
     "metadata": {},
     "output_type": "execute_result"
    }
   ],
   "source": [
    "np.mean(results.MPNet)"
   ]
  },
  {
   "cell_type": "code",
   "execution_count": null,
   "metadata": {},
   "outputs": [
    {
     "data": {
      "text/plain": [
       "MPNet      33.4\n",
       "SimCSE     46.1\n",
       "SBERT      54.4\n",
       "Crops      48.0\n",
       "Dropout    42.7\n",
       "Embdd*     33.8\n",
       "dtype: float64"
      ]
     },
     "execution_count": null,
     "metadata": {},
     "output_type": "execute_result"
    }
   ],
   "source": [
    "results.mean(axis=0).astype(float).round(1)"
   ]
  },
  {
   "cell_type": "code",
   "execution_count": null,
   "metadata": {},
   "outputs": [],
   "source": [
    "clustering = (\n",
    "    results.loc[\n",
    "        [\n",
    "            \"ArxivClusteringP2P\",\n",
    "            \"BiorxivClusteringP2P\",\n",
    "            \"MedrxivClusteringP2P\",\n",
    "            \"RedditClusteringP2P\",\n",
    "            \"StackExchangeClusteringP2P\",\n",
    "        ]\n",
    "    ]\n",
    "    .mean(axis=0)\n",
    "    .astype(float)\n",
    "    .round(1)\n",
    ")"
   ]
  },
  {
   "cell_type": "code",
   "execution_count": null,
   "metadata": {},
   "outputs": [],
   "source": [
    "reranking = (\n",
    "    results.loc[\n",
    "        [\n",
    "            \"SciDocsRR\",\n",
    "            \"MindSmallReranking\",\n",
    "        ]\n",
    "    ]\n",
    "    .mean(axis=0)\n",
    "    .astype(float)\n",
    "    .round(1)\n",
    ")"
   ]
  },
  {
   "cell_type": "code",
   "execution_count": null,
   "metadata": {},
   "outputs": [],
   "source": [
    "retrieval = (\n",
    "    results.loc[\n",
    "        [\n",
    "            \"SCIDOCS\",\n",
    "            \"ArguAna\",\n",
    "        ]\n",
    "    ]\n",
    "    .mean(axis=0)\n",
    "    .astype(float)\n",
    "    .round(1)\n",
    ")"
   ]
  },
  {
   "cell_type": "code",
   "execution_count": null,
   "metadata": {},
   "outputs": [],
   "source": [
    "sts = (\n",
    "    results.loc[\n",
    "        [\n",
    "            \"STS15\",\n",
    "            \"STS16\",\n",
    "            \"STSBenchmark\",\n",
    "        ]\n",
    "    ]\n",
    "    .mean(axis=0)\n",
    "    .astype(float)\n",
    "    .round(1)\n",
    ")"
   ]
  },
  {
   "cell_type": "code",
   "execution_count": null,
   "metadata": {},
   "outputs": [
    {
     "name": "stdout",
     "output_type": "stream",
     "text": [
      "MPNet      27.4\n",
      "SimCSE     33.4\n",
      "SBERT      42.8\n",
      "Crops      37.7\n",
      "Dropout    34.7\n",
      "Embdd*     22.1\n",
      "dtype: float64\n",
      "MPNet      41.8\n",
      "SimCSE     49.4\n",
      "SBERT      59.8\n",
      "Crops      51.9\n",
      "Dropout    46.5\n",
      "Embdd*     45.8\n",
      "dtype: float64\n",
      "MPNet      11.8\n",
      "SimCSE     24.7\n",
      "SBERT      35.1\n",
      "Crops      31.8\n",
      "Dropout    24.2\n",
      "Embdd*     16.8\n",
      "dtype: float64\n",
      "MPNet      52.0\n",
      "SimCSE     79.5\n",
      "SBERT      83.0\n",
      "Crops      73.4\n",
      "Dropout    65.9\n",
      "Embdd*     56.5\n",
      "dtype: float64\n"
     ]
    }
   ],
   "source": [
    "print(clustering)\n",
    "print(reranking)\n",
    "print(retrieval)\n",
    "print(sts)"
   ]
  },
  {
   "cell_type": "code",
   "execution_count": null,
   "metadata": {},
   "outputs": [],
   "source": [
    "MPNet      27.4\n",
    "SimCSE     33.4\n",
    "SBERT      \n",
    "Crops      \n",
    "Dropout    34.7\n",
    "Embdd*     22.1\n",
    "dtype: float64\n",
    "MPNet      41.8\n",
    "SimCSE     49.4\n",
    "SBERT      \n",
    "Crops      \n",
    "Dropout    46.5\n",
    "Embdd*     45.8\n",
    "dtype: float64\n",
    "MPNet      11.8\n",
    "SimCSE     24.7\n",
    "SBERT      \n",
    "Crops      \n",
    "Dropout    24.2\n",
    "Embdd*     16.8\n",
    "dtype: float64\n",
    "MPNet      52.0\n",
    "SimCSE     79.5\n",
    "SBERT      \n",
    "Crops      \n",
    "Dropout    65.9\n",
    "Embdd*     56.5"
   ]
  },
  {
   "cell_type": "code",
   "execution_count": null,
   "metadata": {},
   "outputs": [
    {
     "data": {
      "text/plain": [
       "MPNet      33.2\n",
       "SimCSE     46.8\n",
       "SBERT      55.2\n",
       "Crops      48.7\n",
       "Dropout    42.8\n",
       "Embdd*     35.3\n",
       "dtype: float64"
      ]
     },
     "execution_count": null,
     "metadata": {},
     "output_type": "execute_result"
    }
   ],
   "source": [
    "((clustering + reranking + retrieval + sts) / 4).round(1)"
   ]
  },
  {
   "cell_type": "code",
   "execution_count": null,
   "metadata": {},
   "outputs": [],
   "source": [
    "33.2 & 46.8 & 55.2 & 48.7 & 42.8 & 35.3 "
   ]
  },
  {
   "cell_type": "code",
   "execution_count": null,
   "metadata": {},
   "outputs": [
    {
     "name": "stdout",
     "output_type": "stream",
     "text": [
      "5.1\n",
      "7.9\n",
      "3.3\n",
      "9.6\n"
     ]
    }
   ],
   "source": [
    "print(np.round(42.8 - 37.7, 1))\n",
    "print(np.round(59.8 - 51.9, 1))\n",
    "print(np.round(35.1 - 31.8, 1))\n",
    "print(np.round(83.0 - 73.4, 1))"
   ]
  },
  {
   "cell_type": "markdown",
   "metadata": {},
   "source": [
    "# Datasets -- move to notebook 29"
   ]
  },
  {
   "cell_type": "markdown",
   "metadata": {},
   "source": [
    "## Stats"
   ]
  },
  {
   "cell_type": "code",
   "execution_count": null,
   "metadata": {},
   "outputs": [],
   "source": [
    "datasets_names = [\n",
    "    # \"arxiv\",\n",
    "    \"biorxiv\",\n",
    "    \"medrxiv\",\n",
    "    \"reddit\",\n",
    "    \"stackexchange\",\n",
    "]\n",
    "datasets_paths = [\n",
    "    # \"mteb/arxiv-clustering-p2p\",\n",
    "    \"mteb/biorxiv-clustering-p2p\",\n",
    "    \"mteb/medrxiv-clustering-p2p\",\n",
    "    \"mteb/reddit-clustering-p2p\",\n",
    "    \"mteb/stackexchange-clustering-p2p\",\n",
    "]"
   ]
  },
  {
   "cell_type": "code",
   "execution_count": null,
   "metadata": {},
   "outputs": [
    {
     "data": {
      "text/html": [
       "<div>\n",
       "<style scoped>\n",
       "    .dataframe tbody tr th:only-of-type {\n",
       "        vertical-align: middle;\n",
       "    }\n",
       "\n",
       "    .dataframe tbody tr th {\n",
       "        vertical-align: top;\n",
       "    }\n",
       "\n",
       "    .dataframe thead th {\n",
       "        text-align: right;\n",
       "    }\n",
       "</style>\n",
       "<table border=\"1\" class=\"dataframe\">\n",
       "  <thead>\n",
       "    <tr style=\"text-align: right;\">\n",
       "      <th></th>\n",
       "      <th># samples</th>\n",
       "      <th># classes</th>\n",
       "      <th>Mean length</th>\n",
       "      <th>Std length</th>\n",
       "    </tr>\n",
       "  </thead>\n",
       "  <tbody>\n",
       "    <tr>\n",
       "      <th>biorxiv</th>\n",
       "      <td>NaN</td>\n",
       "      <td>NaN</td>\n",
       "      <td>NaN</td>\n",
       "      <td>NaN</td>\n",
       "    </tr>\n",
       "    <tr>\n",
       "      <th>medrxiv</th>\n",
       "      <td>NaN</td>\n",
       "      <td>NaN</td>\n",
       "      <td>NaN</td>\n",
       "      <td>NaN</td>\n",
       "    </tr>\n",
       "    <tr>\n",
       "      <th>reddit</th>\n",
       "      <td>NaN</td>\n",
       "      <td>NaN</td>\n",
       "      <td>NaN</td>\n",
       "      <td>NaN</td>\n",
       "    </tr>\n",
       "    <tr>\n",
       "      <th>stackexchange</th>\n",
       "      <td>NaN</td>\n",
       "      <td>NaN</td>\n",
       "      <td>NaN</td>\n",
       "      <td>NaN</td>\n",
       "    </tr>\n",
       "  </tbody>\n",
       "</table>\n",
       "</div>"
      ],
      "text/plain": [
       "              # samples # classes Mean length Std length\n",
       "biorxiv             NaN       NaN         NaN        NaN\n",
       "medrxiv             NaN       NaN         NaN        NaN\n",
       "reddit              NaN       NaN         NaN        NaN\n",
       "stackexchange       NaN       NaN         NaN        NaN"
      ]
     },
     "execution_count": null,
     "metadata": {},
     "output_type": "execute_result"
    }
   ],
   "source": [
    "dataset_stats = pd.DataFrame(\n",
    "    columns=[\n",
    "        \"# samples\",\n",
    "        \"# classes\",\n",
    "        \"Mean length\",\n",
    "        \"Std length\",\n",
    "    ],\n",
    "    index=datasets_names,\n",
    ")\n",
    "dataset_stats"
   ]
  },
  {
   "cell_type": "code",
   "execution_count": null,
   "metadata": {},
   "outputs": [
    {
     "name": "stdout",
     "output_type": "stream",
     "text": [
      "biorxiv\n",
      "medrxiv\n",
      "reddit\n",
      "stackexchange\n"
     ]
    }
   ],
   "source": [
    "for i, dataset_name in enumerate(datasets_names):\n",
    "    print(dataset_name)\n",
    "    dataset = load_dataset(datasets_paths[i])\n",
    "    sentences = list(\n",
    "        np.hstack(dataset.data[\"test\"].to_pandas().sentences.to_numpy())\n",
    "    )\n",
    "    labels = list(\n",
    "        np.hstack(dataset.data[\"test\"].to_pandas().labels.to_numpy())\n",
    "    )\n",
    "\n",
    "    # calculate stats\n",
    "    dataset_stats[\"# samples\"].loc[dataset_name] = len(labels)\n",
    "    dataset_stats[\"# classes\"].loc[dataset_name] = len(np.unique(labels))\n",
    "\n",
    "    length = [len(x) for x in sentences]\n",
    "    dataset_stats[\"Mean length\"].loc[dataset_name] = int(\n",
    "        np.round(np.mean(length))\n",
    "    )\n",
    "    dataset_stats[\"Std length\"].loc[dataset_name] = int(\n",
    "        np.round(np.std(length))\n",
    "    )"
   ]
  },
  {
   "cell_type": "code",
   "execution_count": null,
   "metadata": {},
   "outputs": [
    {
     "data": {
      "text/html": [
       "<div>\n",
       "<style scoped>\n",
       "    .dataframe tbody tr th:only-of-type {\n",
       "        vertical-align: middle;\n",
       "    }\n",
       "\n",
       "    .dataframe tbody tr th {\n",
       "        vertical-align: top;\n",
       "    }\n",
       "\n",
       "    .dataframe thead th {\n",
       "        text-align: right;\n",
       "    }\n",
       "</style>\n",
       "<table border=\"1\" class=\"dataframe\">\n",
       "  <thead>\n",
       "    <tr style=\"text-align: right;\">\n",
       "      <th></th>\n",
       "      <th># samples</th>\n",
       "      <th># classes</th>\n",
       "      <th>Mean length</th>\n",
       "      <th>Std length</th>\n",
       "    </tr>\n",
       "  </thead>\n",
       "  <tbody>\n",
       "    <tr>\n",
       "      <th>biorxiv</th>\n",
       "      <td>53787</td>\n",
       "      <td>26</td>\n",
       "      <td>1664</td>\n",
       "      <td>542</td>\n",
       "    </tr>\n",
       "    <tr>\n",
       "      <th>medrxiv</th>\n",
       "      <td>17647</td>\n",
       "      <td>51</td>\n",
       "      <td>1985</td>\n",
       "      <td>843</td>\n",
       "    </tr>\n",
       "    <tr>\n",
       "      <th>reddit</th>\n",
       "      <td>459399</td>\n",
       "      <td>450</td>\n",
       "      <td>728</td>\n",
       "      <td>710</td>\n",
       "    </tr>\n",
       "    <tr>\n",
       "      <th>stackexchange</th>\n",
       "      <td>75000</td>\n",
       "      <td>610</td>\n",
       "      <td>1091</td>\n",
       "      <td>809</td>\n",
       "    </tr>\n",
       "  </tbody>\n",
       "</table>\n",
       "</div>"
      ],
      "text/plain": [
       "              # samples # classes Mean length Std length\n",
       "biorxiv           53787        26        1664        542\n",
       "medrxiv           17647        51        1985        843\n",
       "reddit           459399       450         728        710\n",
       "stackexchange     75000       610        1091        809"
      ]
     },
     "execution_count": null,
     "metadata": {},
     "output_type": "execute_result"
    }
   ],
   "source": [
    "dataset_stats"
   ]
  },
  {
   "cell_type": "markdown",
   "metadata": {},
   "source": [
    "#### Add ICLR"
   ]
  },
  {
   "cell_type": "code",
   "execution_count": null,
   "metadata": {},
   "outputs": [
    {
     "name": "stdout",
     "output_type": "stream",
     "text": [
      "CPU times: user 321 ms, sys: 77.1 ms, total: 398 ms\n",
      "Wall time: 732 ms\n"
     ]
    }
   ],
   "source": [
    "%%time\n",
    "iclr2024 = pd.read_parquet(\n",
    "    data_path / \"iclr2024.parquet.gzip\",\n",
    "    # index=False,\n",
    "    engine=\"pyarrow\",\n",
    "    # compression=\"gzip\",\n",
    ")"
   ]
  },
  {
   "cell_type": "code",
   "execution_count": null,
   "metadata": {},
   "outputs": [
    {
     "data": {
      "text/html": [
       "<div>\n",
       "<style scoped>\n",
       "    .dataframe tbody tr th:only-of-type {\n",
       "        vertical-align: middle;\n",
       "    }\n",
       "\n",
       "    .dataframe tbody tr th {\n",
       "        vertical-align: top;\n",
       "    }\n",
       "\n",
       "    .dataframe thead th {\n",
       "        text-align: right;\n",
       "    }\n",
       "</style>\n",
       "<table border=\"1\" class=\"dataframe\">\n",
       "  <thead>\n",
       "    <tr style=\"text-align: right;\">\n",
       "      <th></th>\n",
       "      <th>index</th>\n",
       "      <th>year</th>\n",
       "      <th>id</th>\n",
       "      <th>title</th>\n",
       "      <th>abstract</th>\n",
       "      <th>authors</th>\n",
       "      <th>decision</th>\n",
       "      <th>scores</th>\n",
       "      <th>keywords</th>\n",
       "      <th>gender-first</th>\n",
       "      <th>gender-last</th>\n",
       "      <th>t-SNE x</th>\n",
       "      <th>t-SNE y</th>\n",
       "    </tr>\n",
       "  </thead>\n",
       "  <tbody>\n",
       "    <tr>\n",
       "      <th>0</th>\n",
       "      <td>0</td>\n",
       "      <td>2017</td>\n",
       "      <td>S1VaB4cex</td>\n",
       "      <td>FractalNet: Ultra-Deep Neural Networks without...</td>\n",
       "      <td>We introduce a design strategy for neural netw...</td>\n",
       "      <td>Gustav Larsson, Michael Maire, Gregory Shakhna...</td>\n",
       "      <td>Accept (Poster)</td>\n",
       "      <td>[5, 7, 6, 6]</td>\n",
       "      <td>[]</td>\n",
       "      <td>male</td>\n",
       "      <td>male</td>\n",
       "      <td>-28.117955</td>\n",
       "      <td>-20.418127</td>\n",
       "    </tr>\n",
       "    <tr>\n",
       "      <th>1</th>\n",
       "      <td>1</td>\n",
       "      <td>2017</td>\n",
       "      <td>H1W1UN9gg</td>\n",
       "      <td>Deep Information Propagation</td>\n",
       "      <td>We study the behavior of untrained neural netw...</td>\n",
       "      <td>Samuel S. Schoenholz, Justin Gilmer, Surya Gan...</td>\n",
       "      <td>Accept (Poster)</td>\n",
       "      <td>[8, 9, 8]</td>\n",
       "      <td>[theory, deep learning]</td>\n",
       "      <td>male</td>\n",
       "      <td>None</td>\n",
       "      <td>-32.466820</td>\n",
       "      <td>-10.791123</td>\n",
       "    </tr>\n",
       "    <tr>\n",
       "      <th>2</th>\n",
       "      <td>2</td>\n",
       "      <td>2017</td>\n",
       "      <td>r1GKzP5xx</td>\n",
       "      <td>Recurrent Normalization Propagation</td>\n",
       "      <td>We propose a LSTM parametrization  that preser...</td>\n",
       "      <td>César Laurent, Nicolas Ballas, Pascal Vincent</td>\n",
       "      <td>Invite to Workshop Track</td>\n",
       "      <td>[4, 6, 6]</td>\n",
       "      <td>[deep learning, optimization]</td>\n",
       "      <td>None</td>\n",
       "      <td>male</td>\n",
       "      <td>3.504240</td>\n",
       "      <td>19.946053</td>\n",
       "    </tr>\n",
       "    <tr>\n",
       "      <th>3</th>\n",
       "      <td>3</td>\n",
       "      <td>2017</td>\n",
       "      <td>S1J0E-71l</td>\n",
       "      <td>Surprisal-Driven Feedback in Recurrent Networks</td>\n",
       "      <td>Recurrent neural nets are widely used for pred...</td>\n",
       "      <td>K, a, m, i, l,  , R, o, c, k, i</td>\n",
       "      <td>Reject</td>\n",
       "      <td>[3, 4, 3]</td>\n",
       "      <td>[unsupervised learning, applications, deep lea...</td>\n",
       "      <td>None</td>\n",
       "      <td>None</td>\n",
       "      <td>4.553473</td>\n",
       "      <td>16.037763</td>\n",
       "    </tr>\n",
       "    <tr>\n",
       "      <th>4</th>\n",
       "      <td>4</td>\n",
       "      <td>2017</td>\n",
       "      <td>SJGCiw5gl</td>\n",
       "      <td>Pruning Convolutional Neural Networks for Reso...</td>\n",
       "      <td>We propose a new formulation for pruning convo...</td>\n",
       "      <td>Pavlo Molchanov, Stephen Tyree, Tero Karras, T...</td>\n",
       "      <td>Accept (Poster)</td>\n",
       "      <td>[6, 7, 9]</td>\n",
       "      <td>[deep learning, transfer learning]</td>\n",
       "      <td>None</td>\n",
       "      <td>male</td>\n",
       "      <td>-25.827705</td>\n",
       "      <td>-37.891772</td>\n",
       "    </tr>\n",
       "  </tbody>\n",
       "</table>\n",
       "</div>"
      ],
      "text/plain": [
       "   index  year         id                                              title  \\\n",
       "0      0  2017  S1VaB4cex  FractalNet: Ultra-Deep Neural Networks without...   \n",
       "1      1  2017  H1W1UN9gg                       Deep Information Propagation   \n",
       "2      2  2017  r1GKzP5xx                Recurrent Normalization Propagation   \n",
       "3      3  2017  S1J0E-71l    Surprisal-Driven Feedback in Recurrent Networks   \n",
       "4      4  2017  SJGCiw5gl  Pruning Convolutional Neural Networks for Reso...   \n",
       "\n",
       "                                            abstract  \\\n",
       "0  We introduce a design strategy for neural netw...   \n",
       "1  We study the behavior of untrained neural netw...   \n",
       "2  We propose a LSTM parametrization  that preser...   \n",
       "3  Recurrent neural nets are widely used for pred...   \n",
       "4  We propose a new formulation for pruning convo...   \n",
       "\n",
       "                                             authors  \\\n",
       "0  Gustav Larsson, Michael Maire, Gregory Shakhna...   \n",
       "1  Samuel S. Schoenholz, Justin Gilmer, Surya Gan...   \n",
       "2      César Laurent, Nicolas Ballas, Pascal Vincent   \n",
       "3                    K, a, m, i, l,  , R, o, c, k, i   \n",
       "4  Pavlo Molchanov, Stephen Tyree, Tero Karras, T...   \n",
       "\n",
       "                   decision        scores  \\\n",
       "0           Accept (Poster)  [5, 7, 6, 6]   \n",
       "1           Accept (Poster)     [8, 9, 8]   \n",
       "2  Invite to Workshop Track     [4, 6, 6]   \n",
       "3                    Reject     [3, 4, 3]   \n",
       "4           Accept (Poster)     [6, 7, 9]   \n",
       "\n",
       "                                            keywords gender-first gender-last  \\\n",
       "0                                                 []         male        male   \n",
       "1                            [theory, deep learning]         male        None   \n",
       "2                      [deep learning, optimization]         None        male   \n",
       "3  [unsupervised learning, applications, deep lea...         None        None   \n",
       "4                 [deep learning, transfer learning]         None        male   \n",
       "\n",
       "     t-SNE x    t-SNE y  \n",
       "0 -28.117955 -20.418127  \n",
       "1 -32.466820 -10.791123  \n",
       "2   3.504240  19.946053  \n",
       "3   4.553473  16.037763  \n",
       "4 -25.827705 -37.891772  "
      ]
     },
     "execution_count": null,
     "metadata": {},
     "output_type": "execute_result"
    }
   ],
   "source": [
    "iclr2024.head()"
   ]
  },
  {
   "cell_type": "code",
   "execution_count": null,
   "metadata": {},
   "outputs": [],
   "source": [
    "labels_iclr = np.load(variables_path / \"updated_dataset\" / \"labels_iclr.npy\")"
   ]
  },
  {
   "cell_type": "code",
   "execution_count": null,
   "metadata": {},
   "outputs": [],
   "source": [
    "# calculate stats\n",
    "dataset_stats.loc[\"ICLR\"] = np.zeros(len(dataset_stats.iloc[0]))\n",
    "\n",
    "dataset_stats[\"# samples\"].loc[\"ICLR\"] = len(labels_iclr)\n",
    "dataset_stats[\"# classes\"].loc[\"ICLR\"] = len(np.unique(labels_iclr))\n",
    "length = [len(x) for x in iclr2024.abstract.to_numpy()]\n",
    "dataset_stats[\"Mean length\"].loc[\"ICLR\"] = int(np.round(np.mean(length)))\n",
    "dataset_stats[\"Std length\"].loc[\"ICLR\"] = int(np.round(np.std(length)))"
   ]
  },
  {
   "cell_type": "code",
   "execution_count": null,
   "metadata": {},
   "outputs": [
    {
     "data": {
      "text/html": [
       "<div>\n",
       "<style scoped>\n",
       "    .dataframe tbody tr th:only-of-type {\n",
       "        vertical-align: middle;\n",
       "    }\n",
       "\n",
       "    .dataframe tbody tr th {\n",
       "        vertical-align: top;\n",
       "    }\n",
       "\n",
       "    .dataframe thead th {\n",
       "        text-align: right;\n",
       "    }\n",
       "</style>\n",
       "<table border=\"1\" class=\"dataframe\">\n",
       "  <thead>\n",
       "    <tr style=\"text-align: right;\">\n",
       "      <th></th>\n",
       "      <th># samples</th>\n",
       "      <th># classes</th>\n",
       "      <th>Mean length</th>\n",
       "      <th>Std length</th>\n",
       "    </tr>\n",
       "  </thead>\n",
       "  <tbody>\n",
       "    <tr>\n",
       "      <th>biorxiv</th>\n",
       "      <td>53787</td>\n",
       "      <td>26</td>\n",
       "      <td>1664</td>\n",
       "      <td>542</td>\n",
       "    </tr>\n",
       "    <tr>\n",
       "      <th>medrxiv</th>\n",
       "      <td>17647</td>\n",
       "      <td>51</td>\n",
       "      <td>1985</td>\n",
       "      <td>843</td>\n",
       "    </tr>\n",
       "    <tr>\n",
       "      <th>reddit</th>\n",
       "      <td>459399</td>\n",
       "      <td>450</td>\n",
       "      <td>728</td>\n",
       "      <td>710</td>\n",
       "    </tr>\n",
       "    <tr>\n",
       "      <th>stackexchange</th>\n",
       "      <td>75000</td>\n",
       "      <td>610</td>\n",
       "      <td>1091</td>\n",
       "      <td>809</td>\n",
       "    </tr>\n",
       "    <tr>\n",
       "      <th>ICLR</th>\n",
       "      <td>24347</td>\n",
       "      <td>46</td>\n",
       "      <td>1248</td>\n",
       "      <td>316</td>\n",
       "    </tr>\n",
       "  </tbody>\n",
       "</table>\n",
       "</div>"
      ],
      "text/plain": [
       "              # samples # classes Mean length Std length\n",
       "biorxiv           53787        26        1664        542\n",
       "medrxiv           17647        51        1985        843\n",
       "reddit           459399       450         728        710\n",
       "stackexchange     75000       610        1091        809\n",
       "ICLR              24347        46        1248        316"
      ]
     },
     "execution_count": null,
     "metadata": {},
     "output_type": "execute_result"
    }
   ],
   "source": [
    "dataset_stats"
   ]
  },
  {
   "cell_type": "markdown",
   "metadata": {},
   "source": [
    "### Add arxiv"
   ]
  },
  {
   "cell_type": "code",
   "execution_count": null,
   "metadata": {},
   "outputs": [],
   "source": [
    "dataset_name = \"arxiv\"\n",
    "dataset_path = \"mteb/arxiv-clustering-p2p\""
   ]
  },
  {
   "cell_type": "code",
   "execution_count": null,
   "metadata": {},
   "outputs": [],
   "source": [
    "dataset = load_dataset(\"mteb/arxiv-clustering-p2p\")"
   ]
  },
  {
   "cell_type": "code",
   "execution_count": null,
   "metadata": {},
   "outputs": [],
   "source": [
    "sentences = list(\n",
    "    np.hstack(dataset.data[\"test\"].to_pandas().sentences.to_numpy())\n",
    ")\n",
    "labels_secondary = list(\n",
    "    np.hstack(dataset.data[\"test\"].to_pandas().labels.to_numpy())\n",
    ")"
   ]
  },
  {
   "cell_type": "code",
   "execution_count": null,
   "metadata": {},
   "outputs": [],
   "source": [
    "labels_main = [elem.split(\".\")[0] for elem in labels_secondary]"
   ]
  },
  {
   "cell_type": "code",
   "execution_count": null,
   "metadata": {},
   "outputs": [],
   "source": [
    "# calculate stats\n",
    "dataset_stats.loc[\"arxiv_main\"] = np.zeros(len(dataset_stats.iloc[0]))\n",
    "\n",
    "dataset_stats[\"# samples\"].loc[\"arxiv_main\"] = len(labels_main)\n",
    "dataset_stats[\"# classes\"].loc[\"arxiv_main\"] = len(np.unique(labels_main))\n",
    "length = [len(x) for x in sentences]\n",
    "dataset_stats[\"Mean length\"].loc[\"arxiv_main\"] = int(np.round(np.mean(length)))\n",
    "dataset_stats[\"Std length\"].loc[\"arxiv_main\"] = int(np.round(np.std(length)))"
   ]
  },
  {
   "cell_type": "code",
   "execution_count": null,
   "metadata": {},
   "outputs": [],
   "source": [
    "# calculate stats\n",
    "dataset_stats.loc[\"arxiv_secondary\"] = np.zeros(len(dataset_stats.iloc[0]))\n",
    "\n",
    "dataset_stats[\"# samples\"].loc[\"arxiv_secondary\"] = len(labels_secondary)\n",
    "dataset_stats[\"# classes\"].loc[\"arxiv_secondary\"] = len(\n",
    "    np.unique(labels_secondary)\n",
    ")\n",
    "length = [len(x) for x in sentences]\n",
    "dataset_stats[\"Mean length\"].loc[\"arxiv_secondary\"] = int(\n",
    "    np.round(np.mean(length))\n",
    ")\n",
    "dataset_stats[\"Std length\"].loc[\"arxiv_secondary\"] = int(\n",
    "    np.round(np.std(length))\n",
    ")"
   ]
  },
  {
   "cell_type": "code",
   "execution_count": null,
   "metadata": {},
   "outputs": [
    {
     "data": {
      "text/html": [
       "<div>\n",
       "<style scoped>\n",
       "    .dataframe tbody tr th:only-of-type {\n",
       "        vertical-align: middle;\n",
       "    }\n",
       "\n",
       "    .dataframe tbody tr th {\n",
       "        vertical-align: top;\n",
       "    }\n",
       "\n",
       "    .dataframe thead th {\n",
       "        text-align: right;\n",
       "    }\n",
       "</style>\n",
       "<table border=\"1\" class=\"dataframe\">\n",
       "  <thead>\n",
       "    <tr style=\"text-align: right;\">\n",
       "      <th></th>\n",
       "      <th># samples</th>\n",
       "      <th># classes</th>\n",
       "      <th>Mean length</th>\n",
       "      <th>Std length</th>\n",
       "    </tr>\n",
       "  </thead>\n",
       "  <tbody>\n",
       "    <tr>\n",
       "      <th>biorxiv</th>\n",
       "      <td>53787</td>\n",
       "      <td>26</td>\n",
       "      <td>1664</td>\n",
       "      <td>542</td>\n",
       "    </tr>\n",
       "    <tr>\n",
       "      <th>medrxiv</th>\n",
       "      <td>17647</td>\n",
       "      <td>51</td>\n",
       "      <td>1985</td>\n",
       "      <td>843</td>\n",
       "    </tr>\n",
       "    <tr>\n",
       "      <th>reddit</th>\n",
       "      <td>459399</td>\n",
       "      <td>450</td>\n",
       "      <td>728</td>\n",
       "      <td>710</td>\n",
       "    </tr>\n",
       "    <tr>\n",
       "      <th>stackexchange</th>\n",
       "      <td>75000</td>\n",
       "      <td>610</td>\n",
       "      <td>1091</td>\n",
       "      <td>809</td>\n",
       "    </tr>\n",
       "    <tr>\n",
       "      <th>ICLR</th>\n",
       "      <td>24347</td>\n",
       "      <td>46</td>\n",
       "      <td>1248</td>\n",
       "      <td>316</td>\n",
       "    </tr>\n",
       "    <tr>\n",
       "      <th>arxiv_main</th>\n",
       "      <td>732723</td>\n",
       "      <td>39</td>\n",
       "      <td>1010</td>\n",
       "      <td>432</td>\n",
       "    </tr>\n",
       "    <tr>\n",
       "      <th>arxiv_secondary</th>\n",
       "      <td>732723</td>\n",
       "      <td>180</td>\n",
       "      <td>1010</td>\n",
       "      <td>432</td>\n",
       "    </tr>\n",
       "  </tbody>\n",
       "</table>\n",
       "</div>"
      ],
      "text/plain": [
       "                # samples # classes Mean length Std length\n",
       "biorxiv             53787        26        1664        542\n",
       "medrxiv             17647        51        1985        843\n",
       "reddit             459399       450         728        710\n",
       "stackexchange       75000       610        1091        809\n",
       "ICLR                24347        46        1248        316\n",
       "arxiv_main         732723        39        1010        432\n",
       "arxiv_secondary    732723       180        1010        432"
      ]
     },
     "execution_count": null,
     "metadata": {},
     "output_type": "execute_result"
    }
   ],
   "source": [
    "dataset_stats"
   ]
  },
  {
   "cell_type": "code",
   "execution_count": null,
   "metadata": {},
   "outputs": [
    {
     "data": {
      "text/plain": [
       "array(['acc-phys', 'adap-org', 'alg-geom', 'ao-sci', 'astro-ph',\n",
       "       'astro-ph.CO', 'astro-ph.EP', 'astro-ph.GA', 'astro-ph.HE',\n",
       "       'astro-ph.IM', 'astro-ph.SR', 'atom-ph', 'chao-dyn', 'chem-ph',\n",
       "       'cmp-lg', 'comp-gas', 'cond-mat', 'cond-mat.dis-nn',\n",
       "       'cond-mat.mes-hall', 'cond-mat.mtrl-sci', 'cond-mat.other',\n",
       "       'cond-mat.quant-gas', 'cond-mat.soft', 'cond-mat.stat-mech',\n",
       "       'cond-mat.str-el', 'cond-mat.supr-con', 'cs', 'cs.AI', 'cs.AR',\n",
       "       'cs.CC', 'cs.CE', 'cs.CG', 'cs.CL', 'cs.CR', 'cs.CV', 'cs.CY',\n",
       "       'cs.DB', 'cs.DC', 'cs.DL', 'cs.DM', 'cs.DS', 'cs.ET', 'cs.FL',\n",
       "       'cs.GL', 'cs.GR', 'cs.GT', 'cs.HC', 'cs.IR', 'cs.IT', 'cs.LG',\n",
       "       'cs.LO', 'cs.MA', 'cs.MM', 'cs.MS', 'cs.NA', 'cs.NE', 'cs.NI',\n",
       "       'cs.OH', 'cs.OS', 'cs.PF', 'cs.PL', 'cs.RO', 'cs.SC', 'cs.SD',\n",
       "       'cs.SE', 'cs.SI', 'cs.SY', 'dg-ga', 'econ', 'econ.EM', 'econ.GN',\n",
       "       'econ.TH', 'eess', 'eess.AS', 'eess.IV', 'eess.SP', 'eess.SY',\n",
       "       'funct-an', 'gr-qc', 'hep', 'hep-ex', 'hep-lat', 'hep-ph',\n",
       "       'hep-th', 'math', 'math-ph', 'math.AC', 'math.AG', 'math.AP',\n",
       "       'math.AT', 'math.CA', 'math.CO', 'math.CT', 'math.CV', 'math.DG',\n",
       "       'math.DS', 'math.FA', 'math.GM', 'math.GN', 'math.GR', 'math.GT',\n",
       "       'math.HO', 'math.KT', 'math.LO', 'math.MG', 'math.NA', 'math.NT',\n",
       "       'math.OA', 'math.OC', 'math.PR', 'math.QA', 'math.RA', 'math.RT',\n",
       "       'math.SG', 'math.SP', 'math.ST', 'mtrl-th', 'nlin.AO', 'nlin.CD',\n",
       "       'nlin.CG', 'nlin.PS', 'nlin.SI', 'nucl-ex', 'nucl-th', 'other',\n",
       "       'patt-sol', 'physics.acc-ph', 'physics.ao-ph', 'physics.app-ph',\n",
       "       'physics.atm-clus', 'physics.atom-ph', 'physics.bio-ph',\n",
       "       'physics.chem-ph', 'physics.class-ph', 'physics.comp-ph',\n",
       "       'physics.data-an', 'physics.ed-ph', 'physics.flu-dyn',\n",
       "       'physics.gen-ph', 'physics.geo-ph', 'physics.hist-ph',\n",
       "       'physics.ins-det', 'physics.med-ph', 'physics.optics',\n",
       "       'physics.plasm-ph', 'physics.pop-ph', 'physics.soc-ph',\n",
       "       'physics.space-ph', 'plasm-ph', 'q-alg', 'q-bio', 'q-bio.BM',\n",
       "       'q-bio.CB', 'q-bio.GN', 'q-bio.MN', 'q-bio.NC', 'q-bio.OT',\n",
       "       'q-bio.PE', 'q-bio.QM', 'q-bio.SC', 'q-bio.TO', 'q-fin',\n",
       "       'q-fin.CP', 'q-fin.EC', 'q-fin.GN', 'q-fin.MF', 'q-fin.PM',\n",
       "       'q-fin.PR', 'q-fin.RM', 'q-fin.ST', 'q-fin.TR', 'quant-ph',\n",
       "       'solv-int', 'stat', 'stat.AP', 'stat.CO', 'stat.ME', 'stat.ML',\n",
       "       'stat.OT', 'supr-con'], dtype='<U18')"
      ]
     },
     "execution_count": null,
     "metadata": {},
     "output_type": "execute_result"
    }
   ],
   "source": [
    "np.unique(labels_main)\n",
    "np.unique(labels_secondary)"
   ]
  },
  {
   "cell_type": "code",
   "execution_count": null,
   "metadata": {},
   "outputs": [
    {
     "name": "stdout",
     "output_type": "stream",
     "text": [
      "                # samples # classes Mean length Std length\n",
      "biorxiv             53787        26        1664        542\n",
      "medrxiv             17647        51        1985        843\n",
      "reddit             459399       450         728        710\n",
      "stackexchange       75000       610        1091        809\n",
      "ICLR                24347        46        1248        316\n",
      "arxiv_main         732723        39        1010        432\n",
      "arxiv_secondary    732723       180        1010        432\n"
     ]
    }
   ],
   "source": [
    "print(dataset_stats)"
   ]
  },
  {
   "cell_type": "code",
   "execution_count": null,
   "metadata": {},
   "outputs": [],
   "source": [
    "               & # samples & # classes & Mean length &  Std length \\\\\n",
    "ICLR             &   24347 &    46 &   1248 &    316 \\\\\n",
    "arxiv            &  732723 &   180 &   1010 &    432 \\\\\n",
    "biorxiv          &   53787 &    26 &   1664 &    542 \\\\\n",
    "medrxiv          &   17647 &    51 &   1985 &    843 \\\\\n",
    "reddit           &  459399 &   450 &    728 &    710 \\\\\n",
    "stackexchange    &   75000 &   610 &   1091 &    809 \\\\\n"
   ]
  },
  {
   "cell_type": "markdown",
   "metadata": {},
   "source": [
    "### Biorxiv"
   ]
  },
  {
   "cell_type": "code",
   "execution_count": null,
   "metadata": {},
   "outputs": [],
   "source": [
    "dataset_name = \"biorxiv\"\n",
    "dataset_path = \"mteb/biorxiv-clustering-p2p\""
   ]
  },
  {
   "cell_type": "code",
   "execution_count": null,
   "metadata": {},
   "outputs": [],
   "source": [
    "dataset = load_dataset(dataset_path)"
   ]
  },
  {
   "cell_type": "code",
   "execution_count": null,
   "metadata": {},
   "outputs": [
    {
     "data": {
      "text/plain": [
       "DatasetDict({\n",
       "    test: Dataset({\n",
       "        features: ['sentences', 'labels'],\n",
       "        num_rows: 53787\n",
       "    })\n",
       "})"
      ]
     },
     "execution_count": null,
     "metadata": {},
     "output_type": "execute_result"
    }
   ],
   "source": [
    "dataset"
   ]
  },
  {
   "cell_type": "code",
   "execution_count": null,
   "metadata": {},
   "outputs": [],
   "source": [
    "sentences = list(\n",
    "    np.hstack(dataset.data[\"test\"].to_pandas().sentences.to_numpy())\n",
    ")\n",
    "labels = list(np.hstack(dataset.data[\"test\"].to_pandas().labels.to_numpy()))"
   ]
  },
  {
   "cell_type": "code",
   "execution_count": null,
   "metadata": {},
   "outputs": [
    {
     "name": "stdout",
     "output_type": "stream",
     "text": [
      "# samples 53787\n",
      "# classes 26\n"
     ]
    }
   ],
   "source": [
    "print(\"# samples\", len(labels))\n",
    "print(\"# classes\", len(np.unique(labels)))"
   ]
  },
  {
   "cell_type": "code",
   "execution_count": null,
   "metadata": {},
   "outputs": [],
   "source": [
    "unique_labels, counts = np.unique(labels, return_counts=True)"
   ]
  },
  {
   "cell_type": "code",
   "execution_count": null,
   "metadata": {},
   "outputs": [],
   "source": [
    "colors = np.load(\n",
    "    variables_path / \"updated_dataset\" / f\"colors_{dataset_name}.npy\"\n",
    ")\n",
    "pickle_in = open(\n",
    "    variables_path\n",
    "    / \"updated_dataset\"\n",
    "    / f\"dict_label_to_color_{dataset_name}.pkl\",\n",
    "    \"rb\",\n",
    ")\n",
    "dict_label_to_color = pickle.load(pickle_in)"
   ]
  },
  {
   "cell_type": "code",
   "execution_count": null,
   "metadata": {},
   "outputs": [
    {
     "data": {
      "image/png": "[encoded data removed]",
      "text/plain": [
       "<Figure size 1100x700 with 1 Axes>"
      ]
     },
     "metadata": {},
     "output_type": "display_data"
    }
   ],
   "source": [
    "%matplotlib inline\n",
    "fig, ax = plt.subplots(figsize=(5.5, 3.5), dpi=200, layout=\"constrained\")\n",
    "\n",
    "ax.bar(\n",
    "    np.arange(len(np.unique(labels))),\n",
    "    np.flip(np.sort(counts)),\n",
    "    color=np.array(list(dict_label_to_color.values()))[\n",
    "        np.flip(np.argsort(counts))\n",
    "    ],\n",
    ")\n",
    "\n",
    "ax.set_xticks(\n",
    "    np.arange(len(np.unique(labels))),\n",
    "    labels=unique_labels[np.flip(np.argsort(counts))],\n",
    "    rotation=\"vertical\",\n",
    "    fontsize=5,\n",
    ")\n",
    "ax.set_ylabel(\"# of instances belonging to each class\", fontsize=8)\n",
    "ax.set_xlabel(\"Classes\")\n",
    "ax.set_title(f\"{dataset_name}\")\n",
    "\n",
    "\n",
    "fig.savefig(figures_path / f\"barplot_class_distribution_{dataset_name}.png\")"
   ]
  },
  {
   "cell_type": "markdown",
   "metadata": {},
   "source": [
    "### Medrxiv"
   ]
  },
  {
   "cell_type": "code",
   "execution_count": null,
   "metadata": {},
   "outputs": [],
   "source": [
    "dataset_name = \"medrxiv\"\n",
    "dataset_path = \"mteb/medrxiv-clustering-p2p\""
   ]
  },
  {
   "cell_type": "code",
   "execution_count": null,
   "metadata": {},
   "outputs": [],
   "source": [
    "dataset = load_dataset(dataset_path)"
   ]
  },
  {
   "cell_type": "code",
   "execution_count": null,
   "metadata": {},
   "outputs": [
    {
     "data": {
      "text/plain": [
       "DatasetDict({\n",
       "    test: Dataset({\n",
       "        features: ['sentences', 'labels'],\n",
       "        num_rows: 17647\n",
       "    })\n",
       "})"
      ]
     },
     "execution_count": null,
     "metadata": {},
     "output_type": "execute_result"
    }
   ],
   "source": [
    "dataset"
   ]
  },
  {
   "cell_type": "code",
   "execution_count": null,
   "metadata": {},
   "outputs": [],
   "source": [
    "sentences = list(\n",
    "    np.hstack(dataset.data[\"test\"].to_pandas().sentences.to_numpy())\n",
    ")\n",
    "labels = list(np.hstack(dataset.data[\"test\"].to_pandas().labels.to_numpy()))"
   ]
  },
  {
   "cell_type": "code",
   "execution_count": null,
   "metadata": {},
   "outputs": [
    {
     "name": "stdout",
     "output_type": "stream",
     "text": [
      "# samples 17647\n",
      "# classes 51\n"
     ]
    }
   ],
   "source": [
    "print(\"# samples\", len(labels))\n",
    "print(\"# classes\", len(np.unique(labels)))"
   ]
  },
  {
   "cell_type": "code",
   "execution_count": null,
   "metadata": {},
   "outputs": [],
   "source": [
    "unique_labels, counts = np.unique(labels, return_counts=True)"
   ]
  },
  {
   "cell_type": "code",
   "execution_count": null,
   "metadata": {},
   "outputs": [],
   "source": [
    "colors = np.load(\n",
    "    variables_path / \"updated_dataset\" / f\"colors_{dataset_name}.npy\"\n",
    ")\n",
    "pickle_in = open(\n",
    "    variables_path\n",
    "    / \"updated_dataset\"\n",
    "    / f\"dict_label_to_color_{dataset_name}.pkl\",\n",
    "    \"rb\",\n",
    ")\n",
    "dict_label_to_color = pickle.load(pickle_in)"
   ]
  },
  {
   "cell_type": "code",
   "execution_count": null,
   "metadata": {},
   "outputs": [
    {
     "data": {
      "image/png": "[encoded data removed]",
      "text/plain": [
       "<Figure size 1100x700 with 1 Axes>"
      ]
     },
     "metadata": {},
     "output_type": "display_data"
    }
   ],
   "source": [
    "%matplotlib inline\n",
    "fig, ax = plt.subplots(figsize=(5.5, 3.5), dpi=200, layout=\"constrained\")\n",
    "\n",
    "ax.bar(\n",
    "    np.arange(len(np.unique(labels))),\n",
    "    np.flip(np.sort(counts)),\n",
    "    color=np.array(list(dict_label_to_color.values()))[\n",
    "        np.flip(np.argsort(counts))\n",
    "    ],\n",
    ")\n",
    "\n",
    "ax.set_xticks(\n",
    "    np.arange(len(np.unique(labels))),\n",
    "    labels=unique_labels[np.flip(np.argsort(counts))],\n",
    "    rotation=\"vertical\",\n",
    "    fontsize=5,\n",
    ")\n",
    "ax.set_ylabel(\"# of instances belonging to each class\", fontsize=8)\n",
    "ax.set_xlabel(\"Classes\")\n",
    "ax.set_title(f\"{dataset_name}\")\n",
    "\n",
    "\n",
    "fig.savefig(figures_path / f\"barplot_class_distribution_{dataset_name}.png\")"
   ]
  },
  {
   "cell_type": "markdown",
   "metadata": {},
   "source": [
    "### Reddit"
   ]
  },
  {
   "cell_type": "code",
   "execution_count": null,
   "metadata": {},
   "outputs": [],
   "source": [
    "from datasets import load_dataset\n",
    "\n",
    "dataset_reddit = load_dataset(\"mteb/reddit-clustering-p2p\")\n",
    "# dataset_reddit = load_dataset(\"mteb/stackexchange-clustering-p2p\")"
   ]
  },
  {
   "cell_type": "code",
   "execution_count": null,
   "metadata": {},
   "outputs": [],
   "source": [
    "reddit_sentences = np.hstack(\n",
    "    dataset_reddit.data[\"test\"].to_pandas().sentences.to_numpy()\n",
    ")"
   ]
  },
  {
   "cell_type": "code",
   "execution_count": null,
   "metadata": {},
   "outputs": [
    {
     "data": {
      "text/plain": [
       "459399"
      ]
     },
     "execution_count": null,
     "metadata": {},
     "output_type": "execute_result"
    }
   ],
   "source": [
    "len(reddit_sentences)"
   ]
  },
  {
   "cell_type": "code",
   "execution_count": null,
   "metadata": {},
   "outputs": [],
   "source": [
    "reddit_labels = np.hstack(\n",
    "    dataset_reddit.data[\"test\"].to_pandas().labels.to_numpy()\n",
    ")"
   ]
  },
  {
   "cell_type": "code",
   "execution_count": null,
   "metadata": {},
   "outputs": [
    {
     "data": {
      "text/plain": [
       "459399"
      ]
     },
     "execution_count": null,
     "metadata": {},
     "output_type": "execute_result"
    }
   ],
   "source": [
    "len(reddit_labels)"
   ]
  },
  {
   "cell_type": "code",
   "execution_count": null,
   "metadata": {},
   "outputs": [],
   "source": [
    "unique_labels, counts = np.unique(reddit_labels, return_counts=True)"
   ]
  },
  {
   "cell_type": "code",
   "execution_count": null,
   "metadata": {},
   "outputs": [
    {
     "data": {
      "text/plain": [
       "array(['1200isplentyketo', '196', '40kLore', '90dayfianceuncensored',\n",
       "       'ABA', 'ABraThatFits', 'ACTrade', 'ADHD', 'Adopted', 'Aerials',\n",
       "       'AgonGame', 'AirForce', 'AirReps', 'Aliexpress', 'AmItheAsshole',\n",
       "       'AmazonFC', 'AmongUs', 'ApplyingToCollege', 'AskAnAmerican',\n",
       "       'AskCulinary', 'AskGames', 'AskGirls', 'AskLosAngeles', 'AskVet',\n",
       "       'AssassinsCreedValhala', 'AstroGaming', 'BDSMcommunity', 'BMW',\n",
       "       'BangaloreMains', 'Bariloche', 'Bath', 'Baystreetbets',\n",
       "       'BenignExistence', 'Bestbuy', 'Bible', 'BitLifeApp',\n",
       "       'BlackCountryNewRoad', 'Bogleheads', 'BokunoheroFanfiction',\n",
       "       'BreakUps', 'BroadCity', 'BuddyCrossing', 'C25K',\n",
       "       'COVID19positive', 'CPTSD', 'CRISPR', 'CanaryWharfBets', 'Cartalk',\n",
       "       'Catholicism', 'CharacterRant', 'ChronicPain', 'ClashOfClans',\n",
       "       'ClashOfClansRecruit', 'Coins4Sale', 'ConnecticutR4R',\n",
       "       'ConquerorsBlade', 'CozyGrove', 'CreditCards', 'CryptoHorde',\n",
       "       'CryptoMarkets', 'CryptoMars', 'Crypto_com', 'CultoftheFranklin',\n",
       "       'DMAcademy', 'DestinyTheGame', 'DissonautUniverse', 'DnD',\n",
       "       'Dodocodes', 'Doom', 'DotA2', 'Dyson_Sphere_Program',\n",
       "       'ELLIPAL_Official', 'Eldenring', 'EliteDangerous',\n",
       "       'EscapefromTarkov', 'EverMerge', 'Evernote', 'FIFA', 'FanFiction',\n",
       "       'FiddlesticksMains', 'FiestaST', 'FireEmblemHeroes', 'FitnessDE',\n",
       "       'FortNiteBR', 'FortniteCompetitive', 'FridayNightFunkin', 'GCXRep',\n",
       "       'GME', 'GameBuilderGarage', 'GameSale', 'GamingLaptops',\n",
       "       'Gaming_Headsets', 'GayYoungOldDating', 'GearsOfWar',\n",
       "       'GlobalPowers', 'GoRVing', 'GodEater', 'GoodNotes',\n",
       "       'GoogleDataStudio', 'GriefSupport', 'Gta5Modding', 'Guitar',\n",
       "       'GunAccessoriesForSale', 'HFY', 'HIMYM', 'HaircareScience',\n",
       "       'HauntingOfHillHouse', 'Hedgehog', 'HilariaBaldwin', 'HiveOS',\n",
       "       'HotWheels', 'Huel', 'HyperRP', 'HypnoFair', 'IBO', 'IRS',\n",
       "       'ITCareerQuestions', 'InstacartShoppers', 'JamesHoffmann',\n",
       "       'JoJolion', 'Julia', 'JustUnsubbed', 'KGBTR', 'KTM',\n",
       "       'KassadinMains', 'Kayaking', 'KazuhaMains', 'Kengan_Ashura',\n",
       "       'KikRoleplay', 'KillingEve', 'KingkillerChronicle', 'LOONA',\n",
       "       'LeagueConnect', 'LearnerDriverUK', 'LegendsOfRuneterra',\n",
       "       'Library', 'LifeProTips', 'LightNovels', 'MECoOp', 'MLBTheShow',\n",
       "       'MachineLearning', 'Market76', 'MarsWallStreet',\n",
       "       'MarylandUnemployment', 'MatthiasSubmissions', 'McMaster',\n",
       "       'MensRights', 'Midsommar', 'MindHunter', 'Minecraft',\n",
       "       'MinecraftServer', 'ModelCars', 'ModernMagic', 'MondoGore',\n",
       "       'MonsterHunter', 'MonsterHunterWorld', 'MtF', 'NBA2k', 'NTU',\n",
       "       'NameThatSong', 'NassauCountyHookups', 'Netherlands', 'NiceHash',\n",
       "       'Nioh', 'NoContract', 'NoFap', 'NoFeeAC', 'NoMansSkyTheGame',\n",
       "       'OculusQuest', 'Paladins', 'PanicAttack', 'PerkByDaylight',\n",
       "       'PersonalFinanceCanada', 'PokemonGoFriends', 'PokemonHome',\n",
       "       'PokemonTCG', 'PoonamPandeyFanatics', 'Prolactinoma',\n",
       "       'Random_Acts_Of_Amazon', 'RedditWritesSeinfeld', 'Reduction',\n",
       "       'RepTime', 'RevenantMain', 'Revu', 'RocketLeagueExchange',\n",
       "       'RoleplayingForReddit', 'RomanianWolves', 'SLFmeetups', 'STAYC',\n",
       "       'SakuraGakuin', 'SaltLakeCity', 'Sat', 'SatoshiStreetBets',\n",
       "       'SauceSharingCommunity', 'Scotch', 'Screenwriting',\n",
       "       'ShieldAndroidTV', 'Shittyaskflying', 'ShuumatsuNoValkyrie',\n",
       "       'Sims4', 'SluttyConfessions', 'Smallville', 'SofiawithanF',\n",
       "       'SquaredCircle', 'Stormlight_Archive', 'SummonSign',\n",
       "       'Superhero_Ideas', 'Superstonk', 'Sverigesforsvarsmakt', 'TMJ',\n",
       "       'TeensMeetTeens', 'Testosterone', 'TheMagnusArchives', 'TherosDMs',\n",
       "       'Throwers', 'Tomorrowland', 'TooAfraidToAsk', 'TwoXChromosomes',\n",
       "       'UKJobs', 'Unemployment', 'ValorantBrasil', 'Vent',\n",
       "       'VinylCollectors', 'VirtualYoutubers', 'WallStreetbetsELITE',\n",
       "       'Wallstreetsilver', 'Wavyhair', 'WetlanderHumor', 'WhiteWolfRPG',\n",
       "       'Wordpress', 'WreckingBallMains', 'ZombsRoyale', 'accesscontrol',\n",
       "       'aggretsuko', 'alcoholicsanonymous', 'aliens', 'amcstock', 'amex',\n",
       "       'anime', 'aorus', 'apexlegends', 'appletv', 'appliancerepair',\n",
       "       'arlington', 'aromantic', 'ask', 'askTO', 'askcarsales',\n",
       "       'askseddit', 'asktransgender', 'auntienetwork', 'bicycling',\n",
       "       'blackopscoldwar', 'bleach', 'boardgames', 'bonnaroo', 'bostonr4r',\n",
       "       'brasil', 'brave_browser', 'bravelydefault', 'breakingmom',\n",
       "       'buildapc', 'buildapcforme', 'candlemagick', 'capitalism_in_decay',\n",
       "       'cardano', 'choiceofgames', 'chronotrigger', 'clonewars',\n",
       "       'comicbooks', 'comicswap', 'conspiracy', 'controlgame',\n",
       "       'covidlonghaulers', 'cryptocoins', 'cryptostreetbets',\n",
       "       'cscareerquestionsEU', 'cuboulder', 'dating', 'dating_advice',\n",
       "       'dbrand', 'deadbydaylight', 'delhi', 'depressed', 'depression',\n",
       "       'destiny2', 'detrans', 'digimon', 'dirtykikpals', 'dirtypenpals',\n",
       "       'dogecoin', 'doordash_drivers', 'dpdr', 'dragonquest', 'dreamsmp',\n",
       "       'emacs', 'emotestories', 'endocrinology', 'eu4', 'exalted', 'exjw',\n",
       "       'exmuslim', 'extrarfl', 'facebook', 'fantasywriters',\n",
       "       'feedthebeast', 'feminineboys', 'findaleague', 'fleshlight',\n",
       "       'foodscience', 'gamegrumps', 'gaming', 'gardening',\n",
       "       'generationology', 'gonewildaudio', 'gorillaz', 'graylog',\n",
       "       'haskell', 'help', 'heroesofthestorm', 'hisdarkmaterials',\n",
       "       'hitbtc', 'hoi4', 'ibs', 'idlechampions', 'idleon', 'igcse',\n",
       "       'imaginarypenpals', 'islam', 'kansascity', 'kdramarecommends',\n",
       "       'kingofqueens', 'ladybusiness', 'langrisser', 'lasers',\n",
       "       'lawschooladmissions', 'leafs', 'leagueoflegends', 'learnmath',\n",
       "       'lfg', 'libraryofruina', 'livesound', 'lockpicking', 'logh', 'mac',\n",
       "       'madisonwi', 'masseffect', 'mechmarket', 'metalgearsolid',\n",
       "       'mfdoom', 'miraculousladybug', 'namenerds', 'nanocurrency',\n",
       "       'newtothenavy', 'nhl', 'nus', 'obs', 'oculus', 'offmychest',\n",
       "       'oneui', 'onewheel', 'overlord', 'paintdotnet', 'passive_income',\n",
       "       'photography', 'piano', 'pittsburgh', 'playstation', 'podcasts',\n",
       "       'pokemon', 'popperpigs', 'premed', 'ps3homebrew', 'puppy101',\n",
       "       'qBittorrent', 'quittingkratom', 'raisedbynarcissists', 'raleigh',\n",
       "       'realonlyfansreviews', 'redsox', 'relationship_advice', 'religion',\n",
       "       'roblox', 'royalfamily', 'rpg', 'salesforce', 'samsung',\n",
       "       'scatstories', 'screenplaychallenge', 'seduction', 'self',\n",
       "       'selfimprovement', 'seoul', 'sex', 'sexstories', 'silverbugbets',\n",
       "       'sissypersonals', 'skincareexchange', 'snuffrp', 'socialanxiety',\n",
       "       'sofi', 'software', 'spirituality', 'stalker', 'starcraft2coop',\n",
       "       'stashinvest', 'steelseries', 'steinsgate', 'stocks',\n",
       "       'suggestmeabook', 'survivinginfidelity', 'tarot', 'techsupport',\n",
       "       'teenagers', 'teenagersnew', 'texas', 'tf2trade', 'thedivision',\n",
       "       'theta_network', 'thetagang', 'thomasthetankengine',\n",
       "       'tipofmypenis', 'tipofmytongue', 'tomorrow', 'touhou',\n",
       "       'trakstocks', 'transgendercirclejerk', 'transpositive', 'turo',\n",
       "       'turtles', 'tutanota', 'u_mawadom118', 'ugly', 'unpopularopinion',\n",
       "       'vaginismus', 'vcu', 'visualization', 'watercooling', 'weather',\n",
       "       'whatcarshouldIbuy', 'whatsthatbook', 'whowouldwin', 'wicked_edge',\n",
       "       'wireshark', 'xbox', 'xboxfindfriends', 'xmen', 'xmpp', 'yoga',\n",
       "       'youtubers'], dtype=object)"
      ]
     },
     "execution_count": null,
     "metadata": {},
     "output_type": "execute_result"
    }
   ],
   "source": [
    "unique_labels"
   ]
  },
  {
   "cell_type": "code",
   "execution_count": null,
   "metadata": {},
   "outputs": [
    {
     "data": {
      "text/plain": [
       "450"
      ]
     },
     "execution_count": null,
     "metadata": {},
     "output_type": "execute_result"
    }
   ],
   "source": [
    "len(\n",
    "    [\n",
    "        \"1200isplentyketo\",\n",
    "        \"196\",\n",
    "        \"40kLore\",\n",
    "        \"90dayfianceuncensored\",\n",
    "        \"ABA\",\n",
    "        \"ABraThatFits\",\n",
    "        \"ACTrade\",\n",
    "        \"ADHD\",\n",
    "        \"Adopted\",\n",
    "        \"Aerials\",\n",
    "        \"AgonGame\",\n",
    "        \"AirForce\",\n",
    "        \"AirReps\",\n",
    "        \"Aliexpress\",\n",
    "        \"AmItheAsshole\",\n",
    "        \"AmazonFC\",\n",
    "        \"AmongUs\",\n",
    "        \"ApplyingToCollege\",\n",
    "        \"AskAnAmerican\",\n",
    "        \"AskCulinary\",\n",
    "        \"AskGames\",\n",
    "        \"AskGirls\",\n",
    "        \"AskLosAngeles\",\n",
    "        \"AskVet\",\n",
    "        \"AssassinsCreedValhala\",\n",
    "        \"AstroGaming\",\n",
    "        \"BDSMcommunity\",\n",
    "        \"BMW\",\n",
    "        \"BangaloreMains\",\n",
    "        \"Bariloche\",\n",
    "        \"Bath\",\n",
    "        \"Baystreetbets\",\n",
    "        \"BenignExistence\",\n",
    "        \"Bestbuy\",\n",
    "        \"Bible\",\n",
    "        \"BitLifeApp\",\n",
    "        \"BlackCountryNewRoad\",\n",
    "        \"Bogleheads\",\n",
    "        \"BokunoheroFanfiction\",\n",
    "        \"BreakUps\",\n",
    "        \"BroadCity\",\n",
    "        \"BuddyCrossing\",\n",
    "        \"C25K\",\n",
    "        \"COVID19positive\",\n",
    "        \"CPTSD\",\n",
    "        \"CRISPR\",\n",
    "        \"CanaryWharfBets\",\n",
    "        \"Cartalk\",\n",
    "        \"Catholicism\",\n",
    "        \"CharacterRant\",\n",
    "        \"ChronicPain\",\n",
    "        \"ClashOfClans\",\n",
    "        \"ClashOfClansRecruit\",\n",
    "        \"Coins4Sale\",\n",
    "        \"ConnecticutR4R\",\n",
    "        \"ConquerorsBlade\",\n",
    "        \"CozyGrove\",\n",
    "        \"CreditCards\",\n",
    "        \"CryptoHorde\",\n",
    "        \"CryptoMarkets\",\n",
    "        \"CryptoMars\",\n",
    "        \"Crypto_com\",\n",
    "        \"CultoftheFranklin\",\n",
    "        \"DMAcademy\",\n",
    "        \"DestinyTheGame\",\n",
    "        \"DissonautUniverse\",\n",
    "        \"DnD\",\n",
    "        \"Dodocodes\",\n",
    "        \"Doom\",\n",
    "        \"DotA2\",\n",
    "        \"Dyson_Sphere_Program\",\n",
    "        \"ELLIPAL_Official\",\n",
    "        \"Eldenring\",\n",
    "        \"EliteDangerous\",\n",
    "        \"EscapefromTarkov\",\n",
    "        \"EverMerge\",\n",
    "        \"Evernote\",\n",
    "        \"FIFA\",\n",
    "        \"FanFiction\",\n",
    "        \"FiddlesticksMains\",\n",
    "        \"FiestaST\",\n",
    "        \"FireEmblemHeroes\",\n",
    "        \"FitnessDE\",\n",
    "        \"FortNiteBR\",\n",
    "        \"FortniteCompetitive\",\n",
    "        \"FridayNightFunkin\",\n",
    "        \"GCXRep\",\n",
    "        \"GME\",\n",
    "        \"GameBuilderGarage\",\n",
    "        \"GameSale\",\n",
    "        \"GamingLaptops\",\n",
    "        \"Gaming_Headsets\",\n",
    "        \"GayYoungOldDating\",\n",
    "        \"GearsOfWar\",\n",
    "        \"GlobalPowers\",\n",
    "        \"GoRVing\",\n",
    "        \"GodEater\",\n",
    "        \"GoodNotes\",\n",
    "        \"GoogleDataStudio\",\n",
    "        \"GriefSupport\",\n",
    "        \"Gta5Modding\",\n",
    "        \"Guitar\",\n",
    "        \"GunAccessoriesForSale\",\n",
    "        \"HFY\",\n",
    "        \"HIMYM\",\n",
    "        \"HaircareScience\",\n",
    "        \"HauntingOfHillHouse\",\n",
    "        \"Hedgehog\",\n",
    "        \"HilariaBaldwin\",\n",
    "        \"HiveOS\",\n",
    "        \"HotWheels\",\n",
    "        \"Huel\",\n",
    "        \"HyperRP\",\n",
    "        \"HypnoFair\",\n",
    "        \"IBO\",\n",
    "        \"IRS\",\n",
    "        \"ITCareerQuestions\",\n",
    "        \"InstacartShoppers\",\n",
    "        \"JamesHoffmann\",\n",
    "        \"JoJolion\",\n",
    "        \"Julia\",\n",
    "        \"JustUnsubbed\",\n",
    "        \"KGBTR\",\n",
    "        \"KTM\",\n",
    "        \"KassadinMains\",\n",
    "        \"Kayaking\",\n",
    "        \"KazuhaMains\",\n",
    "        \"Kengan_Ashura\",\n",
    "        \"KikRoleplay\",\n",
    "        \"KillingEve\",\n",
    "        \"KingkillerChronicle\",\n",
    "        \"LOONA\",\n",
    "        \"LeagueConnect\",\n",
    "        \"LearnerDriverUK\",\n",
    "        \"LegendsOfRuneterra\",\n",
    "        \"Library\",\n",
    "        \"LifeProTips\",\n",
    "        \"LightNovels\",\n",
    "        \"MECoOp\",\n",
    "        \"MLBTheShow\",\n",
    "        \"MachineLearning\",\n",
    "        \"Market76\",\n",
    "        \"MarsWallStreet\",\n",
    "        \"MarylandUnemployment\",\n",
    "        \"MatthiasSubmissions\",\n",
    "        \"McMaster\",\n",
    "        \"MensRights\",\n",
    "        \"Midsommar\",\n",
    "        \"MindHunter\",\n",
    "        \"Minecraft\",\n",
    "        \"MinecraftServer\",\n",
    "        \"ModelCars\",\n",
    "        \"ModernMagic\",\n",
    "        \"MondoGore\",\n",
    "        \"MonsterHunter\",\n",
    "        \"MonsterHunterWorld\",\n",
    "        \"MtF\",\n",
    "        \"NBA2k\",\n",
    "        \"NTU\",\n",
    "        \"NameThatSong\",\n",
    "        \"NassauCountyHookups\",\n",
    "        \"Netherlands\",\n",
    "        \"NiceHash\",\n",
    "        \"Nioh\",\n",
    "        \"NoContract\",\n",
    "        \"NoFap\",\n",
    "        \"NoFeeAC\",\n",
    "        \"NoMansSkyTheGame\",\n",
    "        \"OculusQuest\",\n",
    "        \"Paladins\",\n",
    "        \"PanicAttack\",\n",
    "        \"PerkByDaylight\",\n",
    "        \"PersonalFinanceCanada\",\n",
    "        \"PokemonGoFriends\",\n",
    "        \"PokemonHome\",\n",
    "        \"PokemonTCG\",\n",
    "        \"PoonamPandeyFanatics\",\n",
    "        \"Prolactinoma\",\n",
    "        \"Random_Acts_Of_Amazon\",\n",
    "        \"RedditWritesSeinfeld\",\n",
    "        \"Reduction\",\n",
    "        \"RepTime\",\n",
    "        \"RevenantMain\",\n",
    "        \"Revu\",\n",
    "        \"RocketLeagueExchange\",\n",
    "        \"RoleplayingForReddit\",\n",
    "        \"RomanianWolves\",\n",
    "        \"SLFmeetups\",\n",
    "        \"STAYC\",\n",
    "        \"SakuraGakuin\",\n",
    "        \"SaltLakeCity\",\n",
    "        \"Sat\",\n",
    "        \"SatoshiStreetBets\",\n",
    "        \"SauceSharingCommunity\",\n",
    "        \"Scotch\",\n",
    "        \"Screenwriting\",\n",
    "        \"ShieldAndroidTV\",\n",
    "        \"Shittyaskflying\",\n",
    "        \"ShuumatsuNoValkyrie\",\n",
    "        \"Sims4\",\n",
    "        \"SluttyConfessions\",\n",
    "        \"Smallville\",\n",
    "        \"SofiawithanF\",\n",
    "        \"SquaredCircle\",\n",
    "        \"Stormlight_Archive\",\n",
    "        \"SummonSign\",\n",
    "        \"Superhero_Ideas\",\n",
    "        \"Superstonk\",\n",
    "        \"Sverigesforsvarsmakt\",\n",
    "        \"TMJ\",\n",
    "        \"TeensMeetTeens\",\n",
    "        \"Testosterone\",\n",
    "        \"TheMagnusArchives\",\n",
    "        \"TherosDMs\",\n",
    "        \"Throwers\",\n",
    "        \"Tomorrowland\",\n",
    "        \"TooAfraidToAsk\",\n",
    "        \"TwoXChromosomes\",\n",
    "        \"UKJobs\",\n",
    "        \"Unemployment\",\n",
    "        \"ValorantBrasil\",\n",
    "        \"Vent\",\n",
    "        \"VinylCollectors\",\n",
    "        \"VirtualYoutubers\",\n",
    "        \"WallStreetbetsELITE\",\n",
    "        \"Wallstreetsilver\",\n",
    "        \"Wavyhair\",\n",
    "        \"WetlanderHumor\",\n",
    "        \"WhiteWolfRPG\",\n",
    "        \"Wordpress\",\n",
    "        \"WreckingBallMains\",\n",
    "        \"ZombsRoyale\",\n",
    "        \"accesscontrol\",\n",
    "        \"aggretsuko\",\n",
    "        \"alcoholicsanonymous\",\n",
    "        \"aliens\",\n",
    "        \"amcstock\",\n",
    "        \"amex\",\n",
    "        \"anime\",\n",
    "        \"aorus\",\n",
    "        \"apexlegends\",\n",
    "        \"appletv\",\n",
    "        \"appliancerepair\",\n",
    "        \"arlington\",\n",
    "        \"aromantic\",\n",
    "        \"ask\",\n",
    "        \"askTO\",\n",
    "        \"askcarsales\",\n",
    "        \"askseddit\",\n",
    "        \"asktransgender\",\n",
    "        \"auntienetwork\",\n",
    "        \"bicycling\",\n",
    "        \"blackopscoldwar\",\n",
    "        \"bleach\",\n",
    "        \"boardgames\",\n",
    "        \"bonnaroo\",\n",
    "        \"bostonr4r\",\n",
    "        \"brasil\",\n",
    "        \"brave_browser\",\n",
    "        \"bravelydefault\",\n",
    "        \"breakingmom\",\n",
    "        \"buildapc\",\n",
    "        \"buildapcforme\",\n",
    "        \"candlemagick\",\n",
    "        \"capitalism_in_decay\",\n",
    "        \"cardano\",\n",
    "        \"choiceofgames\",\n",
    "        \"chronotrigger\",\n",
    "        \"clonewars\",\n",
    "        \"comicbooks\",\n",
    "        \"comicswap\",\n",
    "        \"conspiracy\",\n",
    "        \"controlgame\",\n",
    "        \"covidlonghaulers\",\n",
    "        \"cryptocoins\",\n",
    "        \"cryptostreetbets\",\n",
    "        \"cscareerquestionsEU\",\n",
    "        \"cuboulder\",\n",
    "        \"dating\",\n",
    "        \"dating_advice\",\n",
    "        \"dbrand\",\n",
    "        \"deadbydaylight\",\n",
    "        \"delhi\",\n",
    "        \"depressed\",\n",
    "        \"depression\",\n",
    "        \"destiny2\",\n",
    "        \"detrans\",\n",
    "        \"digimon\",\n",
    "        \"dirtykikpals\",\n",
    "        \"dirtypenpals\",\n",
    "        \"dogecoin\",\n",
    "        \"doordash_drivers\",\n",
    "        \"dpdr\",\n",
    "        \"dragonquest\",\n",
    "        \"dreamsmp\",\n",
    "        \"emacs\",\n",
    "        \"emotestories\",\n",
    "        \"endocrinology\",\n",
    "        \"eu4\",\n",
    "        \"exalted\",\n",
    "        \"exjw\",\n",
    "        \"exmuslim\",\n",
    "        \"extrarfl\",\n",
    "        \"facebook\",\n",
    "        \"fantasywriters\",\n",
    "        \"feedthebeast\",\n",
    "        \"feminineboys\",\n",
    "        \"findaleague\",\n",
    "        \"fleshlight\",\n",
    "        \"foodscience\",\n",
    "        \"gamegrumps\",\n",
    "        \"gaming\",\n",
    "        \"gardening\",\n",
    "        \"generationology\",\n",
    "        \"gonewildaudio\",\n",
    "        \"gorillaz\",\n",
    "        \"graylog\",\n",
    "        \"haskell\",\n",
    "        \"help\",\n",
    "        \"heroesofthestorm\",\n",
    "        \"hisdarkmaterials\",\n",
    "        \"hitbtc\",\n",
    "        \"hoi4\",\n",
    "        \"ibs\",\n",
    "        \"idlechampions\",\n",
    "        \"idleon\",\n",
    "        \"igcse\",\n",
    "        \"imaginarypenpals\",\n",
    "        \"islam\",\n",
    "        \"kansascity\",\n",
    "        \"kdramarecommends\",\n",
    "        \"kingofqueens\",\n",
    "        \"ladybusiness\",\n",
    "        \"langrisser\",\n",
    "        \"lasers\",\n",
    "        \"lawschooladmissions\",\n",
    "        \"leafs\",\n",
    "        \"leagueoflegends\",\n",
    "        \"learnmath\",\n",
    "        \"lfg\",\n",
    "        \"libraryofruina\",\n",
    "        \"livesound\",\n",
    "        \"lockpicking\",\n",
    "        \"logh\",\n",
    "        \"mac\",\n",
    "        \"madisonwi\",\n",
    "        \"masseffect\",\n",
    "        \"mechmarket\",\n",
    "        \"metalgearsolid\",\n",
    "        \"mfdoom\",\n",
    "        \"miraculousladybug\",\n",
    "        \"namenerds\",\n",
    "        \"nanocurrency\",\n",
    "        \"newtothenavy\",\n",
    "        \"nhl\",\n",
    "        \"nus\",\n",
    "        \"obs\",\n",
    "        \"oculus\",\n",
    "        \"offmychest\",\n",
    "        \"oneui\",\n",
    "        \"onewheel\",\n",
    "        \"overlord\",\n",
    "        \"paintdotnet\",\n",
    "        \"passive_income\",\n",
    "        \"photography\",\n",
    "        \"piano\",\n",
    "        \"pittsburgh\",\n",
    "        \"playstation\",\n",
    "        \"podcasts\",\n",
    "        \"pokemon\",\n",
    "        \"popperpigs\",\n",
    "        \"premed\",\n",
    "        \"ps3homebrew\",\n",
    "        \"puppy101\",\n",
    "        \"qBittorrent\",\n",
    "        \"quittingkratom\",\n",
    "        \"raisedbynarcissists\",\n",
    "        \"raleigh\",\n",
    "        \"realonlyfansreviews\",\n",
    "        \"redsox\",\n",
    "        \"relationship_advice\",\n",
    "        \"religion\",\n",
    "        \"roblox\",\n",
    "        \"royalfamily\",\n",
    "        \"rpg\",\n",
    "        \"salesforce\",\n",
    "        \"samsung\",\n",
    "        \"scatstories\",\n",
    "        \"screenplaychallenge\",\n",
    "        \"seduction\",\n",
    "        \"self\",\n",
    "        \"selfimprovement\",\n",
    "        \"seoul\",\n",
    "        \"sex\",\n",
    "        \"sexstories\",\n",
    "        \"silverbugbets\",\n",
    "        \"sissypersonals\",\n",
    "        \"skincareexchange\",\n",
    "        \"snuffrp\",\n",
    "        \"socialanxiety\",\n",
    "        \"sofi\",\n",
    "        \"software\",\n",
    "        \"spirituality\",\n",
    "        \"stalker\",\n",
    "        \"starcraft2coop\",\n",
    "        \"stashinvest\",\n",
    "        \"steelseries\",\n",
    "        \"steinsgate\",\n",
    "        \"stocks\",\n",
    "        \"suggestmeabook\",\n",
    "        \"survivinginfidelity\",\n",
    "        \"tarot\",\n",
    "        \"techsupport\",\n",
    "        \"teenagers\",\n",
    "        \"teenagersnew\",\n",
    "        \"texas\",\n",
    "        \"tf2trade\",\n",
    "        \"thedivision\",\n",
    "        \"theta_network\",\n",
    "        \"thetagang\",\n",
    "        \"thomasthetankengine\",\n",
    "        \"tipofmypenis\",\n",
    "        \"tipofmytongue\",\n",
    "        \"tomorrow\",\n",
    "        \"touhou\",\n",
    "        \"trakstocks\",\n",
    "        \"transgendercirclejerk\",\n",
    "        \"transpositive\",\n",
    "        \"turo\",\n",
    "        \"turtles\",\n",
    "        \"tutanota\",\n",
    "        \"u_mawadom118\",\n",
    "        \"ugly\",\n",
    "        \"unpopularopinion\",\n",
    "        \"vaginismus\",\n",
    "        \"vcu\",\n",
    "        \"visualization\",\n",
    "        \"watercooling\",\n",
    "        \"weather\",\n",
    "        \"whatcarshouldIbuy\",\n",
    "        \"whatsthatbook\",\n",
    "        \"whowouldwin\",\n",
    "        \"wicked_edge\",\n",
    "        \"wireshark\",\n",
    "        \"xbox\",\n",
    "        \"xboxfindfriends\",\n",
    "        \"xmen\",\n",
    "        \"xmpp\",\n",
    "        \"yoga\",\n",
    "        \"youtubers\",\n",
    "    ]\n",
    ")"
   ]
  },
  {
   "cell_type": "code",
   "execution_count": null,
   "metadata": {},
   "outputs": [],
   "source": [
    "dataset_name = \"reddit\"\n",
    "colors = np.load(\n",
    "    variables_path / \"updated_dataset\" / f\"colors_{dataset_name}.npy\"\n",
    ")\n",
    "pickle_in = open(\n",
    "    variables_path\n",
    "    / \"updated_dataset\"\n",
    "    / f\"dict_label_to_color_{dataset_name}.pkl\",\n",
    "    \"rb\",\n",
    ")\n",
    "dict_label_to_color = pickle.load(pickle_in)"
   ]
  },
  {
   "cell_type": "code",
   "execution_count": null,
   "metadata": {},
   "outputs": [
    {
     "data": {
      "image/png": "[encoded data removed]",
      "text/plain": [
       "<Figure size 1100x700 with 1 Axes>"
      ]
     },
     "metadata": {},
     "output_type": "display_data"
    }
   ],
   "source": [
    "%matplotlib inline\n",
    "fig, ax = plt.subplots(figsize=(5.5, 3.5), dpi=200, layout=\"constrained\")\n",
    "n = 50\n",
    "ax.bar(\n",
    "    np.arange(n),\n",
    "    np.flip(np.sort(counts))[:n],\n",
    "    color=np.array(list(dict_label_to_color.values()))[\n",
    "        np.flip(np.argsort(counts))\n",
    "    ],\n",
    ")\n",
    "\n",
    "ax.set_xticks(\n",
    "    np.arange(n),\n",
    "    labels=unique_labels[np.flip(np.argsort(counts))[:n]],\n",
    "    rotation=\"vertical\",\n",
    "    fontsize=5,\n",
    ")\n",
    "ax.set_ylabel(\"# of instances belonging to each class\", fontsize=8)\n",
    "ax.set_xlabel(\"Classes\")\n",
    "ax.set_title(\"Reddit\")\n",
    "\n",
    "\n",
    "fig.savefig(figures_path / \"barplot_class_distribution_reddit.png\")"
   ]
  },
  {
   "cell_type": "markdown",
   "metadata": {},
   "source": [
    "### ICLR"
   ]
  },
  {
   "cell_type": "code",
   "execution_count": null,
   "metadata": {},
   "outputs": [],
   "source": [
    "# %%time\n",
    "# iclr2024 = pd.read_parquet(\n",
    "#     data_path / \"iclr2024.parquet.gzip\",\n",
    "#     # index=False,\n",
    "#     engine=\"pyarrow\",\n",
    "#     # compression=\"gzip\",\n",
    "# )"
   ]
  },
  {
   "cell_type": "code",
   "execution_count": null,
   "metadata": {},
   "outputs": [],
   "source": [
    "labels_iclr = np.load(variables_path / \"updated_dataset\" / \"labels_iclr.npy\")\n",
    "colors_iclr = np.load(variables_path / \"updated_dataset\" / \"colors_iclr.npy\")\n",
    "\n",
    "pickle_in = open(\n",
    "    variables_path / \"updated_dataset\" / \"dict_label_to_color.pkl\", \"rb\"\n",
    ")\n",
    "dict_label_to_color = pickle.load(pickle_in)"
   ]
  },
  {
   "cell_type": "code",
   "execution_count": null,
   "metadata": {},
   "outputs": [
    {
     "data": {
      "text/plain": [
       "{'CNNs': '#d21820',\n",
       " 'GANs': '#1869ff',\n",
       " 'RNNs': '#008a00',\n",
       " 'ViTs': '#f36dff',\n",
       " 'active learning': '#710079',\n",
       " 'adversarial': '#eba600',\n",
       " 'anomaly detection': '#00bec2',\n",
       " 'autoencoders': '#5d3d04',\n",
       " 'causality': '#005559',\n",
       " 'clustering': '#45ef3d',\n",
       " 'compression': '#a2aeff',\n",
       " 'continual learning': '#ff8e92',\n",
       " 'contrastive learning': '#9e6586',\n",
       " 'diffusion models': '#9e28ff',\n",
       " 'explainability': '#8eae75',\n",
       " 'fairness': '#aa6d35',\n",
       " 'federated learning': '#791028',\n",
       " 'few-shot learning': '#3d3986',\n",
       " 'graphs': '#f71c96',\n",
       " 'imitation learning': '#005114',\n",
       " 'in-context learning': '#55829a',\n",
       " 'interpretability': '#ff6500',\n",
       " 'knowledge distillation': '#009271',\n",
       " 'language models': '#c200c2',\n",
       " 'llms': '#31ebb2',\n",
       " 'meta learning': '#e7b6e7',\n",
       " 'model-based reinforcement learning': '#656d31',\n",
       " 'multi-agent reinforcement learning': '#8a79ba',\n",
       " 'multi-task learning': '#08aaf3',\n",
       " 'neural architecture search': '#c6d20c',\n",
       " 'object detection': '#ae0069',\n",
       " 'offline RL': '#9e8e00',\n",
       " 'optimal transport': '#8ad7ff',\n",
       " 'optimization': '#963908',\n",
       " 'out-of-distribution': '#69b200',\n",
       " 'privacy': '#0000fb',\n",
       " 'pruning': '#f7ba8a',\n",
       " 'reinforcement learning': '#6d4d82',\n",
       " 'robustness': '#6514ff',\n",
       " 'self-supervised learning': '#ca6161',\n",
       " 'semi-supervised learning': '#045d92',\n",
       " 'time series': '#db75ae',\n",
       " 'transfer learning': '#00c26d',\n",
       " 'transformers': '#794155',\n",
       " 'vision-language models': '#cace86',\n",
       " 'unlabeled': 'lightgrey'}"
      ]
     },
     "execution_count": null,
     "metadata": {},
     "output_type": "execute_result"
    }
   ],
   "source": [
    "dict_label_to_color"
   ]
  },
  {
   "cell_type": "code",
   "execution_count": null,
   "metadata": {},
   "outputs": [
    {
     "name": "stdout",
     "output_type": "stream",
     "text": [
      "# samples 24347\n",
      "# classes 46\n"
     ]
    }
   ],
   "source": [
    "print(\"# samples\", len(labels_iclr))\n",
    "print(\"# classes\", len(np.unique(labels_iclr)))"
   ]
  },
  {
   "cell_type": "code",
   "execution_count": null,
   "metadata": {},
   "outputs": [],
   "source": [
    "unique_labels, counts = np.unique(labels_iclr, return_counts=True)"
   ]
  },
  {
   "cell_type": "code",
   "execution_count": null,
   "metadata": {},
   "outputs": [],
   "source": [
    "unique_colors = np.vectorize(dict_label_to_color.get)(\n",
    "    unique_labels[np.flip(np.argsort(counts))]\n",
    ")"
   ]
  },
  {
   "cell_type": "code",
   "execution_count": null,
   "metadata": {},
   "outputs": [
    {
     "data": {
      "image/png": "[encoded data removed]",
      "text/plain": [
       "<Figure size 1100x700 with 1 Axes>"
      ]
     },
     "metadata": {},
     "output_type": "display_data"
    }
   ],
   "source": [
    "%matplotlib inline\n",
    "fig, ax = plt.subplots(figsize=(5.5, 3.5), dpi=200, layout=\"constrained\")\n",
    "\n",
    "ax.bar(\n",
    "    np.arange(len(np.unique(labels_iclr)))[1:],\n",
    "    np.flip(np.sort(counts))[1:],\n",
    "    color=unique_colors[1:],\n",
    ")\n",
    "\n",
    "ax.set_xticks(\n",
    "    np.arange(len(np.unique(labels_iclr)))[1:],\n",
    "    labels=unique_labels[np.flip(np.argsort(counts))][1:],\n",
    "    rotation=\"vertical\",\n",
    "    fontsize=5,\n",
    ")\n",
    "ax.set_ylabel(\"# of instances belonging to each class\", fontsize=8)\n",
    "ax.set_xlabel(\"Classes\")\n",
    "ax.set_title(f\"{dataset_name}\")\n",
    "\n",
    "\n",
    "fig.savefig(figures_path / f\"barplot_class_distribution_iclr_v2.png\")"
   ]
  },
  {
   "cell_type": "code",
   "execution_count": null,
   "metadata": {},
   "outputs": [],
   "source": []
  },
  {
   "cell_type": "markdown",
   "metadata": {},
   "source": [
    "### StackExchange"
   ]
  },
  {
   "cell_type": "code",
   "execution_count": null,
   "metadata": {},
   "outputs": [],
   "source": [
    "dataset_name = \"stackexchange\"\n",
    "dataset_path = \"mteb/stackexchange-clustering-p2p\""
   ]
  },
  {
   "cell_type": "code",
   "execution_count": null,
   "metadata": {},
   "outputs": [],
   "source": [
    "dataset = load_dataset(dataset_path)"
   ]
  },
  {
   "cell_type": "code",
   "execution_count": null,
   "metadata": {},
   "outputs": [
    {
     "data": {
      "text/plain": [
       "DatasetDict({\n",
       "    test: Dataset({\n",
       "        features: ['sentences', 'labels'],\n",
       "        num_rows: 10\n",
       "    })\n",
       "})"
      ]
     },
     "execution_count": null,
     "metadata": {},
     "output_type": "execute_result"
    }
   ],
   "source": [
    "dataset"
   ]
  },
  {
   "cell_type": "code",
   "execution_count": null,
   "metadata": {},
   "outputs": [],
   "source": [
    "sentences = list(\n",
    "    np.hstack(dataset.data[\"test\"].to_pandas().sentences.to_numpy())\n",
    ")\n",
    "labels = list(np.hstack(dataset.data[\"test\"].to_pandas().labels.to_numpy()))"
   ]
  },
  {
   "cell_type": "code",
   "execution_count": null,
   "metadata": {},
   "outputs": [
    {
     "name": "stdout",
     "output_type": "stream",
     "text": [
      "# samples 75000\n",
      "# classes 610\n"
     ]
    }
   ],
   "source": [
    "print(\"# samples\", len(labels))\n",
    "print(\"# classes\", len(np.unique(labels)))"
   ]
  },
  {
   "cell_type": "code",
   "execution_count": null,
   "metadata": {},
   "outputs": [],
   "source": [
    "unique_labels, counts = np.unique(labels, return_counts=True)"
   ]
  },
  {
   "cell_type": "code",
   "execution_count": null,
   "metadata": {},
   "outputs": [
    {
     "data": {
      "text/plain": [
       "array(['.net', '2.5d', '2d', '3d', '3d-meshes', '3d-modeling', '3dsmax',\n",
       "       'aabb', 'accessibility', 'actionscript', 'actionscript-3',\n",
       "       'adventure-game-studio', 'adventure-games', 'advertisements', 'ai',\n",
       "       'ajax', 'algorithm', 'allegro', 'alpha', 'alpha-blending',\n",
       "       'analytics', 'andengine', 'android', 'android-studio',\n",
       "       'angelscript', 'angles', 'animation', 'anti-cheat', 'antialiasing',\n",
       "       'appstore', 'architecture', 'arma3', 'art', 'artemis',\n",
       "       'aspect-ratio', 'assembly', 'asset-management', 'assets', 'assimp',\n",
       "       'audio', 'augmented-reality', 'authentication', 'automation',\n",
       "       'avatar', 'awesomium', 'babylonjs', 'balance',\n",
       "       'barycentric-coordinates', 'behavior', 'behavior-tree', 'beta',\n",
       "       'beziers', 'blender', 'blender-game-engine', 'board-game', 'books',\n",
       "       'bot', 'bounding-boxes', 'bounding-spheres', 'box2d', 'browser',\n",
       "       'browser-based-games', 'bsp', 'bukkit', 'bullet-physics',\n",
       "       'business', 'business-model', 'c', 'c#', 'c++', 'camera', 'car',\n",
       "       'card-game', 'career', 'casual-games', 'character', 'chess',\n",
       "       'client-server', 'clipping', 'cloud-computing', 'cocos2d',\n",
       "       'cocos2d-iphone', 'cocos2d-x', 'cocos2d-x-js', 'code-reflection',\n",
       "       'collada', 'collider', 'collision-detection',\n",
       "       'collision-resolution', 'color', 'combat', 'commodore-64',\n",
       "       'community-management', 'compatibility', 'competition',\n",
       "       'component-based', 'compression', 'computational-geometry',\n",
       "       'compute-shader', 'configuration', 'console', 'construct-2',\n",
       "       'content-generation', 'content-rating', 'control', 'controllers',\n",
       "       'coordinates', 'copyright', 'corona-sdk', 'costs',\n",
       "       'cross-platform', 'crusader-kings-2-modding', 'cryengine', 'css',\n",
       "       'cubemap', 'culling', 'curves', 'data', 'data-driven',\n",
       "       'data-structure', 'databases', 'debugging', 'deferred-rendering',\n",
       "       'demo', 'deployment', 'depth-buffer', 'design-patterns',\n",
       "       'destructables', 'dev-groups', 'development-speed', 'difficulty',\n",
       "       'direct3d12', 'directinput', 'directx', 'directx10', 'directx11',\n",
       "       'directx9', 'distribution', 'documentation', 'double-buffering',\n",
       "       'dynamic-difficulty', 'eclipse', 'economy', 'editors', 'education',\n",
       "       'effect', 'effects', 'efficiency', 'emulation', 'encryption',\n",
       "       'entity', 'entity-component', 'entity-component-system',\n",
       "       'entity-system', 'events', 'extrapolation', 'face', 'facebook',\n",
       "       'farseer-physics-engine', 'fbx', 'file', 'file-format',\n",
       "       'filesystem', 'first-person-shooter', 'fixed-timestep', 'flash',\n",
       "       'flash-develop', 'flixel', 'floating-point', 'fluid-dynamics',\n",
       "       'flutter', 'fmod', 'fonts', 'fractal', 'fragment-shader',\n",
       "       'frame-buffer', 'frame-rate', 'free-to-play', 'frustum',\n",
       "       'frustum-culling', 'fsm', 'functional', 'fund-raising',\n",
       "       'game-center', 'game-design', 'game-industry', 'game-loop',\n",
       "       'game-maker', 'game-maker-dnd', 'game-maker-studio-2',\n",
       "       'game-mechanics', 'game-recording', 'game-state', 'gameobject',\n",
       "       'gamepad', 'gamesalad', 'gdevelop', 'geolocation', 'geometry',\n",
       "       'gimp', 'glfw', 'glm', 'global-illumination', 'glsl', 'glut', 'go',\n",
       "       'godot', 'google-app-engine', 'google-play',\n",
       "       'google-play-services', 'gpu', 'graph', 'graphic-effects',\n",
       "       'graphics', 'graphics-design', 'graphics-programming', 'grid',\n",
       "       'gui', 'hacks', 'hammer', 'hardware', 'hardware-acceleration',\n",
       "       'harlowe', 'havok', 'haxe', 'hdr', 'heightmap', 'heuristics',\n",
       "       'hexagonal-grid', 'hiring', 'hlsl', 'homebrew', 'hosting',\n",
       "       'htc-vive', 'html', 'html-canvas', 'html5', 'hud',\n",
       "       'human-resources', 'ide', 'image', 'image-processing', 'impactjs',\n",
       "       'in-app-purchase', 'index-buffer', 'input', 'installer',\n",
       "       'instancing', 'intellectual-property', 'interactive-fiction',\n",
       "       'interface', 'interpolation', 'intersection', 'inventory',\n",
       "       'inverse-kinematics', 'ios', 'ipad', 'iphone', 'irrlicht',\n",
       "       'isometric', 'java', 'javafx', 'javascript', 'jbox2d',\n",
       "       'jmonkeyengine', 'jobs', 'jogl', 'joystick', 'jquery', 'jumping',\n",
       "       'keyboard', 'kinect', 'leaderboards', 'legal', 'level-design',\n",
       "       'level-of-detail', 'levels', 'libgdx', 'licensing', 'lighting',\n",
       "       'line-of-sight', 'linear-algebra', 'linux', 'loading',\n",
       "       'localization', 'logic', 'love2d', 'lua', 'lumberyard-engine',\n",
       "       'lwjgl', 'macos', 'magicavoxel', 'management', 'manuals',\n",
       "       'map-editor', 'maps', 'marching-cubes', 'marketing', 'marmalade',\n",
       "       'matchmaking', 'materials', 'mathematics', 'matrix', 'maya',\n",
       "       'maze', 'md5mesh', 'memory', 'memory-efficiency', 'mesh',\n",
       "       'methodology', 'metrics', 'microsoft', 'microtransactions',\n",
       "       'minecraft-modding', 'mission-design', 'mmo', 'mobile', 'modding',\n",
       "       'modelling-techniques', 'models', 'monetization', 'monogame',\n",
       "       'monotouch', 'motion', 'motivation', 'mouse', 'movement', 'mud',\n",
       "       'multiplayer', 'multithreading', 'music', 'mvc', 'mysql',\n",
       "       'navmesh', 'ndk', 'networking', 'nintendo', 'node.js', 'noise',\n",
       "       'non-photorealistic', 'normal-generation', 'normal-mapping',\n",
       "       'normals', 'npc', 'nvidia', 'obj', 'objective-c', 'objects',\n",
       "       'occlusion', 'octree', 'oculus', 'ogre', 'online', 'oop',\n",
       "       'open-source', 'openal', 'opengl', 'opengl-es', 'opengl-es2',\n",
       "       'openscenegraph', 'opentk', 'operating-system', 'optimization',\n",
       "       'orientation', 'outsourcing', 'palette', 'panda3d',\n",
       "       'parallax-scrolling', 'particles', 'patching', 'path',\n",
       "       'path-finding', 'pc', 'performance', 'performance-budgeting',\n",
       "       'perlin-noise', 'perspective', 'phaser', 'php', 'physics',\n",
       "       'physics-engine', 'physx', 'pico-8', 'pipeline', 'piracy', 'pixel',\n",
       "       'pixel-art', 'planning', 'platform', 'platformer', 'playn',\n",
       "       'playstation3', 'playstation4', 'playtesting', 'plugin',\n",
       "       'point-cloud', 'polymorphism', 'portals', 'porting',\n",
       "       'post-processing', 'pre-production', 'probability', 'procedural',\n",
       "       'procedural-generation', 'process', 'productivity', 'profiling',\n",
       "       'project-management', 'projectile-physics', 'projection',\n",
       "       'prototyping', 'psm', 'publishing', 'puzzle', 'pygame', 'pyglet',\n",
       "       'python', 'quadtree', 'quake2', 'quake3', 'quaternion', 'racing',\n",
       "       'random', 'ranking', 'raycasting', 'raytracing',\n",
       "       'real-money-transactions', 'refactoring', 'release', 'rendering',\n",
       "       'renpy', 'replays', 'resolution', 'resource-management', 'revenue',\n",
       "       'rigging', 'rigidbody', 'roblox', 'rock-paper-scissors',\n",
       "       'roguelikes', 'rope-physics', 'rotation', 'rpg', 'rpg-maker',\n",
       "       'rpg-maker-mv', 'rpg-maker-vx', 'rpg-maker-xp', 'rts', 'ruby',\n",
       "       'sales', 'savegame', 'scala', 'scale', 'scene', 'scene-graph',\n",
       "       'scoring', 'screen', 'scripting', 'sdl', 'sdl2', 'security',\n",
       "       'selection', 'separating-axis-theorem', 'serialization', 'server',\n",
       "       'settings', 'sfml', 'shaders', 'shading', 'shadow-mapping',\n",
       "       'shadows', 'sharpdx', 'side-scroller', 'signed-distance-field',\n",
       "       'silverlight', 'simulations', 'single-player',\n",
       "       'skeletal-animation', 'sketchup', 'sky', 'skybox',\n",
       "       'skyrim-modding', 'slick', 'slimdx', 'smartfox', 'social',\n",
       "       'software-engineering', 'software-rendering', 'sound',\n",
       "       'sound-effects', 'source-code', 'source-engine', 'soya3d',\n",
       "       'space-partitioning', 'spaces', 'spatial-partitioning', 'spawning',\n",
       "       'special-effects', 'spherical-harmonics', 'splash-screen',\n",
       "       'splines', 'sponza', 'spritebatch', 'spritekit', 'sprites',\n",
       "       'spritesheet', 'sql', 'stage3d', 'starcraft-2', 'state',\n",
       "       'statistics', 'steam', 'steering-behaviors', 'stencyl', 'storage',\n",
       "       'storyboard', 'strategy', 'streaming', 'swift', 'synchronization',\n",
       "       'teaching', 'teamwork', 'terminology', 'terrain',\n",
       "       'terrain-rendering', 'tessellation', 'testing', 'tetris', 'text',\n",
       "       'text-based', 'texture-atlas', 'textures', 'three.js', 'tiled',\n",
       "       'tilemap', 'tiles', 'time-travel', 'timer', 'timestep', 'timing',\n",
       "       'tools', 'torque', 'torque-x', 'touch', 'tournament',\n",
       "       'tower-defense', 'trademark', 'trailer', 'trajectory',\n",
       "       'transformation', 'transparency', 'triangulation', 'trigonometry',\n",
       "       'turn-based', 'turn-based-strategy', 'tutorials', 'twine', 'udk',\n",
       "       'udp', 'ui-design', 'unit-testing', 'unity', 'unity-ads',\n",
       "       'unity-networking', 'unity-webgl', 'unityscript', 'unreal',\n",
       "       'unreal-4', 'user-experience', 'user-generated-content',\n",
       "       'user-interface', 'uv-mapping', 'valve', 'vb.net', 'vbo', 'vector',\n",
       "       'vector-art', 'version-control', 'vertex', 'vertex-buffer',\n",
       "       'video', 'viewport', 'virtual-battlespace', 'virtual-reality',\n",
       "       'visual-novel', 'visual-studio', 'visualization', 'voice',\n",
       "       'voxels', 'vsync', 'vulkan', 'water', 'waypoints', 'web', 'webgl',\n",
       "       'websocket', 'wii', 'window-management', 'windows',\n",
       "       'windows-forms', 'windows-phone-7', 'word-games',\n",
       "       'world-of-warcraft-modding', 'wpf', 'xbox', 'xbox360', 'xcode',\n",
       "       'xna', 'xna-4.0', 'zbrush'], dtype='<U25')"
      ]
     },
     "execution_count": null,
     "metadata": {},
     "output_type": "execute_result"
    }
   ],
   "source": [
    "unique_labels"
   ]
  },
  {
   "cell_type": "code",
   "execution_count": null,
   "metadata": {},
   "outputs": [],
   "source": [
    "dataset_name = \"stackexchange\"\n",
    "colors = np.load(\n",
    "    variables_path / \"updated_dataset\" / f\"colors_{dataset_name}.npy\"\n",
    ")\n",
    "pickle_in = open(\n",
    "    variables_path\n",
    "    / \"updated_dataset\"\n",
    "    / f\"dict_label_to_color_{dataset_name}.pkl\",\n",
    "    \"rb\",\n",
    ")\n",
    "dict_label_to_color = pickle.load(pickle_in)"
   ]
  },
  {
   "cell_type": "code",
   "execution_count": null,
   "metadata": {},
   "outputs": [
    {
     "data": {
      "image/png": "[encoded data removed]",
      "text/plain": [
       "<Figure size 1100x700 with 1 Axes>"
      ]
     },
     "metadata": {},
     "output_type": "display_data"
    }
   ],
   "source": [
    "%matplotlib inline\n",
    "fig, ax = plt.subplots(figsize=(5.5, 3.5), dpi=200)\n",
    "n = 50\n",
    "ax.bar(\n",
    "    np.arange(n),\n",
    "    np.flip(np.sort(counts))[:n],\n",
    "    color=np.array(list(dict_label_to_color.values()))[\n",
    "        np.flip(np.argsort(counts))\n",
    "    ],\n",
    ")\n",
    "\n",
    "ax.set_xticks(\n",
    "    np.arange(n),\n",
    "    labels=unique_labels[np.flip(np.argsort(counts))[:n]],\n",
    "    rotation=\"vertical\",\n",
    "    fontsize=5,\n",
    ")\n",
    "ax.set_ylabel(\"# of instances belonging to each class\", fontsize=8)\n",
    "ax.set_xlabel(\"Classes\")\n",
    "ax.set_title(f\"{dataset_name}\")\n",
    "\n",
    "\n",
    "fig.savefig(figures_path / f\"barplot_class_distribution_{dataset_name}.png\")"
   ]
  },
  {
   "cell_type": "code",
   "execution_count": null,
   "metadata": {},
   "outputs": [
    {
     "data": {
      "image/png": "[encoded data removed]",
      "text/plain": [
       "<Figure size 1100x700 with 1 Axes>"
      ]
     },
     "metadata": {},
     "output_type": "display_data"
    }
   ],
   "source": [
    "%matplotlib inline\n",
    "fig, ax = plt.subplots(figsize=(5.5, 3.5), dpi=200)\n",
    "n = 50\n",
    "ax.bar(\n",
    "    np.arange(n),\n",
    "    np.flip(np.sort(counts))[:n],\n",
    "    color=np.array(list(dict_label_to_color.values()))[\n",
    "        np.flip(np.argsort(counts))\n",
    "    ],\n",
    ")\n",
    "\n",
    "ax.set_xticks(\n",
    "    np.arange(n),\n",
    "    labels=unique_labels[np.flip(np.argsort(counts))[:n]],\n",
    "    rotation=\"vertical\",\n",
    "    fontsize=5,\n",
    ")\n",
    "ax.set_ylabel(\"# of instances belonging to each class\", fontsize=8)\n",
    "ax.set_xlabel(\"Classes\")\n",
    "ax.set_title(f\"{dataset_name}\")\n",
    "\n",
    "\n",
    "fig.savefig(figures_path / f\"barplot_class_distribution_{dataset_name}.png\")"
   ]
  },
  {
   "cell_type": "markdown",
   "metadata": {},
   "source": [
    "# Print MTEB datasets results -- move to notebook 29"
   ]
  },
  {
   "cell_type": "code",
   "execution_count": null,
   "metadata": {},
   "outputs": [],
   "source": [
    "datasets_names = [\"biorxiv\", \"medrxiv\", \"reddit\", \"stackexchange\"]"
   ]
  },
  {
   "cell_type": "code",
   "execution_count": null,
   "metadata": {},
   "outputs": [
    {
     "name": "stdout",
     "output_type": "stream",
     "text": [
      "biorxiv , \n",
      "medrxiv , \n",
      "reddit , \n",
      "stackexchange , \n"
     ]
    }
   ],
   "source": [
    "for elem in datasets_names:\n",
    "    print(elem, \", \")"
   ]
  },
  {
   "cell_type": "code",
   "execution_count": null,
   "metadata": {},
   "outputs": [],
   "source": [
    "model_names = [\n",
    "    \"MPNet\",\n",
    "    \"SimCSE\",\n",
    "    \"SBERT\",\n",
    "    \"SPECTER\",\n",
    "    \"SciNCL\",\n",
    "]\n",
    "\n",
    "# model_paths = [\n",
    "#     \"microsoft/mpnet-base\",\n",
    "#     \"princeton-nlp/unsup-simcse-bert-base-uncased\",\n",
    "#     \"sentence-transformers/all-mpnet-base-v2\",\n",
    "# ]"
   ]
  },
  {
   "cell_type": "code",
   "execution_count": null,
   "metadata": {},
   "outputs": [],
   "source": [
    "# load\n",
    "from json import load\n",
    "\n",
    "\n",
    "results = pd.DataFrame(\n",
    "    # columns=[\"MPNet\", \"Crops\", \"Dropout\", \"SimCSE\", \"SBERT\"],\n",
    "    columns=[\n",
    "        \"MPNet\",\n",
    "        \"SimCSE\",\n",
    "        \"SPECTER\",\n",
    "        \"SciNCL\",\n",
    "        \"EmbddR\",\n",
    "        \"EmbddR10\",\n",
    "        \"RandomBERT\",\n",
    "        \"RandomBERT10\",\n",
    "        \"Dropout\",\n",
    "        \"Crops\",\n",
    "        \"SBERT\",\n",
    "        \"TF-IDF\",\n",
    "        \"SVD\",\n",
    "        \"L2(SVD)\",\n",
    "    ],\n",
    "    index=datasets_names,\n",
    ")\n",
    "for dataset_name in datasets_names:\n",
    "    # baseline\n",
    "    for model_name in model_names:\n",
    "        saving_path = Path(\"embeddings_\" + model_name.lower()) / Path(\n",
    "            f\"updated_dataset/mteb_datasets/{dataset_name}\"\n",
    "        )\n",
    "\n",
    "        results[model_name].loc[dataset_name] = np.load(\n",
    "            variables_path / saving_path / \"knn_accuracies_baseline.npy\",\n",
    "        )[0]\n",
    "\n",
    "    # fine tuned models\n",
    "    saving_path = Path(\"embeddings_mpnet\") / Path(\n",
    "        f\"updated_dataset/mteb_datasets/{dataset_name}\"\n",
    "    )\n",
    "    results[\"Crops\"].loc[dataset_name] = np.load(\n",
    "        variables_path / saving_path / \"knn_accuracies_run1.npy\",\n",
    "    )[0][0]\n",
    "\n",
    "    # dropout\n",
    "    results[\"Dropout\"].loc[dataset_name] = np.load(\n",
    "        variables_path / saving_path / \"knn_accuracies_run2.npy\",\n",
    "    )[0][0]\n",
    "\n",
    "    # embedding layer\n",
    "    saving_path = Path(\"embeddings_random_bert\") / Path(\n",
    "        f\"updated_dataset/embedding_layer_experiment/mteb_datasets/{dataset_name}\"\n",
    "    )\n",
    "    results[\"EmbddR\"].loc[dataset_name] = np.load(\n",
    "        variables_path / saving_path / \"knn_accuracies_run3.npy\",\n",
    "    )[0][0]\n",
    "    results[\"EmbddR10\"].loc[dataset_name] = np.load(\n",
    "        variables_path / saving_path / \"knn_accuracies_run3_10_epochs.npy\",\n",
    "    )[-1][0]\n",
    "\n",
    "    # random BERT\n",
    "    saving_path = Path(\"embeddings_random_bert\") / Path(\n",
    "        f\"updated_dataset/mteb_datasets/{dataset_name}\"\n",
    "    )\n",
    "    results[\"RandomBERT\"].loc[dataset_name] = np.load(\n",
    "        variables_path / saving_path / \"knn_accuracies_run5.npy\",\n",
    "    )[0][\n",
    "        0\n",
    "    ]  # CHANGE TO -1 WHEN FINISHED\n",
    "    results[\"RandomBERT10\"].loc[dataset_name] = np.load(\n",
    "        variables_path / saving_path / \"knn_accuracies_run5.npy\",\n",
    "    )[-1][0]\n",
    "\n",
    "    # TF-IDF\n",
    "    results[\"TF-IDF\"].loc[dataset_name] = np.load(\n",
    "        variables_path\n",
    "        / \"updated_dataset\"\n",
    "        / f\"knn_accuracy_tfidf_svd_l2_{dataset_name}.npy\",\n",
    "    )[0]\n",
    "    results[\"SVD\"].loc[dataset_name] = np.load(\n",
    "        variables_path\n",
    "        / \"updated_dataset\"\n",
    "        / f\"knn_accuracy_tfidf_svd_l2_{dataset_name}.npy\",\n",
    "    )[1]\n",
    "    results[\"L2(SVD)\"].loc[dataset_name] = np.load(\n",
    "        variables_path\n",
    "        / \"updated_dataset\"\n",
    "        / f\"knn_accuracy_tfidf_svd_l2_{dataset_name}.npy\",\n",
    "    )[2]"
   ]
  },
  {
   "cell_type": "code",
   "execution_count": null,
   "metadata": {},
   "outputs": [],
   "source": [
    "results.loc[\"ICLR\"] = np.zeros(len(results.iloc[0]))\n",
    "results_iclr = {\n",
    "    \"MPNet\": 0.374,\n",
    "    \"SimCSE\": 0.457,\n",
    "    \"SciNCL\": 0.570,\n",
    "    \"SPECTER\": 0.568,\n",
    "    \"EmbddR\": 0.548,  # already updated values with only layer (not module)\n",
    "    \"EmbddR10\": 0.573,  # already updated values with only layer (not module)\n",
    "    \"RandomBERT\": 0.471,  # !\n",
    "    \"RandomBERT10\": 0.571,  # !\n",
    "    \"Dropout\": 0.468,\n",
    "    \"Crops\": 0.589,\n",
    "    \"SBERT\": 0.633,\n",
    "    \"TF-IDF\": 0.600,\n",
    "    \"SVD\": 0.606,\n",
    "    \"L2(SVD)\": 0.624,\n",
    "}\n",
    "\n",
    "for key, value in results_iclr.items():\n",
    "    results.loc[\"ICLR\"][key] = value"
   ]
  },
  {
   "cell_type": "code",
   "execution_count": null,
   "metadata": {},
   "outputs": [],
   "source": [
    "# add Arxiv\n",
    "dataset_name = \"arxiv\"\n",
    "# baseline\n",
    "\n",
    "results.loc[\"arxiv_main\"] = np.zeros(len(results.iloc[0]))\n",
    "results.loc[\"arxiv_secondary\"] = np.zeros(len(results.iloc[0]))\n",
    "\n",
    "for model_name in model_names:\n",
    "    saving_path = Path(\"embeddings_\" + model_name.lower()) / Path(\n",
    "        f\"updated_dataset/mteb_datasets/{dataset_name}\"\n",
    "    )\n",
    "\n",
    "    results[model_name].loc[\"arxiv_main\"] = np.load(\n",
    "        variables_path / saving_path / \"knn_accuracies_baseline_main.npy\",\n",
    "    )[0]\n",
    "    results[model_name].loc[\"arxiv_secondary\"] = np.load(\n",
    "        variables_path / saving_path / \"knn_accuracies_baseline_secondary.npy\",\n",
    "    )[0]\n",
    "\n",
    "# fine tuned models\n",
    "saving_path = Path(\"embeddings_mpnet\") / Path(\n",
    "    f\"updated_dataset/mteb_datasets/{dataset_name}\"\n",
    ")\n",
    "results[\"Crops\"].loc[\"arxiv_main\"] = np.load(\n",
    "    variables_path / saving_path / \"knn_accuracies_run1_main.npy\",\n",
    ")[0][0]\n",
    "results[\"Crops\"].loc[\"arxiv_secondary\"] = np.load(\n",
    "    variables_path / saving_path / \"knn_accuracies_run1_secondary.npy\",\n",
    ")[0]\n",
    "\n",
    "\n",
    "# dropout\n",
    "results[\"Dropout\"].loc[\"arxiv_main\"] = np.load(\n",
    "    variables_path / saving_path / \"knn_accuracies_run2_main.npy\",\n",
    ")[0][0]\n",
    "results[\"Dropout\"].loc[\"arxiv_secondary\"] = np.load(\n",
    "    variables_path / saving_path / \"knn_accuracies_run2_secondary.npy\",\n",
    ")[0]\n",
    "\n",
    "# embedding layer\n",
    "saving_path = Path(\"embeddings_random_bert\") / Path(\n",
    "    f\"updated_dataset/embedding_layer_experiment/mteb_datasets/{dataset_name}\"\n",
    ")\n",
    "results[\"EmbddR\"].loc[\"arxiv_main\"] = np.load(\n",
    "    variables_path / saving_path / \"knn_accuracies_run3_main.npy\",\n",
    ")[0][0]\n",
    "results[\"EmbddR\"].loc[\"arxiv_secondary\"] = np.load(\n",
    "    variables_path / saving_path / \"knn_accuracies_run3_secondary.npy\",\n",
    ")[0]\n",
    "results[\"EmbddR10\"].loc[\"arxiv_main\"] = np.load(\n",
    "    variables_path / saving_path / \"knn_accuracies_run3_10_epochs_main.npy\",\n",
    ")[0][0]\n",
    "results[\"EmbddR10\"].loc[\"arxiv_secondary\"] = np.load(\n",
    "    variables_path\n",
    "    / saving_path\n",
    "    / \"knn_accuracies_run3_10_epochs_secondary.npy\",\n",
    ")[0]\n",
    "\n",
    "# RandomBERT\n",
    "saving_path = Path(\"embeddings_random_bert\") / Path(\n",
    "    f\"updated_dataset/mteb_datasets/{dataset_name}\"\n",
    ")\n",
    "results[\"RandomBERT\"].loc[\"arxiv_main\"] = np.load(\n",
    "    variables_path / saving_path / \"knn_accuracies_run5_main.npy\",\n",
    ")[0][0]\n",
    "results[\"RandomBERT\"].loc[\"arxiv_secondary\"] = np.load(\n",
    "    variables_path / saving_path / \"knn_accuracies_run5_secondary.npy\",\n",
    ")[0]\n",
    "results[\"RandomBERT10\"].loc[\"arxiv_main\"] = np.load(\n",
    "    variables_path / saving_path / \"knn_accuracies_run5_main.npy\",\n",
    ")[-1][0]\n",
    "results[\"RandomBERT10\"].loc[\"arxiv_secondary\"] = np.load(\n",
    "    variables_path / saving_path / \"knn_accuracies_run5_secondary.npy\",\n",
    ")[-1]\n",
    "\n",
    "# TF-IDF\n",
    "results[\"TF-IDF\"].loc[\"arxiv_main\"] = np.load(\n",
    "    variables_path\n",
    "    / \"updated_dataset\"\n",
    "    / f\"knn_accuracy_tfidf_svd_l2_{dataset_name}_main.npy\",\n",
    ")[0]\n",
    "results[\"TF-IDF\"].loc[\"arxiv_secondary\"] = np.load(\n",
    "    variables_path\n",
    "    / \"updated_dataset\"\n",
    "    / f\"knn_accuracy_tfidf_svd_l2_{dataset_name}_secondary.npy\",\n",
    ")[0]\n",
    "results[\"SVD\"].loc[\"arxiv_main\"] = np.load(\n",
    "    variables_path\n",
    "    / \"updated_dataset\"\n",
    "    / f\"knn_accuracy_tfidf_svd_l2_{dataset_name}_main.npy\",\n",
    ")[1]\n",
    "results[\"SVD\"].loc[\"arxiv_secondary\"] = np.load(\n",
    "    variables_path\n",
    "    / \"updated_dataset\"\n",
    "    / f\"knn_accuracy_tfidf_svd_l2_{dataset_name}_secondary.npy\",\n",
    ")[1]\n",
    "results[\"L2(SVD)\"].loc[\"arxiv_main\"] = np.load(\n",
    "    variables_path\n",
    "    / \"updated_dataset\"\n",
    "    / f\"knn_accuracy_tfidf_svd_l2_{dataset_name}_main.npy\",\n",
    ")[2]\n",
    "results[\"L2(SVD)\"].loc[\"arxiv_secondary\"] = np.load(\n",
    "    variables_path\n",
    "    / \"updated_dataset\"\n",
    "    / f\"knn_accuracy_tfidf_svd_l2_{dataset_name}_secondary.npy\",\n",
    ")[2]"
   ]
  },
  {
   "cell_type": "code",
   "execution_count": null,
   "metadata": {},
   "outputs": [
    {
     "data": {
      "text/html": [
       "<div>\n",
       "<style scoped>\n",
       "    .dataframe tbody tr th:only-of-type {\n",
       "        vertical-align: middle;\n",
       "    }\n",
       "\n",
       "    .dataframe tbody tr th {\n",
       "        vertical-align: top;\n",
       "    }\n",
       "\n",
       "    .dataframe thead th {\n",
       "        text-align: right;\n",
       "    }\n",
       "</style>\n",
       "<table border=\"1\" class=\"dataframe\">\n",
       "  <thead>\n",
       "    <tr style=\"text-align: right;\">\n",
       "      <th></th>\n",
       "      <th>MPNet</th>\n",
       "      <th>SimCSE</th>\n",
       "      <th>SPECTER</th>\n",
       "      <th>SciNCL</th>\n",
       "      <th>EmbddR</th>\n",
       "      <th>EmbddR10</th>\n",
       "      <th>RandomBERT</th>\n",
       "      <th>RandomBERT10</th>\n",
       "      <th>Dropout</th>\n",
       "      <th>Crops</th>\n",
       "      <th>SBERT</th>\n",
       "      <th>TF-IDF</th>\n",
       "      <th>SVD</th>\n",
       "      <th>L2(SVD)</th>\n",
       "    </tr>\n",
       "  </thead>\n",
       "  <tbody>\n",
       "    <tr>\n",
       "      <th>biorxiv</th>\n",
       "      <td>0.586168</td>\n",
       "      <td>0.590444</td>\n",
       "      <td>0.648076</td>\n",
       "      <td>0.663692</td>\n",
       "      <td>0.59063</td>\n",
       "      <td>0.607362</td>\n",
       "      <td>0.528351</td>\n",
       "      <td>0.605689</td>\n",
       "      <td>0.606804</td>\n",
       "      <td>0.617773</td>\n",
       "      <td>0.652352</td>\n",
       "      <td>0.606618</td>\n",
       "      <td>0.609593</td>\n",
       "      <td>0.625023</td>\n",
       "    </tr>\n",
       "    <tr>\n",
       "      <th>medrxiv</th>\n",
       "      <td>0.435127</td>\n",
       "      <td>0.471955</td>\n",
       "      <td>0.526346</td>\n",
       "      <td>0.528045</td>\n",
       "      <td>0.46289</td>\n",
       "      <td>0.491218</td>\n",
       "      <td>0.390935</td>\n",
       "      <td>0.448725</td>\n",
       "      <td>0.47762</td>\n",
       "      <td>0.523513</td>\n",
       "      <td>0.567705</td>\n",
       "      <td>0.520113</td>\n",
       "      <td>0.487819</td>\n",
       "      <td>0.528612</td>\n",
       "    </tr>\n",
       "    <tr>\n",
       "      <th>reddit</th>\n",
       "      <td>0.626426</td>\n",
       "      <td>0.599456</td>\n",
       "      <td>0.552003</td>\n",
       "      <td>0.572769</td>\n",
       "      <td>0.583544</td>\n",
       "      <td>0.636308</td>\n",
       "      <td>0.43744</td>\n",
       "      <td>0.618198</td>\n",
       "      <td>0.577993</td>\n",
       "      <td>0.719634</td>\n",
       "      <td>0.749913</td>\n",
       "      <td>0.195538</td>\n",
       "      <td>0.470331</td>\n",
       "      <td>0.49458</td>\n",
       "    </tr>\n",
       "    <tr>\n",
       "      <th>stackexchange</th>\n",
       "      <td>0.392933</td>\n",
       "      <td>0.407467</td>\n",
       "      <td>0.414533</td>\n",
       "      <td>0.429333</td>\n",
       "      <td>0.436</td>\n",
       "      <td>0.452133</td>\n",
       "      <td>0.412267</td>\n",
       "      <td>0.454133</td>\n",
       "      <td>0.415733</td>\n",
       "      <td>0.456133</td>\n",
       "      <td>0.5056</td>\n",
       "      <td>0.475333</td>\n",
       "      <td>0.458667</td>\n",
       "      <td>0.456133</td>\n",
       "    </tr>\n",
       "    <tr>\n",
       "      <th>ICLR</th>\n",
       "      <td>0.374</td>\n",
       "      <td>0.457</td>\n",
       "      <td>0.568</td>\n",
       "      <td>0.57</td>\n",
       "      <td>0.548</td>\n",
       "      <td>0.573</td>\n",
       "      <td>0.471</td>\n",
       "      <td>0.571</td>\n",
       "      <td>0.468</td>\n",
       "      <td>0.589</td>\n",
       "      <td>0.633</td>\n",
       "      <td>0.6</td>\n",
       "      <td>0.606</td>\n",
       "      <td>0.624</td>\n",
       "    </tr>\n",
       "    <tr>\n",
       "      <th>arxiv_main</th>\n",
       "      <td>0.692124</td>\n",
       "      <td>0.710535</td>\n",
       "      <td>0.748502</td>\n",
       "      <td>0.75508</td>\n",
       "      <td>0.70775</td>\n",
       "      <td>0.718901</td>\n",
       "      <td>0.728618</td>\n",
       "      <td>0.752815</td>\n",
       "      <td>0.704257</td>\n",
       "      <td>0.748871</td>\n",
       "      <td>0.760198</td>\n",
       "      <td>0.744967</td>\n",
       "      <td>0.705594</td>\n",
       "      <td>0.717113</td>\n",
       "    </tr>\n",
       "    <tr>\n",
       "      <th>arxiv_secondary</th>\n",
       "      <td>0.377915</td>\n",
       "      <td>0.400188</td>\n",
       "      <td>0.4418</td>\n",
       "      <td>0.451749</td>\n",
       "      <td>0.399233</td>\n",
       "      <td>0.433748</td>\n",
       "      <td>0.446058</td>\n",
       "      <td>0.443233</td>\n",
       "      <td>0.399192</td>\n",
       "      <td>0.442318</td>\n",
       "      <td>0.461548</td>\n",
       "      <td>0.443943</td>\n",
       "      <td>0.39997</td>\n",
       "      <td>0.405224</td>\n",
       "    </tr>\n",
       "  </tbody>\n",
       "</table>\n",
       "</div>"
      ],
      "text/plain": [
       "                    MPNet    SimCSE   SPECTER    SciNCL    EmbddR  EmbddR10  \\\n",
       "biorxiv          0.586168  0.590444  0.648076  0.663692   0.59063  0.607362   \n",
       "medrxiv          0.435127  0.471955  0.526346  0.528045   0.46289  0.491218   \n",
       "reddit           0.626426  0.599456  0.552003  0.572769  0.583544  0.636308   \n",
       "stackexchange    0.392933  0.407467  0.414533  0.429333     0.436  0.452133   \n",
       "ICLR                0.374     0.457     0.568      0.57     0.548     0.573   \n",
       "arxiv_main       0.692124  0.710535  0.748502   0.75508   0.70775  0.718901   \n",
       "arxiv_secondary  0.377915  0.400188    0.4418  0.451749  0.399233  0.433748   \n",
       "\n",
       "                RandomBERT RandomBERT10   Dropout     Crops     SBERT  \\\n",
       "biorxiv           0.528351     0.605689  0.606804  0.617773  0.652352   \n",
       "medrxiv           0.390935     0.448725   0.47762  0.523513  0.567705   \n",
       "reddit             0.43744     0.618198  0.577993  0.719634  0.749913   \n",
       "stackexchange     0.412267     0.454133  0.415733  0.456133    0.5056   \n",
       "ICLR                 0.471        0.571     0.468     0.589     0.633   \n",
       "arxiv_main        0.728618     0.752815  0.704257  0.748871  0.760198   \n",
       "arxiv_secondary   0.446058     0.443233  0.399192  0.442318  0.461548   \n",
       "\n",
       "                   TF-IDF       SVD   L2(SVD)  \n",
       "biorxiv          0.606618  0.609593  0.625023  \n",
       "medrxiv          0.520113  0.487819  0.528612  \n",
       "reddit           0.195538  0.470331   0.49458  \n",
       "stackexchange    0.475333  0.458667  0.456133  \n",
       "ICLR                  0.6     0.606     0.624  \n",
       "arxiv_main       0.744967  0.705594  0.717113  \n",
       "arxiv_secondary  0.443943   0.39997  0.405224  "
      ]
     },
     "execution_count": null,
     "metadata": {},
     "output_type": "execute_result"
    }
   ],
   "source": [
    "results"
   ]
  },
  {
   "cell_type": "code",
   "execution_count": null,
   "metadata": {},
   "outputs": [
    {
     "data": {
      "text/html": [
       "<div>\n",
       "<style scoped>\n",
       "    .dataframe tbody tr th:only-of-type {\n",
       "        vertical-align: middle;\n",
       "    }\n",
       "\n",
       "    .dataframe tbody tr th {\n",
       "        vertical-align: top;\n",
       "    }\n",
       "\n",
       "    .dataframe thead th {\n",
       "        text-align: right;\n",
       "    }\n",
       "</style>\n",
       "<table border=\"1\" class=\"dataframe\">\n",
       "  <thead>\n",
       "    <tr style=\"text-align: right;\">\n",
       "      <th></th>\n",
       "      <th>MPNet</th>\n",
       "      <th>SimCSE</th>\n",
       "      <th>SPECTER</th>\n",
       "      <th>SciNCL</th>\n",
       "      <th>SBERT</th>\n",
       "      <th>Crops</th>\n",
       "      <th>Dropout</th>\n",
       "      <th>EmbddR10</th>\n",
       "      <th>RandomBERT10</th>\n",
       "    </tr>\n",
       "  </thead>\n",
       "  <tbody>\n",
       "    <tr>\n",
       "      <th>biorxiv</th>\n",
       "      <td>58.6</td>\n",
       "      <td>59.0</td>\n",
       "      <td>64.8</td>\n",
       "      <td>66.4</td>\n",
       "      <td>65.2</td>\n",
       "      <td>61.8</td>\n",
       "      <td>60.7</td>\n",
       "      <td>60.7</td>\n",
       "      <td>60.6</td>\n",
       "    </tr>\n",
       "    <tr>\n",
       "      <th>medrxiv</th>\n",
       "      <td>43.5</td>\n",
       "      <td>47.2</td>\n",
       "      <td>52.6</td>\n",
       "      <td>52.8</td>\n",
       "      <td>56.8</td>\n",
       "      <td>52.4</td>\n",
       "      <td>47.8</td>\n",
       "      <td>49.1</td>\n",
       "      <td>44.9</td>\n",
       "    </tr>\n",
       "    <tr>\n",
       "      <th>reddit</th>\n",
       "      <td>62.6</td>\n",
       "      <td>59.9</td>\n",
       "      <td>55.2</td>\n",
       "      <td>57.3</td>\n",
       "      <td>75.0</td>\n",
       "      <td>72.0</td>\n",
       "      <td>57.8</td>\n",
       "      <td>63.6</td>\n",
       "      <td>61.8</td>\n",
       "    </tr>\n",
       "    <tr>\n",
       "      <th>stackexchange</th>\n",
       "      <td>39.3</td>\n",
       "      <td>40.7</td>\n",
       "      <td>41.5</td>\n",
       "      <td>42.9</td>\n",
       "      <td>50.6</td>\n",
       "      <td>45.6</td>\n",
       "      <td>41.6</td>\n",
       "      <td>45.2</td>\n",
       "      <td>45.4</td>\n",
       "    </tr>\n",
       "    <tr>\n",
       "      <th>ICLR</th>\n",
       "      <td>37.4</td>\n",
       "      <td>45.7</td>\n",
       "      <td>56.8</td>\n",
       "      <td>57.0</td>\n",
       "      <td>63.3</td>\n",
       "      <td>58.9</td>\n",
       "      <td>46.8</td>\n",
       "      <td>57.3</td>\n",
       "      <td>57.1</td>\n",
       "    </tr>\n",
       "    <tr>\n",
       "      <th>arxiv_main</th>\n",
       "      <td>69.2</td>\n",
       "      <td>71.1</td>\n",
       "      <td>74.9</td>\n",
       "      <td>75.5</td>\n",
       "      <td>76.0</td>\n",
       "      <td>74.9</td>\n",
       "      <td>70.4</td>\n",
       "      <td>71.9</td>\n",
       "      <td>75.3</td>\n",
       "    </tr>\n",
       "    <tr>\n",
       "      <th>arxiv_secondary</th>\n",
       "      <td>37.8</td>\n",
       "      <td>40.0</td>\n",
       "      <td>44.2</td>\n",
       "      <td>45.2</td>\n",
       "      <td>46.2</td>\n",
       "      <td>44.2</td>\n",
       "      <td>39.9</td>\n",
       "      <td>43.4</td>\n",
       "      <td>44.3</td>\n",
       "    </tr>\n",
       "  </tbody>\n",
       "</table>\n",
       "</div>"
      ],
      "text/plain": [
       "                 MPNet  SimCSE  SPECTER  SciNCL  SBERT  Crops  Dropout  \\\n",
       "biorxiv           58.6    59.0     64.8    66.4   65.2   61.8     60.7   \n",
       "medrxiv           43.5    47.2     52.6    52.8   56.8   52.4     47.8   \n",
       "reddit            62.6    59.9     55.2    57.3   75.0   72.0     57.8   \n",
       "stackexchange     39.3    40.7     41.5    42.9   50.6   45.6     41.6   \n",
       "ICLR              37.4    45.7     56.8    57.0   63.3   58.9     46.8   \n",
       "arxiv_main        69.2    71.1     74.9    75.5   76.0   74.9     70.4   \n",
       "arxiv_secondary   37.8    40.0     44.2    45.2   46.2   44.2     39.9   \n",
       "\n",
       "                 EmbddR10  RandomBERT10  \n",
       "biorxiv              60.7          60.6  \n",
       "medrxiv              49.1          44.9  \n",
       "reddit               63.6          61.8  \n",
       "stackexchange        45.2          45.4  \n",
       "ICLR                 57.3          57.1  \n",
       "arxiv_main           71.9          75.3  \n",
       "arxiv_secondary      43.4          44.3  "
      ]
     },
     "execution_count": null,
     "metadata": {},
     "output_type": "execute_result"
    }
   ],
   "source": [
    "results = results.astype(float).round(3)\n",
    "\n",
    "results[\n",
    "    [\n",
    "        \"MPNet\",\n",
    "        \"SimCSE\",\n",
    "        \"SPECTER\",\n",
    "        \"SciNCL\",\n",
    "        \"SBERT\",\n",
    "        \"Crops\",\n",
    "        \"Dropout\",\n",
    "        \"EmbddR10\",\n",
    "        \"RandomBERT10\",\n",
    "    ]\n",
    "] * 100\n",
    "\n",
    "# print(\n",
    "#     results[\n",
    "#         [\n",
    "#             \"MPNet\",\n",
    "#             \"SimCSE\",\n",
    "#             \"SPECTER\",\n",
    "#             \"SciNCL\",\n",
    "#             \"SBERT\",\n",
    "#             \"Crops\",\n",
    "#             \"Dropout\",\n",
    "#             \"EmbddR10\",\n",
    "#             \"RandomBERT10\",\n",
    "#         ]\n",
    "#     ]\n",
    "#     * 100\n",
    "# )"
   ]
  },
  {
   "cell_type": "code",
   "execution_count": null,
   "metadata": {},
   "outputs": [
    {
     "data": {
      "text/plain": [
       "MPNet           49.8\n",
       "SimCSE          51.9\n",
       "SPECTER         55.7\n",
       "SciNCL          56.7\n",
       "SBERT           61.9\n",
       "Crops           58.5\n",
       "Dropout         52.1\n",
       "EmbddR10        55.9\n",
       "RandomBERT10    55.6\n",
       "dtype: float64"
      ]
     },
     "execution_count": null,
     "metadata": {},
     "output_type": "execute_result"
    }
   ],
   "source": [
    "results[\n",
    "    [\n",
    "        \"MPNet\",\n",
    "        \"SimCSE\",\n",
    "        \"SPECTER\",\n",
    "        \"SciNCL\",\n",
    "        \"SBERT\",\n",
    "        \"Crops\",\n",
    "        \"Dropout\",\n",
    "        \"EmbddR10\",\n",
    "        \"RandomBERT10\",\n",
    "    ]\n",
    "].mean(axis=0).round(3) * 100"
   ]
  },
  {
   "cell_type": "code",
   "execution_count": null,
   "metadata": {},
   "outputs": [],
   "source": [
    "49.8 & 51.9 & 55.7 & 56.7 & 61.9 & 58.5 & 52.1 & 55.9 & 55.6 "
   ]
  },
  {
   "cell_type": "code",
   "execution_count": null,
   "metadata": {},
   "outputs": [
    {
     "name": "stdout",
     "output_type": "stream",
     "text": [
      "biorxiv            -3.0\n",
      "medrxiv            -0.2\n",
      "reddit             16.8\n",
      "stackexchange       4.1\n",
      "ICLR                2.1\n",
      "arxiv_main          0.0\n",
      "arxiv_secondary     0.0\n",
      "dtype: float64\n",
      "biorxiv            -4.6\n",
      "medrxiv            -0.4\n",
      "reddit             14.7\n",
      "stackexchange       2.7\n",
      "ICLR                1.9\n",
      "arxiv_main         -0.6\n",
      "arxiv_secondary    -1.0\n",
      "dtype: float64\n",
      "2.8285714285714283\n",
      "1.8142857142857147\n"
     ]
    }
   ],
   "source": [
    "print((results.Crops - results.SPECTER) * 100)\n",
    "print((results.Crops - results.SciNCL) * 100)\n",
    "print(np.mean((results.Crops - results.SPECTER) * 100))\n",
    "print(np.mean((results.Crops - results.SciNCL) * 100))"
   ]
  },
  {
   "cell_type": "code",
   "execution_count": null,
   "metadata": {},
   "outputs": [
    {
     "name": "stdout",
     "output_type": "stream",
     "text": [
      "biorxiv            3.4\n",
      "medrxiv            4.4\n",
      "reddit             3.0\n",
      "stackexchange      5.0\n",
      "ICLR               4.4\n",
      "arxiv_main         1.1\n",
      "arxiv_secondary    2.0\n",
      "dtype: float64\n",
      "3.328571428571429\n"
     ]
    }
   ],
   "source": [
    "print((results.SBERT - results.Crops) * 100)\n",
    "print(np.mean((results.SBERT - results.Crops) * 100))"
   ]
  },
  {
   "cell_type": "code",
   "execution_count": null,
   "metadata": {},
   "outputs": [
    {
     "name": "stdout",
     "output_type": "stream",
     "text": [
      "biorxiv             1.2\n",
      "medrxiv             7.5\n",
      "reddit             10.2\n",
      "stackexchange       0.2\n",
      "ICLR                1.8\n",
      "arxiv_main         -0.4\n",
      "arxiv_secondary    -0.1\n",
      "dtype: float64\n",
      "2.914285714285714\n"
     ]
    }
   ],
   "source": [
    "print((results.Crops - results.RandomBERT10) * 100)\n",
    "print(np.mean((results.Crops - results.RandomBERT10) * 100))"
   ]
  },
  {
   "cell_type": "code",
   "execution_count": null,
   "metadata": {},
   "outputs": [
    {
     "name": "stdout",
     "output_type": "stream",
     "text": [
      "biorxiv            1.1\n",
      "medrxiv            3.3\n",
      "reddit             8.4\n",
      "stackexchange      0.4\n",
      "ICLR               1.6\n",
      "arxiv_main         3.0\n",
      "arxiv_secondary    0.8\n",
      "dtype: float64\n",
      "2.657142857142858\n"
     ]
    }
   ],
   "source": [
    "print((results.Crops - results.EmbddR10) * 100)\n",
    "print(np.mean((results.Crops - results.EmbddR10) * 100))"
   ]
  },
  {
   "cell_type": "code",
   "execution_count": null,
   "metadata": {},
   "outputs": [
    {
     "data": {
      "text/plain": [
       "-0.9400000000000001"
      ]
     },
     "execution_count": null,
     "metadata": {},
     "output_type": "execute_result"
    }
   ],
   "source": [
    "np.mean([-4.6, -0.4, 1.9, -0.6, -1.0])"
   ]
  },
  {
   "cell_type": "code",
   "execution_count": null,
   "metadata": {},
   "outputs": [
    {
     "data": {
      "text/plain": [
       "-0.22000000000000003"
      ]
     },
     "execution_count": null,
     "metadata": {},
     "output_type": "execute_result"
    }
   ],
   "source": [
    "np.mean([-3.0, -0.2, 2.1, 0.0, 0.0])"
   ]
  },
  {
   "cell_type": "code",
   "execution_count": null,
   "metadata": {},
   "outputs": [],
   "source": [
    "# LATEX TABLE\n",
    "                 & MPNet &  SimCSE &  SPECTER &  SciNCL &  SBERT &  Crops &  Dropout &  EmbddR10 &  RandomBERT10 \\\\\n",
    "\\midrule  \n",
    "ICLR              & 37.4\\% &  45.7\\% &  56.8\\% &  57.0\\% &  63.3\\% &  58.9\\%  &  46.8\\% &  57.3\\%  &  57.1\\% \\\\   \n",
    "arxiv_secondary   & 37.8\\% &  40.0\\% &  44.2\\% &  45.2\\% &  46.2\\% &  44.2\\%  &  39.9\\% &  43.4\\%  &  44.3\\% \\\\  \n",
    "biorxiv           & 58.6\\% &  59.0\\% &  64.8\\% &  66.4\\% &  65.2\\% &  61.8\\%  &  60.7\\% &  60.7\\%  &  60.6\\% \\\\  \n",
    "medrxiv           & 43.5\\% &  47.2\\% &  52.6\\% &  52.8\\% &  56.8\\% &  52.4\\%  &  47.8\\% &  49.1\\%  &  44.9\\% \\\\  \n",
    "reddit            & 62.6\\% &  59.9\\% &  55.2\\% &  57.3\\% &  75.0\\% &  72.0\\%  &  57.8\\% &  63.6\\%  &  61.8\\% \\\\  \n",
    "stackexchange     & 39.3\\% &  40.7\\% &  41.5\\% &  42.9\\% &  50.6\\% &  45.6\\%  &  41.6\\% &  45.2\\%  &  45.4\\% \\\\  \n"
   ]
  },
  {
   "cell_type": "code",
   "execution_count": null,
   "metadata": {},
   "outputs": [],
   "source": [
    "# improvement_results = results.copy(deep=True)\n",
    "improvement_results = results[\n",
    "    [\n",
    "        \"MPNet\",\n",
    "        \"SimCSE\",\n",
    "        \"SPECTER\",\n",
    "        \"SciNCL\",\n",
    "        \"SBERT\",\n",
    "        \"Crops\",\n",
    "        \"Dropout\",\n",
    "        \"EmbddR10\",\n",
    "        \"RandomBERT10\",\n",
    "    ]\n",
    "].copy(deep=True)"
   ]
  },
  {
   "cell_type": "code",
   "execution_count": null,
   "metadata": {},
   "outputs": [],
   "source": [
    "def normalize_intervals(col):\n",
    "    norm_col = col - results.MPNet  # / (results.SBERT - results.MPNet) * 100\n",
    "    return norm_col"
   ]
  },
  {
   "cell_type": "code",
   "execution_count": null,
   "metadata": {},
   "outputs": [
    {
     "data": {
      "text/html": [
       "<div>\n",
       "<style scoped>\n",
       "    .dataframe tbody tr th:only-of-type {\n",
       "        vertical-align: middle;\n",
       "    }\n",
       "\n",
       "    .dataframe tbody tr th {\n",
       "        vertical-align: top;\n",
       "    }\n",
       "\n",
       "    .dataframe thead th {\n",
       "        text-align: right;\n",
       "    }\n",
       "</style>\n",
       "<table border=\"1\" class=\"dataframe\">\n",
       "  <thead>\n",
       "    <tr style=\"text-align: right;\">\n",
       "      <th></th>\n",
       "      <th>MPNet</th>\n",
       "      <th>SimCSE</th>\n",
       "      <th>SPECTER</th>\n",
       "      <th>SciNCL</th>\n",
       "      <th>SBERT</th>\n",
       "      <th>Crops</th>\n",
       "      <th>Dropout</th>\n",
       "      <th>EmbddR10</th>\n",
       "      <th>RandomBERT10</th>\n",
       "    </tr>\n",
       "  </thead>\n",
       "  <tbody>\n",
       "    <tr>\n",
       "      <th>biorxiv</th>\n",
       "      <td>0.0</td>\n",
       "      <td>0.4</td>\n",
       "      <td>6.2</td>\n",
       "      <td>7.8</td>\n",
       "      <td>6.6</td>\n",
       "      <td>3.2</td>\n",
       "      <td>2.1</td>\n",
       "      <td>2.1</td>\n",
       "      <td>2.0</td>\n",
       "    </tr>\n",
       "    <tr>\n",
       "      <th>medrxiv</th>\n",
       "      <td>0.0</td>\n",
       "      <td>3.7</td>\n",
       "      <td>9.1</td>\n",
       "      <td>9.3</td>\n",
       "      <td>13.3</td>\n",
       "      <td>8.9</td>\n",
       "      <td>4.3</td>\n",
       "      <td>5.6</td>\n",
       "      <td>1.4</td>\n",
       "    </tr>\n",
       "    <tr>\n",
       "      <th>reddit</th>\n",
       "      <td>0.0</td>\n",
       "      <td>-2.7</td>\n",
       "      <td>-7.4</td>\n",
       "      <td>-5.3</td>\n",
       "      <td>12.4</td>\n",
       "      <td>9.4</td>\n",
       "      <td>-4.8</td>\n",
       "      <td>1.0</td>\n",
       "      <td>-0.8</td>\n",
       "    </tr>\n",
       "    <tr>\n",
       "      <th>stackexchange</th>\n",
       "      <td>0.0</td>\n",
       "      <td>1.4</td>\n",
       "      <td>2.2</td>\n",
       "      <td>3.6</td>\n",
       "      <td>11.3</td>\n",
       "      <td>6.3</td>\n",
       "      <td>2.3</td>\n",
       "      <td>5.9</td>\n",
       "      <td>6.1</td>\n",
       "    </tr>\n",
       "    <tr>\n",
       "      <th>ICLR</th>\n",
       "      <td>0.0</td>\n",
       "      <td>8.3</td>\n",
       "      <td>19.4</td>\n",
       "      <td>19.6</td>\n",
       "      <td>25.9</td>\n",
       "      <td>21.5</td>\n",
       "      <td>9.4</td>\n",
       "      <td>19.9</td>\n",
       "      <td>19.7</td>\n",
       "    </tr>\n",
       "    <tr>\n",
       "      <th>arxiv_main</th>\n",
       "      <td>0.0</td>\n",
       "      <td>1.9</td>\n",
       "      <td>5.7</td>\n",
       "      <td>6.3</td>\n",
       "      <td>6.8</td>\n",
       "      <td>5.7</td>\n",
       "      <td>1.2</td>\n",
       "      <td>2.7</td>\n",
       "      <td>6.1</td>\n",
       "    </tr>\n",
       "    <tr>\n",
       "      <th>arxiv_secondary</th>\n",
       "      <td>0.0</td>\n",
       "      <td>2.2</td>\n",
       "      <td>6.4</td>\n",
       "      <td>7.4</td>\n",
       "      <td>8.4</td>\n",
       "      <td>6.4</td>\n",
       "      <td>2.1</td>\n",
       "      <td>5.6</td>\n",
       "      <td>6.5</td>\n",
       "    </tr>\n",
       "  </tbody>\n",
       "</table>\n",
       "</div>"
      ],
      "text/plain": [
       "                 MPNet  SimCSE  SPECTER  SciNCL  SBERT  Crops  Dropout  \\\n",
       "biorxiv            0.0     0.4      6.2     7.8    6.6    3.2      2.1   \n",
       "medrxiv            0.0     3.7      9.1     9.3   13.3    8.9      4.3   \n",
       "reddit             0.0    -2.7     -7.4    -5.3   12.4    9.4     -4.8   \n",
       "stackexchange      0.0     1.4      2.2     3.6   11.3    6.3      2.3   \n",
       "ICLR               0.0     8.3     19.4    19.6   25.9   21.5      9.4   \n",
       "arxiv_main         0.0     1.9      5.7     6.3    6.8    5.7      1.2   \n",
       "arxiv_secondary    0.0     2.2      6.4     7.4    8.4    6.4      2.1   \n",
       "\n",
       "                 EmbddR10  RandomBERT10  \n",
       "biorxiv               2.1           2.0  \n",
       "medrxiv               5.6           1.4  \n",
       "reddit                1.0          -0.8  \n",
       "stackexchange         5.9           6.1  \n",
       "ICLR                 19.9          19.7  \n",
       "arxiv_main            2.7           6.1  \n",
       "arxiv_secondary       5.6           6.5  "
      ]
     },
     "execution_count": null,
     "metadata": {},
     "output_type": "execute_result"
    }
   ],
   "source": [
    "improvement_results = improvement_results.apply(normalize_intervals, axis=0)\n",
    "improvement_results = improvement_results.astype(float).round(3)\n",
    "improvement_results * 100"
   ]
  },
  {
   "cell_type": "code",
   "execution_count": null,
   "metadata": {},
   "outputs": [
    {
     "name": "stdout",
     "output_type": "stream",
     "text": [
      "2.3714285714285714\n",
      "3.892745738903981\n"
     ]
    }
   ],
   "source": [
    "print(np.mean(improvement_results.Dropout * 100))\n",
    "print(np.std(improvement_results.Dropout * 100))"
   ]
  },
  {
   "cell_type": "code",
   "execution_count": null,
   "metadata": {},
   "outputs": [
    {
     "name": "stdout",
     "output_type": "stream",
     "text": [
      "8.77142857142857\n",
      "5.537331560989149\n"
     ]
    }
   ],
   "source": [
    "print(np.mean(improvement_results.Crops * 100))\n",
    "print(np.std(improvement_results.Crops * 100))"
   ]
  },
  {
   "cell_type": "code",
   "execution_count": null,
   "metadata": {},
   "outputs": [
    {
     "name": "stdout",
     "output_type": "stream",
     "text": [
      "                 MPNet  SimCSE  SPECTER  SciNCL  EmbddR  EmbddR10  RandomBERT  \\\n",
      "biorxiv           58.6    59.0     64.8    66.4    59.1      60.7        50.7   \n",
      "medrxiv           43.5    47.2     52.6    52.8    46.3      49.1        38.8   \n",
      "reddit            62.6    59.9     55.2    57.3    58.4      63.6        43.7   \n",
      "stackexchange     39.3    40.7     41.5    42.9    43.6      45.2        40.9   \n",
      "ICLR              37.4    45.7     56.8    57.0    54.8      57.3        47.1   \n",
      "arxiv_main        69.2    71.1     74.9    75.5    70.8      71.9        72.9   \n",
      "arxiv_secondary   37.8    40.0     44.2    45.2    39.9      43.4        44.6   \n",
      "\n",
      "                 Dropout  Crops  SBERT  TF-IDF   SVD  L2(SVD)  \n",
      "biorxiv             60.7   61.8   65.2    60.7  61.0     62.5  \n",
      "medrxiv             47.8   52.4   56.8    52.0  48.8     52.9  \n",
      "reddit              57.8   72.0   75.0    19.6  47.0     49.5  \n",
      "stackexchange       41.6   45.6   50.6    47.5  45.9     45.6  \n",
      "ICLR                46.8   58.9   63.3    60.0  60.6     62.4  \n",
      "arxiv_main          70.4   74.9   76.0    74.5  70.6     71.7  \n",
      "arxiv_secondary     39.9   44.2   46.2    44.4  40.0     40.5  \n"
     ]
    }
   ],
   "source": [
    "print(results * 100)"
   ]
  },
  {
   "cell_type": "code",
   "execution_count": null,
   "metadata": {},
   "outputs": [],
   "source": [
    "Dataset          &  MPNet &  SimCSE &  SPECTER &  SciNCL &  EmbddR &  EmbddR10 &  RandomBERT &  Dropout &  Crops &  SBERT &  L2(SVD) \\\\\n",
    "\\midrule \n",
    "ICLR            &  37.4\\%  &  45.7\\%  &   56.8\\%  &  57.0\\%  &  54.8\\%  &   57.3\\%   &   47.1\\%  &   46.8\\%  &   58.9\\%  &  63.3\\%  &  62.4\\%  \\\\\n",
    "arxiv           &  37.8\\%  &  40.0\\%  &   44.2\\%  &  45.2\\%  &  39.9\\%  &   43.4\\%   &   44.6\\%  &   39.9\\%  &   44.2\\%  &  46.2\\%  &  40.5\\%  \\\\  \n",
    "biorxiv         &  58.6\\%  &  59.0\\%  &   64.8\\%  &  66.4\\%  &  59.1\\%  &   60.7\\%   &   50.7\\%  &   60.7\\%  &   61.8\\%  &  65.2\\%  &  62.5\\%  \\\\   \n",
    "medrxiv         &  43.5\\%  &  47.2\\%  &   52.6\\%  &  52.8\\%  &  46.3\\%  &   49.1\\%   &   38.8\\%  &   47.8\\%  &   52.4\\%  &  56.8\\%  &  52.9\\%  \\\\   \n",
    "reddit          &  62.6\\%  &  59.9\\%  &   55.2\\%  &  57.3\\%  &  58.4\\%  &   63.6\\%   &   43.7\\%  &   57.8\\%  &   72.0\\%  &  75.0\\%  &  49.5\\%  \\\\   \n",
    "stackexchange   &  39.3\\%  &  40.7\\%  &   41.5\\%  &  42.9\\%  &  43.6\\%  &   45.2\\%   &   40.9\\%  &   41.6\\%  &   45.6\\%  &  50.6\\%  &  45.6\\%  \\\\   \n",
    "      \n",
    " \n",
    "\n"
   ]
  },
  {
   "cell_type": "code",
   "execution_count": null,
   "metadata": {},
   "outputs": [
    {
     "name": "stdout",
     "output_type": "stream",
     "text": [
      "                 MPNet  SimCSE  SPECTER  SciNCL  EmbddR  EmbddR10  RandomBERT  \\\n",
      "biorxiv            0.0     0.4      6.2     7.8     0.5       2.1        -7.9   \n",
      "medrxiv            0.0     3.7      9.1     9.3     2.8       5.6        -4.7   \n",
      "reddit             0.0    -2.7     -7.4    -5.3    -4.2       1.0       -18.9   \n",
      "stackexchange      0.0     1.4      2.2     3.6     4.3       5.9         1.6   \n",
      "ICLR               0.0     8.3     19.4    19.6    17.4      19.9         9.7   \n",
      "arxiv_main         0.0     1.9      5.7     6.3     1.6       2.7         3.7   \n",
      "arxiv_secondary    0.0     2.2      6.4     7.4     2.1       5.6         6.8   \n",
      "\n",
      "                 Dropout  Crops  SBERT  TF-IDF   SVD  L2(SVD)  \n",
      "biorxiv              2.1    3.2    6.6     2.1   2.4      3.9  \n",
      "medrxiv              4.3    8.9   13.3     8.5   5.3      9.4  \n",
      "reddit              -4.8    9.4   12.4   -43.0 -15.6    -13.1  \n",
      "stackexchange        2.3    6.3   11.3     8.2   6.6      6.3  \n",
      "ICLR                 9.4   21.5   25.9    22.6  23.2     25.0  \n",
      "arxiv_main           1.2    5.7    6.8     5.3   1.4      2.5  \n",
      "arxiv_secondary      2.1    6.4    8.4     6.6   2.2      2.7  \n"
     ]
    }
   ],
   "source": [
    "print(improvement_results * 100)"
   ]
  },
  {
   "cell_type": "code",
   "execution_count": null,
   "metadata": {},
   "outputs": [
    {
     "name": "stdout",
     "output_type": "stream",
     "text": [
      "1216\n"
     ]
    }
   ],
   "source": [
    "abstract_paper = \"In NLP, sentence embeddings are crucial for many tasks such as information retrieval, classification, clustering, or visualizing collections of texts. Currently, top-performing sentence embeddings are derived from transformer models fine-tuned through extensive supervised training on large datasets, unlike computer vision where self-supervised training has demonstrated remarkable success. In this work we show that self-supervision suffices to produce high-quality sentence embeddings, with a quality slightly below those from supervised models, but with small qualitative differences on downstream tasks. We compare different augmentation strategies for positive pair generation and show that the embeddings quality is significantly higher when using crops than when using dropout-based augmentations, contrary to previously believed. We go beyond and investigate the minimal architecture needed to achieve a decent sentence representation, and show comparable results when fine-tuning only a random embedding layer, without any attention mechanisms or pretraining information. We also study the mechanics of the training process, observing qualitative differences to self-supervised learning in computer vision.\"\n",
    "print(len(abstract_paper))"
   ]
  },
  {
   "cell_type": "markdown",
   "metadata": {},
   "source": [
    "## Rebuttal"
   ]
  },
  {
   "cell_type": "code",
   "execution_count": null,
   "metadata": {},
   "outputs": [],
   "source": [
    "datasets_names = [\"biorxiv\", \"medrxiv\", \"reddit\", \"stackexchange\"]"
   ]
  },
  {
   "cell_type": "code",
   "execution_count": null,
   "metadata": {},
   "outputs": [
    {
     "name": "stdout",
     "output_type": "stream",
     "text": [
      "biorxiv , \n",
      "medrxiv , \n",
      "reddit , \n",
      "stackexchange , \n"
     ]
    }
   ],
   "source": [
    "for elem in datasets_names:\n",
    "    print(elem, \", \")"
   ]
  },
  {
   "cell_type": "code",
   "execution_count": null,
   "metadata": {},
   "outputs": [],
   "source": [
    "model_names = [\n",
    "    \"MPNet\",\n",
    "    # \"SimCSE\",\n",
    "    \"SBERT\",\n",
    "    # \"SPECTER\",\n",
    "    # \"SciNCL\",\n",
    "]\n",
    "\n",
    "# model_paths = [\n",
    "#     \"microsoft/mpnet-base\",\n",
    "#     \"princeton-nlp/unsup-simcse-bert-base-uncased\",\n",
    "#     \"sentence-transformers/all-mpnet-base-v2\",\n",
    "# ]"
   ]
  },
  {
   "cell_type": "code",
   "execution_count": null,
   "metadata": {},
   "outputs": [
    {
     "name": "stderr",
     "output_type": "stream",
     "text": [
      "/tmp/ipykernel_6234/3330906818.py:28: FutureWarning: ChainedAssignmentError: behaviour will change in pandas 3.0!\n",
      "You are setting values through chained assignment. Currently this works in certain cases, but when using Copy-on-Write (which will become the default behaviour in pandas 3.0) this will never work to update the original DataFrame or Series, because the intermediate object on which we are setting values will behave as a copy.\n",
      "A typical example is when you are setting values in a column of a DataFrame, like:\n",
      "\n",
      "df[\"col\"][row_indexer] = value\n",
      "\n",
      "Use `df.loc[row_indexer, \"col\"] = values` instead, to perform the assignment in a single step and ensure this keeps updating the original `df`.\n",
      "\n",
      "See the caveats in the documentation: https://pandas.pydata.org/pandas-docs/stable/user_guide/indexing.html#returning-a-view-versus-a-copy\n",
      "\n",
      "  results[model_name].loc[dataset_name] = np.load(\n",
      "/tmp/ipykernel_6234/3330906818.py:36: FutureWarning: ChainedAssignmentError: behaviour will change in pandas 3.0!\n",
      "You are setting values through chained assignment. Currently this works in certain cases, but when using Copy-on-Write (which will become the default behaviour in pandas 3.0) this will never work to update the original DataFrame or Series, because the intermediate object on which we are setting values will behave as a copy.\n",
      "A typical example is when you are setting values in a column of a DataFrame, like:\n",
      "\n",
      "df[\"col\"][row_indexer] = value\n",
      "\n",
      "Use `df.loc[row_indexer, \"col\"] = values` instead, to perform the assignment in a single step and ensure this keeps updating the original `df`.\n",
      "\n",
      "See the caveats in the documentation: https://pandas.pydata.org/pandas-docs/stable/user_guide/indexing.html#returning-a-view-versus-a-copy\n",
      "\n",
      "  results[\"Crops\"].loc[dataset_name] = np.load(\n",
      "/tmp/ipykernel_6234/3330906818.py:41: FutureWarning: ChainedAssignmentError: behaviour will change in pandas 3.0!\n",
      "You are setting values through chained assignment. Currently this works in certain cases, but when using Copy-on-Write (which will become the default behaviour in pandas 3.0) this will never work to update the original DataFrame or Series, because the intermediate object on which we are setting values will behave as a copy.\n",
      "A typical example is when you are setting values in a column of a DataFrame, like:\n",
      "\n",
      "df[\"col\"][row_indexer] = value\n",
      "\n",
      "Use `df.loc[row_indexer, \"col\"] = values` instead, to perform the assignment in a single step and ensure this keeps updating the original `df`.\n",
      "\n",
      "See the caveats in the documentation: https://pandas.pydata.org/pandas-docs/stable/user_guide/indexing.html#returning-a-view-versus-a-copy\n",
      "\n",
      "  results[\"Dropout\"].loc[dataset_name] = np.load(\n",
      "/tmp/ipykernel_6234/3330906818.py:49: FutureWarning: ChainedAssignmentError: behaviour will change in pandas 3.0!\n",
      "You are setting values through chained assignment. Currently this works in certain cases, but when using Copy-on-Write (which will become the default behaviour in pandas 3.0) this will never work to update the original DataFrame or Series, because the intermediate object on which we are setting values will behave as a copy.\n",
      "A typical example is when you are setting values in a column of a DataFrame, like:\n",
      "\n",
      "df[\"col\"][row_indexer] = value\n",
      "\n",
      "Use `df.loc[row_indexer, \"col\"] = values` instead, to perform the assignment in a single step and ensure this keeps updating the original `df`.\n",
      "\n",
      "See the caveats in the documentation: https://pandas.pydata.org/pandas-docs/stable/user_guide/indexing.html#returning-a-view-versus-a-copy\n",
      "\n",
      "  results[\"Crops (train)\"].loc[dataset_name] = np.load(\n",
      "/tmp/ipykernel_6234/3330906818.py:58: FutureWarning: ChainedAssignmentError: behaviour will change in pandas 3.0!\n",
      "You are setting values through chained assignment. Currently this works in certain cases, but when using Copy-on-Write (which will become the default behaviour in pandas 3.0) this will never work to update the original DataFrame or Series, because the intermediate object on which we are setting values will behave as a copy.\n",
      "A typical example is when you are setting values in a column of a DataFrame, like:\n",
      "\n",
      "df[\"col\"][row_indexer] = value\n",
      "\n",
      "Use `df.loc[row_indexer, \"col\"] = values` instead, to perform the assignment in a single step and ensure this keeps updating the original `df`.\n",
      "\n",
      "See the caveats in the documentation: https://pandas.pydata.org/pandas-docs/stable/user_guide/indexing.html#returning-a-view-versus-a-copy\n",
      "\n",
      "  results[\"Dropout (train)\"].loc[dataset_name] = np.load(\n",
      "/tmp/ipykernel_6234/3330906818.py:70: FutureWarning: ChainedAssignmentError: behaviour will change in pandas 3.0!\n",
      "You are setting values through chained assignment. Currently this works in certain cases, but when using Copy-on-Write (which will become the default behaviour in pandas 3.0) this will never work to update the original DataFrame or Series, because the intermediate object on which we are setting values will behave as a copy.\n",
      "A typical example is when you are setting values in a column of a DataFrame, like:\n",
      "\n",
      "df[\"col\"][row_indexer] = value\n",
      "\n",
      "Use `df.loc[row_indexer, \"col\"] = values` instead, to perform the assignment in a single step and ensure this keeps updating the original `df`.\n",
      "\n",
      "See the caveats in the documentation: https://pandas.pydata.org/pandas-docs/stable/user_guide/indexing.html#returning-a-view-versus-a-copy\n",
      "\n",
      "  results[\"EmbddR10 (train)\"].loc[dataset_name] = np.load(\n",
      "/tmp/ipykernel_6234/3330906818.py:77: FutureWarning: ChainedAssignmentError: behaviour will change in pandas 3.0!\n",
      "You are setting values through chained assignment. Currently this works in certain cases, but when using Copy-on-Write (which will become the default behaviour in pandas 3.0) this will never work to update the original DataFrame or Series, because the intermediate object on which we are setting values will behave as a copy.\n",
      "A typical example is when you are setting values in a column of a DataFrame, like:\n",
      "\n",
      "df[\"col\"][row_indexer] = value\n",
      "\n",
      "Use `df.loc[row_indexer, \"col\"] = values` instead, to perform the assignment in a single step and ensure this keeps updating the original `df`.\n",
      "\n",
      "See the caveats in the documentation: https://pandas.pydata.org/pandas-docs/stable/user_guide/indexing.html#returning-a-view-versus-a-copy\n",
      "\n",
      "  results[\"EmbddR10\"].loc[dataset_name] = np.load(\n",
      "/tmp/ipykernel_6234/3330906818.py:85: FutureWarning: ChainedAssignmentError: behaviour will change in pandas 3.0!\n",
      "You are setting values through chained assignment. Currently this works in certain cases, but when using Copy-on-Write (which will become the default behaviour in pandas 3.0) this will never work to update the original DataFrame or Series, because the intermediate object on which we are setting values will behave as a copy.\n",
      "A typical example is when you are setting values in a column of a DataFrame, like:\n",
      "\n",
      "df[\"col\"][row_indexer] = value\n",
      "\n",
      "Use `df.loc[row_indexer, \"col\"] = values` instead, to perform the assignment in a single step and ensure this keeps updating the original `df`.\n",
      "\n",
      "See the caveats in the documentation: https://pandas.pydata.org/pandas-docs/stable/user_guide/indexing.html#returning-a-view-versus-a-copy\n",
      "\n",
      "  results[\"RandomBERT10 (train)\"].loc[dataset_name] = np.load(\n",
      "/tmp/ipykernel_6234/3330906818.py:92: FutureWarning: ChainedAssignmentError: behaviour will change in pandas 3.0!\n",
      "You are setting values through chained assignment. Currently this works in certain cases, but when using Copy-on-Write (which will become the default behaviour in pandas 3.0) this will never work to update the original DataFrame or Series, because the intermediate object on which we are setting values will behave as a copy.\n",
      "A typical example is when you are setting values in a column of a DataFrame, like:\n",
      "\n",
      "df[\"col\"][row_indexer] = value\n",
      "\n",
      "Use `df.loc[row_indexer, \"col\"] = values` instead, to perform the assignment in a single step and ensure this keeps updating the original `df`.\n",
      "\n",
      "See the caveats in the documentation: https://pandas.pydata.org/pandas-docs/stable/user_guide/indexing.html#returning-a-view-versus-a-copy\n",
      "\n",
      "  results[\"RandomBERT10\"].loc[dataset_name] = np.load(\n"
     ]
    }
   ],
   "source": [
    "# load\n",
    "from json import load\n",
    "\n",
    "\n",
    "results = pd.DataFrame(\n",
    "    # columns=[\"MPNet\", \"Crops\", \"Dropout\", \"SimCSE\", \"SBERT\"],\n",
    "    columns=[\n",
    "        \"MPNet\",\n",
    "        \"SBERT\",\n",
    "        \"Dropout\",\n",
    "        \"Dropout (train)\",\n",
    "        \"Crops\",\n",
    "        \"Crops (train)\",\n",
    "        \"EmbddR10\",\n",
    "        \"EmbddR10 (train)\",\n",
    "        \"RandomBERT10\",\n",
    "        \"RandomBERT10 (train)\",\n",
    "    ],\n",
    "    index=datasets_names,\n",
    ")\n",
    "for dataset_name in datasets_names:\n",
    "    # baseline\n",
    "    for model_name in model_names:\n",
    "        saving_path = Path(\"embeddings_\" + model_name.lower()) / Path(\n",
    "            f\"updated_dataset/mteb_datasets/{dataset_name}\"\n",
    "        )\n",
    "\n",
    "        results[model_name].loc[dataset_name] = np.load(\n",
    "            variables_path / saving_path / \"knn_accuracies_baseline.npy\",\n",
    "        )[0]\n",
    "\n",
    "    # fine tuned models\n",
    "    saving_path = Path(\"embeddings_mpnet\") / Path(\n",
    "        f\"updated_dataset/mteb_datasets/{dataset_name}\"\n",
    "    )\n",
    "    results[\"Crops\"].loc[dataset_name] = np.load(\n",
    "        variables_path / saving_path / \"knn_accuracies_run1.npy\",\n",
    "    )[0][0]\n",
    "\n",
    "    # dropout\n",
    "    results[\"Dropout\"].loc[dataset_name] = np.load(\n",
    "        variables_path / saving_path / \"knn_accuracies_run2.npy\",\n",
    "    )[0][0]\n",
    "\n",
    "    # fine tuned models ONLY on train set\n",
    "    saving_path = Path(\"embeddings_mpnet\") / Path(\n",
    "        f\"updated_dataset/mteb_datasets/{dataset_name}\"\n",
    "    )\n",
    "    results[\"Crops (train)\"].loc[dataset_name] = np.load(\n",
    "        variables_path\n",
    "        / saving_path\n",
    "        / \"knn_accuracies_run1_train_test_split.npy\",\n",
    "    )[\n",
    "        0\n",
    "    ]  # [0]\n",
    "\n",
    "    # dropout\n",
    "    results[\"Dropout (train)\"].loc[dataset_name] = np.load(\n",
    "        variables_path\n",
    "        / saving_path\n",
    "        / \"knn_accuracies_run2_train_test_split.npy\",\n",
    "    )[\n",
    "        0\n",
    "    ]  # [0]\n",
    "\n",
    "    # embedding layer\n",
    "    saving_path = Path(\"embeddings_random_bert\") / Path(\n",
    "        f\"updated_dataset/embedding_layer_experiment/mteb_datasets/{dataset_name}\"\n",
    "    )\n",
    "    results[\"EmbddR10 (train)\"].loc[dataset_name] = np.load(\n",
    "        variables_path\n",
    "        / saving_path\n",
    "        / \"knn_accuracies_run3_10_epochs_train_test_split.npy\",\n",
    "    )[\n",
    "        -1\n",
    "    ]  # [0]\n",
    "    results[\"EmbddR10\"].loc[dataset_name] = np.load(\n",
    "        variables_path / saving_path / \"knn_accuracies_run3_10_epochs.npy\",\n",
    "    )[-1][0]\n",
    "\n",
    "    # random BERT\n",
    "    saving_path = Path(\"embeddings_random_bert\") / Path(\n",
    "        f\"updated_dataset/mteb_datasets/{dataset_name}\"\n",
    "    )\n",
    "    results[\"RandomBERT10 (train)\"].loc[dataset_name] = np.load(\n",
    "        variables_path\n",
    "        / saving_path\n",
    "        / \"knn_accuracies_run5_train_test_split.npy\",\n",
    "    )[\n",
    "        -1\n",
    "    ]  # [0]\n",
    "    results[\"RandomBERT10\"].loc[dataset_name] = np.load(\n",
    "        variables_path / saving_path / \"knn_accuracies_run5.npy\",\n",
    "    )[-1][0]"
   ]
  },
  {
   "cell_type": "code",
   "execution_count": null,
   "metadata": {},
   "outputs": [
    {
     "name": "stdout",
     "output_type": "stream",
     "text": [
      "[0.49467275]\n"
     ]
    }
   ],
   "source": [
    "# save\n",
    "saving_path = Path(\"embeddings_random_bert\") / Path(\n",
    "    f\"updated_dataset/embedding_layer_experiment\"\n",
    ")\n",
    "(variables_path / saving_path).mkdir(exist_ok=True, parents=True)\n",
    "\n",
    "print(\n",
    "    np.load(\n",
    "        variables_path\n",
    "        / saving_path\n",
    "        / \"knn_accuracies_run3_10_epochs_train_test_split.npy\",\n",
    "    )\n",
    ")"
   ]
  },
  {
   "cell_type": "code",
   "execution_count": null,
   "metadata": {},
   "outputs": [
    {
     "name": "stdout",
     "output_type": "stream",
     "text": [
      "0.5205479452054794\n"
     ]
    }
   ],
   "source": [
    "# save\n",
    "model_name = \"random_bert\"\n",
    "saving_path = Path(\"embeddings_\" + model_name.lower()) / Path(\n",
    "    \"updated_dataset\"\n",
    ")\n",
    "(variables_path / saving_path).mkdir(parents=True, exist_ok=True)\n",
    "\n",
    "print(\n",
    "    np.load(\n",
    "        variables_path\n",
    "        / saving_path\n",
    "        / \"knn_accuracies_run1_train_test_split.npy\",\n",
    "    )[-1]\n",
    ")"
   ]
  },
  {
   "cell_type": "code",
   "execution_count": null,
   "metadata": {},
   "outputs": [
    {
     "name": "stderr",
     "output_type": "stream",
     "text": [
      "/tmp/ipykernel_6234/2079037896.py:22: FutureWarning: ChainedAssignmentError: behaviour will change in pandas 3.0!\n",
      "You are setting values through chained assignment. Currently this works in certain cases, but when using Copy-on-Write (which will become the default behaviour in pandas 3.0) this will never work to update the original DataFrame or Series, because the intermediate object on which we are setting values will behave as a copy.\n",
      "A typical example is when you are setting values in a column of a DataFrame, like:\n",
      "\n",
      "df[\"col\"][row_indexer] = value\n",
      "\n",
      "Use `df.loc[row_indexer, \"col\"] = values` instead, to perform the assignment in a single step and ensure this keeps updating the original `df`.\n",
      "\n",
      "See the caveats in the documentation: https://pandas.pydata.org/pandas-docs/stable/user_guide/indexing.html#returning-a-view-versus-a-copy\n",
      "\n",
      "  results.loc[\"ICLR\"][key] = value\n"
     ]
    }
   ],
   "source": [
    "results.loc[\"ICLR\"] = np.zeros(len(results.iloc[0]))\n",
    "results_iclr = {\n",
    "    \"MPNet\": 0.374,\n",
    "    # \"SimCSE\": 0.457,\n",
    "    # \"SciNCL\": 0.570,\n",
    "    # \"SPECTER\": 0.568,\n",
    "    \"EmbddR10 (train)\": 0.495,\n",
    "    \"EmbddR10\": 0.573,\n",
    "    \"RandomBERT10 (train)\": 0.521,\n",
    "    \"RandomBERT10\": 0.571,\n",
    "    \"Dropout\": 0.468,\n",
    "    \"Crops\": 0.589,\n",
    "    \"Dropout (train)\": 0.467,\n",
    "    \"Crops (train)\": 0.568,\n",
    "    \"SBERT\": 0.633,\n",
    "    # \"TF-IDF\": 0.600,\n",
    "    # \"SVD\": 0.606,\n",
    "    # \"L2(SVD)\": 0.624,\n",
    "}\n",
    "\n",
    "for key, value in results_iclr.items():\n",
    "    results.loc[\"ICLR\"][key] = value"
   ]
  },
  {
   "cell_type": "code",
   "execution_count": null,
   "metadata": {},
   "outputs": [
    {
     "name": "stderr",
     "output_type": "stream",
     "text": [
      "/tmp/ipykernel_6234/1002836822.py:11: FutureWarning: ChainedAssignmentError: behaviour will change in pandas 3.0!\n",
      "You are setting values through chained assignment. Currently this works in certain cases, but when using Copy-on-Write (which will become the default behaviour in pandas 3.0) this will never work to update the original DataFrame or Series, because the intermediate object on which we are setting values will behave as a copy.\n",
      "A typical example is when you are setting values in a column of a DataFrame, like:\n",
      "\n",
      "df[\"col\"][row_indexer] = value\n",
      "\n",
      "Use `df.loc[row_indexer, \"col\"] = values` instead, to perform the assignment in a single step and ensure this keeps updating the original `df`.\n",
      "\n",
      "See the caveats in the documentation: https://pandas.pydata.org/pandas-docs/stable/user_guide/indexing.html#returning-a-view-versus-a-copy\n",
      "\n",
      "  results[model_name].loc[\"arxiv_secondary\"] = np.load(\n",
      "/tmp/ipykernel_6234/1002836822.py:19: FutureWarning: ChainedAssignmentError: behaviour will change in pandas 3.0!\n",
      "You are setting values through chained assignment. Currently this works in certain cases, but when using Copy-on-Write (which will become the default behaviour in pandas 3.0) this will never work to update the original DataFrame or Series, because the intermediate object on which we are setting values will behave as a copy.\n",
      "A typical example is when you are setting values in a column of a DataFrame, like:\n",
      "\n",
      "df[\"col\"][row_indexer] = value\n",
      "\n",
      "Use `df.loc[row_indexer, \"col\"] = values` instead, to perform the assignment in a single step and ensure this keeps updating the original `df`.\n",
      "\n",
      "See the caveats in the documentation: https://pandas.pydata.org/pandas-docs/stable/user_guide/indexing.html#returning-a-view-versus-a-copy\n",
      "\n",
      "  results[\"Crops\"].loc[\"arxiv_secondary\"] = np.load(\n",
      "/tmp/ipykernel_6234/1002836822.py:23: FutureWarning: ChainedAssignmentError: behaviour will change in pandas 3.0!\n",
      "You are setting values through chained assignment. Currently this works in certain cases, but when using Copy-on-Write (which will become the default behaviour in pandas 3.0) this will never work to update the original DataFrame or Series, because the intermediate object on which we are setting values will behave as a copy.\n",
      "A typical example is when you are setting values in a column of a DataFrame, like:\n",
      "\n",
      "df[\"col\"][row_indexer] = value\n",
      "\n",
      "Use `df.loc[row_indexer, \"col\"] = values` instead, to perform the assignment in a single step and ensure this keeps updating the original `df`.\n",
      "\n",
      "See the caveats in the documentation: https://pandas.pydata.org/pandas-docs/stable/user_guide/indexing.html#returning-a-view-versus-a-copy\n",
      "\n",
      "  results[\"Dropout\"].loc[\"arxiv_secondary\"] = np.load(\n",
      "/tmp/ipykernel_6234/1002836822.py:28: FutureWarning: ChainedAssignmentError: behaviour will change in pandas 3.0!\n",
      "You are setting values through chained assignment. Currently this works in certain cases, but when using Copy-on-Write (which will become the default behaviour in pandas 3.0) this will never work to update the original DataFrame or Series, because the intermediate object on which we are setting values will behave as a copy.\n",
      "A typical example is when you are setting values in a column of a DataFrame, like:\n",
      "\n",
      "df[\"col\"][row_indexer] = value\n",
      "\n",
      "Use `df.loc[row_indexer, \"col\"] = values` instead, to perform the assignment in a single step and ensure this keeps updating the original `df`.\n",
      "\n",
      "See the caveats in the documentation: https://pandas.pydata.org/pandas-docs/stable/user_guide/indexing.html#returning-a-view-versus-a-copy\n",
      "\n",
      "  results[\"Crops (train)\"].loc[\"arxiv_secondary\"] = np.load(\n",
      "/tmp/ipykernel_6234/1002836822.py:33: FutureWarning: ChainedAssignmentError: behaviour will change in pandas 3.0!\n",
      "You are setting values through chained assignment. Currently this works in certain cases, but when using Copy-on-Write (which will become the default behaviour in pandas 3.0) this will never work to update the original DataFrame or Series, because the intermediate object on which we are setting values will behave as a copy.\n",
      "A typical example is when you are setting values in a column of a DataFrame, like:\n",
      "\n",
      "df[\"col\"][row_indexer] = value\n",
      "\n",
      "Use `df.loc[row_indexer, \"col\"] = values` instead, to perform the assignment in a single step and ensure this keeps updating the original `df`.\n",
      "\n",
      "See the caveats in the documentation: https://pandas.pydata.org/pandas-docs/stable/user_guide/indexing.html#returning-a-view-versus-a-copy\n",
      "\n",
      "  results[\"Dropout (train)\"].loc[\"arxiv_secondary\"] = np.load(\n",
      "/tmp/ipykernel_6234/1002836822.py:43: FutureWarning: ChainedAssignmentError: behaviour will change in pandas 3.0!\n",
      "You are setting values through chained assignment. Currently this works in certain cases, but when using Copy-on-Write (which will become the default behaviour in pandas 3.0) this will never work to update the original DataFrame or Series, because the intermediate object on which we are setting values will behave as a copy.\n",
      "A typical example is when you are setting values in a column of a DataFrame, like:\n",
      "\n",
      "df[\"col\"][row_indexer] = value\n",
      "\n",
      "Use `df.loc[row_indexer, \"col\"] = values` instead, to perform the assignment in a single step and ensure this keeps updating the original `df`.\n",
      "\n",
      "See the caveats in the documentation: https://pandas.pydata.org/pandas-docs/stable/user_guide/indexing.html#returning-a-view-versus-a-copy\n",
      "\n",
      "  results[\"EmbddR10 (train)\"].loc[\"arxiv_secondary\"] = np.load(\n",
      "/tmp/ipykernel_6234/1002836822.py:48: FutureWarning: ChainedAssignmentError: behaviour will change in pandas 3.0!\n",
      "You are setting values through chained assignment. Currently this works in certain cases, but when using Copy-on-Write (which will become the default behaviour in pandas 3.0) this will never work to update the original DataFrame or Series, because the intermediate object on which we are setting values will behave as a copy.\n",
      "A typical example is when you are setting values in a column of a DataFrame, like:\n",
      "\n",
      "df[\"col\"][row_indexer] = value\n",
      "\n",
      "Use `df.loc[row_indexer, \"col\"] = values` instead, to perform the assignment in a single step and ensure this keeps updating the original `df`.\n",
      "\n",
      "See the caveats in the documentation: https://pandas.pydata.org/pandas-docs/stable/user_guide/indexing.html#returning-a-view-versus-a-copy\n",
      "\n",
      "  results[\"EmbddR10\"].loc[\"arxiv_secondary\"] = np.load(\n",
      "/tmp/ipykernel_6234/1002836822.py:58: FutureWarning: ChainedAssignmentError: behaviour will change in pandas 3.0!\n",
      "You are setting values through chained assignment. Currently this works in certain cases, but when using Copy-on-Write (which will become the default behaviour in pandas 3.0) this will never work to update the original DataFrame or Series, because the intermediate object on which we are setting values will behave as a copy.\n",
      "A typical example is when you are setting values in a column of a DataFrame, like:\n",
      "\n",
      "df[\"col\"][row_indexer] = value\n",
      "\n",
      "Use `df.loc[row_indexer, \"col\"] = values` instead, to perform the assignment in a single step and ensure this keeps updating the original `df`.\n",
      "\n",
      "See the caveats in the documentation: https://pandas.pydata.org/pandas-docs/stable/user_guide/indexing.html#returning-a-view-versus-a-copy\n",
      "\n",
      "  results[\"RandomBERT10 (train)\"].loc[\"arxiv_secondary\"] = np.load(\n",
      "/tmp/ipykernel_6234/1002836822.py:63: FutureWarning: ChainedAssignmentError: behaviour will change in pandas 3.0!\n",
      "You are setting values through chained assignment. Currently this works in certain cases, but when using Copy-on-Write (which will become the default behaviour in pandas 3.0) this will never work to update the original DataFrame or Series, because the intermediate object on which we are setting values will behave as a copy.\n",
      "A typical example is when you are setting values in a column of a DataFrame, like:\n",
      "\n",
      "df[\"col\"][row_indexer] = value\n",
      "\n",
      "Use `df.loc[row_indexer, \"col\"] = values` instead, to perform the assignment in a single step and ensure this keeps updating the original `df`.\n",
      "\n",
      "See the caveats in the documentation: https://pandas.pydata.org/pandas-docs/stable/user_guide/indexing.html#returning-a-view-versus-a-copy\n",
      "\n",
      "  results[\"RandomBERT10\"].loc[\"arxiv_secondary\"] = np.load(\n"
     ]
    }
   ],
   "source": [
    "# add Arxiv\n",
    "dataset_name = \"arxiv\"\n",
    "# baseline\n",
    "\n",
    "results.loc[\"arxiv_secondary\"] = np.zeros(len(results.iloc[0]))\n",
    "\n",
    "for model_name in model_names:\n",
    "    saving_path = Path(\"embeddings_\" + model_name.lower()) / Path(\n",
    "        f\"updated_dataset/mteb_datasets/{dataset_name}\"\n",
    "    )\n",
    "    results[model_name].loc[\"arxiv_secondary\"] = np.load(\n",
    "        variables_path / saving_path / \"knn_accuracies_baseline_secondary.npy\",\n",
    "    )[0]\n",
    "\n",
    "# fine tuned models\n",
    "saving_path = Path(\"embeddings_mpnet\") / Path(\n",
    "    f\"updated_dataset/mteb_datasets/{dataset_name}\"\n",
    ")\n",
    "results[\"Crops\"].loc[\"arxiv_secondary\"] = np.load(\n",
    "    variables_path / saving_path / \"knn_accuracies_run1_secondary.npy\",\n",
    ")[0]\n",
    "# dropout\n",
    "results[\"Dropout\"].loc[\"arxiv_secondary\"] = np.load(\n",
    "    variables_path / saving_path / \"knn_accuracies_run2_secondary.npy\",\n",
    ")[0]\n",
    "\n",
    "# training only on train set\n",
    "results[\"Crops (train)\"].loc[\"arxiv_secondary\"] = np.load(\n",
    "    variables_path\n",
    "    / saving_path\n",
    "    / \"knn_accuracies_run1_secondary_train_test_split.npy\",\n",
    ")[0]\n",
    "results[\"Dropout (train)\"].loc[\"arxiv_secondary\"] = np.load(\n",
    "    variables_path\n",
    "    / saving_path\n",
    "    / \"knn_accuracies_run2_secondary_train_test_split.npy\",\n",
    ")[0]\n",
    "\n",
    "# embedding layer\n",
    "saving_path = Path(\"embeddings_random_bert\") / Path(\n",
    "    f\"updated_dataset/embedding_layer_experiment/mteb_datasets/{dataset_name}\"\n",
    ")\n",
    "results[\"EmbddR10 (train)\"].loc[\"arxiv_secondary\"] = np.load(\n",
    "    variables_path\n",
    "    / saving_path\n",
    "    / \"knn_accuracies_run3_10_epochs_secondary_train_test_split.npy\",\n",
    ")[-1]\n",
    "results[\"EmbddR10\"].loc[\"arxiv_secondary\"] = np.load(\n",
    "    variables_path\n",
    "    / saving_path\n",
    "    / \"knn_accuracies_run3_10_epochs_secondary.npy\",\n",
    ")[0]\n",
    "\n",
    "# random BERT\n",
    "saving_path = Path(\"embeddings_random_bert\") / Path(\n",
    "    f\"updated_dataset/mteb_datasets/{dataset_name}\"\n",
    ")\n",
    "results[\"RandomBERT10 (train)\"].loc[\"arxiv_secondary\"] = np.load(\n",
    "    variables_path\n",
    "    / saving_path\n",
    "    / \"knn_accuracies_run5_secondary_train_test_split.npy\",\n",
    ")[-1]\n",
    "results[\"RandomBERT10\"].loc[\"arxiv_secondary\"] = np.load(\n",
    "    variables_path / saving_path / \"knn_accuracies_run5_secondary.npy\",\n",
    ")[-1]"
   ]
  },
  {
   "cell_type": "code",
   "execution_count": null,
   "metadata": {},
   "outputs": [
    {
     "data": {
      "text/html": [
       "<div>\n",
       "<style scoped>\n",
       "    .dataframe tbody tr th:only-of-type {\n",
       "        vertical-align: middle;\n",
       "    }\n",
       "\n",
       "    .dataframe tbody tr th {\n",
       "        vertical-align: top;\n",
       "    }\n",
       "\n",
       "    .dataframe thead th {\n",
       "        text-align: right;\n",
       "    }\n",
       "</style>\n",
       "<table border=\"1\" class=\"dataframe\">\n",
       "  <thead>\n",
       "    <tr style=\"text-align: right;\">\n",
       "      <th></th>\n",
       "      <th>MPNet</th>\n",
       "      <th>SBERT</th>\n",
       "      <th>Dropout</th>\n",
       "      <th>Dropout (train)</th>\n",
       "      <th>Crops</th>\n",
       "      <th>Crops (train)</th>\n",
       "      <th>EmbddR10</th>\n",
       "      <th>EmbddR10 (train)</th>\n",
       "      <th>RandomBERT10</th>\n",
       "      <th>RandomBERT10 (train)</th>\n",
       "    </tr>\n",
       "  </thead>\n",
       "  <tbody>\n",
       "    <tr>\n",
       "      <th>biorxiv</th>\n",
       "      <td>58.616843</td>\n",
       "      <td>65.235174</td>\n",
       "      <td>60.680424</td>\n",
       "      <td>60.922104</td>\n",
       "      <td>61.777282</td>\n",
       "      <td>61.609965</td>\n",
       "      <td>60.736196</td>\n",
       "      <td>56.181446</td>\n",
       "      <td>60.568879</td>\n",
       "      <td>59.267522</td>\n",
       "    </tr>\n",
       "    <tr>\n",
       "      <th>medrxiv</th>\n",
       "      <td>43.512748</td>\n",
       "      <td>56.770538</td>\n",
       "      <td>47.76204</td>\n",
       "      <td>47.76204</td>\n",
       "      <td>52.351275</td>\n",
       "      <td>52.294618</td>\n",
       "      <td>49.121813</td>\n",
       "      <td>40.169972</td>\n",
       "      <td>44.872521</td>\n",
       "      <td>43.966006</td>\n",
       "    </tr>\n",
       "    <tr>\n",
       "      <th>reddit</th>\n",
       "      <td>62.642577</td>\n",
       "      <td>74.991293</td>\n",
       "      <td>57.799303</td>\n",
       "      <td>59.575533</td>\n",
       "      <td>71.963431</td>\n",
       "      <td>71.841532</td>\n",
       "      <td>63.630823</td>\n",
       "      <td>50.169787</td>\n",
       "      <td>61.819765</td>\n",
       "      <td>59.379626</td>\n",
       "    </tr>\n",
       "    <tr>\n",
       "      <th>stackexchange</th>\n",
       "      <td>39.293333</td>\n",
       "      <td>50.56</td>\n",
       "      <td>41.573333</td>\n",
       "      <td>41.266667</td>\n",
       "      <td>45.613333</td>\n",
       "      <td>45.12</td>\n",
       "      <td>45.213333</td>\n",
       "      <td>43.08</td>\n",
       "      <td>45.413333</td>\n",
       "      <td>45.186667</td>\n",
       "    </tr>\n",
       "    <tr>\n",
       "      <th>ICLR</th>\n",
       "      <td>37.4</td>\n",
       "      <td>63.3</td>\n",
       "      <td>46.8</td>\n",
       "      <td>46.7</td>\n",
       "      <td>58.9</td>\n",
       "      <td>56.8</td>\n",
       "      <td>57.3</td>\n",
       "      <td>49.5</td>\n",
       "      <td>57.1</td>\n",
       "      <td>52.1</td>\n",
       "    </tr>\n",
       "    <tr>\n",
       "      <th>arxiv_secondary</th>\n",
       "      <td>37.791547</td>\n",
       "      <td>46.154791</td>\n",
       "      <td>39.919206</td>\n",
       "      <td>38.914743</td>\n",
       "      <td>44.231845</td>\n",
       "      <td>44.126759</td>\n",
       "      <td>43.374777</td>\n",
       "      <td>43.265596</td>\n",
       "      <td>44.323284</td>\n",
       "      <td>44.734077</td>\n",
       "    </tr>\n",
       "  </tbody>\n",
       "</table>\n",
       "</div>"
      ],
      "text/plain": [
       "                     MPNet      SBERT    Dropout Dropout (train)      Crops  \\\n",
       "biorxiv          58.616843  65.235174  60.680424       60.922104  61.777282   \n",
       "medrxiv          43.512748  56.770538   47.76204        47.76204  52.351275   \n",
       "reddit           62.642577  74.991293  57.799303       59.575533  71.963431   \n",
       "stackexchange    39.293333      50.56  41.573333       41.266667  45.613333   \n",
       "ICLR                  37.4       63.3       46.8            46.7       58.9   \n",
       "arxiv_secondary  37.791547  46.154791  39.919206       38.914743  44.231845   \n",
       "\n",
       "                Crops (train)   EmbddR10 EmbddR10 (train) RandomBERT10  \\\n",
       "biorxiv             61.609965  60.736196        56.181446    60.568879   \n",
       "medrxiv             52.294618  49.121813        40.169972    44.872521   \n",
       "reddit              71.841532  63.630823        50.169787    61.819765   \n",
       "stackexchange           45.12  45.213333            43.08    45.413333   \n",
       "ICLR                     56.8       57.3             49.5         57.1   \n",
       "arxiv_secondary     44.126759  43.374777        43.265596    44.323284   \n",
       "\n",
       "                RandomBERT10 (train)  \n",
       "biorxiv                    59.267522  \n",
       "medrxiv                    43.966006  \n",
       "reddit                     59.379626  \n",
       "stackexchange              45.186667  \n",
       "ICLR                            52.1  \n",
       "arxiv_secondary            44.734077  "
      ]
     },
     "execution_count": null,
     "metadata": {},
     "output_type": "execute_result"
    }
   ],
   "source": [
    "results * 100"
   ]
  },
  {
   "cell_type": "code",
   "execution_count": null,
   "metadata": {},
   "outputs": [
    {
     "data": {
      "text/html": [
       "<div>\n",
       "<style scoped>\n",
       "    .dataframe tbody tr th:only-of-type {\n",
       "        vertical-align: middle;\n",
       "    }\n",
       "\n",
       "    .dataframe tbody tr th {\n",
       "        vertical-align: top;\n",
       "    }\n",
       "\n",
       "    .dataframe thead th {\n",
       "        text-align: right;\n",
       "    }\n",
       "</style>\n",
       "<table border=\"1\" class=\"dataframe\">\n",
       "  <thead>\n",
       "    <tr style=\"text-align: right;\">\n",
       "      <th></th>\n",
       "      <th>EmbddR10</th>\n",
       "      <th>EmbddR10 (train)</th>\n",
       "      <th>RandomBERT10</th>\n",
       "      <th>RandomBERT10 (train)</th>\n",
       "    </tr>\n",
       "  </thead>\n",
       "  <tbody>\n",
       "    <tr>\n",
       "      <th>biorxiv</th>\n",
       "      <td>60.7</td>\n",
       "      <td>56.2</td>\n",
       "      <td>60.6</td>\n",
       "      <td>59.3</td>\n",
       "    </tr>\n",
       "    <tr>\n",
       "      <th>medrxiv</th>\n",
       "      <td>49.1</td>\n",
       "      <td>40.2</td>\n",
       "      <td>44.9</td>\n",
       "      <td>44.0</td>\n",
       "    </tr>\n",
       "    <tr>\n",
       "      <th>reddit</th>\n",
       "      <td>63.6</td>\n",
       "      <td>50.2</td>\n",
       "      <td>61.8</td>\n",
       "      <td>59.4</td>\n",
       "    </tr>\n",
       "    <tr>\n",
       "      <th>stackexchange</th>\n",
       "      <td>45.2</td>\n",
       "      <td>43.1</td>\n",
       "      <td>45.4</td>\n",
       "      <td>45.2</td>\n",
       "    </tr>\n",
       "    <tr>\n",
       "      <th>ICLR</th>\n",
       "      <td>57.3</td>\n",
       "      <td>49.5</td>\n",
       "      <td>57.1</td>\n",
       "      <td>52.1</td>\n",
       "    </tr>\n",
       "    <tr>\n",
       "      <th>arxiv_secondary</th>\n",
       "      <td>43.4</td>\n",
       "      <td>43.3</td>\n",
       "      <td>44.3</td>\n",
       "      <td>44.7</td>\n",
       "    </tr>\n",
       "  </tbody>\n",
       "</table>\n",
       "</div>"
      ],
      "text/plain": [
       "                 EmbddR10  EmbddR10 (train)  RandomBERT10  \\\n",
       "biorxiv              60.7              56.2          60.6   \n",
       "medrxiv              49.1              40.2          44.9   \n",
       "reddit               63.6              50.2          61.8   \n",
       "stackexchange        45.2              43.1          45.4   \n",
       "ICLR                 57.3              49.5          57.1   \n",
       "arxiv_secondary      43.4              43.3          44.3   \n",
       "\n",
       "                 RandomBERT10 (train)  \n",
       "biorxiv                          59.3  \n",
       "medrxiv                          44.0  \n",
       "reddit                           59.4  \n",
       "stackexchange                    45.2  \n",
       "ICLR                             52.1  \n",
       "arxiv_secondary                  44.7  "
      ]
     },
     "execution_count": null,
     "metadata": {},
     "output_type": "execute_result"
    }
   ],
   "source": [
    "results = results.astype(float).round(3)\n",
    "results[\n",
    "    [\n",
    "        \"EmbddR10\",\n",
    "        \"EmbddR10 (train)\",\n",
    "        \"RandomBERT10\",\n",
    "        \"RandomBERT10 (train)\",\n",
    "    ]\n",
    "] * 100"
   ]
  },
  {
   "cell_type": "code",
   "execution_count": null,
   "metadata": {},
   "outputs": [
    {
     "name": "stdout",
     "output_type": "stream",
     "text": [
      "\\begin{tabular}{lrrrr}\n",
      "\\toprule\n",
      " & Crops (train) & Dropout (train) & EmbddR10 (train) & RandomBERT10 (train) \\\\\n",
      "\\midrule\n",
      "biorxiv & 0.616000 & 0.609000 & 0.562000 & 0.593000 \\\\\n",
      "medrxiv & 0.523000 & 0.478000 & 0.402000 & 0.440000 \\\\\n",
      "reddit & 0.718000 & 0.596000 & 0.502000 & 0.594000 \\\\\n",
      "stackexchange & 0.451000 & 0.413000 & 0.431000 & 0.452000 \\\\\n",
      "ICLR & 0.568000 & 0.467000 & 0.495000 & 0.521000 \\\\\n",
      "arxiv_secondary & 0.441000 & 0.389000 & 0.433000 & 0.447000 \\\\\n",
      "\\bottomrule\n",
      "\\end{tabular}\n",
      "\n"
     ]
    }
   ],
   "source": [
    "results = results.astype(float).round(3)  # * 100\n",
    "print(\n",
    "    results[\n",
    "        [\n",
    "            \"Crops (train)\",\n",
    "            \"Dropout (train)\",\n",
    "            \"EmbddR10 (train)\",\n",
    "            \"RandomBERT10 (train)\",\n",
    "        ]\n",
    "    ].to_latex()\n",
    ")"
   ]
  },
  {
   "cell_type": "code",
   "execution_count": null,
   "metadata": {},
   "outputs": [
    {
     "ename": "SyntaxError",
     "evalue": "invalid syntax (1087540823.py, line 1)",
     "output_type": "error",
     "traceback": [
      "\u001b[0;36m  Cell \u001b[0;32mIn[125], line 1\u001b[0;36m\u001b[0m\n\u001b[0;31m    & 56.8 & 46.7 & 49.5 & 52.1 \\\\\u001b[0m\n\u001b[0m    ^\u001b[0m\n\u001b[0;31mSyntaxError\u001b[0m\u001b[0;31m:\u001b[0m invalid syntax\n"
     ]
    }
   ],
   "source": [
    "& 56.8 & 46.7 & 49.5 & 52.1 \\\\\n",
    "& 44.1 & 38.9 & 43.3 & 44.7 \\\\\n",
    "& 61.6 & 60.9 & 56.2 & 59.3 \\\\\n",
    "& 52.3 & 47.8 & 40.2 & 44.0 \\\\\n",
    "& 71.8 & 59.6 & 50.2 & 59.4 \\\\\n",
    "& 45.1 & 41.3 & 43.1 & 45.2 \\\\\n"
   ]
  },
  {
   "cell_type": "code",
   "execution_count": null,
   "metadata": {},
   "outputs": [
    {
     "name": "stdout",
     "output_type": "stream",
     "text": [
      "Crops (train)           55.283333\n",
      "Dropout (train)         49.200000\n",
      "EmbddR10 (train)        47.083333\n",
      "RandomBERT10 (train)    50.783333\n",
      "dtype: float64\n"
     ]
    }
   ],
   "source": [
    "print(\n",
    "    results[\n",
    "        [\n",
    "            \"Crops (train)\",\n",
    "            \"Dropout (train)\",\n",
    "            \"EmbddR10 (train)\",\n",
    "            \"RandomBERT10 (train)\",\n",
    "        ]\n",
    "    ].mean(axis=0)\n",
    "    * 100\n",
    ")"
   ]
  },
  {
   "cell_type": "code",
   "execution_count": null,
   "metadata": {},
   "outputs": [
    {
     "name": "stdout",
     "output_type": "stream",
     "text": [
      "                 MPNet  SBERT  Dropout  Dropout (train)  Crops  Crops (train)  \\\n",
      "biorxiv           58.6   65.2     60.7             60.9   61.8           61.6   \n",
      "medrxiv           43.5   56.8     47.8             47.8   52.4           52.3   \n",
      "reddit            62.6   75.0     57.8             59.6   72.0           71.8   \n",
      "stackexchange     39.3   50.6     41.6             41.3   45.6           45.1   \n",
      "ICLR              37.4   63.3     46.8             46.7   58.9           56.8   \n",
      "arxiv_secondary   37.8   46.2     39.9             38.9   44.2           44.1   \n",
      "\n",
      "                 EmbddR10  EmbddR10 (train)  RandomBERT10  \\\n",
      "biorxiv              60.7              56.2          60.6   \n",
      "medrxiv              49.1              40.2          44.9   \n",
      "reddit               63.6              50.2          61.8   \n",
      "stackexchange        45.2              43.1          45.4   \n",
      "ICLR                 57.3              49.5          57.1   \n",
      "arxiv_secondary      43.4              43.3          44.3   \n",
      "\n",
      "                 RandomBERT10 (train)  \n",
      "biorxiv                          59.3  \n",
      "medrxiv                          44.0  \n",
      "reddit                           59.4  \n",
      "stackexchange                    45.2  \n",
      "ICLR                             52.1  \n",
      "arxiv_secondary                  44.7  \n"
     ]
    }
   ],
   "source": [
    "print(results * 100)"
   ]
  },
  {
   "cell_type": "markdown",
   "metadata": {},
   "source": [
    "                 MPNet  SBERT  Dropout  Dropout (train)  Crops  Crops (train)  EmbddR10  EmbddR10 (train)  RandomBERT10  RandomBERT10 (train)  \n",
    "ICLR              37.4   63.3    46.8        46.7         58.9       56.8        57.3          49.5            57.1            52.1  \n",
    "arxiv             37.8   46.2    39.9        38.9         44.2       44.1        43.4          43.3            44.3            44.7 \n",
    "biorxiv           58.6   65.2    60.7        60.9         61.8       61.6        60.7          56.2            60.6            59.3  \n",
    "medrxiv           43.5   56.8    47.8        47.8         52.4       52.3        49.1          40.2            44.9            44.0  \n",
    "reddit            62.6   75.0    57.8        59.6         72.0       71.8        63.6          50.2            61.8            59.4  \n",
    "stackexchange     39.3   50.6    41.6        41.3         45.6       45.1        45.2          43.1            45.4            45.2  "
   ]
  },
  {
   "cell_type": "code",
   "execution_count": null,
   "metadata": {},
   "outputs": [
    {
     "name": "stdout",
     "output_type": "stream",
     "text": [
      "|                 |   MPNet |   SBERT |   Dropout |   Dropout (train) |   Crops |   Crops (train) |   EmbddR10 |   EmbddR10 (train) |   RandomBERT10 |   RandomBERT10 (train) |\n",
      "|:----------------|--------:|--------:|----------:|------------------:|--------:|----------------:|-----------:|-------------------:|---------------:|-----------------------:|\n",
      "| biorxiv         |    58.6 |    65.2 |      60.7 |              60.9 |    61.8 |            61.6 |        nan |                nan |            nan |                    nan |\n",
      "| medrxiv         |   nan   |   nan   |     nan   |             nan   |   nan   |           nan   |        nan |                nan |            nan |                    nan |\n",
      "| reddit          |   nan   |   nan   |     nan   |             nan   |   nan   |           nan   |        nan |                nan |            nan |                    nan |\n",
      "| stackexchange   |   nan   |   nan   |     nan   |             nan   |   nan   |           nan   |        nan |                nan |            nan |                    nan |\n",
      "| ICLR            |    37.4 |    63.3 |      46.8 |              46.7 |    58.9 |            56.8 |          0 |                  0 |              0 |                      0 |\n",
      "| arxiv_secondary |    37.8 |    46.2 |      39.9 |              38.9 |    44.2 |            44.1 |          0 |                  0 |              0 |                      0 |\n"
     ]
    }
   ],
   "source": [
    "print((results * 100).to_markdown())"
   ]
  },
  {
   "cell_type": "code",
   "execution_count": null,
   "metadata": {},
   "outputs": [
    {
     "ename": "SyntaxError",
     "evalue": "invalid syntax (1389552905.py, line 1)",
     "output_type": "error",
     "traceback": [
      "\u001b[0;36m  Cell \u001b[0;32mIn[76], line 1\u001b[0;36m\u001b[0m\n\u001b[0;31m    MPNet  SBERT  Dropout  Dropout (train)  Crops  Crops (train)\u001b[0m\n\u001b[0m           ^\u001b[0m\n\u001b[0;31mSyntaxError\u001b[0m\u001b[0;31m:\u001b[0m invalid syntax\n"
     ]
    }
   ],
   "source": [
    "                 MPNet  SBERT  Dropout  Dropout (train)  Crops  Crops (train)\n",
    "ICLR              37.4   63.3    46.8         46.7        58.9       56.8\n",
    "arxiv_secondary   37.8   46.2    39.9         38.9        44.2       44.1\n",
    "biorxiv           58.6   65.2    60.7         60.9        61.8       61.6\n",
    "medrxiv           43.5   56.8    47.8         47.8        52.4       52.3\n",
    "reddit            62.6   75.0    57.8         59.6        72.0       71.8\n",
    "stackexchange     39.3   50.6    41.6         41.3        45.6       45.1\n"
   ]
  },
  {
   "cell_type": "markdown",
   "metadata": {},
   "source": [
    "### SBERT experiment"
   ]
  },
  {
   "cell_type": "code",
   "execution_count": null,
   "metadata": {},
   "outputs": [],
   "source": [
    "datasets_names = [\"arxiv\", \"biorxiv\", \"medrxiv\", \"reddit\", \"stackexchange\"]"
   ]
  },
  {
   "cell_type": "code",
   "execution_count": null,
   "metadata": {},
   "outputs": [
    {
     "name": "stderr",
     "output_type": "stream",
     "text": [
      "/tmp/ipykernel_6234/2248924144.py:21: FutureWarning: ChainedAssignmentError: behaviour will change in pandas 3.0!\n",
      "You are setting values through chained assignment. Currently this works in certain cases, but when using Copy-on-Write (which will become the default behaviour in pandas 3.0) this will never work to update the original DataFrame or Series, because the intermediate object on which we are setting values will behave as a copy.\n",
      "A typical example is when you are setting values in a column of a DataFrame, like:\n",
      "\n",
      "df[\"col\"][row_indexer] = value\n",
      "\n",
      "Use `df.loc[row_indexer, \"col\"] = values` instead, to perform the assignment in a single step and ensure this keeps updating the original `df`.\n",
      "\n",
      "See the caveats in the documentation: https://pandas.pydata.org/pandas-docs/stable/user_guide/indexing.html#returning-a-view-versus-a-copy\n",
      "\n",
      "  results[model_name].loc[dataset_name] = np.load(\n",
      "/tmp/ipykernel_6234/2248924144.py:27: FutureWarning: ChainedAssignmentError: behaviour will change in pandas 3.0!\n",
      "You are setting values through chained assignment. Currently this works in certain cases, but when using Copy-on-Write (which will become the default behaviour in pandas 3.0) this will never work to update the original DataFrame or Series, because the intermediate object on which we are setting values will behave as a copy.\n",
      "A typical example is when you are setting values in a column of a DataFrame, like:\n",
      "\n",
      "df[\"col\"][row_indexer] = value\n",
      "\n",
      "Use `df.loc[row_indexer, \"col\"] = values` instead, to perform the assignment in a single step and ensure this keeps updating the original `df`.\n",
      "\n",
      "See the caveats in the documentation: https://pandas.pydata.org/pandas-docs/stable/user_guide/indexing.html#returning-a-view-versus-a-copy\n",
      "\n",
      "  results[model_name].loc[dataset_name] = np.load(\n",
      "/tmp/ipykernel_6234/2248924144.py:31: FutureWarning: ChainedAssignmentError: behaviour will change in pandas 3.0!\n",
      "You are setting values through chained assignment. Currently this works in certain cases, but when using Copy-on-Write (which will become the default behaviour in pandas 3.0) this will never work to update the original DataFrame or Series, because the intermediate object on which we are setting values will behave as a copy.\n",
      "A typical example is when you are setting values in a column of a DataFrame, like:\n",
      "\n",
      "df[\"col\"][row_indexer] = value\n",
      "\n",
      "Use `df.loc[row_indexer, \"col\"] = values` instead, to perform the assignment in a single step and ensure this keeps updating the original `df`.\n",
      "\n",
      "See the caveats in the documentation: https://pandas.pydata.org/pandas-docs/stable/user_guide/indexing.html#returning-a-view-versus-a-copy\n",
      "\n",
      "  results[\"SBERT (after)\"].loc[dataset_name] = np.load(\n"
     ]
    }
   ],
   "source": [
    "# load\n",
    "from json import load\n",
    "\n",
    "\n",
    "results = pd.DataFrame(\n",
    "    # columns=[\"MPNet\", \"Crops\", \"Dropout\", \"SimCSE\", \"SBERT\"],\n",
    "    columns=[\n",
    "        \"SBERT\",\n",
    "        \"SBERT (after)\",\n",
    "    ],\n",
    "    index=datasets_names,\n",
    ")\n",
    "for dataset_name in datasets_names:\n",
    "    # baseline\n",
    "    # for model_name in model_names:\n",
    "    model_name = \"SBERT\"\n",
    "    saving_path = Path(\"embeddings_\" + model_name.lower()) / Path(\n",
    "        f\"updated_dataset/mteb_datasets/{dataset_name}\"\n",
    "    )\n",
    "    if dataset_name == \"arxiv\":\n",
    "        results[model_name].loc[dataset_name] = np.load(\n",
    "            variables_path\n",
    "            / saving_path\n",
    "            / \"knn_accuracies_baseline_secondary.npy\",\n",
    "        )[0]\n",
    "    else:\n",
    "        results[model_name].loc[dataset_name] = np.load(\n",
    "            variables_path / saving_path / \"knn_accuracies_baseline.npy\",\n",
    "        )[0]\n",
    "\n",
    "        results[\"SBERT (after)\"].loc[dataset_name] = np.load(\n",
    "            variables_path / saving_path / \"knn_accuracies_run1.npy\",\n",
    "        )[0][0]"
   ]
  },
  {
   "cell_type": "code",
   "execution_count": null,
   "metadata": {},
   "outputs": [
    {
     "name": "stderr",
     "output_type": "stream",
     "text": [
      "/tmp/ipykernel_6234/3741723430.py:8: FutureWarning: ChainedAssignmentError: behaviour will change in pandas 3.0!\n",
      "You are setting values through chained assignment. Currently this works in certain cases, but when using Copy-on-Write (which will become the default behaviour in pandas 3.0) this will never work to update the original DataFrame or Series, because the intermediate object on which we are setting values will behave as a copy.\n",
      "A typical example is when you are setting values in a column of a DataFrame, like:\n",
      "\n",
      "df[\"col\"][row_indexer] = value\n",
      "\n",
      "Use `df.loc[row_indexer, \"col\"] = values` instead, to perform the assignment in a single step and ensure this keeps updating the original `df`.\n",
      "\n",
      "See the caveats in the documentation: https://pandas.pydata.org/pandas-docs/stable/user_guide/indexing.html#returning-a-view-versus-a-copy\n",
      "\n",
      "  results.loc[\"ICLR\"][key] = value\n"
     ]
    }
   ],
   "source": [
    "results.loc[\"ICLR\"] = np.zeros(len(results.iloc[0]))\n",
    "results_iclr = {\n",
    "    \"SBERT\": 0.633,\n",
    "    \"SBERT (after)\": 0.615,\n",
    "}\n",
    "\n",
    "for key, value in results_iclr.items():\n",
    "    results.loc[\"ICLR\"][key] = value"
   ]
  },
  {
   "cell_type": "code",
   "execution_count": null,
   "metadata": {},
   "outputs": [
    {
     "data": {
      "text/html": [
       "<div>\n",
       "<style scoped>\n",
       "    .dataframe tbody tr th:only-of-type {\n",
       "        vertical-align: middle;\n",
       "    }\n",
       "\n",
       "    .dataframe tbody tr th {\n",
       "        vertical-align: top;\n",
       "    }\n",
       "\n",
       "    .dataframe thead th {\n",
       "        text-align: right;\n",
       "    }\n",
       "</style>\n",
       "<table border=\"1\" class=\"dataframe\">\n",
       "  <thead>\n",
       "    <tr style=\"text-align: right;\">\n",
       "      <th></th>\n",
       "      <th>SBERT</th>\n",
       "      <th>SBERT (after)</th>\n",
       "    </tr>\n",
       "  </thead>\n",
       "  <tbody>\n",
       "    <tr>\n",
       "      <th>arxiv</th>\n",
       "      <td>46.2</td>\n",
       "      <td>NaN</td>\n",
       "    </tr>\n",
       "    <tr>\n",
       "      <th>biorxiv</th>\n",
       "      <td>65.2</td>\n",
       "      <td>64.9</td>\n",
       "    </tr>\n",
       "    <tr>\n",
       "      <th>medrxiv</th>\n",
       "      <td>56.8</td>\n",
       "      <td>54.1</td>\n",
       "    </tr>\n",
       "    <tr>\n",
       "      <th>reddit</th>\n",
       "      <td>75.0</td>\n",
       "      <td>75.3</td>\n",
       "    </tr>\n",
       "    <tr>\n",
       "      <th>stackexchange</th>\n",
       "      <td>50.6</td>\n",
       "      <td>51.0</td>\n",
       "    </tr>\n",
       "    <tr>\n",
       "      <th>ICLR</th>\n",
       "      <td>63.3</td>\n",
       "      <td>61.5</td>\n",
       "    </tr>\n",
       "  </tbody>\n",
       "</table>\n",
       "</div>"
      ],
      "text/plain": [
       "               SBERT  SBERT (after)\n",
       "arxiv           46.2            NaN\n",
       "biorxiv         65.2           64.9\n",
       "medrxiv         56.8           54.1\n",
       "reddit          75.0           75.3\n",
       "stackexchange   50.6           51.0\n",
       "ICLR            63.3           61.5"
      ]
     },
     "execution_count": null,
     "metadata": {},
     "output_type": "execute_result"
    }
   ],
   "source": [
    "results = results.astype(float).round(3)\n",
    "results * 100"
   ]
  },
  {
   "cell_type": "code",
   "execution_count": null,
   "metadata": {},
   "outputs": [
    {
     "name": "stdout",
     "output_type": "stream",
     "text": [
      "               SBERT  SBERT (after)\n",
      "arxiv           46.2            NaN\n",
      "biorxiv         65.2           64.9\n",
      "medrxiv         56.8           54.1\n",
      "reddit          75.0           75.3\n",
      "stackexchange   50.6           51.0\n",
      "ICLR            63.3           61.5\n"
     ]
    }
   ],
   "source": [
    "print(results * 100)"
   ]
  },
  {
   "cell_type": "code",
   "execution_count": null,
   "metadata": {},
   "outputs": [
    {
     "name": "stdout",
     "output_type": "stream",
     "text": [
      "|               |   SBERT |   SBERT (after) |\n",
      "|:--------------|--------:|----------------:|\n",
      "| arxiv         |    46.2 |           nan   |\n",
      "| biorxiv       |    65.2 |            64.9 |\n",
      "| medrxiv       |    56.8 |            54.1 |\n",
      "| reddit        |    75   |            75.3 |\n",
      "| stackexchange |    50.6 |            51   |\n",
      "| ICLR          |    63.3 |            61.5 |\n"
     ]
    }
   ],
   "source": [
    "print((results * 100).to_markdown())"
   ]
  },
  {
   "cell_type": "code",
   "execution_count": null,
   "metadata": {},
   "outputs": [
    {
     "ename": "SyntaxError",
     "evalue": "invalid syntax (4088880713.py, line 1)",
     "output_type": "error",
     "traceback": [
      "\u001b[0;36m  Cell \u001b[0;32mIn[66], line 1\u001b[0;36m\u001b[0m\n\u001b[0;31m    SBERT  SBERT (after)\u001b[0m\n\u001b[0m           ^\u001b[0m\n\u001b[0;31mSyntaxError\u001b[0m\u001b[0;31m:\u001b[0m invalid syntax\n"
     ]
    }
   ],
   "source": [
    "               SBERT  SBERT (after)\n",
    "ICLR            63.3       61.5\n",
    "arxiv           46.2        -\n",
    "biorxiv         65.2       64.9\n",
    "medrxiv         56.8       54.1\n",
    "reddit          75.0       75.3\n",
    "stackexchange   50.6       51.0\n"
   ]
  },
  {
   "cell_type": "code",
   "execution_count": null,
   "metadata": {},
   "outputs": [],
   "source": []
  }
 ],
 "metadata": {
  "kernelspec": {
   "display_name": "python3",
   "language": "python",
   "name": "python3"
  }
 },
 "nbformat": 4,
 "nbformat_minor": 2
}
