{
 "cells": [
  {
   "cell_type": "code",
   "execution_count": null,
   "id": "f1c0f204-75c9-4c06-9e0c-f940737c639d",
   "metadata": {},
   "outputs": [],
   "source": [
    "%load_ext rpy2.ipython"
   ]
  },
  {
   "cell_type": "code",
   "execution_count": null,
   "id": "1ff1021a-b9bb-446c-a816-a0548942787b",
   "metadata": {},
   "outputs": [
    {
     "name": "stderr",
     "output_type": "stream",
     "text": [
      "R[write to console]: Loading required package: gender\n",
      "\n",
      "R[write to console]: Loading required package: genderdata\n",
      "\n",
      "R[write to console]: Loading required package: tibble\n",
      "\n"
     ]
    },
    {
     "data": {
      "text/html": [
       "\n",
       "        <span>BoolVector with 1 elements.</span>\n",
       "        <table>\n",
       "        <tbody>\n",
       "          <tr>\n",
       "          \n",
       "            <td>\n",
       "                   1\n",
       "            </td>\n",
       "          \n",
       "          </tr>\n",
       "        </tbody>\n",
       "        </table>\n",
       "        "
      ],
      "text/plain": [
       "<rpy2.robjects.vectors.BoolVector object> [RTYPES.LGLSXP]\n",
       "R classes: ('logical',)\n",
       "[       1]"
      ]
     },
     "execution_count": null,
     "metadata": {},
     "output_type": "execute_result"
    }
   ],
   "source": [
    "%R require(gender)\n",
    "%R require(genderdata)\n",
    "%R require(tibble)"
   ]
  },
  {
   "cell_type": "code",
   "execution_count": null,
   "id": "7b45c2b7-12f6-4271-88a6-bcb2e71b46d8",
   "metadata": {},
   "outputs": [
    {
     "name": "stdout",
     "output_type": "stream",
     "text": [
      "The memory_profiler extension is already loaded. To reload it, use:\n",
      "  %reload_ext memory_profiler\n"
     ]
    }
   ],
   "source": [
    "%matplotlib notebook\n",
    "\n",
    "import pandas as pd\n",
    "import numpy as np\n",
    "\n",
    "import time\n",
    "import pickle\n",
    "\n",
    "import memory_profiler\n",
    "%load_ext memory_profiler\n",
    "\n",
    "from pathlib import Path"
   ]
  },
  {
   "cell_type": "code",
   "execution_count": null,
   "id": "1eb8d388-6844-415f-afe2-da537fb27545",
   "metadata": {},
   "outputs": [],
   "source": [
    "variables_path = Path('../variables')\n",
    "figures_path = Path('../results/figures')\n",
    "berenslab_data_path = Path('/gpfs01/berens/data/data/pubmed_processed')"
   ]
  },
  {
   "cell_type": "code",
   "execution_count": null,
   "id": "5b7cbf21-db3f-4e44-b2c2-e1cd00aa301c",
   "metadata": {},
   "outputs": [
    {
     "data": {
      "text/html": [
       "\n",
       "                <script type=\"application/javascript\" id=\"jupyter_black\">\n",
       "                (function() {\n",
       "                    if (window.IPython === undefined) {\n",
       "                        return\n",
       "                    }\n",
       "                    var msg = \"WARNING: it looks like you might have loaded \" +\n",
       "                        \"jupyter_black in a non-lab notebook with \" +\n",
       "                        \"`is_lab=True`. Please double check, and if \" +\n",
       "                        \"loading with `%load_ext` please review the README!\"\n",
       "                    console.log(msg)\n",
       "                    alert(msg)\n",
       "                })()\n",
       "                </script>\n",
       "                "
      ],
      "text/plain": [
       "<IPython.core.display.HTML object>"
      ]
     },
     "metadata": {},
     "output_type": "display_data"
    }
   ],
   "source": [
    "import black\n",
    "import jupyter_black\n",
    "\n",
    "jupyter_black.load(line_length=79)"
   ]
  },
  {
   "cell_type": "code",
   "execution_count": null,
   "id": "8c55953e-0802-4c66-a8fc-b34c4fd6afb2",
   "metadata": {},
   "outputs": [],
   "source": [
    "names = np.load(\"names.npy\")"
   ]
  },
  {
   "cell_type": "code",
   "execution_count": null,
   "id": "e8420064-b5b7-483d-9c4f-e843e3f34894",
   "metadata": {},
   "outputs": [
    {
     "data": {
      "text/html": [
       "<div>\n",
       "<style scoped>\n",
       "    .dataframe tbody tr th:only-of-type {\n",
       "        vertical-align: middle;\n",
       "    }\n",
       "\n",
       "    .dataframe tbody tr th {\n",
       "        vertical-align: top;\n",
       "    }\n",
       "\n",
       "    .dataframe thead th {\n",
       "        text-align: right;\n",
       "    }\n",
       "</style>\n",
       "<table border=\"1\" class=\"dataframe\">\n",
       "  <thead>\n",
       "    <tr style=\"text-align: right;\">\n",
       "      <th></th>\n",
       "      <th>Names</th>\n",
       "    </tr>\n",
       "  </thead>\n",
       "  <tbody>\n",
       "    <tr>\n",
       "      <th>0</th>\n",
       "      <td>A</td>\n",
       "    </tr>\n",
       "    <tr>\n",
       "      <th>1</th>\n",
       "      <td>A.</td>\n",
       "    </tr>\n",
       "    <tr>\n",
       "      <th>2</th>\n",
       "      <td>ABULIKEMU</td>\n",
       "    </tr>\n",
       "    <tr>\n",
       "      <th>3</th>\n",
       "      <td>AJ</td>\n",
       "    </tr>\n",
       "    <tr>\n",
       "      <th>4</th>\n",
       "      <td>AJAY</td>\n",
       "    </tr>\n",
       "    <tr>\n",
       "      <th>...</th>\n",
       "      <td>...</td>\n",
       "    </tr>\n",
       "    <tr>\n",
       "      <th>8933</th>\n",
       "      <td>zizhang.wu</td>\n",
       "    </tr>\n",
       "    <tr>\n",
       "      <th>8934</th>\n",
       "      <td>Đorđe</td>\n",
       "    </tr>\n",
       "    <tr>\n",
       "      <th>8935</th>\n",
       "      <td>Łukasz</td>\n",
       "    </tr>\n",
       "    <tr>\n",
       "      <th>8936</th>\n",
       "      <td>志勇</td>\n",
       "    </tr>\n",
       "    <tr>\n",
       "      <th>8937</th>\n",
       "      <td>雪枫</td>\n",
       "    </tr>\n",
       "  </tbody>\n",
       "</table>\n",
       "<p>8938 rows × 1 columns</p>\n",
       "</div>"
      ],
      "text/plain": [
       "           Names\n",
       "0              A\n",
       "1             A.\n",
       "2      ABULIKEMU\n",
       "3             AJ\n",
       "4           AJAY\n",
       "...          ...\n",
       "8933  zizhang.wu\n",
       "8934       Đorđe\n",
       "8935      Łukasz\n",
       "8936          志勇\n",
       "8937          雪枫\n",
       "\n",
       "[8938 rows x 1 columns]"
      ]
     },
     "execution_count": null,
     "metadata": {},
     "output_type": "execute_result"
    }
   ],
   "source": [
    "dict_names = {'Names' : names }\n",
    "df = pd.DataFrame(dict_names)\n",
    "df"
   ]
  },
  {
   "cell_type": "code",
   "execution_count": null,
   "id": "888d0cfa-749f-4a97-a166-846d5dab25a8",
   "metadata": {},
   "outputs": [
    {
     "data": {
      "text/plain": [
       "0                A\n",
       "1               A.\n",
       "2        ABULIKEMU\n",
       "3               AJ\n",
       "4             AJAY\n",
       "           ...    \n",
       "8933    zizhang.wu\n",
       "8934         Đorđe\n",
       "8935        Łukasz\n",
       "8936            志勇\n",
       "8937            雪枫\n",
       "Name: Names, Length: 8938, dtype: object"
      ]
     },
     "execution_count": null,
     "metadata": {},
     "output_type": "execute_result"
    }
   ],
   "source": [
    "df_names = df.Names\n",
    "df_names"
   ]
  },
  {
   "cell_type": "code",
   "execution_count": null,
   "id": "77075be9-4256-455f-a08e-a640288f7157",
   "metadata": {},
   "outputs": [
    {
     "name": "stdout",
     "output_type": "stream",
     "text": [
      "CPU times: user 338 ms, sys: 2.04 ms, total: 340 ms\n",
      "Wall time: 338 ms\n"
     ]
    },
    {
     "data": {
      "text/html": [
       "<div>\n",
       "<style scoped>\n",
       "    .dataframe tbody tr th:only-of-type {\n",
       "        vertical-align: middle;\n",
       "    }\n",
       "\n",
       "    .dataframe tbody tr th {\n",
       "        vertical-align: top;\n",
       "    }\n",
       "\n",
       "    .dataframe thead th {\n",
       "        text-align: right;\n",
       "    }\n",
       "</style>\n",
       "<table border=\"1\" class=\"dataframe\">\n",
       "  <thead>\n",
       "    <tr style=\"text-align: right;\">\n",
       "      <th></th>\n",
       "      <th>name</th>\n",
       "      <th>proportion_male</th>\n",
       "      <th>proportion_female</th>\n",
       "      <th>gender</th>\n",
       "      <th>year_min</th>\n",
       "      <th>year_max</th>\n",
       "    </tr>\n",
       "  </thead>\n",
       "  <tbody>\n",
       "    <tr>\n",
       "      <th>1</th>\n",
       "      <td>Aadarsh</td>\n",
       "      <td>1.0000</td>\n",
       "      <td>0.0000</td>\n",
       "      <td>male</td>\n",
       "      <td>2012.0</td>\n",
       "      <td>2012.0</td>\n",
       "    </tr>\n",
       "    <tr>\n",
       "      <th>2</th>\n",
       "      <td>Aaditya</td>\n",
       "      <td>1.0000</td>\n",
       "      <td>0.0000</td>\n",
       "      <td>male</td>\n",
       "      <td>2012.0</td>\n",
       "      <td>2012.0</td>\n",
       "    </tr>\n",
       "    <tr>\n",
       "      <th>3</th>\n",
       "      <td>Aaro</td>\n",
       "      <td>1.0000</td>\n",
       "      <td>0.0000</td>\n",
       "      <td>male</td>\n",
       "      <td>2012.0</td>\n",
       "      <td>2012.0</td>\n",
       "    </tr>\n",
       "    <tr>\n",
       "      <th>4</th>\n",
       "      <td>Aaron</td>\n",
       "      <td>0.9970</td>\n",
       "      <td>0.0030</td>\n",
       "      <td>male</td>\n",
       "      <td>2012.0</td>\n",
       "      <td>2012.0</td>\n",
       "    </tr>\n",
       "    <tr>\n",
       "      <th>5</th>\n",
       "      <td>Aayush</td>\n",
       "      <td>1.0000</td>\n",
       "      <td>0.0000</td>\n",
       "      <td>male</td>\n",
       "      <td>2012.0</td>\n",
       "      <td>2012.0</td>\n",
       "    </tr>\n",
       "    <tr>\n",
       "      <th>...</th>\n",
       "      <td>...</td>\n",
       "      <td>...</td>\n",
       "      <td>...</td>\n",
       "      <td>...</td>\n",
       "      <td>...</td>\n",
       "      <td>...</td>\n",
       "    </tr>\n",
       "    <tr>\n",
       "      <th>2337</th>\n",
       "      <td>Ziyan</td>\n",
       "      <td>0.4522</td>\n",
       "      <td>0.5478</td>\n",
       "      <td>female</td>\n",
       "      <td>2012.0</td>\n",
       "      <td>2012.0</td>\n",
       "    </tr>\n",
       "    <tr>\n",
       "      <th>2338</th>\n",
       "      <td>Zoe</td>\n",
       "      <td>0.0023</td>\n",
       "      <td>0.9977</td>\n",
       "      <td>female</td>\n",
       "      <td>2012.0</td>\n",
       "      <td>2012.0</td>\n",
       "    </tr>\n",
       "    <tr>\n",
       "      <th>2339</th>\n",
       "      <td>Zohar</td>\n",
       "      <td>0.5149</td>\n",
       "      <td>0.4851</td>\n",
       "      <td>male</td>\n",
       "      <td>2012.0</td>\n",
       "      <td>2012.0</td>\n",
       "    </tr>\n",
       "    <tr>\n",
       "      <th>2340</th>\n",
       "      <td>Zoran</td>\n",
       "      <td>1.0000</td>\n",
       "      <td>0.0000</td>\n",
       "      <td>male</td>\n",
       "      <td>2012.0</td>\n",
       "      <td>2012.0</td>\n",
       "    </tr>\n",
       "    <tr>\n",
       "      <th>2341</th>\n",
       "      <td>Zvi</td>\n",
       "      <td>1.0000</td>\n",
       "      <td>0.0000</td>\n",
       "      <td>male</td>\n",
       "      <td>2012.0</td>\n",
       "      <td>2012.0</td>\n",
       "    </tr>\n",
       "  </tbody>\n",
       "</table>\n",
       "<p>2341 rows × 6 columns</p>\n",
       "</div>"
      ],
      "text/plain": [
       "         name  proportion_male  proportion_female  gender  year_min  year_max\n",
       "1     Aadarsh           1.0000             0.0000    male    2012.0    2012.0\n",
       "2     Aaditya           1.0000             0.0000    male    2012.0    2012.0\n",
       "3        Aaro           1.0000             0.0000    male    2012.0    2012.0\n",
       "4       Aaron           0.9970             0.0030    male    2012.0    2012.0\n",
       "5      Aayush           1.0000             0.0000    male    2012.0    2012.0\n",
       "...       ...              ...                ...     ...       ...       ...\n",
       "2337    Ziyan           0.4522             0.5478  female    2012.0    2012.0\n",
       "2338      Zoe           0.0023             0.9977  female    2012.0    2012.0\n",
       "2339    Zohar           0.5149             0.4851    male    2012.0    2012.0\n",
       "2340    Zoran           1.0000             0.0000    male    2012.0    2012.0\n",
       "2341      Zvi           1.0000             0.0000    male    2012.0    2012.0\n",
       "\n",
       "[2341 rows x 6 columns]"
      ]
     },
     "execution_count": null,
     "metadata": {},
     "output_type": "execute_result"
    }
   ],
   "source": [
    "%%time\n",
    "%R library(gender)\n",
    "%R -i df_names -o result result = gender(df_names, years = 2012, method = \"ssa\")"
   ]
  },
  {
   "cell_type": "code",
   "execution_count": null,
   "id": "3fbcdf9e-9fa5-44b0-bf21-5631f5b2dfdb",
   "metadata": {},
   "outputs": [
    {
     "data": {
      "text/html": [
       "<div>\n",
       "<style scoped>\n",
       "    .dataframe tbody tr th:only-of-type {\n",
       "        vertical-align: middle;\n",
       "    }\n",
       "\n",
       "    .dataframe tbody tr th {\n",
       "        vertical-align: top;\n",
       "    }\n",
       "\n",
       "    .dataframe thead th {\n",
       "        text-align: right;\n",
       "    }\n",
       "</style>\n",
       "<table border=\"1\" class=\"dataframe\">\n",
       "  <thead>\n",
       "    <tr style=\"text-align: right;\">\n",
       "      <th></th>\n",
       "      <th>name</th>\n",
       "      <th>proportion_male</th>\n",
       "      <th>proportion_female</th>\n",
       "      <th>gender</th>\n",
       "      <th>year_min</th>\n",
       "      <th>year_max</th>\n",
       "    </tr>\n",
       "  </thead>\n",
       "  <tbody>\n",
       "    <tr>\n",
       "      <th>1</th>\n",
       "      <td>Aadarsh</td>\n",
       "      <td>1.0000</td>\n",
       "      <td>0.0000</td>\n",
       "      <td>male</td>\n",
       "      <td>2012.0</td>\n",
       "      <td>2012.0</td>\n",
       "    </tr>\n",
       "    <tr>\n",
       "      <th>2</th>\n",
       "      <td>Aaditya</td>\n",
       "      <td>1.0000</td>\n",
       "      <td>0.0000</td>\n",
       "      <td>male</td>\n",
       "      <td>2012.0</td>\n",
       "      <td>2012.0</td>\n",
       "    </tr>\n",
       "    <tr>\n",
       "      <th>3</th>\n",
       "      <td>Aaro</td>\n",
       "      <td>1.0000</td>\n",
       "      <td>0.0000</td>\n",
       "      <td>male</td>\n",
       "      <td>2012.0</td>\n",
       "      <td>2012.0</td>\n",
       "    </tr>\n",
       "    <tr>\n",
       "      <th>4</th>\n",
       "      <td>Aaron</td>\n",
       "      <td>0.9970</td>\n",
       "      <td>0.0030</td>\n",
       "      <td>male</td>\n",
       "      <td>2012.0</td>\n",
       "      <td>2012.0</td>\n",
       "    </tr>\n",
       "    <tr>\n",
       "      <th>5</th>\n",
       "      <td>Aayush</td>\n",
       "      <td>1.0000</td>\n",
       "      <td>0.0000</td>\n",
       "      <td>male</td>\n",
       "      <td>2012.0</td>\n",
       "      <td>2012.0</td>\n",
       "    </tr>\n",
       "    <tr>\n",
       "      <th>...</th>\n",
       "      <td>...</td>\n",
       "      <td>...</td>\n",
       "      <td>...</td>\n",
       "      <td>...</td>\n",
       "      <td>...</td>\n",
       "      <td>...</td>\n",
       "    </tr>\n",
       "    <tr>\n",
       "      <th>2337</th>\n",
       "      <td>Ziyan</td>\n",
       "      <td>0.4522</td>\n",
       "      <td>0.5478</td>\n",
       "      <td>female</td>\n",
       "      <td>2012.0</td>\n",
       "      <td>2012.0</td>\n",
       "    </tr>\n",
       "    <tr>\n",
       "      <th>2338</th>\n",
       "      <td>Zoe</td>\n",
       "      <td>0.0023</td>\n",
       "      <td>0.9977</td>\n",
       "      <td>female</td>\n",
       "      <td>2012.0</td>\n",
       "      <td>2012.0</td>\n",
       "    </tr>\n",
       "    <tr>\n",
       "      <th>2339</th>\n",
       "      <td>Zohar</td>\n",
       "      <td>0.5149</td>\n",
       "      <td>0.4851</td>\n",
       "      <td>male</td>\n",
       "      <td>2012.0</td>\n",
       "      <td>2012.0</td>\n",
       "    </tr>\n",
       "    <tr>\n",
       "      <th>2340</th>\n",
       "      <td>Zoran</td>\n",
       "      <td>1.0000</td>\n",
       "      <td>0.0000</td>\n",
       "      <td>male</td>\n",
       "      <td>2012.0</td>\n",
       "      <td>2012.0</td>\n",
       "    </tr>\n",
       "    <tr>\n",
       "      <th>2341</th>\n",
       "      <td>Zvi</td>\n",
       "      <td>1.0000</td>\n",
       "      <td>0.0000</td>\n",
       "      <td>male</td>\n",
       "      <td>2012.0</td>\n",
       "      <td>2012.0</td>\n",
       "    </tr>\n",
       "  </tbody>\n",
       "</table>\n",
       "<p>2341 rows × 6 columns</p>\n",
       "</div>"
      ],
      "text/plain": [
       "         name  proportion_male  proportion_female  gender  year_min  year_max\n",
       "1     Aadarsh           1.0000             0.0000    male    2012.0    2012.0\n",
       "2     Aaditya           1.0000             0.0000    male    2012.0    2012.0\n",
       "3        Aaro           1.0000             0.0000    male    2012.0    2012.0\n",
       "4       Aaron           0.9970             0.0030    male    2012.0    2012.0\n",
       "5      Aayush           1.0000             0.0000    male    2012.0    2012.0\n",
       "...       ...              ...                ...     ...       ...       ...\n",
       "2337    Ziyan           0.4522             0.5478  female    2012.0    2012.0\n",
       "2338      Zoe           0.0023             0.9977  female    2012.0    2012.0\n",
       "2339    Zohar           0.5149             0.4851    male    2012.0    2012.0\n",
       "2340    Zoran           1.0000             0.0000    male    2012.0    2012.0\n",
       "2341      Zvi           1.0000             0.0000    male    2012.0    2012.0\n",
       "\n",
       "[2341 rows x 6 columns]"
      ]
     },
     "execution_count": null,
     "metadata": {},
     "output_type": "execute_result"
    }
   ],
   "source": [
    "result"
   ]
  },
  {
   "cell_type": "code",
   "execution_count": null,
   "id": "aba3c71a-b096-49a4-a700-75b43ad1043c",
   "metadata": {},
   "outputs": [],
   "source": [
    "gender_map = dict(zip(result.name, result.gender))"
   ]
  },
  {
   "cell_type": "code",
   "execution_count": null,
   "id": "1d263c9d-d213-4a10-ae03-759830752364",
   "metadata": {},
   "outputs": [],
   "source": [
    "genders=np.vectorize(gender_map.get)(names)"
   ]
  },
  {
   "cell_type": "code",
   "execution_count": null,
   "id": "289b064d-c9ca-45d9-aed4-93e8dc784318",
   "metadata": {},
   "outputs": [],
   "source": [
    "np.save('genders', genders)"
   ]
  },
  {
   "cell_type": "code",
   "execution_count": null,
   "id": "3611e17a-ddc3-4cb6-b747-e38de666695b",
   "metadata": {},
   "outputs": [
    {
     "data": {
      "text/plain": [
       "(8938,)"
      ]
     },
     "execution_count": null,
     "metadata": {},
     "output_type": "execute_result"
    }
   ],
   "source": [
    "genders.shape"
   ]
  },
  {
   "cell_type": "code",
   "execution_count": null,
   "id": "7244d914-dc71-4fb0-b581-1d677ce4ad92",
   "metadata": {},
   "outputs": [
    {
     "name": "stdout",
     "output_type": "stream",
     "text": [
      "2341\n",
      "670\n",
      "1671\n"
     ]
    }
   ],
   "source": [
    "print(np.sum([genders != None]))\n",
    "print(np.sum([genders == 'female']))\n",
    "print(np.sum([genders == 'male']))"
   ]
  },
  {
   "cell_type": "code",
   "execution_count": null,
   "id": "fa0e3afb-ee40-4545-ae29-fe39f2d61246",
   "metadata": {},
   "outputs": [
    {
     "data": {
      "text/plain": [
       "26.19154173193108"
      ]
     },
     "execution_count": null,
     "metadata": {},
     "output_type": "execute_result"
    }
   ],
   "source": [
    "2341/8938*100"
   ]
  },
  {
   "cell_type": "code",
   "execution_count": null,
   "id": "ea620e88-7de4-40a7-adc8-4ba702f34c5c",
   "metadata": {},
   "outputs": [
    {
     "data": {
      "text/plain": [
       "990000.0"
      ]
     },
     "execution_count": null,
     "metadata": {},
     "output_type": "execute_result"
    }
   ],
   "source": [
    "1e6-0.01*1e6"
   ]
  },
  {
   "cell_type": "code",
   "execution_count": null,
   "id": "a5882cce-abd2-4b5e-bb85-2212e048e00a",
   "metadata": {},
   "outputs": [],
   "source": []
  }
 ],
 "metadata": {
  "kernelspec": {
   "display_name": "python3",
   "language": "python",
   "name": "python3"
  }
 },
 "nbformat": 4,
 "nbformat_minor": 5
}
