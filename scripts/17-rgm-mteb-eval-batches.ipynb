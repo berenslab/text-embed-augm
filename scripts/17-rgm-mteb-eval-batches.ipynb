{
 "cells": [
  {
   "cell_type": "code",
   "execution_count": null,
   "metadata": {},
   "outputs": [],
   "source": [
    "import pandas as pd\n",
    "import numpy as np\n",
    "import torch\n",
    "from transformers import AutoTokenizer, AutoModel\n",
    "import matplotlib as mpl\n",
    "import matplotlib.pyplot as plt\n",
    "from matplotlib import ticker\n",
    "import glasbey\n",
    "import pickle\n",
    "import time\n",
    "from pathlib import Path\n",
    "import distro\n",
    "\n",
    "%load_ext watermark"
   ]
  },
  {
   "cell_type": "code",
   "execution_count": null,
   "metadata": {},
   "outputs": [
    {
     "data": {
      "text/plain": [
       "'2.5.0+cu124'"
      ]
     },
     "execution_count": null,
     "metadata": {},
     "output_type": "execute_result"
    }
   ],
   "source": [
    "# old one '1.8.1+cu111'\n",
    "torch.__version__"
   ]
  },
  {
   "cell_type": "code",
   "execution_count": null,
   "metadata": {},
   "outputs": [
    {
     "name": "stdout",
     "output_type": "stream",
     "text": [
      "The autoreload extension is already loaded. To reload it, use:\n",
      "  %reload_ext autoreload\n"
     ]
    }
   ],
   "source": [
    "%load_ext autoreload\n",
    "%autoreload 2\n",
    "\n",
    "from text_embeddings_src.train_stuff import *\n",
    "from text_embeddings_src.eval_functions import KNNEval, MTEBEval\n",
    "from text_embeddings_src.models import FineTunedHFModelWrapper\n",
    "from text_embeddings_src.data_stuff import (\n",
    "    MultOverlappingSentencesPairDataset,\n",
    ")"
   ]
  },
  {
   "cell_type": "code",
   "execution_count": null,
   "metadata": {},
   "outputs": [],
   "source": [
    "import black\n",
    "import jupyter_black\n",
    "\n",
    "jupyter_black.load(line_length=79)"
   ]
  },
  {
   "cell_type": "code",
   "execution_count": null,
   "metadata": {},
   "outputs": [],
   "source": [
    "variables_path = Path(\"../../results/variables\")\n",
    "figures_path = Path(\"../../results/figures/updated_dataset\")\n",
    "data_path = Path(\"../../data\")"
   ]
  },
  {
   "cell_type": "code",
   "execution_count": null,
   "metadata": {},
   "outputs": [],
   "source": [
    "# MANUAL FIX TO PATH ISSUE FROM VSCODE\n",
    "import text_embeddings_src\n",
    "\n",
    "nb_path = Path(text_embeddings_src.__path__[0]).parents[0] / Path(\n",
    "    \"scripts/updated_dataset\"\n",
    ")\n",
    "assert nb_path.exists(), \"The path does not exist\"\n",
    "\n",
    "variables_path = (nb_path / variables_path).resolve(strict=True)\n",
    "figures_path = (nb_path / figures_path).resolve(strict=True)\n",
    "data_path = (nb_path / data_path).resolve(strict=True)"
   ]
  },
  {
   "cell_type": "code",
   "execution_count": null,
   "metadata": {},
   "outputs": [],
   "source": [
    "plt.style.use((nb_path / Path(\"../matplotlib_style.txt\")).resolve(strict=True))"
   ]
  },
  {
   "cell_type": "code",
   "execution_count": null,
   "metadata": {},
   "outputs": [
    {
     "name": "stdout",
     "output_type": "stream",
     "text": [
      "Author: Rita González-Márquez\n",
      "\n",
      "Last updated: 2025-03-13 15:57:01CET\n",
      "\n",
      "Python implementation: CPython\n",
      "Python version       : 3.12.4\n",
      "IPython version      : 8.31.0\n",
      "\n",
      "Compiler    : GCC 11.2.0\n",
      "OS          : Linux\n",
      "Release     : 4.18.0-553.el8_10.x86_64\n",
      "Machine     : x86_64\n",
      "Processor   : x86_64\n",
      "CPU cores   : 64\n",
      "Architecture: 64bit\n",
      "\n",
      "Hostname: rgonzalesmarquez_GPU0-llm_gber7\n",
      "\n",
      "tqdm               : 4.66.4\n",
      "matplotlib         : 3.9.2\n",
      "distro             : 1.9.0\n",
      "glasbey            : 0.2.1\n",
      "numpy              : 1.26.4\n",
      "transformers       : 4.45.2\n",
      "torch              : 2.5.0\n",
      "jupyter_black      : 0.4.0\n",
      "text_embeddings_src: 0.0.0\n",
      "pandas             : 2.2.3\n",
      "black              : 24.10.0\n",
      "\n",
      "Watermark: 2.5.0\n",
      "\n",
      "Ubuntu 24.04 LTS\n"
     ]
    }
   ],
   "source": [
    "%watermark -a 'Rita González-Márquez' -t -d -tz -u -v -iv -w -m -h\n",
    "print(distro.name(pretty=True))"
   ]
  },
  {
   "cell_type": "markdown",
   "metadata": {},
   "source": [
    "# Import ICLR dataset"
   ]
  },
  {
   "cell_type": "code",
   "execution_count": null,
   "metadata": {},
   "outputs": [
    {
     "name": "stdout",
     "output_type": "stream",
     "text": [
      "CPU times: user 270 ms, sys: 60.9 ms, total: 331 ms\n",
      "Wall time: 355 ms\n"
     ]
    }
   ],
   "source": [
    "%%time\n",
    "iclr2024 = pd.read_parquet(\n",
    "    data_path / \"iclr2024.parquet.gzip\",\n",
    "    engine=\"pyarrow\",\n",
    ")"
   ]
  },
  {
   "cell_type": "code",
   "execution_count": null,
   "metadata": {},
   "outputs": [],
   "source": [
    "iclr2024.keywords = iclr2024.keywords.transform(lambda x: list(x))\n",
    "iclr2024.scores = iclr2024.scores.transform(lambda x: list(x))"
   ]
  },
  {
   "cell_type": "code",
   "execution_count": null,
   "metadata": {},
   "outputs": [
    {
     "data": {
      "text/html": [
       "<div>\n",
       "<style scoped>\n",
       "    .dataframe tbody tr th:only-of-type {\n",
       "        vertical-align: middle;\n",
       "    }\n",
       "\n",
       "    .dataframe tbody tr th {\n",
       "        vertical-align: top;\n",
       "    }\n",
       "\n",
       "    .dataframe thead th {\n",
       "        text-align: right;\n",
       "    }\n",
       "</style>\n",
       "<table border=\"1\" class=\"dataframe\">\n",
       "  <thead>\n",
       "    <tr style=\"text-align: right;\">\n",
       "      <th></th>\n",
       "      <th>index</th>\n",
       "      <th>year</th>\n",
       "      <th>id</th>\n",
       "      <th>title</th>\n",
       "      <th>abstract</th>\n",
       "      <th>authors</th>\n",
       "      <th>decision</th>\n",
       "      <th>scores</th>\n",
       "      <th>keywords</th>\n",
       "      <th>gender-first</th>\n",
       "      <th>gender-last</th>\n",
       "      <th>t-SNE x</th>\n",
       "      <th>t-SNE y</th>\n",
       "    </tr>\n",
       "  </thead>\n",
       "  <tbody>\n",
       "    <tr>\n",
       "      <th>0</th>\n",
       "      <td>0</td>\n",
       "      <td>2017</td>\n",
       "      <td>S1VaB4cex</td>\n",
       "      <td>FractalNet: Ultra-Deep Neural Networks without...</td>\n",
       "      <td>We introduce a design strategy for neural netw...</td>\n",
       "      <td>Gustav Larsson, Michael Maire, Gregory Shakhna...</td>\n",
       "      <td>Accept (Poster)</td>\n",
       "      <td>[5, 7, 6, 6]</td>\n",
       "      <td>[]</td>\n",
       "      <td>male</td>\n",
       "      <td>male</td>\n",
       "      <td>-28.117955</td>\n",
       "      <td>-20.418127</td>\n",
       "    </tr>\n",
       "    <tr>\n",
       "      <th>1</th>\n",
       "      <td>1</td>\n",
       "      <td>2017</td>\n",
       "      <td>H1W1UN9gg</td>\n",
       "      <td>Deep Information Propagation</td>\n",
       "      <td>We study the behavior of untrained neural netw...</td>\n",
       "      <td>Samuel S. Schoenholz, Justin Gilmer, Surya Gan...</td>\n",
       "      <td>Accept (Poster)</td>\n",
       "      <td>[8, 9, 8]</td>\n",
       "      <td>[theory, deep learning]</td>\n",
       "      <td>male</td>\n",
       "      <td>None</td>\n",
       "      <td>-32.466820</td>\n",
       "      <td>-10.791123</td>\n",
       "    </tr>\n",
       "    <tr>\n",
       "      <th>2</th>\n",
       "      <td>2</td>\n",
       "      <td>2017</td>\n",
       "      <td>r1GKzP5xx</td>\n",
       "      <td>Recurrent Normalization Propagation</td>\n",
       "      <td>We propose a LSTM parametrization  that preser...</td>\n",
       "      <td>César Laurent, Nicolas Ballas, Pascal Vincent</td>\n",
       "      <td>Invite to Workshop Track</td>\n",
       "      <td>[4, 6, 6]</td>\n",
       "      <td>[deep learning, optimization]</td>\n",
       "      <td>None</td>\n",
       "      <td>male</td>\n",
       "      <td>3.504240</td>\n",
       "      <td>19.946053</td>\n",
       "    </tr>\n",
       "    <tr>\n",
       "      <th>3</th>\n",
       "      <td>3</td>\n",
       "      <td>2017</td>\n",
       "      <td>S1J0E-71l</td>\n",
       "      <td>Surprisal-Driven Feedback in Recurrent Networks</td>\n",
       "      <td>Recurrent neural nets are widely used for pred...</td>\n",
       "      <td>K, a, m, i, l,  , R, o, c, k, i</td>\n",
       "      <td>Reject</td>\n",
       "      <td>[3, 4, 3]</td>\n",
       "      <td>[unsupervised learning, applications, deep lea...</td>\n",
       "      <td>None</td>\n",
       "      <td>None</td>\n",
       "      <td>4.553473</td>\n",
       "      <td>16.037763</td>\n",
       "    </tr>\n",
       "    <tr>\n",
       "      <th>4</th>\n",
       "      <td>4</td>\n",
       "      <td>2017</td>\n",
       "      <td>SJGCiw5gl</td>\n",
       "      <td>Pruning Convolutional Neural Networks for Reso...</td>\n",
       "      <td>We propose a new formulation for pruning convo...</td>\n",
       "      <td>Pavlo Molchanov, Stephen Tyree, Tero Karras, T...</td>\n",
       "      <td>Accept (Poster)</td>\n",
       "      <td>[6, 7, 9]</td>\n",
       "      <td>[deep learning, transfer learning]</td>\n",
       "      <td>None</td>\n",
       "      <td>male</td>\n",
       "      <td>-25.827705</td>\n",
       "      <td>-37.891772</td>\n",
       "    </tr>\n",
       "    <tr>\n",
       "      <th>...</th>\n",
       "      <td>...</td>\n",
       "      <td>...</td>\n",
       "      <td>...</td>\n",
       "      <td>...</td>\n",
       "      <td>...</td>\n",
       "      <td>...</td>\n",
       "      <td>...</td>\n",
       "      <td>...</td>\n",
       "      <td>...</td>\n",
       "      <td>...</td>\n",
       "      <td>...</td>\n",
       "      <td>...</td>\n",
       "      <td>...</td>\n",
       "    </tr>\n",
       "    <tr>\n",
       "      <th>24342</th>\n",
       "      <td>7299</td>\n",
       "      <td>2024</td>\n",
       "      <td>1bbPQShCT2</td>\n",
       "      <td>I-PHYRE: Interactive Physical Reasoning</td>\n",
       "      <td>Current evaluation protocols predominantly ass...</td>\n",
       "      <td></td>\n",
       "      <td></td>\n",
       "      <td>[]</td>\n",
       "      <td>[intuitive physics, physical reasoning]</td>\n",
       "      <td>None</td>\n",
       "      <td>None</td>\n",
       "      <td>43.137120</td>\n",
       "      <td>44.316133</td>\n",
       "    </tr>\n",
       "    <tr>\n",
       "      <th>24343</th>\n",
       "      <td>7300</td>\n",
       "      <td>2024</td>\n",
       "      <td>Ny150AblPu</td>\n",
       "      <td>EXPOSING TEXT-IMAGE INCONSISTENCY USING DIFFUS...</td>\n",
       "      <td>In the battle against widespread online misinf...</td>\n",
       "      <td></td>\n",
       "      <td></td>\n",
       "      <td>[]</td>\n",
       "      <td>[mis-contextualization, media forensic]</td>\n",
       "      <td>None</td>\n",
       "      <td>None</td>\n",
       "      <td>59.742172</td>\n",
       "      <td>-22.673627</td>\n",
       "    </tr>\n",
       "    <tr>\n",
       "      <th>24344</th>\n",
       "      <td>7301</td>\n",
       "      <td>2024</td>\n",
       "      <td>ZGBOfAQrMl</td>\n",
       "      <td>Video Super-Resolution Transformer with Masked...</td>\n",
       "      <td>Recently, Vision Transformer has achieved grea...</td>\n",
       "      <td></td>\n",
       "      <td></td>\n",
       "      <td>[]</td>\n",
       "      <td>[video super-resolution, adaptive, memory and ...</td>\n",
       "      <td>None</td>\n",
       "      <td>None</td>\n",
       "      <td>57.933273</td>\n",
       "      <td>-3.932825</td>\n",
       "    </tr>\n",
       "    <tr>\n",
       "      <th>24345</th>\n",
       "      <td>7302</td>\n",
       "      <td>2024</td>\n",
       "      <td>J2kRjUAOLh</td>\n",
       "      <td>Contrastive Predict-and-Search for Mixed Integ...</td>\n",
       "      <td>Mixed integer linear programs  (MILP) are flex...</td>\n",
       "      <td></td>\n",
       "      <td></td>\n",
       "      <td>[]</td>\n",
       "      <td>[mixed integer programs; contrastive learning]</td>\n",
       "      <td>None</td>\n",
       "      <td>None</td>\n",
       "      <td>-11.437999</td>\n",
       "      <td>21.289523</td>\n",
       "    </tr>\n",
       "    <tr>\n",
       "      <th>24346</th>\n",
       "      <td>7303</td>\n",
       "      <td>2024</td>\n",
       "      <td>U0P622bfUN</td>\n",
       "      <td>Federated Generative Learning with Foundation ...</td>\n",
       "      <td>Existing federated learning solutions focus on...</td>\n",
       "      <td></td>\n",
       "      <td></td>\n",
       "      <td>[]</td>\n",
       "      <td>[federated learning, non-iid data]</td>\n",
       "      <td>None</td>\n",
       "      <td>None</td>\n",
       "      <td>-65.112587</td>\n",
       "      <td>18.746354</td>\n",
       "    </tr>\n",
       "  </tbody>\n",
       "</table>\n",
       "<p>24347 rows × 13 columns</p>\n",
       "</div>"
      ],
      "text/plain": [
       "       index  year          id  \\\n",
       "0          0  2017   S1VaB4cex   \n",
       "1          1  2017   H1W1UN9gg   \n",
       "2          2  2017   r1GKzP5xx   \n",
       "3          3  2017   S1J0E-71l   \n",
       "4          4  2017   SJGCiw5gl   \n",
       "...      ...   ...         ...   \n",
       "24342   7299  2024  1bbPQShCT2   \n",
       "24343   7300  2024  Ny150AblPu   \n",
       "24344   7301  2024  ZGBOfAQrMl   \n",
       "24345   7302  2024  J2kRjUAOLh   \n",
       "24346   7303  2024  U0P622bfUN   \n",
       "\n",
       "                                                   title  \\\n",
       "0      FractalNet: Ultra-Deep Neural Networks without...   \n",
       "1                           Deep Information Propagation   \n",
       "2                    Recurrent Normalization Propagation   \n",
       "3        Surprisal-Driven Feedback in Recurrent Networks   \n",
       "4      Pruning Convolutional Neural Networks for Reso...   \n",
       "...                                                  ...   \n",
       "24342            I-PHYRE: Interactive Physical Reasoning   \n",
       "24343  EXPOSING TEXT-IMAGE INCONSISTENCY USING DIFFUS...   \n",
       "24344  Video Super-Resolution Transformer with Masked...   \n",
       "24345  Contrastive Predict-and-Search for Mixed Integ...   \n",
       "24346  Federated Generative Learning with Foundation ...   \n",
       "\n",
       "                                                abstract  \\\n",
       "0      We introduce a design strategy for neural netw...   \n",
       "1      We study the behavior of untrained neural netw...   \n",
       "2      We propose a LSTM parametrization  that preser...   \n",
       "3      Recurrent neural nets are widely used for pred...   \n",
       "4      We propose a new formulation for pruning convo...   \n",
       "...                                                  ...   \n",
       "24342  Current evaluation protocols predominantly ass...   \n",
       "24343  In the battle against widespread online misinf...   \n",
       "24344  Recently, Vision Transformer has achieved grea...   \n",
       "24345  Mixed integer linear programs  (MILP) are flex...   \n",
       "24346  Existing federated learning solutions focus on...   \n",
       "\n",
       "                                                 authors  \\\n",
       "0      Gustav Larsson, Michael Maire, Gregory Shakhna...   \n",
       "1      Samuel S. Schoenholz, Justin Gilmer, Surya Gan...   \n",
       "2          César Laurent, Nicolas Ballas, Pascal Vincent   \n",
       "3                        K, a, m, i, l,  , R, o, c, k, i   \n",
       "4      Pavlo Molchanov, Stephen Tyree, Tero Karras, T...   \n",
       "...                                                  ...   \n",
       "24342                                                      \n",
       "24343                                                      \n",
       "24344                                                      \n",
       "24345                                                      \n",
       "24346                                                      \n",
       "\n",
       "                       decision        scores  \\\n",
       "0               Accept (Poster)  [5, 7, 6, 6]   \n",
       "1               Accept (Poster)     [8, 9, 8]   \n",
       "2      Invite to Workshop Track     [4, 6, 6]   \n",
       "3                        Reject     [3, 4, 3]   \n",
       "4               Accept (Poster)     [6, 7, 9]   \n",
       "...                         ...           ...   \n",
       "24342                                      []   \n",
       "24343                                      []   \n",
       "24344                                      []   \n",
       "24345                                      []   \n",
       "24346                                      []   \n",
       "\n",
       "                                                keywords gender-first  \\\n",
       "0                                                     []         male   \n",
       "1                                [theory, deep learning]         male   \n",
       "2                          [deep learning, optimization]         None   \n",
       "3      [unsupervised learning, applications, deep lea...         None   \n",
       "4                     [deep learning, transfer learning]         None   \n",
       "...                                                  ...          ...   \n",
       "24342            [intuitive physics, physical reasoning]         None   \n",
       "24343            [mis-contextualization, media forensic]         None   \n",
       "24344  [video super-resolution, adaptive, memory and ...         None   \n",
       "24345     [mixed integer programs; contrastive learning]         None   \n",
       "24346                 [federated learning, non-iid data]         None   \n",
       "\n",
       "      gender-last    t-SNE x    t-SNE y  \n",
       "0            male -28.117955 -20.418127  \n",
       "1            None -32.466820 -10.791123  \n",
       "2            male   3.504240  19.946053  \n",
       "3            None   4.553473  16.037763  \n",
       "4            male -25.827705 -37.891772  \n",
       "...           ...        ...        ...  \n",
       "24342        None  43.137120  44.316133  \n",
       "24343        None  59.742172 -22.673627  \n",
       "24344        None  57.933273  -3.932825  \n",
       "24345        None -11.437999  21.289523  \n",
       "24346        None -65.112587  18.746354  \n",
       "\n",
       "[24347 rows x 13 columns]"
      ]
     },
     "execution_count": null,
     "metadata": {},
     "output_type": "execute_result"
    }
   ],
   "source": [
    "iclr2024"
   ]
  },
  {
   "cell_type": "code",
   "execution_count": null,
   "metadata": {},
   "outputs": [],
   "source": [
    "labels_iclr = np.load(variables_path / \"updated_dataset\" / \"labels_iclr.npy\")\n",
    "colors_iclr = np.load(variables_path / \"updated_dataset\" / \"colors_iclr.npy\")\n",
    "\n",
    "pickle_in = open(\n",
    "    variables_path / \"updated_dataset\" / \"dict_label_to_color.pkl\", \"rb\"\n",
    ")\n",
    "dict_label_to_color = pickle.load(pickle_in)"
   ]
  },
  {
   "cell_type": "code",
   "execution_count": null,
   "metadata": {},
   "outputs": [
    {
     "data": {
      "text/plain": [
       "numpy.ndarray"
      ]
     },
     "execution_count": null,
     "metadata": {},
     "output_type": "execute_result"
    }
   ],
   "source": [
    "iclr2024.abstract[labels_iclr != \"unlabeled\"].to_list()\n",
    "type(labels_iclr)"
   ]
  },
  {
   "cell_type": "markdown",
   "metadata": {},
   "source": [
    "# Benchmarks"
   ]
  },
  {
   "cell_type": "markdown",
   "metadata": {},
   "source": [
    "## Tasks"
   ]
  },
  {
   "cell_type": "code",
   "execution_count": null,
   "metadata": {},
   "outputs": [],
   "source": [
    "mteb_tasks = [\n",
    "    \"ArxivClusteringP2P\",\n",
    "    \"BiorxivClusteringP2P\",\n",
    "    \"MedrxivClusteringP2P\",\n",
    "    \"RedditClusteringP2P\",\n",
    "    # \"TwentyNewsgroupsClustering\",\n",
    "    \"StackExchangeClusteringP2P\",\n",
    "    \"SciDocsRR\",\n",
    "    \"MindSmallReranking\",\n",
    "    \"SCIDOCS\",\n",
    "    \"ArguAna\",\n",
    "    \"STS12\",\n",
    "    \"STS13\",\n",
    "    \"STS14\",\n",
    "    \"STS15\",\n",
    "    \"STS16\",\n",
    "    \"STSBenchmark\",\n",
    "]"
   ]
  },
  {
   "cell_type": "markdown",
   "metadata": {},
   "source": [
    "### Fine-tuned MPNet (crops)"
   ]
  },
  {
   "cell_type": "code",
   "execution_count": null,
   "metadata": {},
   "outputs": [],
   "source": [
    "model_name = \"MPNet\"\n",
    "model_path = \"microsoft/mpnet-base\""
   ]
  },
  {
   "cell_type": "code",
   "execution_count": null,
   "metadata": {},
   "outputs": [
    {
     "name": "stdout",
     "output_type": "stream",
     "text": [
      "Model:  MPNet\n",
      "Running on device: cuda\n"
     ]
    },
    {
     "name": "stderr",
     "output_type": "stream",
     "text": [
      "Some weights of MPNetModel were not initialized from the model checkpoint at microsoft/mpnet-base and are newly initialized: ['mpnet.pooler.dense.bias', 'mpnet.pooler.dense.weight']\n",
      "You should probably TRAIN this model on a down-stream task to be able to use it for predictions and inference.\n"
     ]
    },
    {
     "name": "stdout",
     "output_type": "stream",
     "text": [
      "CPU times: user 109 ms, sys: 8.99 ms, total: 118 ms\n",
      "Wall time: 454 ms\n"
     ]
    }
   ],
   "source": [
    "%%time\n",
    "\n",
    "# fix random seeds\n",
    "fix_all_seeds()\n",
    "\n",
    "# set up model\n",
    "print(\"Model: \", model_name)\n",
    "\n",
    "device = \"cuda\" if torch.cuda.is_available() else \"cpu\"\n",
    "print(\"Running on device: {}\".format(device))\n",
    "\n",
    "tokenizer = AutoTokenizer.from_pretrained(model_path)\n",
    "model = AutoModel.from_pretrained(model_path)\n",
    "\n",
    "# wrap model\n",
    "wrapped_model = FineTunedHFModelWrapper(model, tokenizer)"
   ]
  },
  {
   "cell_type": "code",
   "execution_count": null,
   "metadata": {},
   "outputs": [
    {
     "data": {
      "application/vnd.jupyter.widget-view+json": {
       "model_id": "d1ac3c787f5c4737a20eb94cf6845377",
       "version_major": 2,
       "version_minor": 0
      },
      "text/plain": [
       "  0%|          | 0/368 [00:00<?, ?it/s]"
      ]
     },
     "metadata": {},
     "output_type": "display_data"
    },
    {
     "data": {
      "text/html": [
       "<pre style=\"white-space:pre;overflow-x:auto;line-height:normal;font-family:Menlo,'DejaVu Sans Mono',consolas,'Courier New',monospace\"><span style=\"color: #262626; text-decoration-color: #262626\">───────────────────────────────────────────────── </span><span style=\"font-weight: bold\">Selected tasks </span><span style=\"color: #262626; text-decoration-color: #262626\"> ─────────────────────────────────────────────────</span>\n",
       "</pre>\n"
      ],
      "text/plain": [
       "\u001b[38;5;235m───────────────────────────────────────────────── \u001b[0m\u001b[1mSelected tasks \u001b[0m\u001b[38;5;235m ─────────────────────────────────────────────────\u001b[0m\n"
      ]
     },
     "metadata": {},
     "output_type": "display_data"
    },
    {
     "data": {
      "text/html": [
       "<pre style=\"white-space:pre;overflow-x:auto;line-height:normal;font-family:Menlo,'DejaVu Sans Mono',consolas,'Courier New',monospace\"><span style=\"font-weight: bold\">Clustering</span>\n",
       "</pre>\n"
      ],
      "text/plain": [
       "\u001b[1mClustering\u001b[0m\n"
      ]
     },
     "metadata": {},
     "output_type": "display_data"
    },
    {
     "data": {
      "text/html": [
       "<pre style=\"white-space:pre;overflow-x:auto;line-height:normal;font-family:Menlo,'DejaVu Sans Mono',consolas,'Courier New',monospace\">    - ArxivClusteringP2P, <span style=\"color: #626262; text-decoration-color: #626262; font-style: italic\">p2p</span>\n",
       "</pre>\n"
      ],
      "text/plain": [
       "    - ArxivClusteringP2P, \u001b[3;38;5;241mp2p\u001b[0m\n"
      ]
     },
     "metadata": {},
     "output_type": "display_data"
    },
    {
     "data": {
      "text/html": [
       "<pre style=\"white-space:pre;overflow-x:auto;line-height:normal;font-family:Menlo,'DejaVu Sans Mono',consolas,'Courier New',monospace\">    - BiorxivClusteringP2P, <span style=\"color: #626262; text-decoration-color: #626262; font-style: italic\">p2p</span>\n",
       "</pre>\n"
      ],
      "text/plain": [
       "    - BiorxivClusteringP2P, \u001b[3;38;5;241mp2p\u001b[0m\n"
      ]
     },
     "metadata": {},
     "output_type": "display_data"
    },
    {
     "data": {
      "text/html": [
       "<pre style=\"white-space:pre;overflow-x:auto;line-height:normal;font-family:Menlo,'DejaVu Sans Mono',consolas,'Courier New',monospace\">    - MedrxivClusteringP2P, <span style=\"color: #626262; text-decoration-color: #626262; font-style: italic\">p2p</span>\n",
       "</pre>\n"
      ],
      "text/plain": [
       "    - MedrxivClusteringP2P, \u001b[3;38;5;241mp2p\u001b[0m\n"
      ]
     },
     "metadata": {},
     "output_type": "display_data"
    },
    {
     "data": {
      "text/html": [
       "<pre style=\"white-space:pre;overflow-x:auto;line-height:normal;font-family:Menlo,'DejaVu Sans Mono',consolas,'Courier New',monospace\">    - RedditClusteringP2P, <span style=\"color: #626262; text-decoration-color: #626262; font-style: italic\">p2p</span>\n",
       "</pre>\n"
      ],
      "text/plain": [
       "    - RedditClusteringP2P, \u001b[3;38;5;241mp2p\u001b[0m\n"
      ]
     },
     "metadata": {},
     "output_type": "display_data"
    },
    {
     "data": {
      "text/html": [
       "<pre style=\"white-space:pre;overflow-x:auto;line-height:normal;font-family:Menlo,'DejaVu Sans Mono',consolas,'Courier New',monospace\">    - StackExchangeClusteringP2P, <span style=\"color: #626262; text-decoration-color: #626262; font-style: italic\">p2p</span>\n",
       "</pre>\n"
      ],
      "text/plain": [
       "    - StackExchangeClusteringP2P, \u001b[3;38;5;241mp2p\u001b[0m\n"
      ]
     },
     "metadata": {},
     "output_type": "display_data"
    },
    {
     "data": {
      "text/html": [
       "<pre style=\"white-space:pre;overflow-x:auto;line-height:normal;font-family:Menlo,'DejaVu Sans Mono',consolas,'Courier New',monospace\">\n",
       "\n",
       "</pre>\n"
      ],
      "text/plain": [
       "\n",
       "\n"
      ]
     },
     "metadata": {},
     "output_type": "display_data"
    },
    {
     "data": {
      "text/html": [
       "<pre style=\"white-space:pre;overflow-x:auto;line-height:normal;font-family:Menlo,'DejaVu Sans Mono',consolas,'Courier New',monospace\"><span style=\"font-weight: bold\">Reranking</span>\n",
       "</pre>\n"
      ],
      "text/plain": [
       "\u001b[1mReranking\u001b[0m\n"
      ]
     },
     "metadata": {},
     "output_type": "display_data"
    },
    {
     "data": {
      "text/html": [
       "<pre style=\"white-space:pre;overflow-x:auto;line-height:normal;font-family:Menlo,'DejaVu Sans Mono',consolas,'Courier New',monospace\">    - SciDocsRR, <span style=\"color: #626262; text-decoration-color: #626262; font-style: italic\">s2s</span>\n",
       "</pre>\n"
      ],
      "text/plain": [
       "    - SciDocsRR, \u001b[3;38;5;241ms2s\u001b[0m\n"
      ]
     },
     "metadata": {},
     "output_type": "display_data"
    },
    {
     "data": {
      "text/html": [
       "<pre style=\"white-space:pre;overflow-x:auto;line-height:normal;font-family:Menlo,'DejaVu Sans Mono',consolas,'Courier New',monospace\">    - MindSmallReranking, <span style=\"color: #626262; text-decoration-color: #626262; font-style: italic\">s2s</span>\n",
       "</pre>\n"
      ],
      "text/plain": [
       "    - MindSmallReranking, \u001b[3;38;5;241ms2s\u001b[0m\n"
      ]
     },
     "metadata": {},
     "output_type": "display_data"
    },
    {
     "data": {
      "text/html": [
       "<pre style=\"white-space:pre;overflow-x:auto;line-height:normal;font-family:Menlo,'DejaVu Sans Mono',consolas,'Courier New',monospace\">\n",
       "\n",
       "</pre>\n"
      ],
      "text/plain": [
       "\n",
       "\n"
      ]
     },
     "metadata": {},
     "output_type": "display_data"
    },
    {
     "data": {
      "text/html": [
       "<pre style=\"white-space:pre;overflow-x:auto;line-height:normal;font-family:Menlo,'DejaVu Sans Mono',consolas,'Courier New',monospace\"><span style=\"font-weight: bold\">Retrieval</span>\n",
       "</pre>\n"
      ],
      "text/plain": [
       "\u001b[1mRetrieval\u001b[0m\n"
      ]
     },
     "metadata": {},
     "output_type": "display_data"
    },
    {
     "data": {
      "text/html": [
       "<pre style=\"white-space:pre;overflow-x:auto;line-height:normal;font-family:Menlo,'DejaVu Sans Mono',consolas,'Courier New',monospace\">    - SCIDOCS, <span style=\"color: #626262; text-decoration-color: #626262; font-style: italic\">s2p</span>\n",
       "</pre>\n"
      ],
      "text/plain": [
       "    - SCIDOCS, \u001b[3;38;5;241ms2p\u001b[0m\n"
      ]
     },
     "metadata": {},
     "output_type": "display_data"
    },
    {
     "data": {
      "text/html": [
       "<pre style=\"white-space:pre;overflow-x:auto;line-height:normal;font-family:Menlo,'DejaVu Sans Mono',consolas,'Courier New',monospace\">    - ArguAna, <span style=\"color: #626262; text-decoration-color: #626262; font-style: italic\">s2p</span>\n",
       "</pre>\n"
      ],
      "text/plain": [
       "    - ArguAna, \u001b[3;38;5;241ms2p\u001b[0m\n"
      ]
     },
     "metadata": {},
     "output_type": "display_data"
    },
    {
     "data": {
      "text/html": [
       "<pre style=\"white-space:pre;overflow-x:auto;line-height:normal;font-family:Menlo,'DejaVu Sans Mono',consolas,'Courier New',monospace\">\n",
       "\n",
       "</pre>\n"
      ],
      "text/plain": [
       "\n",
       "\n"
      ]
     },
     "metadata": {},
     "output_type": "display_data"
    },
    {
     "data": {
      "text/html": [
       "<pre style=\"white-space:pre;overflow-x:auto;line-height:normal;font-family:Menlo,'DejaVu Sans Mono',consolas,'Courier New',monospace\"><span style=\"font-weight: bold\">STS</span>\n",
       "</pre>\n"
      ],
      "text/plain": [
       "\u001b[1mSTS\u001b[0m\n"
      ]
     },
     "metadata": {},
     "output_type": "display_data"
    },
    {
     "data": {
      "text/html": [
       "<pre style=\"white-space:pre;overflow-x:auto;line-height:normal;font-family:Menlo,'DejaVu Sans Mono',consolas,'Courier New',monospace\">    - STS12, <span style=\"color: #626262; text-decoration-color: #626262; font-style: italic\">s2s</span>\n",
       "</pre>\n"
      ],
      "text/plain": [
       "    - STS12, \u001b[3;38;5;241ms2s\u001b[0m\n"
      ]
     },
     "metadata": {},
     "output_type": "display_data"
    },
    {
     "data": {
      "text/html": [
       "<pre style=\"white-space:pre;overflow-x:auto;line-height:normal;font-family:Menlo,'DejaVu Sans Mono',consolas,'Courier New',monospace\">    - STS13, <span style=\"color: #626262; text-decoration-color: #626262; font-style: italic\">s2s</span>\n",
       "</pre>\n"
      ],
      "text/plain": [
       "    - STS13, \u001b[3;38;5;241ms2s\u001b[0m\n"
      ]
     },
     "metadata": {},
     "output_type": "display_data"
    },
    {
     "data": {
      "text/html": [
       "<pre style=\"white-space:pre;overflow-x:auto;line-height:normal;font-family:Menlo,'DejaVu Sans Mono',consolas,'Courier New',monospace\">    - STS14, <span style=\"color: #626262; text-decoration-color: #626262; font-style: italic\">s2s</span>\n",
       "</pre>\n"
      ],
      "text/plain": [
       "    - STS14, \u001b[3;38;5;241ms2s\u001b[0m\n"
      ]
     },
     "metadata": {},
     "output_type": "display_data"
    },
    {
     "data": {
      "text/html": [
       "<pre style=\"white-space:pre;overflow-x:auto;line-height:normal;font-family:Menlo,'DejaVu Sans Mono',consolas,'Courier New',monospace\">    - STS15, <span style=\"color: #626262; text-decoration-color: #626262; font-style: italic\">s2s</span>\n",
       "</pre>\n"
      ],
      "text/plain": [
       "    - STS15, \u001b[3;38;5;241ms2s\u001b[0m\n"
      ]
     },
     "metadata": {},
     "output_type": "display_data"
    },
    {
     "data": {
      "text/html": [
       "<pre style=\"white-space:pre;overflow-x:auto;line-height:normal;font-family:Menlo,'DejaVu Sans Mono',consolas,'Courier New',monospace\">    - STS16, <span style=\"color: #626262; text-decoration-color: #626262; font-style: italic\">s2s</span>\n",
       "</pre>\n"
      ],
      "text/plain": [
       "    - STS16, \u001b[3;38;5;241ms2s\u001b[0m\n"
      ]
     },
     "metadata": {},
     "output_type": "display_data"
    },
    {
     "data": {
      "text/html": [
       "<pre style=\"white-space:pre;overflow-x:auto;line-height:normal;font-family:Menlo,'DejaVu Sans Mono',consolas,'Courier New',monospace\">    - STSBenchmark, <span style=\"color: #626262; text-decoration-color: #626262; font-style: italic\">s2s</span>\n",
       "</pre>\n"
      ],
      "text/plain": [
       "    - STSBenchmark, \u001b[3;38;5;241ms2s\u001b[0m\n"
      ]
     },
     "metadata": {},
     "output_type": "display_data"
    },
    {
     "data": {
      "text/html": [
       "<pre style=\"white-space:pre;overflow-x:auto;line-height:normal;font-family:Menlo,'DejaVu Sans Mono',consolas,'Courier New',monospace\">\n",
       "\n",
       "</pre>\n"
      ],
      "text/plain": [
       "\n",
       "\n"
      ]
     },
     "metadata": {},
     "output_type": "display_data"
    },
    {
     "name": "stderr",
     "output_type": "stream",
     "text": [
      "WARNING:mteb.abstasks.AbsTask:Dataset 'ArxivClusteringP2P' is superseeded by 'ArXivHierarchicalClusteringP2P', you might consider using the newer version of the dataset.\n",
      "Clustering: 100%|███████████████████████████████████████████████████████████████████████████████████████████████████████████████████████████████████████████████████████████████████████████████| 31/31 [58:14<00:00, 112.72s/it]\n",
      "WARNING:mteb.abstasks.AbsTask:Dataset 'BiorxivClusteringP2P' is superseeded by 'BiorxivClusteringP2P.v2', you might consider using the newer version of the dataset.\n",
      "Clustering: 100%|████████████████████████████████████████████████████████████████████████████████████████████████████████████████████████████████████████████████████████████████████████████████| 10/10 [07:34<00:00, 45.46s/it]\n",
      "WARNING:mteb.abstasks.AbsTask:Dataset 'MedrxivClusteringP2P' is superseeded by 'MedrxivClusteringP2P.v2', you might consider using the newer version of the dataset.\n",
      "Clustering: 100%|████████████████████████████████████████████████████████████████████████████████████████████████████████████████████████████████████████████████████████████████████████████████| 10/10 [03:57<00:00, 23.77s/it]\n",
      "WARNING:mteb.abstasks.AbsTask:Dataset 'RedditClusteringP2P' is superseeded by 'RedditClusteringP2P.v2', you might consider using the newer version of the dataset.\n",
      "Clustering: 100%|███████████████████████████████████████████████████████████████████████████████████████████████████████████████████████████████████████████████████████████████████████████████| 10/10 [24:20<00:00, 146.09s/it]\n",
      "WARNING:mteb.abstasks.AbsTask:Dataset 'StackExchangeClusteringP2P' is superseeded by 'StackExchangeClusteringP2P.v2', you might consider using the newer version of the dataset.\n",
      "Clustering: 100%|████████████████████████████████████████████████████████████████████████████████████████████████████████████████████████████████████████████████████████████████████████████████| 10/10 [05:47<00:00, 34.75s/it]\n",
      "WARNING:mteb.evaluation.evaluators.RerankingEvaluator:A total on 33447/118600 duplicate texts were found during encoding. Only encoding unique text and duplicating embeddings across.\n",
      "Repo card metadata block was not found. Setting CardData to empty.\n",
      "WARNING:huggingface_hub.repocard:Repo card metadata block was not found. Setting CardData to empty.\n",
      "WARNING:mteb.evaluation.evaluators.RerankingEvaluator:A total on 2325352/2362514 duplicate texts were found during encoding. Only encoding unique text and duplicating embeddings across.\n",
      "WARNING:mteb.evaluation.evaluators.RerankingEvaluator:A total on 2652814/2658091 duplicate texts were found during encoding. Only encoding unique text and duplicating embeddings across.\n"
     ]
    },
    {
     "data": {
      "application/vnd.jupyter.widget-view+json": {
       "model_id": "1a48eeeaec2f4fc09253c6258ac242a0",
       "version_major": 2,
       "version_minor": 0
      },
      "text/plain": [
       "Batches:   0%|          | 0/32 [00:00<?, ?it/s]"
      ]
     },
     "metadata": {},
     "output_type": "display_data"
    },
    {
     "data": {
      "application/vnd.jupyter.widget-view+json": {
       "model_id": "b16c9998becc43ffb7494e785e05054e",
       "version_major": 2,
       "version_minor": 0
      },
      "text/plain": [
       "Batches:   0%|          | 0/802 [00:00<?, ?it/s]"
      ]
     },
     "metadata": {},
     "output_type": "display_data"
    },
    {
     "name": "stderr",
     "output_type": "stream",
     "text": [
      "Using the latest cached version of the dataset since mteb/arguana couldn't be found on the Hugging Face Hub\n",
      "WARNING:datasets.load:Using the latest cached version of the dataset since mteb/arguana couldn't be found on the Hugging Face Hub\n",
      "Found the latest cached dataset configuration 'corpus' at /gpfs01/berens/user/rgonzalesmarquez/.cache/huggingface/datasets/mteb___arguana/corpus/0.0.0/c22ab2a51041ffd869aaddef7af8d8215647e41a (last modified on Fri Aug  2 16:39:03 2024).\n",
      "WARNING:datasets.packaged_modules.cache.cache:Found the latest cached dataset configuration 'corpus' at /gpfs01/berens/user/rgonzalesmarquez/.cache/huggingface/datasets/mteb___arguana/corpus/0.0.0/c22ab2a51041ffd869aaddef7af8d8215647e41a (last modified on Fri Aug  2 16:39:03 2024).\n"
     ]
    },
    {
     "data": {
      "application/vnd.jupyter.widget-view+json": {
       "model_id": "5d8d5766a88249aba908e030e1538bda",
       "version_major": 2,
       "version_minor": 0
      },
      "text/plain": [
       "Batches:   0%|          | 0/44 [00:00<?, ?it/s]"
      ]
     },
     "metadata": {},
     "output_type": "display_data"
    },
    {
     "data": {
      "application/vnd.jupyter.widget-view+json": {
       "model_id": "171a496439af461db53b5fef46acacf0",
       "version_major": 2,
       "version_minor": 0
      },
      "text/plain": [
       "Batches:   0%|          | 0/272 [00:00<?, ?it/s]"
      ]
     },
     "metadata": {},
     "output_type": "display_data"
    },
    {
     "data": {
      "application/vnd.jupyter.widget-view+json": {
       "model_id": "b5e2f1f97cdf434a8a16869b0dcdc214",
       "version_major": 2,
       "version_minor": 0
      },
      "text/plain": [
       "Batches:   0%|          | 0/98 [00:00<?, ?it/s]"
      ]
     },
     "metadata": {},
     "output_type": "display_data"
    },
    {
     "data": {
      "application/vnd.jupyter.widget-view+json": {
       "model_id": "af864b66318146539318fc3eb34ae25a",
       "version_major": 2,
       "version_minor": 0
      },
      "text/plain": [
       "Batches:   0%|          | 0/98 [00:00<?, ?it/s]"
      ]
     },
     "metadata": {},
     "output_type": "display_data"
    },
    {
     "data": {
      "application/vnd.jupyter.widget-view+json": {
       "model_id": "3246bb2caf434e0cb4439f9a87553be3",
       "version_major": 2,
       "version_minor": 0
      },
      "text/plain": [
       "Batches:   0%|          | 0/47 [00:00<?, ?it/s]"
      ]
     },
     "metadata": {},
     "output_type": "display_data"
    },
    {
     "data": {
      "application/vnd.jupyter.widget-view+json": {
       "model_id": "aec82da966814957921940a58327806c",
       "version_major": 2,
       "version_minor": 0
      },
      "text/plain": [
       "Batches:   0%|          | 0/47 [00:00<?, ?it/s]"
      ]
     },
     "metadata": {},
     "output_type": "display_data"
    },
    {
     "data": {
      "application/vnd.jupyter.widget-view+json": {
       "model_id": "5fd1df79d58b4ddb8e31045fd7502985",
       "version_major": 2,
       "version_minor": 0
      },
      "text/plain": [
       "Batches:   0%|          | 0/118 [00:00<?, ?it/s]"
      ]
     },
     "metadata": {},
     "output_type": "display_data"
    },
    {
     "data": {
      "application/vnd.jupyter.widget-view+json": {
       "model_id": "6341ddaf8a63471780d6d3390e14e135",
       "version_major": 2,
       "version_minor": 0
      },
      "text/plain": [
       "Batches:   0%|          | 0/118 [00:00<?, ?it/s]"
      ]
     },
     "metadata": {},
     "output_type": "display_data"
    },
    {
     "data": {
      "application/vnd.jupyter.widget-view+json": {
       "model_id": "49287c6982aa4942ab6b8e4f4e1e540d",
       "version_major": 2,
       "version_minor": 0
      },
      "text/plain": [
       "Batches:   0%|          | 0/94 [00:00<?, ?it/s]"
      ]
     },
     "metadata": {},
     "output_type": "display_data"
    },
    {
     "data": {
      "application/vnd.jupyter.widget-view+json": {
       "model_id": "bddbc47035054fb5a87be9758469add1",
       "version_major": 2,
       "version_minor": 0
      },
      "text/plain": [
       "Batches:   0%|          | 0/94 [00:00<?, ?it/s]"
      ]
     },
     "metadata": {},
     "output_type": "display_data"
    },
    {
     "data": {
      "application/vnd.jupyter.widget-view+json": {
       "model_id": "5dff73262e5c47ab8a3f30d68a7126b0",
       "version_major": 2,
       "version_minor": 0
      },
      "text/plain": [
       "Batches:   0%|          | 0/38 [00:00<?, ?it/s]"
      ]
     },
     "metadata": {},
     "output_type": "display_data"
    },
    {
     "data": {
      "application/vnd.jupyter.widget-view+json": {
       "model_id": "b0fb1cfc2d2148d49ce5e787a925cfc6",
       "version_major": 2,
       "version_minor": 0
      },
      "text/plain": [
       "Batches:   0%|          | 0/38 [00:00<?, ?it/s]"
      ]
     },
     "metadata": {},
     "output_type": "display_data"
    },
    {
     "data": {
      "application/vnd.jupyter.widget-view+json": {
       "model_id": "17c0c13dbbdb41e5b019a79a8ea1a87a",
       "version_major": 2,
       "version_minor": 0
      },
      "text/plain": [
       "Batches:   0%|          | 0/44 [00:00<?, ?it/s]"
      ]
     },
     "metadata": {},
     "output_type": "display_data"
    },
    {
     "data": {
      "application/vnd.jupyter.widget-view+json": {
       "model_id": "a4d6beab668146dca19e20756d7d4aa2",
       "version_major": 2,
       "version_minor": 0
      },
      "text/plain": [
       "Batches:   0%|          | 0/44 [00:00<?, ?it/s]"
      ]
     },
     "metadata": {},
     "output_type": "display_data"
    },
    {
     "data": {
      "text/html": [
       "<pre style=\"white-space:pre;overflow-x:auto;line-height:normal;font-family:Menlo,'DejaVu Sans Mono',consolas,'Courier New',monospace\"><span style=\"color: #262626; text-decoration-color: #262626\">───────────────────────────────────────────────── </span><span style=\"font-weight: bold\">Selected tasks </span><span style=\"color: #262626; text-decoration-color: #262626\"> ─────────────────────────────────────────────────</span>\n",
       "</pre>\n"
      ],
      "text/plain": [
       "\u001b[38;5;235m───────────────────────────────────────────────── \u001b[0m\u001b[1mSelected tasks \u001b[0m\u001b[38;5;235m ─────────────────────────────────────────────────\u001b[0m\n"
      ]
     },
     "metadata": {},
     "output_type": "display_data"
    },
    {
     "data": {
      "text/html": [
       "<pre style=\"white-space:pre;overflow-x:auto;line-height:normal;font-family:Menlo,'DejaVu Sans Mono',consolas,'Courier New',monospace\"><span style=\"font-weight: bold\">Clustering</span>\n",
       "</pre>\n"
      ],
      "text/plain": [
       "\u001b[1mClustering\u001b[0m\n"
      ]
     },
     "metadata": {},
     "output_type": "display_data"
    },
    {
     "data": {
      "text/html": [
       "<pre style=\"white-space:pre;overflow-x:auto;line-height:normal;font-family:Menlo,'DejaVu Sans Mono',consolas,'Courier New',monospace\">    - ArxivClusteringP2P, <span style=\"color: #626262; text-decoration-color: #626262; font-style: italic\">p2p</span>\n",
       "</pre>\n"
      ],
      "text/plain": [
       "    - ArxivClusteringP2P, \u001b[3;38;5;241mp2p\u001b[0m\n"
      ]
     },
     "metadata": {},
     "output_type": "display_data"
    },
    {
     "data": {
      "text/html": [
       "<pre style=\"white-space:pre;overflow-x:auto;line-height:normal;font-family:Menlo,'DejaVu Sans Mono',consolas,'Courier New',monospace\">    - BiorxivClusteringP2P, <span style=\"color: #626262; text-decoration-color: #626262; font-style: italic\">p2p</span>\n",
       "</pre>\n"
      ],
      "text/plain": [
       "    - BiorxivClusteringP2P, \u001b[3;38;5;241mp2p\u001b[0m\n"
      ]
     },
     "metadata": {},
     "output_type": "display_data"
    },
    {
     "data": {
      "text/html": [
       "<pre style=\"white-space:pre;overflow-x:auto;line-height:normal;font-family:Menlo,'DejaVu Sans Mono',consolas,'Courier New',monospace\">    - MedrxivClusteringP2P, <span style=\"color: #626262; text-decoration-color: #626262; font-style: italic\">p2p</span>\n",
       "</pre>\n"
      ],
      "text/plain": [
       "    - MedrxivClusteringP2P, \u001b[3;38;5;241mp2p\u001b[0m\n"
      ]
     },
     "metadata": {},
     "output_type": "display_data"
    },
    {
     "data": {
      "text/html": [
       "<pre style=\"white-space:pre;overflow-x:auto;line-height:normal;font-family:Menlo,'DejaVu Sans Mono',consolas,'Courier New',monospace\">    - RedditClusteringP2P, <span style=\"color: #626262; text-decoration-color: #626262; font-style: italic\">p2p</span>\n",
       "</pre>\n"
      ],
      "text/plain": [
       "    - RedditClusteringP2P, \u001b[3;38;5;241mp2p\u001b[0m\n"
      ]
     },
     "metadata": {},
     "output_type": "display_data"
    },
    {
     "data": {
      "text/html": [
       "<pre style=\"white-space:pre;overflow-x:auto;line-height:normal;font-family:Menlo,'DejaVu Sans Mono',consolas,'Courier New',monospace\">    - StackExchangeClusteringP2P, <span style=\"color: #626262; text-decoration-color: #626262; font-style: italic\">p2p</span>\n",
       "</pre>\n"
      ],
      "text/plain": [
       "    - StackExchangeClusteringP2P, \u001b[3;38;5;241mp2p\u001b[0m\n"
      ]
     },
     "metadata": {},
     "output_type": "display_data"
    },
    {
     "data": {
      "text/html": [
       "<pre style=\"white-space:pre;overflow-x:auto;line-height:normal;font-family:Menlo,'DejaVu Sans Mono',consolas,'Courier New',monospace\">\n",
       "\n",
       "</pre>\n"
      ],
      "text/plain": [
       "\n",
       "\n"
      ]
     },
     "metadata": {},
     "output_type": "display_data"
    },
    {
     "data": {
      "text/html": [
       "<pre style=\"white-space:pre;overflow-x:auto;line-height:normal;font-family:Menlo,'DejaVu Sans Mono',consolas,'Courier New',monospace\"><span style=\"font-weight: bold\">Reranking</span>\n",
       "</pre>\n"
      ],
      "text/plain": [
       "\u001b[1mReranking\u001b[0m\n"
      ]
     },
     "metadata": {},
     "output_type": "display_data"
    },
    {
     "data": {
      "text/html": [
       "<pre style=\"white-space:pre;overflow-x:auto;line-height:normal;font-family:Menlo,'DejaVu Sans Mono',consolas,'Courier New',monospace\">    - SciDocsRR, <span style=\"color: #626262; text-decoration-color: #626262; font-style: italic\">s2s</span>\n",
       "</pre>\n"
      ],
      "text/plain": [
       "    - SciDocsRR, \u001b[3;38;5;241ms2s\u001b[0m\n"
      ]
     },
     "metadata": {},
     "output_type": "display_data"
    },
    {
     "data": {
      "text/html": [
       "<pre style=\"white-space:pre;overflow-x:auto;line-height:normal;font-family:Menlo,'DejaVu Sans Mono',consolas,'Courier New',monospace\">    - MindSmallReranking, <span style=\"color: #626262; text-decoration-color: #626262; font-style: italic\">s2s</span>\n",
       "</pre>\n"
      ],
      "text/plain": [
       "    - MindSmallReranking, \u001b[3;38;5;241ms2s\u001b[0m\n"
      ]
     },
     "metadata": {},
     "output_type": "display_data"
    },
    {
     "data": {
      "text/html": [
       "<pre style=\"white-space:pre;overflow-x:auto;line-height:normal;font-family:Menlo,'DejaVu Sans Mono',consolas,'Courier New',monospace\">\n",
       "\n",
       "</pre>\n"
      ],
      "text/plain": [
       "\n",
       "\n"
      ]
     },
     "metadata": {},
     "output_type": "display_data"
    },
    {
     "data": {
      "text/html": [
       "<pre style=\"white-space:pre;overflow-x:auto;line-height:normal;font-family:Menlo,'DejaVu Sans Mono',consolas,'Courier New',monospace\"><span style=\"font-weight: bold\">Retrieval</span>\n",
       "</pre>\n"
      ],
      "text/plain": [
       "\u001b[1mRetrieval\u001b[0m\n"
      ]
     },
     "metadata": {},
     "output_type": "display_data"
    },
    {
     "data": {
      "text/html": [
       "<pre style=\"white-space:pre;overflow-x:auto;line-height:normal;font-family:Menlo,'DejaVu Sans Mono',consolas,'Courier New',monospace\">    - SCIDOCS, <span style=\"color: #626262; text-decoration-color: #626262; font-style: italic\">s2p</span>\n",
       "</pre>\n"
      ],
      "text/plain": [
       "    - SCIDOCS, \u001b[3;38;5;241ms2p\u001b[0m\n"
      ]
     },
     "metadata": {},
     "output_type": "display_data"
    },
    {
     "data": {
      "text/html": [
       "<pre style=\"white-space:pre;overflow-x:auto;line-height:normal;font-family:Menlo,'DejaVu Sans Mono',consolas,'Courier New',monospace\">    - ArguAna, <span style=\"color: #626262; text-decoration-color: #626262; font-style: italic\">s2p</span>\n",
       "</pre>\n"
      ],
      "text/plain": [
       "    - ArguAna, \u001b[3;38;5;241ms2p\u001b[0m\n"
      ]
     },
     "metadata": {},
     "output_type": "display_data"
    },
    {
     "data": {
      "text/html": [
       "<pre style=\"white-space:pre;overflow-x:auto;line-height:normal;font-family:Menlo,'DejaVu Sans Mono',consolas,'Courier New',monospace\">\n",
       "\n",
       "</pre>\n"
      ],
      "text/plain": [
       "\n",
       "\n"
      ]
     },
     "metadata": {},
     "output_type": "display_data"
    },
    {
     "data": {
      "text/html": [
       "<pre style=\"white-space:pre;overflow-x:auto;line-height:normal;font-family:Menlo,'DejaVu Sans Mono',consolas,'Courier New',monospace\"><span style=\"font-weight: bold\">STS</span>\n",
       "</pre>\n"
      ],
      "text/plain": [
       "\u001b[1mSTS\u001b[0m\n"
      ]
     },
     "metadata": {},
     "output_type": "display_data"
    },
    {
     "data": {
      "text/html": [
       "<pre style=\"white-space:pre;overflow-x:auto;line-height:normal;font-family:Menlo,'DejaVu Sans Mono',consolas,'Courier New',monospace\">    - STS12, <span style=\"color: #626262; text-decoration-color: #626262; font-style: italic\">s2s</span>\n",
       "</pre>\n"
      ],
      "text/plain": [
       "    - STS12, \u001b[3;38;5;241ms2s\u001b[0m\n"
      ]
     },
     "metadata": {},
     "output_type": "display_data"
    },
    {
     "data": {
      "text/html": [
       "<pre style=\"white-space:pre;overflow-x:auto;line-height:normal;font-family:Menlo,'DejaVu Sans Mono',consolas,'Courier New',monospace\">    - STS13, <span style=\"color: #626262; text-decoration-color: #626262; font-style: italic\">s2s</span>\n",
       "</pre>\n"
      ],
      "text/plain": [
       "    - STS13, \u001b[3;38;5;241ms2s\u001b[0m\n"
      ]
     },
     "metadata": {},
     "output_type": "display_data"
    },
    {
     "data": {
      "text/html": [
       "<pre style=\"white-space:pre;overflow-x:auto;line-height:normal;font-family:Menlo,'DejaVu Sans Mono',consolas,'Courier New',monospace\">    - STS14, <span style=\"color: #626262; text-decoration-color: #626262; font-style: italic\">s2s</span>\n",
       "</pre>\n"
      ],
      "text/plain": [
       "    - STS14, \u001b[3;38;5;241ms2s\u001b[0m\n"
      ]
     },
     "metadata": {},
     "output_type": "display_data"
    },
    {
     "data": {
      "text/html": [
       "<pre style=\"white-space:pre;overflow-x:auto;line-height:normal;font-family:Menlo,'DejaVu Sans Mono',consolas,'Courier New',monospace\">    - STS15, <span style=\"color: #626262; text-decoration-color: #626262; font-style: italic\">s2s</span>\n",
       "</pre>\n"
      ],
      "text/plain": [
       "    - STS15, \u001b[3;38;5;241ms2s\u001b[0m\n"
      ]
     },
     "metadata": {},
     "output_type": "display_data"
    },
    {
     "data": {
      "text/html": [
       "<pre style=\"white-space:pre;overflow-x:auto;line-height:normal;font-family:Menlo,'DejaVu Sans Mono',consolas,'Courier New',monospace\">    - STS16, <span style=\"color: #626262; text-decoration-color: #626262; font-style: italic\">s2s</span>\n",
       "</pre>\n"
      ],
      "text/plain": [
       "    - STS16, \u001b[3;38;5;241ms2s\u001b[0m\n"
      ]
     },
     "metadata": {},
     "output_type": "display_data"
    },
    {
     "data": {
      "text/html": [
       "<pre style=\"white-space:pre;overflow-x:auto;line-height:normal;font-family:Menlo,'DejaVu Sans Mono',consolas,'Courier New',monospace\">    - STSBenchmark, <span style=\"color: #626262; text-decoration-color: #626262; font-style: italic\">s2s</span>\n",
       "</pre>\n"
      ],
      "text/plain": [
       "    - STSBenchmark, \u001b[3;38;5;241ms2s\u001b[0m\n"
      ]
     },
     "metadata": {},
     "output_type": "display_data"
    },
    {
     "data": {
      "text/html": [
       "<pre style=\"white-space:pre;overflow-x:auto;line-height:normal;font-family:Menlo,'DejaVu Sans Mono',consolas,'Courier New',monospace\">\n",
       "\n",
       "</pre>\n"
      ],
      "text/plain": [
       "\n",
       "\n"
      ]
     },
     "metadata": {},
     "output_type": "display_data"
    },
    {
     "name": "stderr",
     "output_type": "stream",
     "text": [
      "WARNING:mteb.abstasks.AbsTask:Dataset 'ArxivClusteringP2P' is superseeded by 'ArXivHierarchicalClusteringP2P', you might consider using the newer version of the dataset.\n"
     ]
    },
    {
     "data": {
      "application/vnd.jupyter.widget-view+json": {
       "model_id": "5d34c89ead7b4e22811962d2a8a52ebc",
       "version_major": 2,
       "version_minor": 0
      },
      "text/plain": [
       "Batches:   0%|          | 0/782 [00:00<?, ?it/s]"
      ]
     },
     "metadata": {},
     "output_type": "display_data"
    },
    {
     "name": "stderr",
     "output_type": "stream",
     "text": []
    },
    {
     "data": {
      "application/vnd.jupyter.widget-view+json": {
       "model_id": "6ba91257910a4fef9a33cf6cca50790e",
       "version_major": 2,
       "version_minor": 0
      },
      "text/plain": [
       "Batches:   0%|          | 0/782 [00:00<?, ?it/s]"
      ]
     },
     "metadata": {},
     "output_type": "display_data"
    },
    {
     "name": "stderr",
     "output_type": "stream",
     "text": []
    },
    {
     "data": {
      "application/vnd.jupyter.widget-view+json": {
       "model_id": "f15d61e97fe443ada61c7ded81e9df0a",
       "version_major": 2,
       "version_minor": 0
      },
      "text/plain": [
       "Batches:   0%|          | 0/782 [00:00<?, ?it/s]"
      ]
     },
     "metadata": {},
     "output_type": "display_data"
    },
    {
     "name": "stderr",
     "output_type": "stream",
     "text": []
    },
    {
     "data": {
      "application/vnd.jupyter.widget-view+json": {
       "model_id": "118a8adc68524359af208636a451b3a9",
       "version_major": 2,
       "version_minor": 0
      },
      "text/plain": [
       "Batches:   0%|          | 0/782 [00:00<?, ?it/s]"
      ]
     },
     "metadata": {},
     "output_type": "display_data"
    },
    {
     "name": "stderr",
     "output_type": "stream",
     "text": []
    },
    {
     "data": {
      "application/vnd.jupyter.widget-view+json": {
       "model_id": "5b5ac9a145e84fa2bb532571cf111ec1",
       "version_major": 2,
       "version_minor": 0
      },
      "text/plain": [
       "Batches:   0%|          | 0/782 [00:00<?, ?it/s]"
      ]
     },
     "metadata": {},
     "output_type": "display_data"
    },
    {
     "name": "stderr",
     "output_type": "stream",
     "text": []
    },
    {
     "data": {
      "application/vnd.jupyter.widget-view+json": {
       "model_id": "910727972e4c460cb98cfa0456d75a8c",
       "version_major": 2,
       "version_minor": 0
      },
      "text/plain": [
       "Batches:   0%|          | 0/782 [00:00<?, ?it/s]"
      ]
     },
     "metadata": {},
     "output_type": "display_data"
    },
    {
     "name": "stderr",
     "output_type": "stream",
     "text": []
    },
    {
     "data": {
      "application/vnd.jupyter.widget-view+json": {
       "model_id": "4d108c38079645c19a7c5b82c7a70dff",
       "version_major": 2,
       "version_minor": 0
      },
      "text/plain": [
       "Batches:   0%|          | 0/782 [00:00<?, ?it/s]"
      ]
     },
     "metadata": {},
     "output_type": "display_data"
    },
    {
     "name": "stderr",
     "output_type": "stream",
     "text": []
    },
    {
     "data": {
      "application/vnd.jupyter.widget-view+json": {
       "model_id": "763b335e648b4644aeb505ca3c7b4d6c",
       "version_major": 2,
       "version_minor": 0
      },
      "text/plain": [
       "Batches:   0%|          | 0/782 [00:00<?, ?it/s]"
      ]
     },
     "metadata": {},
     "output_type": "display_data"
    },
    {
     "name": "stderr",
     "output_type": "stream",
     "text": []
    },
    {
     "data": {
      "application/vnd.jupyter.widget-view+json": {
       "model_id": "f8d83f463cb24bda890d0cd681df663a",
       "version_major": 2,
       "version_minor": 0
      },
      "text/plain": [
       "Batches:   0%|          | 0/782 [00:00<?, ?it/s]"
      ]
     },
     "metadata": {},
     "output_type": "display_data"
    },
    {
     "name": "stderr",
     "output_type": "stream",
     "text": []
    },
    {
     "data": {
      "application/vnd.jupyter.widget-view+json": {
       "model_id": "d2169531bacc4d219ee4d287f31f18b6",
       "version_major": 2,
       "version_minor": 0
      },
      "text/plain": [
       "Batches:   0%|          | 0/782 [00:00<?, ?it/s]"
      ]
     },
     "metadata": {},
     "output_type": "display_data"
    },
    {
     "name": "stderr",
     "output_type": "stream",
     "text": []
    },
    {
     "data": {
      "application/vnd.jupyter.widget-view+json": {
       "model_id": "714c2b9ded994a2bb8f49b0dce0d2640",
       "version_major": 2,
       "version_minor": 0
      },
      "text/plain": [
       "Batches:   0%|          | 0/782 [00:00<?, ?it/s]"
      ]
     },
     "metadata": {},
     "output_type": "display_data"
    },
    {
     "name": "stderr",
     "output_type": "stream",
     "text": []
    },
    {
     "data": {
      "application/vnd.jupyter.widget-view+json": {
       "model_id": "e1c7ad8b30e149cfa33af78d1d115dc1",
       "version_major": 2,
       "version_minor": 0
      },
      "text/plain": [
       "Batches:   0%|          | 0/782 [00:00<?, ?it/s]"
      ]
     },
     "metadata": {},
     "output_type": "display_data"
    }
   ],
   "source": [
    "# data\n",
    "training_dataset = MultOverlappingSentencesPairDataset(\n",
    "    iclr2024.abstract,\n",
    "    tokenizer,\n",
    "    device,\n",
    ")\n",
    "\n",
    "gen = torch.Generator()\n",
    "gen.manual_seed(42)\n",
    "training_loader = torch.utils.data.DataLoader(\n",
    "    training_dataset, batch_size=64, shuffle=True, generator=gen\n",
    ")\n",
    "\n",
    "# saving path mteb\n",
    "saving_path = (\n",
    "    Path(\"embeddings_\" + model_name.lower())\n",
    "    / Path(\"updated_dataset\")\n",
    "    / Path(\"mteb_benchmark\")\n",
    "    / Path(\"new_format\")\n",
    ")\n",
    "mteb_save_path = variables_path / saving_path\n",
    "(mteb_save_path).mkdir(exist_ok=True)\n",
    "\n",
    "\n",
    "# training\n",
    "losses, df_training_eval_results = train_loop(\n",
    "    wrapped_model,\n",
    "    training_loader,\n",
    "    device,\n",
    "    eval_train_data=None, #iclr2024.abstract[labels_iclr != \"unlabeled\"].to_list(),\n",
    "    eval_train_labels=None, #labels_iclr[labels_iclr != \"unlabeled\"],\n",
    "    eval_every_epochs=False,\n",
    "    eval_every_batches=50,\n",
    "    eval_function=MTEBEval,\n",
    "    pooler=mean_pool,\n",
    "    mteb_saving_path=mteb_save_path,\n",
    "    mteb_tasks=mteb_tasks,\n",
    "    n_epochs=1,\n",
    ")\n",
    "\n",
    "# Save results as parquet\n",
    "saving_path = Path(\"embeddings_\" + model_name.lower()) / Path(\n",
    "    \"updated_dataset\"\n",
    ")\n",
    "(variables_path / saving_path).mkdir(parents=True, exist_ok=True)\n",
    "\n",
    "np.save(variables_path / saving_path / \"losses_mteb_batches\", losses)\n",
    "df_training_eval_results.to_parquet(\n",
    "    variables_path / saving_path / \"df_training_eval_results_mteb_batches\",\n",
    "    index=False,\n",
    "    engine=\"pyarrow\",\n",
    "    compression=\"gzip\",\n",
    ")"
   ]
  },
  {
   "cell_type": "markdown",
   "metadata": {},
   "source": [
    "#### Plot"
   ]
  },
  {
   "cell_type": "code",
   "execution_count": null,
   "metadata": {},
   "outputs": [
    {
     "data": {
      "image/png": "[encoded data removed]",
      "text/plain": [
       "<Figure size 650x400 with 1 Axes>"
      ]
     },
     "metadata": {},
     "output_type": "display_data"
    }
   ],
   "source": [
    "%matplotlib inline\n",
    "\n",
    "fig, ax = plt.subplots(figsize=(3.25, 2), dpi=200)\n",
    "\n",
    "# load\n",
    "## mpnet crops\n",
    "model_name = \"MPNet\"\n",
    "saving_path = Path(\"embeddings_\" + model_name.lower()) / Path(\n",
    "    \"updated_dataset\"\n",
    ")\n",
    "df_training_eval_results = pd.read_parquet(\n",
    "    variables_path / saving_path / \"df_training_eval_results_mteb_batches\",\n",
    "    engine=\"pyarrow\",\n",
    ")\n",
    "\n",
    "df_training_eval_results.set_index(\"batch\", inplace=True)\n",
    "\n",
    "# calculate block means\n",
    "df_block_mean = pd.DataFrame()\n",
    "df_block_mean[\"clustering\"] = df_training_eval_results[\n",
    "    [\n",
    "        \"ArxivClusteringP2P\",\n",
    "        \"BiorxivClusteringP2P\",\n",
    "        \"MedrxivClusteringP2P\",\n",
    "        \"RedditClusteringP2P\",\n",
    "        \"StackExchangeClusteringP2P\",\n",
    "    ]\n",
    "].mean(axis=1)\n",
    "\n",
    "df_block_mean[\"reranking\"] = df_training_eval_results[\n",
    "    [\"SciDocsRR\", \"MindSmallReranking\"]\n",
    "].mean(axis=1)\n",
    "df_block_mean[\"retrieval\"] = df_training_eval_results[\n",
    "    [\"SCIDOCS\", \"ArguAna\"]\n",
    "].mean(axis=1)\n",
    "df_block_mean[\"sts\"] = df_training_eval_results[\n",
    "    [\"STS15\", \"STS16\", \"STSBenchmark\"]\n",
    "].mean(axis=1)\n",
    "\n",
    "# create palette\n",
    "palette = glasbey.create_palette(\n",
    "    palette_size=len(df_training_eval_results.columns),\n",
    "    lightness_bounds=(20, 75),\n",
    "    chroma_bounds=(50, 90),\n",
    ")\n",
    "\n",
    "\n",
    "for i, elem in enumerate(df_training_eval_results.columns):\n",
    "    ax.plot(\n",
    "        df_training_eval_results.index,\n",
    "        df_training_eval_results[elem],\n",
    "        label=elem,\n",
    "        c=palette[i],\n",
    "        alpha=0.5,\n",
    "    )\n",
    "    # ax.text(\n",
    "    #     df_training_eval_results.index[-1] + 0.1,\n",
    "    #     df_training_eval_results[elem].iloc[-1],\n",
    "    #     f\"{df_training_eval_results[elem].iloc[-1]:.1f}\",\n",
    "    #     fontsize=5,\n",
    "    #     va=\"center\",\n",
    "    #     ha=\"left\",\n",
    "    # )\n",
    "\n",
    "ax.plot(\n",
    "    df_training_eval_results.index,\n",
    "    df_training_eval_results.mean(axis=1),\n",
    "    label=\"Mean\",\n",
    "    c=\"black\",\n",
    "    lw=1,\n",
    ")\n",
    "# ax.text(\n",
    "#     df_training_eval_results.index[-1] + 0.1,\n",
    "#     df_training_eval_results.mean(axis=1).iloc[-1],\n",
    "#     f\"{df_training_eval_results.mean(axis=1).iloc[-1]:.1f}\",\n",
    "#     fontsize=5,\n",
    "#     va=\"center\",\n",
    "#     ha=\"left\",\n",
    "# )\n",
    "\n",
    "ax.plot(\n",
    "    df_block_mean.index,\n",
    "    df_block_mean.mean(axis=1),\n",
    "    label=\"Block mean\",\n",
    "    c=\"grey\",\n",
    "    lw=1,\n",
    ")\n",
    "\n",
    "ax.legend(loc=(1, 0))\n",
    "# ax.set_ylim(0.3, 0.65)\n",
    "ax.set_xlabel(\"Batch\")\n",
    "ax.set_ylabel(\"MTEB score\")\n",
    "\n",
    "fig.savefig(figures_path / \"mteb_scores_MPNet_crops_batches_train_iclr_v1.png\")"
   ]
  },
  {
   "cell_type": "markdown",
   "metadata": {},
   "source": [
    "#### Eval every 10 batches"
   ]
  },
  {
   "cell_type": "code",
   "execution_count": null,
   "metadata": {},
   "outputs": [],
   "source": [
    "model_name = \"MPNet\"\n",
    "model_path = \"microsoft/mpnet-base\""
   ]
  },
  {
   "cell_type": "code",
   "execution_count": null,
   "metadata": {},
   "outputs": [
    {
     "name": "stdout",
     "output_type": "stream",
     "text": [
      "Model:  MPNet\n",
      "Running on device: cuda\n"
     ]
    },
    {
     "name": "stderr",
     "output_type": "stream",
     "text": [
      "Some weights of MPNetModel were not initialized from the model checkpoint at microsoft/mpnet-base and are newly initialized: ['mpnet.pooler.dense.bias', 'mpnet.pooler.dense.weight']\n",
      "You should probably TRAIN this model on a down-stream task to be able to use it for predictions and inference.\n"
     ]
    },
    {
     "name": "stdout",
     "output_type": "stream",
     "text": [
      "CPU times: user 180 ms, sys: 113 ms, total: 294 ms\n",
      "Wall time: 3.23 s\n"
     ]
    }
   ],
   "source": [
    "%%time\n",
    "\n",
    "# fix random seeds\n",
    "fix_all_seeds()\n",
    "\n",
    "# set up model\n",
    "print(\"Model: \", model_name)\n",
    "\n",
    "device = \"cuda\" if torch.cuda.is_available() else \"cpu\"\n",
    "print(\"Running on device: {}\".format(device))\n",
    "\n",
    "tokenizer = AutoTokenizer.from_pretrained(model_path)\n",
    "model = AutoModel.from_pretrained(model_path)\n",
    "\n",
    "# wrap model\n",
    "wrapped_model = FineTunedHFModelWrapper(model, tokenizer)"
   ]
  },
  {
   "cell_type": "code",
   "execution_count": null,
   "metadata": {},
   "outputs": [
    {
     "data": {
      "application/vnd.jupyter.widget-view+json": {
       "model_id": "153e52095ad046328ad501b30c20b93d",
       "version_major": 2,
       "version_minor": 0
      },
      "text/plain": [
       "  0%|          | 0/368 [00:00<?, ?it/s]"
      ]
     },
     "metadata": {},
     "output_type": "display_data"
    },
    {
     "data": {
      "text/html": [
       "<pre style=\"white-space:pre;overflow-x:auto;line-height:normal;font-family:Menlo,'DejaVu Sans Mono',consolas,'Courier New',monospace\"><span style=\"color: #262626; text-decoration-color: #262626\">───────────────────────────────────────────────── </span><span style=\"font-weight: bold\">Selected tasks </span><span style=\"color: #262626; text-decoration-color: #262626\"> ─────────────────────────────────────────────────</span>\n",
       "</pre>\n"
      ],
      "text/plain": [
       "\u001b[38;5;235m───────────────────────────────────────────────── \u001b[0m\u001b[1mSelected tasks \u001b[0m\u001b[38;5;235m ─────────────────────────────────────────────────\u001b[0m\n"
      ]
     },
     "metadata": {},
     "output_type": "display_data"
    },
    {
     "data": {
      "text/html": [
       "<pre style=\"white-space:pre;overflow-x:auto;line-height:normal;font-family:Menlo,'DejaVu Sans Mono',consolas,'Courier New',monospace\"><span style=\"font-weight: bold\">Clustering</span>\n",
       "</pre>\n"
      ],
      "text/plain": [
       "\u001b[1mClustering\u001b[0m\n"
      ]
     },
     "metadata": {},
     "output_type": "display_data"
    },
    {
     "data": {
      "text/html": [
       "<pre style=\"white-space:pre;overflow-x:auto;line-height:normal;font-family:Menlo,'DejaVu Sans Mono',consolas,'Courier New',monospace\">    - ArxivClusteringP2P, <span style=\"color: #626262; text-decoration-color: #626262; font-style: italic\">p2p</span>\n",
       "</pre>\n"
      ],
      "text/plain": [
       "    - ArxivClusteringP2P, \u001b[3;38;5;241mp2p\u001b[0m\n"
      ]
     },
     "metadata": {},
     "output_type": "display_data"
    },
    {
     "data": {
      "text/html": [
       "<pre style=\"white-space:pre;overflow-x:auto;line-height:normal;font-family:Menlo,'DejaVu Sans Mono',consolas,'Courier New',monospace\">    - BiorxivClusteringP2P, <span style=\"color: #626262; text-decoration-color: #626262; font-style: italic\">p2p</span>\n",
       "</pre>\n"
      ],
      "text/plain": [
       "    - BiorxivClusteringP2P, \u001b[3;38;5;241mp2p\u001b[0m\n"
      ]
     },
     "metadata": {},
     "output_type": "display_data"
    },
    {
     "data": {
      "text/html": [
       "<pre style=\"white-space:pre;overflow-x:auto;line-height:normal;font-family:Menlo,'DejaVu Sans Mono',consolas,'Courier New',monospace\">    - MedrxivClusteringP2P, <span style=\"color: #626262; text-decoration-color: #626262; font-style: italic\">p2p</span>\n",
       "</pre>\n"
      ],
      "text/plain": [
       "    - MedrxivClusteringP2P, \u001b[3;38;5;241mp2p\u001b[0m\n"
      ]
     },
     "metadata": {},
     "output_type": "display_data"
    },
    {
     "data": {
      "text/html": [
       "<pre style=\"white-space:pre;overflow-x:auto;line-height:normal;font-family:Menlo,'DejaVu Sans Mono',consolas,'Courier New',monospace\">    - RedditClusteringP2P, <span style=\"color: #626262; text-decoration-color: #626262; font-style: italic\">p2p</span>\n",
       "</pre>\n"
      ],
      "text/plain": [
       "    - RedditClusteringP2P, \u001b[3;38;5;241mp2p\u001b[0m\n"
      ]
     },
     "metadata": {},
     "output_type": "display_data"
    },
    {
     "data": {
      "text/html": [
       "<pre style=\"white-space:pre;overflow-x:auto;line-height:normal;font-family:Menlo,'DejaVu Sans Mono',consolas,'Courier New',monospace\">    - StackExchangeClusteringP2P, <span style=\"color: #626262; text-decoration-color: #626262; font-style: italic\">p2p</span>\n",
       "</pre>\n"
      ],
      "text/plain": [
       "    - StackExchangeClusteringP2P, \u001b[3;38;5;241mp2p\u001b[0m\n"
      ]
     },
     "metadata": {},
     "output_type": "display_data"
    },
    {
     "data": {
      "text/html": [
       "<pre style=\"white-space:pre;overflow-x:auto;line-height:normal;font-family:Menlo,'DejaVu Sans Mono',consolas,'Courier New',monospace\">\n",
       "\n",
       "</pre>\n"
      ],
      "text/plain": [
       "\n",
       "\n"
      ]
     },
     "metadata": {},
     "output_type": "display_data"
    },
    {
     "data": {
      "text/html": [
       "<pre style=\"white-space:pre;overflow-x:auto;line-height:normal;font-family:Menlo,'DejaVu Sans Mono',consolas,'Courier New',monospace\"><span style=\"font-weight: bold\">Reranking</span>\n",
       "</pre>\n"
      ],
      "text/plain": [
       "\u001b[1mReranking\u001b[0m\n"
      ]
     },
     "metadata": {},
     "output_type": "display_data"
    },
    {
     "data": {
      "text/html": [
       "<pre style=\"white-space:pre;overflow-x:auto;line-height:normal;font-family:Menlo,'DejaVu Sans Mono',consolas,'Courier New',monospace\">    - SciDocsRR, <span style=\"color: #626262; text-decoration-color: #626262; font-style: italic\">s2s</span>\n",
       "</pre>\n"
      ],
      "text/plain": [
       "    - SciDocsRR, \u001b[3;38;5;241ms2s\u001b[0m\n"
      ]
     },
     "metadata": {},
     "output_type": "display_data"
    },
    {
     "data": {
      "text/html": [
       "<pre style=\"white-space:pre;overflow-x:auto;line-height:normal;font-family:Menlo,'DejaVu Sans Mono',consolas,'Courier New',monospace\">    - MindSmallReranking, <span style=\"color: #626262; text-decoration-color: #626262; font-style: italic\">s2s</span>\n",
       "</pre>\n"
      ],
      "text/plain": [
       "    - MindSmallReranking, \u001b[3;38;5;241ms2s\u001b[0m\n"
      ]
     },
     "metadata": {},
     "output_type": "display_data"
    },
    {
     "data": {
      "text/html": [
       "<pre style=\"white-space:pre;overflow-x:auto;line-height:normal;font-family:Menlo,'DejaVu Sans Mono',consolas,'Courier New',monospace\">\n",
       "\n",
       "</pre>\n"
      ],
      "text/plain": [
       "\n",
       "\n"
      ]
     },
     "metadata": {},
     "output_type": "display_data"
    },
    {
     "data": {
      "text/html": [
       "<pre style=\"white-space:pre;overflow-x:auto;line-height:normal;font-family:Menlo,'DejaVu Sans Mono',consolas,'Courier New',monospace\"><span style=\"font-weight: bold\">Retrieval</span>\n",
       "</pre>\n"
      ],
      "text/plain": [
       "\u001b[1mRetrieval\u001b[0m\n"
      ]
     },
     "metadata": {},
     "output_type": "display_data"
    },
    {
     "data": {
      "text/html": [
       "<pre style=\"white-space:pre;overflow-x:auto;line-height:normal;font-family:Menlo,'DejaVu Sans Mono',consolas,'Courier New',monospace\">    - SCIDOCS, <span style=\"color: #626262; text-decoration-color: #626262; font-style: italic\">s2p</span>\n",
       "</pre>\n"
      ],
      "text/plain": [
       "    - SCIDOCS, \u001b[3;38;5;241ms2p\u001b[0m\n"
      ]
     },
     "metadata": {},
     "output_type": "display_data"
    },
    {
     "data": {
      "text/html": [
       "<pre style=\"white-space:pre;overflow-x:auto;line-height:normal;font-family:Menlo,'DejaVu Sans Mono',consolas,'Courier New',monospace\">    - ArguAna, <span style=\"color: #626262; text-decoration-color: #626262; font-style: italic\">s2p</span>\n",
       "</pre>\n"
      ],
      "text/plain": [
       "    - ArguAna, \u001b[3;38;5;241ms2p\u001b[0m\n"
      ]
     },
     "metadata": {},
     "output_type": "display_data"
    },
    {
     "data": {
      "text/html": [
       "<pre style=\"white-space:pre;overflow-x:auto;line-height:normal;font-family:Menlo,'DejaVu Sans Mono',consolas,'Courier New',monospace\">\n",
       "\n",
       "</pre>\n"
      ],
      "text/plain": [
       "\n",
       "\n"
      ]
     },
     "metadata": {},
     "output_type": "display_data"
    },
    {
     "data": {
      "text/html": [
       "<pre style=\"white-space:pre;overflow-x:auto;line-height:normal;font-family:Menlo,'DejaVu Sans Mono',consolas,'Courier New',monospace\"><span style=\"font-weight: bold\">STS</span>\n",
       "</pre>\n"
      ],
      "text/plain": [
       "\u001b[1mSTS\u001b[0m\n"
      ]
     },
     "metadata": {},
     "output_type": "display_data"
    },
    {
     "data": {
      "text/html": [
       "<pre style=\"white-space:pre;overflow-x:auto;line-height:normal;font-family:Menlo,'DejaVu Sans Mono',consolas,'Courier New',monospace\">    - STS12, <span style=\"color: #626262; text-decoration-color: #626262; font-style: italic\">s2s</span>\n",
       "</pre>\n"
      ],
      "text/plain": [
       "    - STS12, \u001b[3;38;5;241ms2s\u001b[0m\n"
      ]
     },
     "metadata": {},
     "output_type": "display_data"
    },
    {
     "data": {
      "text/html": [
       "<pre style=\"white-space:pre;overflow-x:auto;line-height:normal;font-family:Menlo,'DejaVu Sans Mono',consolas,'Courier New',monospace\">    - STS13, <span style=\"color: #626262; text-decoration-color: #626262; font-style: italic\">s2s</span>\n",
       "</pre>\n"
      ],
      "text/plain": [
       "    - STS13, \u001b[3;38;5;241ms2s\u001b[0m\n"
      ]
     },
     "metadata": {},
     "output_type": "display_data"
    },
    {
     "data": {
      "text/html": [
       "<pre style=\"white-space:pre;overflow-x:auto;line-height:normal;font-family:Menlo,'DejaVu Sans Mono',consolas,'Courier New',monospace\">    - STS14, <span style=\"color: #626262; text-decoration-color: #626262; font-style: italic\">s2s</span>\n",
       "</pre>\n"
      ],
      "text/plain": [
       "    - STS14, \u001b[3;38;5;241ms2s\u001b[0m\n"
      ]
     },
     "metadata": {},
     "output_type": "display_data"
    },
    {
     "data": {
      "text/html": [
       "<pre style=\"white-space:pre;overflow-x:auto;line-height:normal;font-family:Menlo,'DejaVu Sans Mono',consolas,'Courier New',monospace\">    - STS15, <span style=\"color: #626262; text-decoration-color: #626262; font-style: italic\">s2s</span>\n",
       "</pre>\n"
      ],
      "text/plain": [
       "    - STS15, \u001b[3;38;5;241ms2s\u001b[0m\n"
      ]
     },
     "metadata": {},
     "output_type": "display_data"
    },
    {
     "data": {
      "text/html": [
       "<pre style=\"white-space:pre;overflow-x:auto;line-height:normal;font-family:Menlo,'DejaVu Sans Mono',consolas,'Courier New',monospace\">    - STS16, <span style=\"color: #626262; text-decoration-color: #626262; font-style: italic\">s2s</span>\n",
       "</pre>\n"
      ],
      "text/plain": [
       "    - STS16, \u001b[3;38;5;241ms2s\u001b[0m\n"
      ]
     },
     "metadata": {},
     "output_type": "display_data"
    },
    {
     "data": {
      "text/html": [
       "<pre style=\"white-space:pre;overflow-x:auto;line-height:normal;font-family:Menlo,'DejaVu Sans Mono',consolas,'Courier New',monospace\">    - STSBenchmark, <span style=\"color: #626262; text-decoration-color: #626262; font-style: italic\">s2s</span>\n",
       "</pre>\n"
      ],
      "text/plain": [
       "    - STSBenchmark, \u001b[3;38;5;241ms2s\u001b[0m\n"
      ]
     },
     "metadata": {},
     "output_type": "display_data"
    },
    {
     "data": {
      "text/html": [
       "<pre style=\"white-space:pre;overflow-x:auto;line-height:normal;font-family:Menlo,'DejaVu Sans Mono',consolas,'Courier New',monospace\">\n",
       "\n",
       "</pre>\n"
      ],
      "text/plain": [
       "\n",
       "\n"
      ]
     },
     "metadata": {},
     "output_type": "display_data"
    },
    {
     "name": "stderr",
     "output_type": "stream",
     "text": [
      "WARNING:mteb.abstasks.AbsTask:Dataset 'ArxivClusteringP2P' is superseeded by 'ArXivHierarchicalClusteringP2P', you might consider using the newer version of the dataset.\n"
     ]
    }
   ],
   "source": [
    "# data\n",
    "training_dataset = MultOverlappingSentencesPairDataset(\n",
    "    iclr2024.abstract,\n",
    "    tokenizer,\n",
    "    device,\n",
    ")\n",
    "\n",
    "gen = torch.Generator()\n",
    "gen.manual_seed(42)\n",
    "training_loader = torch.utils.data.DataLoader(\n",
    "    training_dataset, batch_size=64, shuffle=True, generator=gen\n",
    ")\n",
    "\n",
    "# saving path mteb\n",
    "saving_path = (\n",
    "    Path(\"embeddings_\" + model_name.lower())\n",
    "    / Path(\"updated_dataset\")\n",
    "    / Path(\"mteb_benchmark\")\n",
    "    / Path(\"new_format\")\n",
    ")\n",
    "mteb_save_path = variables_path / saving_path\n",
    "(mteb_save_path).mkdir(exist_ok=True)\n",
    "\n",
    "\n",
    "# training\n",
    "losses, df_training_eval_results = train_loop(\n",
    "    wrapped_model,\n",
    "    training_loader,\n",
    "    device,\n",
    "    eval_train_data=None, #iclr2024.abstract[labels_iclr != \"unlabeled\"].to_list(),\n",
    "    eval_train_labels=None, #labels_iclr[labels_iclr != \"unlabeled\"],\n",
    "    eval_every_epochs=False,\n",
    "    eval_every_batches=10,\n",
    "    eval_function=MTEBEval,\n",
    "    pooler=mean_pool,\n",
    "    mteb_saving_path=mteb_save_path,\n",
    "    mteb_tasks=mteb_tasks,\n",
    "    n_epochs=1,\n",
    ")\n",
    "\n",
    "# Save results as parquet\n",
    "saving_path = Path(\"embeddings_\" + model_name.lower()) / Path(\n",
    "    \"updated_dataset\"\n",
    ")\n",
    "(variables_path / saving_path).mkdir(parents=True, exist_ok=True)\n",
    "\n",
    "np.save(variables_path / saving_path / \"losses_mteb_batches_v2\", losses)\n",
    "df_training_eval_results.to_parquet(\n",
    "    variables_path / saving_path / \"df_training_eval_results_mteb_batches_v2\",\n",
    "    index=False,\n",
    "    engine=\"pyarrow\",\n",
    "    compression=\"gzip\",\n",
    ")"
   ]
  },
  {
   "cell_type": "markdown",
   "metadata": {},
   "source": [
    "##### Merge results"
   ]
  },
  {
   "cell_type": "code",
   "execution_count": null,
   "metadata": {},
   "outputs": [
    {
     "name": "stdout",
     "output_type": "stream",
     "text": [
      "[  0  10  20  30  40  50  60  70  80  90 100 110 150 200 250 300 350 367]\n"
     ]
    }
   ],
   "source": [
    "batches_1 = np.arange(0, 400, 50)\n",
    "batches_2 = np.arange(0, 120, 10)\n",
    "last_batch = np.array([367])\n",
    "\n",
    "all_batches = np.hstack((np.union1d(batches_1, batches_2), last_batch))\n",
    "print(all_batches)"
   ]
  },
  {
   "cell_type": "code",
   "execution_count": null,
   "metadata": {},
   "outputs": [],
   "source": [
    "import os\n",
    "import json\n",
    "\n",
    "\n",
    "def load_mteb_results(directory):\n",
    "    results = {}\n",
    "    for root, dirs, files in os.walk(directory):\n",
    "        for file in files:\n",
    "            if file.endswith(\".json\"):\n",
    "                file_path = os.path.join(root, file)\n",
    "                with open(file_path, \"r\") as f:\n",
    "                    data = json.load(f)\n",
    "\n",
    "                # Create a key based on the relative path\n",
    "                relative_path = os.path.relpath(file_path, directory)\n",
    "                key = os.path.splitext(relative_path)[\n",
    "                    0\n",
    "                ]  # Remove the .json extension\n",
    "                results[key] = data\n",
    "\n",
    "    return results"
   ]
  },
  {
   "cell_type": "code",
   "execution_count": null,
   "metadata": {},
   "outputs": [],
   "source": [
    "def create_mteb_dict(original_json_dict):\n",
    "    clean_dict = dict()\n",
    "    for key in np.sort(list(original_json_dict.keys())):\n",
    "        task = key.split(\"/\")[-1]\n",
    "        if \"scores\" in original_json_dict[key].keys():\n",
    "            # pretrained mpnet\n",
    "            score_mpnet = original_json_dict[key][\"scores\"][\"test\"][0][\n",
    "                \"main_score\"\n",
    "            ]\n",
    "            clean_dict[task] = score_mpnet\n",
    "\n",
    "        else:\n",
    "            continue\n",
    "\n",
    "    return clean_dict"
   ]
  },
  {
   "cell_type": "code",
   "execution_count": null,
   "metadata": {},
   "outputs": [],
   "source": [
    "final_dict_results = defaultdict(list)\n",
    "\n",
    "for batch in all_batches:\n",
    "    final_dict_results[\"batch\"].append(batch)\n",
    "\n",
    "    model_name = \"MPNet\"\n",
    "    saving_path = (\n",
    "        Path(\"embeddings_\" + model_name.lower())\n",
    "        / Path(\"updated_dataset\")\n",
    "        / Path(\"mteb_benchmark\")\n",
    "        / Path(\"new_format\")\n",
    "    )\n",
    "    root_directory = (\n",
    "        variables_path / saving_path / f\"results_epoch_0_batch_{batch}\"\n",
    "    )\n",
    "    json_results_dict = load_mteb_results(root_directory)\n",
    "\n",
    "    # transform\n",
    "    mteb_results_dict = create_mteb_dict(json_results_dict)\n",
    "\n",
    "    # append\n",
    "    [final_dict_results[k].append(v) for k, v in mteb_results_dict.items()]\n",
    "\n",
    "\n",
    "df_training_eval_results = pd.DataFrame(final_dict_results)"
   ]
  },
  {
   "cell_type": "code",
   "execution_count": null,
   "metadata": {},
   "outputs": [
    {
     "data": {
      "text/html": [
       "<div>\n",
       "<style scoped>\n",
       "    .dataframe tbody tr th:only-of-type {\n",
       "        vertical-align: middle;\n",
       "    }\n",
       "\n",
       "    .dataframe tbody tr th {\n",
       "        vertical-align: top;\n",
       "    }\n",
       "\n",
       "    .dataframe thead th {\n",
       "        text-align: right;\n",
       "    }\n",
       "</style>\n",
       "<table border=\"1\" class=\"dataframe\">\n",
       "  <thead>\n",
       "    <tr style=\"text-align: right;\">\n",
       "      <th></th>\n",
       "      <th>batch</th>\n",
       "      <th>ArguAna</th>\n",
       "      <th>ArxivClusteringP2P</th>\n",
       "      <th>BiorxivClusteringP2P</th>\n",
       "      <th>MedrxivClusteringP2P</th>\n",
       "      <th>MindSmallReranking</th>\n",
       "      <th>RedditClusteringP2P</th>\n",
       "      <th>SCIDOCS</th>\n",
       "      <th>STS12</th>\n",
       "      <th>STS13</th>\n",
       "      <th>STS14</th>\n",
       "      <th>STS15</th>\n",
       "      <th>STS16</th>\n",
       "      <th>STSBenchmark</th>\n",
       "      <th>SciDocsRR</th>\n",
       "      <th>StackExchangeClusteringP2P</th>\n",
       "    </tr>\n",
       "  </thead>\n",
       "  <tbody>\n",
       "    <tr>\n",
       "      <th>0</th>\n",
       "      <td>0</td>\n",
       "      <td>0.22550</td>\n",
       "      <td>0.286805</td>\n",
       "      <td>0.247922</td>\n",
       "      <td>0.238383</td>\n",
       "      <td>0.274675</td>\n",
       "      <td>0.405401</td>\n",
       "      <td>0.01415</td>\n",
       "      <td>0.243431</td>\n",
       "      <td>0.520162</td>\n",
       "      <td>0.446454</td>\n",
       "      <td>0.534895</td>\n",
       "      <td>0.505863</td>\n",
       "      <td>0.519878</td>\n",
       "      <td>0.560579</td>\n",
       "      <td>0.265462</td>\n",
       "    </tr>\n",
       "    <tr>\n",
       "      <th>1</th>\n",
       "      <td>10</td>\n",
       "      <td>0.26140</td>\n",
       "      <td>0.318198</td>\n",
       "      <td>0.282860</td>\n",
       "      <td>0.258624</td>\n",
       "      <td>0.280395</td>\n",
       "      <td>0.443804</td>\n",
       "      <td>0.02072</td>\n",
       "      <td>0.239287</td>\n",
       "      <td>0.546729</td>\n",
       "      <td>0.459267</td>\n",
       "      <td>0.525042</td>\n",
       "      <td>0.529872</td>\n",
       "      <td>0.543161</td>\n",
       "      <td>0.588079</td>\n",
       "      <td>0.277583</td>\n",
       "    </tr>\n",
       "    <tr>\n",
       "      <th>2</th>\n",
       "      <td>20</td>\n",
       "      <td>0.37117</td>\n",
       "      <td>0.364071</td>\n",
       "      <td>0.331347</td>\n",
       "      <td>0.298475</td>\n",
       "      <td>0.300186</td>\n",
       "      <td>0.492956</td>\n",
       "      <td>0.05335</td>\n",
       "      <td>0.269957</td>\n",
       "      <td>0.589645</td>\n",
       "      <td>0.500454</td>\n",
       "      <td>0.510676</td>\n",
       "      <td>0.605632</td>\n",
       "      <td>0.611643</td>\n",
       "      <td>0.626583</td>\n",
       "      <td>0.303922</td>\n",
       "    </tr>\n",
       "    <tr>\n",
       "      <th>3</th>\n",
       "      <td>30</td>\n",
       "      <td>0.44731</td>\n",
       "      <td>0.362579</td>\n",
       "      <td>0.322819</td>\n",
       "      <td>0.312544</td>\n",
       "      <td>0.296389</td>\n",
       "      <td>0.513832</td>\n",
       "      <td>0.10083</td>\n",
       "      <td>0.419878</td>\n",
       "      <td>0.704948</td>\n",
       "      <td>0.602115</td>\n",
       "      <td>0.665623</td>\n",
       "      <td>0.704864</td>\n",
       "      <td>0.706322</td>\n",
       "      <td>0.699604</td>\n",
       "      <td>0.307470</td>\n",
       "    </tr>\n",
       "    <tr>\n",
       "      <th>4</th>\n",
       "      <td>40</td>\n",
       "      <td>0.47056</td>\n",
       "      <td>0.361869</td>\n",
       "      <td>0.311688</td>\n",
       "      <td>0.312765</td>\n",
       "      <td>0.298347</td>\n",
       "      <td>0.532951</td>\n",
       "      <td>0.12007</td>\n",
       "      <td>0.496665</td>\n",
       "      <td>0.741651</td>\n",
       "      <td>0.637952</td>\n",
       "      <td>0.729790</td>\n",
       "      <td>0.745516</td>\n",
       "      <td>0.738614</td>\n",
       "      <td>0.712471</td>\n",
       "      <td>0.305911</td>\n",
       "    </tr>\n",
       "    <tr>\n",
       "      <th>5</th>\n",
       "      <td>50</td>\n",
       "      <td>0.47872</td>\n",
       "      <td>0.364901</td>\n",
       "      <td>0.315637</td>\n",
       "      <td>0.313393</td>\n",
       "      <td>0.297758</td>\n",
       "      <td>0.538351</td>\n",
       "      <td>0.12368</td>\n",
       "      <td>0.515515</td>\n",
       "      <td>0.744016</td>\n",
       "      <td>0.643029</td>\n",
       "      <td>0.735652</td>\n",
       "      <td>0.751302</td>\n",
       "      <td>0.743193</td>\n",
       "      <td>0.722179</td>\n",
       "      <td>0.309289</td>\n",
       "    </tr>\n",
       "    <tr>\n",
       "      <th>6</th>\n",
       "      <td>60</td>\n",
       "      <td>0.47465</td>\n",
       "      <td>0.371534</td>\n",
       "      <td>0.326483</td>\n",
       "      <td>0.311341</td>\n",
       "      <td>0.296084</td>\n",
       "      <td>0.536404</td>\n",
       "      <td>0.12126</td>\n",
       "      <td>0.511566</td>\n",
       "      <td>0.745379</td>\n",
       "      <td>0.638575</td>\n",
       "      <td>0.726518</td>\n",
       "      <td>0.752243</td>\n",
       "      <td>0.738001</td>\n",
       "      <td>0.726834</td>\n",
       "      <td>0.307270</td>\n",
       "    </tr>\n",
       "    <tr>\n",
       "      <th>7</th>\n",
       "      <td>70</td>\n",
       "      <td>0.47752</td>\n",
       "      <td>0.373153</td>\n",
       "      <td>0.325685</td>\n",
       "      <td>0.312915</td>\n",
       "      <td>0.295156</td>\n",
       "      <td>0.543178</td>\n",
       "      <td>0.12274</td>\n",
       "      <td>0.511637</td>\n",
       "      <td>0.749409</td>\n",
       "      <td>0.640792</td>\n",
       "      <td>0.730530</td>\n",
       "      <td>0.758662</td>\n",
       "      <td>0.738497</td>\n",
       "      <td>0.726324</td>\n",
       "      <td>0.308146</td>\n",
       "    </tr>\n",
       "    <tr>\n",
       "      <th>8</th>\n",
       "      <td>80</td>\n",
       "      <td>0.48461</td>\n",
       "      <td>0.364271</td>\n",
       "      <td>0.322668</td>\n",
       "      <td>0.308182</td>\n",
       "      <td>0.297375</td>\n",
       "      <td>0.541959</td>\n",
       "      <td>0.12513</td>\n",
       "      <td>0.521489</td>\n",
       "      <td>0.754751</td>\n",
       "      <td>0.651448</td>\n",
       "      <td>0.746694</td>\n",
       "      <td>0.764512</td>\n",
       "      <td>0.744506</td>\n",
       "      <td>0.728565</td>\n",
       "      <td>0.308180</td>\n",
       "    </tr>\n",
       "    <tr>\n",
       "      <th>9</th>\n",
       "      <td>90</td>\n",
       "      <td>0.48831</td>\n",
       "      <td>0.370887</td>\n",
       "      <td>0.324098</td>\n",
       "      <td>0.313450</td>\n",
       "      <td>0.294467</td>\n",
       "      <td>0.545709</td>\n",
       "      <td>0.12331</td>\n",
       "      <td>0.525614</td>\n",
       "      <td>0.756253</td>\n",
       "      <td>0.652269</td>\n",
       "      <td>0.743513</td>\n",
       "      <td>0.763252</td>\n",
       "      <td>0.744922</td>\n",
       "      <td>0.733977</td>\n",
       "      <td>0.305661</td>\n",
       "    </tr>\n",
       "    <tr>\n",
       "      <th>10</th>\n",
       "      <td>100</td>\n",
       "      <td>0.48978</td>\n",
       "      <td>0.369863</td>\n",
       "      <td>0.324325</td>\n",
       "      <td>0.310625</td>\n",
       "      <td>0.296960</td>\n",
       "      <td>0.543631</td>\n",
       "      <td>0.12193</td>\n",
       "      <td>0.526480</td>\n",
       "      <td>0.753826</td>\n",
       "      <td>0.651707</td>\n",
       "      <td>0.739935</td>\n",
       "      <td>0.761418</td>\n",
       "      <td>0.743386</td>\n",
       "      <td>0.735685</td>\n",
       "      <td>0.309663</td>\n",
       "    </tr>\n",
       "    <tr>\n",
       "      <th>11</th>\n",
       "      <td>110</td>\n",
       "      <td>0.48983</td>\n",
       "      <td>0.370794</td>\n",
       "      <td>0.320858</td>\n",
       "      <td>0.305705</td>\n",
       "      <td>0.299165</td>\n",
       "      <td>0.552376</td>\n",
       "      <td>0.12008</td>\n",
       "      <td>0.523319</td>\n",
       "      <td>0.750532</td>\n",
       "      <td>0.650155</td>\n",
       "      <td>0.742805</td>\n",
       "      <td>0.763432</td>\n",
       "      <td>0.742328</td>\n",
       "      <td>0.730206</td>\n",
       "      <td>0.309697</td>\n",
       "    </tr>\n",
       "    <tr>\n",
       "      <th>12</th>\n",
       "      <td>150</td>\n",
       "      <td>0.49964</td>\n",
       "      <td>0.374139</td>\n",
       "      <td>0.320273</td>\n",
       "      <td>0.306278</td>\n",
       "      <td>0.298157</td>\n",
       "      <td>0.544920</td>\n",
       "      <td>0.12719</td>\n",
       "      <td>0.501876</td>\n",
       "      <td>0.735802</td>\n",
       "      <td>0.635553</td>\n",
       "      <td>0.722063</td>\n",
       "      <td>0.754303</td>\n",
       "      <td>0.730757</td>\n",
       "      <td>0.730783</td>\n",
       "      <td>0.311187</td>\n",
       "    </tr>\n",
       "    <tr>\n",
       "      <th>13</th>\n",
       "      <td>200</td>\n",
       "      <td>0.50051</td>\n",
       "      <td>0.376146</td>\n",
       "      <td>0.322078</td>\n",
       "      <td>0.307569</td>\n",
       "      <td>0.299084</td>\n",
       "      <td>0.546489</td>\n",
       "      <td>0.12907</td>\n",
       "      <td>0.506205</td>\n",
       "      <td>0.740439</td>\n",
       "      <td>0.644274</td>\n",
       "      <td>0.736523</td>\n",
       "      <td>0.758755</td>\n",
       "      <td>0.725821</td>\n",
       "      <td>0.734343</td>\n",
       "      <td>0.308253</td>\n",
       "    </tr>\n",
       "    <tr>\n",
       "      <th>14</th>\n",
       "      <td>250</td>\n",
       "      <td>0.50792</td>\n",
       "      <td>0.381444</td>\n",
       "      <td>0.325622</td>\n",
       "      <td>0.311250</td>\n",
       "      <td>0.300248</td>\n",
       "      <td>0.555290</td>\n",
       "      <td>0.12948</td>\n",
       "      <td>0.500741</td>\n",
       "      <td>0.734572</td>\n",
       "      <td>0.636964</td>\n",
       "      <td>0.728454</td>\n",
       "      <td>0.756835</td>\n",
       "      <td>0.723585</td>\n",
       "      <td>0.735409</td>\n",
       "      <td>0.312631</td>\n",
       "    </tr>\n",
       "    <tr>\n",
       "      <th>15</th>\n",
       "      <td>300</td>\n",
       "      <td>0.50513</td>\n",
       "      <td>0.381708</td>\n",
       "      <td>0.325143</td>\n",
       "      <td>0.308855</td>\n",
       "      <td>0.300664</td>\n",
       "      <td>0.549626</td>\n",
       "      <td>0.12945</td>\n",
       "      <td>0.500719</td>\n",
       "      <td>0.732040</td>\n",
       "      <td>0.637960</td>\n",
       "      <td>0.724482</td>\n",
       "      <td>0.757442</td>\n",
       "      <td>0.719717</td>\n",
       "      <td>0.736047</td>\n",
       "      <td>0.311033</td>\n",
       "    </tr>\n",
       "    <tr>\n",
       "      <th>16</th>\n",
       "      <td>350</td>\n",
       "      <td>0.50031</td>\n",
       "      <td>0.379434</td>\n",
       "      <td>0.328625</td>\n",
       "      <td>0.310278</td>\n",
       "      <td>0.299719</td>\n",
       "      <td>0.555680</td>\n",
       "      <td>0.12875</td>\n",
       "      <td>0.497114</td>\n",
       "      <td>0.731757</td>\n",
       "      <td>0.636480</td>\n",
       "      <td>0.720674</td>\n",
       "      <td>0.756180</td>\n",
       "      <td>0.719178</td>\n",
       "      <td>0.736864</td>\n",
       "      <td>0.309871</td>\n",
       "    </tr>\n",
       "    <tr>\n",
       "      <th>17</th>\n",
       "      <td>367</td>\n",
       "      <td>0.50000</td>\n",
       "      <td>0.378723</td>\n",
       "      <td>0.322419</td>\n",
       "      <td>0.308897</td>\n",
       "      <td>0.299978</td>\n",
       "      <td>0.553235</td>\n",
       "      <td>0.12850</td>\n",
       "      <td>0.496785</td>\n",
       "      <td>0.731823</td>\n",
       "      <td>0.636534</td>\n",
       "      <td>0.721247</td>\n",
       "      <td>0.756424</td>\n",
       "      <td>0.719054</td>\n",
       "      <td>0.737081</td>\n",
       "      <td>0.310588</td>\n",
       "    </tr>\n",
       "  </tbody>\n",
       "</table>\n",
       "</div>"
      ],
      "text/plain": [
       "    batch  ArguAna  ArxivClusteringP2P  BiorxivClusteringP2P  \\\n",
       "0       0  0.22550            0.286805              0.247922   \n",
       "1      10  0.26140            0.318198              0.282860   \n",
       "2      20  0.37117            0.364071              0.331347   \n",
       "3      30  0.44731            0.362579              0.322819   \n",
       "4      40  0.47056            0.361869              0.311688   \n",
       "5      50  0.47872            0.364901              0.315637   \n",
       "6      60  0.47465            0.371534              0.326483   \n",
       "7      70  0.47752            0.373153              0.325685   \n",
       "8      80  0.48461            0.364271              0.322668   \n",
       "9      90  0.48831            0.370887              0.324098   \n",
       "10    100  0.48978            0.369863              0.324325   \n",
       "11    110  0.48983            0.370794              0.320858   \n",
       "12    150  0.49964            0.374139              0.320273   \n",
       "13    200  0.50051            0.376146              0.322078   \n",
       "14    250  0.50792            0.381444              0.325622   \n",
       "15    300  0.50513            0.381708              0.325143   \n",
       "16    350  0.50031            0.379434              0.328625   \n",
       "17    367  0.50000            0.378723              0.322419   \n",
       "\n",
       "    MedrxivClusteringP2P  MindSmallReranking  RedditClusteringP2P  SCIDOCS  \\\n",
       "0               0.238383            0.274675             0.405401  0.01415   \n",
       "1               0.258624            0.280395             0.443804  0.02072   \n",
       "2               0.298475            0.300186             0.492956  0.05335   \n",
       "3               0.312544            0.296389             0.513832  0.10083   \n",
       "4               0.312765            0.298347             0.532951  0.12007   \n",
       "5               0.313393            0.297758             0.538351  0.12368   \n",
       "6               0.311341            0.296084             0.536404  0.12126   \n",
       "7               0.312915            0.295156             0.543178  0.12274   \n",
       "8               0.308182            0.297375             0.541959  0.12513   \n",
       "9               0.313450            0.294467             0.545709  0.12331   \n",
       "10              0.310625            0.296960             0.543631  0.12193   \n",
       "11              0.305705            0.299165             0.552376  0.12008   \n",
       "12              0.306278            0.298157             0.544920  0.12719   \n",
       "13              0.307569            0.299084             0.546489  0.12907   \n",
       "14              0.311250            0.300248             0.555290  0.12948   \n",
       "15              0.308855            0.300664             0.549626  0.12945   \n",
       "16              0.310278            0.299719             0.555680  0.12875   \n",
       "17              0.308897            0.299978             0.553235  0.12850   \n",
       "\n",
       "       STS12     STS13     STS14     STS15     STS16  STSBenchmark  SciDocsRR  \\\n",
       "0   0.243431  0.520162  0.446454  0.534895  0.505863      0.519878   0.560579   \n",
       "1   0.239287  0.546729  0.459267  0.525042  0.529872      0.543161   0.588079   \n",
       "2   0.269957  0.589645  0.500454  0.510676  0.605632      0.611643   0.626583   \n",
       "3   0.419878  0.704948  0.602115  0.665623  0.704864      0.706322   0.699604   \n",
       "4   0.496665  0.741651  0.637952  0.729790  0.745516      0.738614   0.712471   \n",
       "5   0.515515  0.744016  0.643029  0.735652  0.751302      0.743193   0.722179   \n",
       "6   0.511566  0.745379  0.638575  0.726518  0.752243      0.738001   0.726834   \n",
       "7   0.511637  0.749409  0.640792  0.730530  0.758662      0.738497   0.726324   \n",
       "8   0.521489  0.754751  0.651448  0.746694  0.764512      0.744506   0.728565   \n",
       "9   0.525614  0.756253  0.652269  0.743513  0.763252      0.744922   0.733977   \n",
       "10  0.526480  0.753826  0.651707  0.739935  0.761418      0.743386   0.735685   \n",
       "11  0.523319  0.750532  0.650155  0.742805  0.763432      0.742328   0.730206   \n",
       "12  0.501876  0.735802  0.635553  0.722063  0.754303      0.730757   0.730783   \n",
       "13  0.506205  0.740439  0.644274  0.736523  0.758755      0.725821   0.734343   \n",
       "14  0.500741  0.734572  0.636964  0.728454  0.756835      0.723585   0.735409   \n",
       "15  0.500719  0.732040  0.637960  0.724482  0.757442      0.719717   0.736047   \n",
       "16  0.497114  0.731757  0.636480  0.720674  0.756180      0.719178   0.736864   \n",
       "17  0.496785  0.731823  0.636534  0.721247  0.756424      0.719054   0.737081   \n",
       "\n",
       "    StackExchangeClusteringP2P  \n",
       "0                     0.265462  \n",
       "1                     0.277583  \n",
       "2                     0.303922  \n",
       "3                     0.307470  \n",
       "4                     0.305911  \n",
       "5                     0.309289  \n",
       "6                     0.307270  \n",
       "7                     0.308146  \n",
       "8                     0.308180  \n",
       "9                     0.305661  \n",
       "10                    0.309663  \n",
       "11                    0.309697  \n",
       "12                    0.311187  \n",
       "13                    0.308253  \n",
       "14                    0.312631  \n",
       "15                    0.311033  \n",
       "16                    0.309871  \n",
       "17                    0.310588  "
      ]
     },
     "execution_count": null,
     "metadata": {},
     "output_type": "execute_result"
    }
   ],
   "source": [
    "df_training_eval_results"
   ]
  },
  {
   "cell_type": "code",
   "execution_count": null,
   "metadata": {},
   "outputs": [],
   "source": [
    "model_name = \"MPNet\"\n",
    "saving_path = Path(\"embeddings_\" + model_name.lower()) / Path(\n",
    "    \"updated_dataset\"\n",
    ")\n",
    "df_training_eval_results.to_parquet(\n",
    "    variables_path / saving_path / \"df_training_eval_results_mteb_batches_v2\",\n",
    "    index=False,\n",
    "    engine=\"pyarrow\",\n",
    "    compression=\"gzip\",\n",
    ")"
   ]
  },
  {
   "cell_type": "markdown",
   "metadata": {},
   "source": [
    "#### Plot"
   ]
  },
  {
   "cell_type": "code",
   "execution_count": null,
   "metadata": {},
   "outputs": [],
   "source": [
    "mpl.rcParams[\"xtick.labelsize\"] = 8\n",
    "mpl.rcParams[\"ytick.labelsize\"] = 8\n",
    "mpl.rcParams[\"axes.labelsize\"] = 8\n",
    "# mpl.rcParams[\"axes.titlesize\"] = 6"
   ]
  },
  {
   "cell_type": "code",
   "execution_count": null,
   "metadata": {},
   "outputs": [
    {
     "data": {
      "image/png": "[encoded data removed]",
      "text/plain": [
       "<Figure size 500x300 with 1 Axes>"
      ]
     },
     "metadata": {},
     "output_type": "display_data"
    }
   ],
   "source": [
    "%matplotlib inline\n",
    "\n",
    "fig, ax = plt.subplots(figsize=(2.5, 1.5), dpi=200, layout=\"constrained\")\n",
    "\n",
    "# load\n",
    "## mpnet crops\n",
    "model_name = \"MPNet\"\n",
    "saving_path = Path(\"embeddings_\" + model_name.lower()) / Path(\n",
    "    \"updated_dataset\"\n",
    ")\n",
    "df_training_eval_results = pd.read_parquet(\n",
    "    variables_path / saving_path / \"df_training_eval_results_mteb_batches_v2\",\n",
    "    engine=\"pyarrow\",\n",
    ")\n",
    "\n",
    "df_training_eval_results.set_index(\"batch\", inplace=True)\n",
    "\n",
    "# calculate block means\n",
    "df_block_mean = pd.DataFrame()\n",
    "df_block_mean[\"clustering\"] = df_training_eval_results[\n",
    "    [\n",
    "        \"ArxivClusteringP2P\",\n",
    "        \"BiorxivClusteringP2P\",\n",
    "        \"MedrxivClusteringP2P\",\n",
    "        \"RedditClusteringP2P\",\n",
    "        \"StackExchangeClusteringP2P\",\n",
    "    ]\n",
    "].mean(axis=1)\n",
    "\n",
    "df_block_mean[\"reranking\"] = df_training_eval_results[\n",
    "    [\"SciDocsRR\", \"MindSmallReranking\"]\n",
    "].mean(axis=1)\n",
    "df_block_mean[\"retrieval\"] = df_training_eval_results[\n",
    "    [\"SCIDOCS\", \"ArguAna\"]\n",
    "].mean(axis=1)\n",
    "df_block_mean[\"sts\"] = df_training_eval_results[\n",
    "    [\"STS15\", \"STS16\", \"STSBenchmark\"]\n",
    "].mean(axis=1)\n",
    "\n",
    "# create palette\n",
    "palette = glasbey.create_palette(\n",
    "    palette_size=len(df_training_eval_results.columns),\n",
    "    lightness_bounds=(20, 75),\n",
    "    chroma_bounds=(50, 90),\n",
    ")\n",
    "\n",
    "\n",
    "for i, elem in enumerate(df_block_mean.columns):\n",
    "    ax.plot(\n",
    "        df_block_mean.index,\n",
    "        df_block_mean[elem],\n",
    "        label=[elem.upper() if elem == \"sts\" else elem.capitalize()],\n",
    "        c=palette[i],\n",
    "        alpha=0.5,\n",
    "    )\n",
    "\n",
    "# ax.plot(\n",
    "#     df_training_eval_results.index,\n",
    "#     df_training_eval_results.mean(axis=1),\n",
    "#     label=\"Mean\",\n",
    "#     c=\"black\",\n",
    "#     lw=1,\n",
    "# )\n",
    "\n",
    "\n",
    "ax.plot(\n",
    "    df_block_mean.index,\n",
    "    df_block_mean.mean(axis=1),\n",
    "    label=\"Block mean\",\n",
    "    c=\"k\",\n",
    "    lw=1,\n",
    ")\n",
    "# ax.text(\n",
    "#     df_block_mean.index[-1],\n",
    "#     df_block_mean.mean(axis=1).iloc[-1] - 0.009,\n",
    "#     f\"MPNet Crops: {df_block_mean.mean(axis=1).iloc[-1]:.1%}\",\n",
    "#     # fontsize=5,\n",
    "#     va=\"top\",\n",
    "#     ha=\"right\",\n",
    "# )\n",
    "# ax.scatter(0, df_block_mean.mean(axis=1).iloc[0], c=\"k\", s=5)\n",
    "# ax.text(\n",
    "#     14,\n",
    "#     df_block_mean.mean(axis=1).iloc[0],\n",
    "#     f\"MPNet base\",\n",
    "#     # fontsize=5,\n",
    "#     va=\"center\",\n",
    "#     ha=\"left\",\n",
    "# )\n",
    "# SBERT\n",
    "# ax.hlines(0.552, 0, df_block_mean.index[-1], color=\"k\", linestyles=\"--\")\n",
    "\n",
    "# ax.text(\n",
    "#     df_block_mean.index[-1],\n",
    "#     0.552 + 0.005,\n",
    "#     f\"SBERT: 55.2%\",\n",
    "#     # fontsize=5,\n",
    "#     va=\"bottom\",\n",
    "#     ha=\"right\",\n",
    "# )\n",
    "\n",
    "\n",
    "ax.hlines(0.428, 0, df_block_mean.index[-1], color=palette[0], linestyles=\"--\")\n",
    "ax.hlines(0.598, 0, df_block_mean.index[-1], color=palette[1], linestyles=\"--\")\n",
    "ax.hlines(0.351, 0, df_block_mean.index[-1], color=palette[2], linestyles=\"--\")\n",
    "ax.hlines(0.830, 0, df_block_mean.index[-1], color=palette[3], linestyles=\"--\")\n",
    "ax.plot([], [], color=\"grey\", linestyle=\"-\", label=\"MPNet crops\")\n",
    "ax.plot([], [], color=\"grey\", linestyle=\"--\", label=\"SBERT\")\n",
    "\n",
    "ax.legend(loc=(1, 0))\n",
    "ax.set_ylim(0, 0.85)\n",
    "# ax.set_yticks([0, 0.20, 0.40, 0.60, 0.80, 0.85])\n",
    "\n",
    "ax.set_xticks([0, 100, 200, 300, 370])\n",
    "ax.set_xticklabels([0, 100, 200, 300, \"\"])\n",
    "ax.set_xlabel(\"Batch\")\n",
    "ax.set_ylabel(\"MTEB score\")\n",
    "ax.yaxis.set_major_formatter(ticker.PercentFormatter(xmax=1, decimals=0))\n",
    "# ax.set_yticklabels([0, 20, 40, 60, 80, \"\"])\n",
    "ax.spines.bottom.set_bounds(0, 370)\n",
    "\n",
    "# fig.savefig(figures_path / \"mteb_scores_MPNet_crops_batches_train_iclr_v8.png\")"
   ]
  },
  {
   "cell_type": "code",
   "execution_count": null,
   "metadata": {},
   "outputs": [
    {
     "data": {
      "text/plain": [
       "clustering     8.3\n",
       "reranking      9.9\n",
       "retrieval     18.6\n",
       "sts           22.8\n",
       "dtype: float64"
      ]
     },
     "execution_count": null,
     "metadata": {},
     "output_type": "execute_result"
    }
   ],
   "source": [
    "np.round((df_block_mean.loc[100] - df_block_mean.loc[0]) * 100, 1)"
   ]
  },
  {
   "cell_type": "code",
   "execution_count": null,
   "metadata": {},
   "outputs": [
    {
     "data": {
      "text/plain": [
       "clustering     8.6\n",
       "reranking     10.1\n",
       "retrieval     19.4\n",
       "sts           21.2\n",
       "dtype: float64"
      ]
     },
     "execution_count": null,
     "metadata": {},
     "output_type": "execute_result"
    }
   ],
   "source": [
    "np.round((df_block_mean.iloc[-1] - df_block_mean.loc[0]) * 100, 1)"
   ]
  },
  {
   "cell_type": "code",
   "execution_count": null,
   "metadata": {},
   "outputs": [
    {
     "data": {
      "text/plain": [
       "14.825"
      ]
     },
     "execution_count": null,
     "metadata": {},
     "output_type": "execute_result"
    }
   ],
   "source": [
    "np.round((df_block_mean.iloc[-1] - df_block_mean.loc[0]) * 100, 1).mean()"
   ]
  },
  {
   "cell_type": "code",
   "execution_count": null,
   "metadata": {},
   "outputs": [
    {
     "data": {
      "text/plain": [
       "0.32"
      ]
     },
     "execution_count": null,
     "metadata": {},
     "output_type": "execute_result"
    }
   ],
   "source": [
    "2 / 10 + 3 / 25"
   ]
  },
  {
   "cell_type": "markdown",
   "metadata": {},
   "source": [
    "# More tasks"
   ]
  },
  {
   "cell_type": "code",
   "execution_count": null,
   "metadata": {},
   "outputs": [],
   "source": [
    "# retrieval\n",
    "ArguAna\n",
    "ClimateFEVER\n",
    "CQADupstackAndroidRetrieval\n",
    "CQADupstackEnglishRetrieval\n",
    "CQADupstackGamingRetrieval\n",
    "CQADupstackGisRetrieval\n",
    "CQADupstackMathematicaRetrieval\n",
    "CQADupstackPhysicsRetrieval\n",
    "CQADupstackProgrammersRetrieval\n",
    "CQADupstackStatsRetrieval\n",
    "CQADupstackTexRetrieval\n",
    "CQADupstackUnixRetrieval\n",
    "CQADupstackWebmastersRetrieval\n",
    "CQADupstackWordpressRetrieval\n",
    "DBPedia\n",
    "FEVER\n",
    "FiQA2018\n",
    "HotpotQA\n",
    "MSMARCO\n",
    "MSMARCOv2\n",
    "\n",
    "QuoraRetrieval\n",
    "SCIDOCS\n",
    "SciFact\n",
    "Touche2020\n",
    "TRECCOVID\n",
    "\n",
    "# reranking\n",
    "AskUbuntuDupQuestions\n",
    "MindSmallReranking\n",
    "SciDocsRR\n",
    "StackOverflowDupQuestions"
   ]
  },
  {
   "cell_type": "code",
   "execution_count": null,
   "metadata": {},
   "outputs": [],
   "source": [
    "new_tasks= [\n",
    "    \"AskUbuntuDupQuestions\", # reranking\n",
    "    \"NFCorpus\", # retrieval, ordered by relevance\n",
    "    \"NQ\",\n",
    "    \"TRECCOVID\",\n",
    "    \"SciFact\",\n",
    "    \n",
    "]"
   ]
  },
  {
   "cell_type": "markdown",
   "metadata": {},
   "source": [
    "### Fine-tuned MPNet (crops)"
   ]
  },
  {
   "cell_type": "code",
   "execution_count": null,
   "metadata": {},
   "outputs": [],
   "source": [
    "model_name = \"MPNet\"\n",
    "model_path = \"microsoft/mpnet-base\""
   ]
  },
  {
   "cell_type": "code",
   "execution_count": null,
   "metadata": {},
   "outputs": [
    {
     "name": "stdout",
     "output_type": "stream",
     "text": [
      "Model:  MPNet\n",
      "Running on device: cuda\n"
     ]
    },
    {
     "name": "stderr",
     "output_type": "stream",
     "text": [
      "Some weights of MPNetModel were not initialized from the model checkpoint at microsoft/mpnet-base and are newly initialized: ['mpnet.pooler.dense.bias', 'mpnet.pooler.dense.weight']\n",
      "You should probably TRAIN this model on a down-stream task to be able to use it for predictions and inference.\n"
     ]
    },
    {
     "name": "stdout",
     "output_type": "stream",
     "text": [
      "CPU times: user 109 ms, sys: 8.99 ms, total: 118 ms\n",
      "Wall time: 454 ms\n"
     ]
    }
   ],
   "source": [
    "%%time\n",
    "\n",
    "# fix random seeds\n",
    "fix_all_seeds()\n",
    "\n",
    "# set up model\n",
    "print(\"Model: \", model_name)\n",
    "\n",
    "device = \"cuda\" if torch.cuda.is_available() else \"cpu\"\n",
    "print(\"Running on device: {}\".format(device))\n",
    "\n",
    "tokenizer = AutoTokenizer.from_pretrained(model_path)\n",
    "model = AutoModel.from_pretrained(model_path)\n",
    "\n",
    "# wrap model\n",
    "wrapped_model = FineTunedHFModelWrapper(model, tokenizer)"
   ]
  },
  {
   "cell_type": "code",
   "execution_count": null,
   "metadata": {},
   "outputs": [
    {
     "data": {
      "application/vnd.jupyter.widget-view+json": {
       "model_id": "d1ac3c787f5c4737a20eb94cf6845377",
       "version_major": 2,
       "version_minor": 0
      },
      "text/plain": [
       "  0%|          | 0/368 [00:00<?, ?it/s]"
      ]
     },
     "metadata": {},
     "output_type": "display_data"
    },
    {
     "data": {
      "text/html": [
       "<pre style=\"white-space:pre;overflow-x:auto;line-height:normal;font-family:Menlo,'DejaVu Sans Mono',consolas,'Courier New',monospace\"><span style=\"color: #262626; text-decoration-color: #262626\">───────────────────────────────────────────────── </span><span style=\"font-weight: bold\">Selected tasks </span><span style=\"color: #262626; text-decoration-color: #262626\"> ─────────────────────────────────────────────────</span>\n",
       "</pre>\n"
      ],
      "text/plain": [
       "\u001b[38;5;235m───────────────────────────────────────────────── \u001b[0m\u001b[1mSelected tasks \u001b[0m\u001b[38;5;235m ─────────────────────────────────────────────────\u001b[0m\n"
      ]
     },
     "metadata": {},
     "output_type": "display_data"
    },
    {
     "data": {
      "text/html": [
       "<pre style=\"white-space:pre;overflow-x:auto;line-height:normal;font-family:Menlo,'DejaVu Sans Mono',consolas,'Courier New',monospace\"><span style=\"font-weight: bold\">Clustering</span>\n",
       "</pre>\n"
      ],
      "text/plain": [
       "\u001b[1mClustering\u001b[0m\n"
      ]
     },
     "metadata": {},
     "output_type": "display_data"
    },
    {
     "data": {
      "text/html": [
       "<pre style=\"white-space:pre;overflow-x:auto;line-height:normal;font-family:Menlo,'DejaVu Sans Mono',consolas,'Courier New',monospace\">    - ArxivClusteringP2P, <span style=\"color: #626262; text-decoration-color: #626262; font-style: italic\">p2p</span>\n",
       "</pre>\n"
      ],
      "text/plain": [
       "    - ArxivClusteringP2P, \u001b[3;38;5;241mp2p\u001b[0m\n"
      ]
     },
     "metadata": {},
     "output_type": "display_data"
    },
    {
     "data": {
      "text/html": [
       "<pre style=\"white-space:pre;overflow-x:auto;line-height:normal;font-family:Menlo,'DejaVu Sans Mono',consolas,'Courier New',monospace\">    - BiorxivClusteringP2P, <span style=\"color: #626262; text-decoration-color: #626262; font-style: italic\">p2p</span>\n",
       "</pre>\n"
      ],
      "text/plain": [
       "    - BiorxivClusteringP2P, \u001b[3;38;5;241mp2p\u001b[0m\n"
      ]
     },
     "metadata": {},
     "output_type": "display_data"
    },
    {
     "data": {
      "text/html": [
       "<pre style=\"white-space:pre;overflow-x:auto;line-height:normal;font-family:Menlo,'DejaVu Sans Mono',consolas,'Courier New',monospace\">    - MedrxivClusteringP2P, <span style=\"color: #626262; text-decoration-color: #626262; font-style: italic\">p2p</span>\n",
       "</pre>\n"
      ],
      "text/plain": [
       "    - MedrxivClusteringP2P, \u001b[3;38;5;241mp2p\u001b[0m\n"
      ]
     },
     "metadata": {},
     "output_type": "display_data"
    },
    {
     "data": {
      "text/html": [
       "<pre style=\"white-space:pre;overflow-x:auto;line-height:normal;font-family:Menlo,'DejaVu Sans Mono',consolas,'Courier New',monospace\">    - RedditClusteringP2P, <span style=\"color: #626262; text-decoration-color: #626262; font-style: italic\">p2p</span>\n",
       "</pre>\n"
      ],
      "text/plain": [
       "    - RedditClusteringP2P, \u001b[3;38;5;241mp2p\u001b[0m\n"
      ]
     },
     "metadata": {},
     "output_type": "display_data"
    },
    {
     "data": {
      "text/html": [
       "<pre style=\"white-space:pre;overflow-x:auto;line-height:normal;font-family:Menlo,'DejaVu Sans Mono',consolas,'Courier New',monospace\">    - StackExchangeClusteringP2P, <span style=\"color: #626262; text-decoration-color: #626262; font-style: italic\">p2p</span>\n",
       "</pre>\n"
      ],
      "text/plain": [
       "    - StackExchangeClusteringP2P, \u001b[3;38;5;241mp2p\u001b[0m\n"
      ]
     },
     "metadata": {},
     "output_type": "display_data"
    },
    {
     "data": {
      "text/html": [
       "<pre style=\"white-space:pre;overflow-x:auto;line-height:normal;font-family:Menlo,'DejaVu Sans Mono',consolas,'Courier New',monospace\">\n",
       "\n",
       "</pre>\n"
      ],
      "text/plain": [
       "\n",
       "\n"
      ]
     },
     "metadata": {},
     "output_type": "display_data"
    },
    {
     "data": {
      "text/html": [
       "<pre style=\"white-space:pre;overflow-x:auto;line-height:normal;font-family:Menlo,'DejaVu Sans Mono',consolas,'Courier New',monospace\"><span style=\"font-weight: bold\">Reranking</span>\n",
       "</pre>\n"
      ],
      "text/plain": [
       "\u001b[1mReranking\u001b[0m\n"
      ]
     },
     "metadata": {},
     "output_type": "display_data"
    },
    {
     "data": {
      "text/html": [
       "<pre style=\"white-space:pre;overflow-x:auto;line-height:normal;font-family:Menlo,'DejaVu Sans Mono',consolas,'Courier New',monospace\">    - SciDocsRR, <span style=\"color: #626262; text-decoration-color: #626262; font-style: italic\">s2s</span>\n",
       "</pre>\n"
      ],
      "text/plain": [
       "    - SciDocsRR, \u001b[3;38;5;241ms2s\u001b[0m\n"
      ]
     },
     "metadata": {},
     "output_type": "display_data"
    },
    {
     "data": {
      "text/html": [
       "<pre style=\"white-space:pre;overflow-x:auto;line-height:normal;font-family:Menlo,'DejaVu Sans Mono',consolas,'Courier New',monospace\">    - MindSmallReranking, <span style=\"color: #626262; text-decoration-color: #626262; font-style: italic\">s2s</span>\n",
       "</pre>\n"
      ],
      "text/plain": [
       "    - MindSmallReranking, \u001b[3;38;5;241ms2s\u001b[0m\n"
      ]
     },
     "metadata": {},
     "output_type": "display_data"
    },
    {
     "data": {
      "text/html": [
       "<pre style=\"white-space:pre;overflow-x:auto;line-height:normal;font-family:Menlo,'DejaVu Sans Mono',consolas,'Courier New',monospace\">\n",
       "\n",
       "</pre>\n"
      ],
      "text/plain": [
       "\n",
       "\n"
      ]
     },
     "metadata": {},
     "output_type": "display_data"
    },
    {
     "data": {
      "text/html": [
       "<pre style=\"white-space:pre;overflow-x:auto;line-height:normal;font-family:Menlo,'DejaVu Sans Mono',consolas,'Courier New',monospace\"><span style=\"font-weight: bold\">Retrieval</span>\n",
       "</pre>\n"
      ],
      "text/plain": [
       "\u001b[1mRetrieval\u001b[0m\n"
      ]
     },
     "metadata": {},
     "output_type": "display_data"
    },
    {
     "data": {
      "text/html": [
       "<pre style=\"white-space:pre;overflow-x:auto;line-height:normal;font-family:Menlo,'DejaVu Sans Mono',consolas,'Courier New',monospace\">    - SCIDOCS, <span style=\"color: #626262; text-decoration-color: #626262; font-style: italic\">s2p</span>\n",
       "</pre>\n"
      ],
      "text/plain": [
       "    - SCIDOCS, \u001b[3;38;5;241ms2p\u001b[0m\n"
      ]
     },
     "metadata": {},
     "output_type": "display_data"
    },
    {
     "data": {
      "text/html": [
       "<pre style=\"white-space:pre;overflow-x:auto;line-height:normal;font-family:Menlo,'DejaVu Sans Mono',consolas,'Courier New',monospace\">    - ArguAna, <span style=\"color: #626262; text-decoration-color: #626262; font-style: italic\">s2p</span>\n",
       "</pre>\n"
      ],
      "text/plain": [
       "    - ArguAna, \u001b[3;38;5;241ms2p\u001b[0m\n"
      ]
     },
     "metadata": {},
     "output_type": "display_data"
    },
    {
     "data": {
      "text/html": [
       "<pre style=\"white-space:pre;overflow-x:auto;line-height:normal;font-family:Menlo,'DejaVu Sans Mono',consolas,'Courier New',monospace\">\n",
       "\n",
       "</pre>\n"
      ],
      "text/plain": [
       "\n",
       "\n"
      ]
     },
     "metadata": {},
     "output_type": "display_data"
    },
    {
     "data": {
      "text/html": [
       "<pre style=\"white-space:pre;overflow-x:auto;line-height:normal;font-family:Menlo,'DejaVu Sans Mono',consolas,'Courier New',monospace\"><span style=\"font-weight: bold\">STS</span>\n",
       "</pre>\n"
      ],
      "text/plain": [
       "\u001b[1mSTS\u001b[0m\n"
      ]
     },
     "metadata": {},
     "output_type": "display_data"
    },
    {
     "data": {
      "text/html": [
       "<pre style=\"white-space:pre;overflow-x:auto;line-height:normal;font-family:Menlo,'DejaVu Sans Mono',consolas,'Courier New',monospace\">    - STS12, <span style=\"color: #626262; text-decoration-color: #626262; font-style: italic\">s2s</span>\n",
       "</pre>\n"
      ],
      "text/plain": [
       "    - STS12, \u001b[3;38;5;241ms2s\u001b[0m\n"
      ]
     },
     "metadata": {},
     "output_type": "display_data"
    },
    {
     "data": {
      "text/html": [
       "<pre style=\"white-space:pre;overflow-x:auto;line-height:normal;font-family:Menlo,'DejaVu Sans Mono',consolas,'Courier New',monospace\">    - STS13, <span style=\"color: #626262; text-decoration-color: #626262; font-style: italic\">s2s</span>\n",
       "</pre>\n"
      ],
      "text/plain": [
       "    - STS13, \u001b[3;38;5;241ms2s\u001b[0m\n"
      ]
     },
     "metadata": {},
     "output_type": "display_data"
    },
    {
     "data": {
      "text/html": [
       "<pre style=\"white-space:pre;overflow-x:auto;line-height:normal;font-family:Menlo,'DejaVu Sans Mono',consolas,'Courier New',monospace\">    - STS14, <span style=\"color: #626262; text-decoration-color: #626262; font-style: italic\">s2s</span>\n",
       "</pre>\n"
      ],
      "text/plain": [
       "    - STS14, \u001b[3;38;5;241ms2s\u001b[0m\n"
      ]
     },
     "metadata": {},
     "output_type": "display_data"
    },
    {
     "data": {
      "text/html": [
       "<pre style=\"white-space:pre;overflow-x:auto;line-height:normal;font-family:Menlo,'DejaVu Sans Mono',consolas,'Courier New',monospace\">    - STS15, <span style=\"color: #626262; text-decoration-color: #626262; font-style: italic\">s2s</span>\n",
       "</pre>\n"
      ],
      "text/plain": [
       "    - STS15, \u001b[3;38;5;241ms2s\u001b[0m\n"
      ]
     },
     "metadata": {},
     "output_type": "display_data"
    },
    {
     "data": {
      "text/html": [
       "<pre style=\"white-space:pre;overflow-x:auto;line-height:normal;font-family:Menlo,'DejaVu Sans Mono',consolas,'Courier New',monospace\">    - STS16, <span style=\"color: #626262; text-decoration-color: #626262; font-style: italic\">s2s</span>\n",
       "</pre>\n"
      ],
      "text/plain": [
       "    - STS16, \u001b[3;38;5;241ms2s\u001b[0m\n"
      ]
     },
     "metadata": {},
     "output_type": "display_data"
    },
    {
     "data": {
      "text/html": [
       "<pre style=\"white-space:pre;overflow-x:auto;line-height:normal;font-family:Menlo,'DejaVu Sans Mono',consolas,'Courier New',monospace\">    - STSBenchmark, <span style=\"color: #626262; text-decoration-color: #626262; font-style: italic\">s2s</span>\n",
       "</pre>\n"
      ],
      "text/plain": [
       "    - STSBenchmark, \u001b[3;38;5;241ms2s\u001b[0m\n"
      ]
     },
     "metadata": {},
     "output_type": "display_data"
    },
    {
     "data": {
      "text/html": [
       "<pre style=\"white-space:pre;overflow-x:auto;line-height:normal;font-family:Menlo,'DejaVu Sans Mono',consolas,'Courier New',monospace\">\n",
       "\n",
       "</pre>\n"
      ],
      "text/plain": [
       "\n",
       "\n"
      ]
     },
     "metadata": {},
     "output_type": "display_data"
    },
    {
     "name": "stderr",
     "output_type": "stream",
     "text": [
      "WARNING:mteb.abstasks.AbsTask:Dataset 'ArxivClusteringP2P' is superseeded by 'ArXivHierarchicalClusteringP2P', you might consider using the newer version of the dataset.\n",
      "Clustering: 100%|███████████████████████████████████████████████████████████████████████████████████████████████████████████████████████████████████████████████████████████████████████████████| 31/31 [58:14<00:00, 112.72s/it]\n",
      "WARNING:mteb.abstasks.AbsTask:Dataset 'BiorxivClusteringP2P' is superseeded by 'BiorxivClusteringP2P.v2', you might consider using the newer version of the dataset.\n",
      "Clustering: 100%|████████████████████████████████████████████████████████████████████████████████████████████████████████████████████████████████████████████████████████████████████████████████| 10/10 [07:34<00:00, 45.46s/it]\n",
      "WARNING:mteb.abstasks.AbsTask:Dataset 'MedrxivClusteringP2P' is superseeded by 'MedrxivClusteringP2P.v2', you might consider using the newer version of the dataset.\n",
      "Clustering: 100%|████████████████████████████████████████████████████████████████████████████████████████████████████████████████████████████████████████████████████████████████████████████████| 10/10 [03:57<00:00, 23.77s/it]\n",
      "WARNING:mteb.abstasks.AbsTask:Dataset 'RedditClusteringP2P' is superseeded by 'RedditClusteringP2P.v2', you might consider using the newer version of the dataset.\n",
      "Clustering: 100%|███████████████████████████████████████████████████████████████████████████████████████████████████████████████████████████████████████████████████████████████████████████████| 10/10 [24:20<00:00, 146.09s/it]\n",
      "WARNING:mteb.abstasks.AbsTask:Dataset 'StackExchangeClusteringP2P' is superseeded by 'StackExchangeClusteringP2P.v2', you might consider using the newer version of the dataset.\n",
      "Clustering: 100%|████████████████████████████████████████████████████████████████████████████████████████████████████████████████████████████████████████████████████████████████████████████████| 10/10 [05:47<00:00, 34.75s/it]\n",
      "WARNING:mteb.evaluation.evaluators.RerankingEvaluator:A total on 33447/118600 duplicate texts were found during encoding. Only encoding unique text and duplicating embeddings across.\n",
      "Repo card metadata block was not found. Setting CardData to empty.\n",
      "WARNING:huggingface_hub.repocard:Repo card metadata block was not found. Setting CardData to empty.\n",
      "WARNING:mteb.evaluation.evaluators.RerankingEvaluator:A total on 2325352/2362514 duplicate texts were found during encoding. Only encoding unique text and duplicating embeddings across.\n",
      "WARNING:mteb.evaluation.evaluators.RerankingEvaluator:A total on 2652814/2658091 duplicate texts were found during encoding. Only encoding unique text and duplicating embeddings across.\n"
     ]
    },
    {
     "data": {
      "application/vnd.jupyter.widget-view+json": {
       "model_id": "1a48eeeaec2f4fc09253c6258ac242a0",
       "version_major": 2,
       "version_minor": 0
      },
      "text/plain": [
       "Batches:   0%|          | 0/32 [00:00<?, ?it/s]"
      ]
     },
     "metadata": {},
     "output_type": "display_data"
    },
    {
     "data": {
      "application/vnd.jupyter.widget-view+json": {
       "model_id": "b16c9998becc43ffb7494e785e05054e",
       "version_major": 2,
       "version_minor": 0
      },
      "text/plain": [
       "Batches:   0%|          | 0/802 [00:00<?, ?it/s]"
      ]
     },
     "metadata": {},
     "output_type": "display_data"
    },
    {
     "name": "stderr",
     "output_type": "stream",
     "text": [
      "Using the latest cached version of the dataset since mteb/arguana couldn't be found on the Hugging Face Hub\n",
      "WARNING:datasets.load:Using the latest cached version of the dataset since mteb/arguana couldn't be found on the Hugging Face Hub\n",
      "Found the latest cached dataset configuration 'corpus' at /gpfs01/berens/user/rgonzalesmarquez/.cache/huggingface/datasets/mteb___arguana/corpus/0.0.0/c22ab2a51041ffd869aaddef7af8d8215647e41a (last modified on Fri Aug  2 16:39:03 2024).\n",
      "WARNING:datasets.packaged_modules.cache.cache:Found the latest cached dataset configuration 'corpus' at /gpfs01/berens/user/rgonzalesmarquez/.cache/huggingface/datasets/mteb___arguana/corpus/0.0.0/c22ab2a51041ffd869aaddef7af8d8215647e41a (last modified on Fri Aug  2 16:39:03 2024).\n"
     ]
    },
    {
     "data": {
      "application/vnd.jupyter.widget-view+json": {
       "model_id": "5d8d5766a88249aba908e030e1538bda",
       "version_major": 2,
       "version_minor": 0
      },
      "text/plain": [
       "Batches:   0%|          | 0/44 [00:00<?, ?it/s]"
      ]
     },
     "metadata": {},
     "output_type": "display_data"
    },
    {
     "data": {
      "application/vnd.jupyter.widget-view+json": {
       "model_id": "171a496439af461db53b5fef46acacf0",
       "version_major": 2,
       "version_minor": 0
      },
      "text/plain": [
       "Batches:   0%|          | 0/272 [00:00<?, ?it/s]"
      ]
     },
     "metadata": {},
     "output_type": "display_data"
    },
    {
     "data": {
      "application/vnd.jupyter.widget-view+json": {
       "model_id": "b5e2f1f97cdf434a8a16869b0dcdc214",
       "version_major": 2,
       "version_minor": 0
      },
      "text/plain": [
       "Batches:   0%|          | 0/98 [00:00<?, ?it/s]"
      ]
     },
     "metadata": {},
     "output_type": "display_data"
    },
    {
     "data": {
      "application/vnd.jupyter.widget-view+json": {
       "model_id": "af864b66318146539318fc3eb34ae25a",
       "version_major": 2,
       "version_minor": 0
      },
      "text/plain": [
       "Batches:   0%|          | 0/98 [00:00<?, ?it/s]"
      ]
     },
     "metadata": {},
     "output_type": "display_data"
    },
    {
     "data": {
      "application/vnd.jupyter.widget-view+json": {
       "model_id": "3246bb2caf434e0cb4439f9a87553be3",
       "version_major": 2,
       "version_minor": 0
      },
      "text/plain": [
       "Batches:   0%|          | 0/47 [00:00<?, ?it/s]"
      ]
     },
     "metadata": {},
     "output_type": "display_data"
    },
    {
     "data": {
      "application/vnd.jupyter.widget-view+json": {
       "model_id": "aec82da966814957921940a58327806c",
       "version_major": 2,
       "version_minor": 0
      },
      "text/plain": [
       "Batches:   0%|          | 0/47 [00:00<?, ?it/s]"
      ]
     },
     "metadata": {},
     "output_type": "display_data"
    },
    {
     "data": {
      "application/vnd.jupyter.widget-view+json": {
       "model_id": "5fd1df79d58b4ddb8e31045fd7502985",
       "version_major": 2,
       "version_minor": 0
      },
      "text/plain": [
       "Batches:   0%|          | 0/118 [00:00<?, ?it/s]"
      ]
     },
     "metadata": {},
     "output_type": "display_data"
    },
    {
     "data": {
      "application/vnd.jupyter.widget-view+json": {
       "model_id": "6341ddaf8a63471780d6d3390e14e135",
       "version_major": 2,
       "version_minor": 0
      },
      "text/plain": [
       "Batches:   0%|          | 0/118 [00:00<?, ?it/s]"
      ]
     },
     "metadata": {},
     "output_type": "display_data"
    },
    {
     "data": {
      "application/vnd.jupyter.widget-view+json": {
       "model_id": "49287c6982aa4942ab6b8e4f4e1e540d",
       "version_major": 2,
       "version_minor": 0
      },
      "text/plain": [
       "Batches:   0%|          | 0/94 [00:00<?, ?it/s]"
      ]
     },
     "metadata": {},
     "output_type": "display_data"
    },
    {
     "data": {
      "application/vnd.jupyter.widget-view+json": {
       "model_id": "bddbc47035054fb5a87be9758469add1",
       "version_major": 2,
       "version_minor": 0
      },
      "text/plain": [
       "Batches:   0%|          | 0/94 [00:00<?, ?it/s]"
      ]
     },
     "metadata": {},
     "output_type": "display_data"
    },
    {
     "data": {
      "application/vnd.jupyter.widget-view+json": {
       "model_id": "5dff73262e5c47ab8a3f30d68a7126b0",
       "version_major": 2,
       "version_minor": 0
      },
      "text/plain": [
       "Batches:   0%|          | 0/38 [00:00<?, ?it/s]"
      ]
     },
     "metadata": {},
     "output_type": "display_data"
    },
    {
     "data": {
      "application/vnd.jupyter.widget-view+json": {
       "model_id": "b0fb1cfc2d2148d49ce5e787a925cfc6",
       "version_major": 2,
       "version_minor": 0
      },
      "text/plain": [
       "Batches:   0%|          | 0/38 [00:00<?, ?it/s]"
      ]
     },
     "metadata": {},
     "output_type": "display_data"
    },
    {
     "data": {
      "application/vnd.jupyter.widget-view+json": {
       "model_id": "17c0c13dbbdb41e5b019a79a8ea1a87a",
       "version_major": 2,
       "version_minor": 0
      },
      "text/plain": [
       "Batches:   0%|          | 0/44 [00:00<?, ?it/s]"
      ]
     },
     "metadata": {},
     "output_type": "display_data"
    },
    {
     "data": {
      "application/vnd.jupyter.widget-view+json": {
       "model_id": "a4d6beab668146dca19e20756d7d4aa2",
       "version_major": 2,
       "version_minor": 0
      },
      "text/plain": [
       "Batches:   0%|          | 0/44 [00:00<?, ?it/s]"
      ]
     },
     "metadata": {},
     "output_type": "display_data"
    },
    {
     "data": {
      "text/html": [
       "<pre style=\"white-space:pre;overflow-x:auto;line-height:normal;font-family:Menlo,'DejaVu Sans Mono',consolas,'Courier New',monospace\"><span style=\"color: #262626; text-decoration-color: #262626\">───────────────────────────────────────────────── </span><span style=\"font-weight: bold\">Selected tasks </span><span style=\"color: #262626; text-decoration-color: #262626\"> ─────────────────────────────────────────────────</span>\n",
       "</pre>\n"
      ],
      "text/plain": [
       "\u001b[38;5;235m───────────────────────────────────────────────── \u001b[0m\u001b[1mSelected tasks \u001b[0m\u001b[38;5;235m ─────────────────────────────────────────────────\u001b[0m\n"
      ]
     },
     "metadata": {},
     "output_type": "display_data"
    },
    {
     "data": {
      "text/html": [
       "<pre style=\"white-space:pre;overflow-x:auto;line-height:normal;font-family:Menlo,'DejaVu Sans Mono',consolas,'Courier New',monospace\"><span style=\"font-weight: bold\">Clustering</span>\n",
       "</pre>\n"
      ],
      "text/plain": [
       "\u001b[1mClustering\u001b[0m\n"
      ]
     },
     "metadata": {},
     "output_type": "display_data"
    },
    {
     "data": {
      "text/html": [
       "<pre style=\"white-space:pre;overflow-x:auto;line-height:normal;font-family:Menlo,'DejaVu Sans Mono',consolas,'Courier New',monospace\">    - ArxivClusteringP2P, <span style=\"color: #626262; text-decoration-color: #626262; font-style: italic\">p2p</span>\n",
       "</pre>\n"
      ],
      "text/plain": [
       "    - ArxivClusteringP2P, \u001b[3;38;5;241mp2p\u001b[0m\n"
      ]
     },
     "metadata": {},
     "output_type": "display_data"
    },
    {
     "data": {
      "text/html": [
       "<pre style=\"white-space:pre;overflow-x:auto;line-height:normal;font-family:Menlo,'DejaVu Sans Mono',consolas,'Courier New',monospace\">    - BiorxivClusteringP2P, <span style=\"color: #626262; text-decoration-color: #626262; font-style: italic\">p2p</span>\n",
       "</pre>\n"
      ],
      "text/plain": [
       "    - BiorxivClusteringP2P, \u001b[3;38;5;241mp2p\u001b[0m\n"
      ]
     },
     "metadata": {},
     "output_type": "display_data"
    },
    {
     "data": {
      "text/html": [
       "<pre style=\"white-space:pre;overflow-x:auto;line-height:normal;font-family:Menlo,'DejaVu Sans Mono',consolas,'Courier New',monospace\">    - MedrxivClusteringP2P, <span style=\"color: #626262; text-decoration-color: #626262; font-style: italic\">p2p</span>\n",
       "</pre>\n"
      ],
      "text/plain": [
       "    - MedrxivClusteringP2P, \u001b[3;38;5;241mp2p\u001b[0m\n"
      ]
     },
     "metadata": {},
     "output_type": "display_data"
    },
    {
     "data": {
      "text/html": [
       "<pre style=\"white-space:pre;overflow-x:auto;line-height:normal;font-family:Menlo,'DejaVu Sans Mono',consolas,'Courier New',monospace\">    - RedditClusteringP2P, <span style=\"color: #626262; text-decoration-color: #626262; font-style: italic\">p2p</span>\n",
       "</pre>\n"
      ],
      "text/plain": [
       "    - RedditClusteringP2P, \u001b[3;38;5;241mp2p\u001b[0m\n"
      ]
     },
     "metadata": {},
     "output_type": "display_data"
    },
    {
     "data": {
      "text/html": [
       "<pre style=\"white-space:pre;overflow-x:auto;line-height:normal;font-family:Menlo,'DejaVu Sans Mono',consolas,'Courier New',monospace\">    - StackExchangeClusteringP2P, <span style=\"color: #626262; text-decoration-color: #626262; font-style: italic\">p2p</span>\n",
       "</pre>\n"
      ],
      "text/plain": [
       "    - StackExchangeClusteringP2P, \u001b[3;38;5;241mp2p\u001b[0m\n"
      ]
     },
     "metadata": {},
     "output_type": "display_data"
    },
    {
     "data": {
      "text/html": [
       "<pre style=\"white-space:pre;overflow-x:auto;line-height:normal;font-family:Menlo,'DejaVu Sans Mono',consolas,'Courier New',monospace\">\n",
       "\n",
       "</pre>\n"
      ],
      "text/plain": [
       "\n",
       "\n"
      ]
     },
     "metadata": {},
     "output_type": "display_data"
    },
    {
     "data": {
      "text/html": [
       "<pre style=\"white-space:pre;overflow-x:auto;line-height:normal;font-family:Menlo,'DejaVu Sans Mono',consolas,'Courier New',monospace\"><span style=\"font-weight: bold\">Reranking</span>\n",
       "</pre>\n"
      ],
      "text/plain": [
       "\u001b[1mReranking\u001b[0m\n"
      ]
     },
     "metadata": {},
     "output_type": "display_data"
    },
    {
     "data": {
      "text/html": [
       "<pre style=\"white-space:pre;overflow-x:auto;line-height:normal;font-family:Menlo,'DejaVu Sans Mono',consolas,'Courier New',monospace\">    - SciDocsRR, <span style=\"color: #626262; text-decoration-color: #626262; font-style: italic\">s2s</span>\n",
       "</pre>\n"
      ],
      "text/plain": [
       "    - SciDocsRR, \u001b[3;38;5;241ms2s\u001b[0m\n"
      ]
     },
     "metadata": {},
     "output_type": "display_data"
    },
    {
     "data": {
      "text/html": [
       "<pre style=\"white-space:pre;overflow-x:auto;line-height:normal;font-family:Menlo,'DejaVu Sans Mono',consolas,'Courier New',monospace\">    - MindSmallReranking, <span style=\"color: #626262; text-decoration-color: #626262; font-style: italic\">s2s</span>\n",
       "</pre>\n"
      ],
      "text/plain": [
       "    - MindSmallReranking, \u001b[3;38;5;241ms2s\u001b[0m\n"
      ]
     },
     "metadata": {},
     "output_type": "display_data"
    },
    {
     "data": {
      "text/html": [
       "<pre style=\"white-space:pre;overflow-x:auto;line-height:normal;font-family:Menlo,'DejaVu Sans Mono',consolas,'Courier New',monospace\">\n",
       "\n",
       "</pre>\n"
      ],
      "text/plain": [
       "\n",
       "\n"
      ]
     },
     "metadata": {},
     "output_type": "display_data"
    },
    {
     "data": {
      "text/html": [
       "<pre style=\"white-space:pre;overflow-x:auto;line-height:normal;font-family:Menlo,'DejaVu Sans Mono',consolas,'Courier New',monospace\"><span style=\"font-weight: bold\">Retrieval</span>\n",
       "</pre>\n"
      ],
      "text/plain": [
       "\u001b[1mRetrieval\u001b[0m\n"
      ]
     },
     "metadata": {},
     "output_type": "display_data"
    },
    {
     "data": {
      "text/html": [
       "<pre style=\"white-space:pre;overflow-x:auto;line-height:normal;font-family:Menlo,'DejaVu Sans Mono',consolas,'Courier New',monospace\">    - SCIDOCS, <span style=\"color: #626262; text-decoration-color: #626262; font-style: italic\">s2p</span>\n",
       "</pre>\n"
      ],
      "text/plain": [
       "    - SCIDOCS, \u001b[3;38;5;241ms2p\u001b[0m\n"
      ]
     },
     "metadata": {},
     "output_type": "display_data"
    },
    {
     "data": {
      "text/html": [
       "<pre style=\"white-space:pre;overflow-x:auto;line-height:normal;font-family:Menlo,'DejaVu Sans Mono',consolas,'Courier New',monospace\">    - ArguAna, <span style=\"color: #626262; text-decoration-color: #626262; font-style: italic\">s2p</span>\n",
       "</pre>\n"
      ],
      "text/plain": [
       "    - ArguAna, \u001b[3;38;5;241ms2p\u001b[0m\n"
      ]
     },
     "metadata": {},
     "output_type": "display_data"
    },
    {
     "data": {
      "text/html": [
       "<pre style=\"white-space:pre;overflow-x:auto;line-height:normal;font-family:Menlo,'DejaVu Sans Mono',consolas,'Courier New',monospace\">\n",
       "\n",
       "</pre>\n"
      ],
      "text/plain": [
       "\n",
       "\n"
      ]
     },
     "metadata": {},
     "output_type": "display_data"
    },
    {
     "data": {
      "text/html": [
       "<pre style=\"white-space:pre;overflow-x:auto;line-height:normal;font-family:Menlo,'DejaVu Sans Mono',consolas,'Courier New',monospace\"><span style=\"font-weight: bold\">STS</span>\n",
       "</pre>\n"
      ],
      "text/plain": [
       "\u001b[1mSTS\u001b[0m\n"
      ]
     },
     "metadata": {},
     "output_type": "display_data"
    },
    {
     "data": {
      "text/html": [
       "<pre style=\"white-space:pre;overflow-x:auto;line-height:normal;font-family:Menlo,'DejaVu Sans Mono',consolas,'Courier New',monospace\">    - STS12, <span style=\"color: #626262; text-decoration-color: #626262; font-style: italic\">s2s</span>\n",
       "</pre>\n"
      ],
      "text/plain": [
       "    - STS12, \u001b[3;38;5;241ms2s\u001b[0m\n"
      ]
     },
     "metadata": {},
     "output_type": "display_data"
    },
    {
     "data": {
      "text/html": [
       "<pre style=\"white-space:pre;overflow-x:auto;line-height:normal;font-family:Menlo,'DejaVu Sans Mono',consolas,'Courier New',monospace\">    - STS13, <span style=\"color: #626262; text-decoration-color: #626262; font-style: italic\">s2s</span>\n",
       "</pre>\n"
      ],
      "text/plain": [
       "    - STS13, \u001b[3;38;5;241ms2s\u001b[0m\n"
      ]
     },
     "metadata": {},
     "output_type": "display_data"
    },
    {
     "data": {
      "text/html": [
       "<pre style=\"white-space:pre;overflow-x:auto;line-height:normal;font-family:Menlo,'DejaVu Sans Mono',consolas,'Courier New',monospace\">    - STS14, <span style=\"color: #626262; text-decoration-color: #626262; font-style: italic\">s2s</span>\n",
       "</pre>\n"
      ],
      "text/plain": [
       "    - STS14, \u001b[3;38;5;241ms2s\u001b[0m\n"
      ]
     },
     "metadata": {},
     "output_type": "display_data"
    },
    {
     "data": {
      "text/html": [
       "<pre style=\"white-space:pre;overflow-x:auto;line-height:normal;font-family:Menlo,'DejaVu Sans Mono',consolas,'Courier New',monospace\">    - STS15, <span style=\"color: #626262; text-decoration-color: #626262; font-style: italic\">s2s</span>\n",
       "</pre>\n"
      ],
      "text/plain": [
       "    - STS15, \u001b[3;38;5;241ms2s\u001b[0m\n"
      ]
     },
     "metadata": {},
     "output_type": "display_data"
    },
    {
     "data": {
      "text/html": [
       "<pre style=\"white-space:pre;overflow-x:auto;line-height:normal;font-family:Menlo,'DejaVu Sans Mono',consolas,'Courier New',monospace\">    - STS16, <span style=\"color: #626262; text-decoration-color: #626262; font-style: italic\">s2s</span>\n",
       "</pre>\n"
      ],
      "text/plain": [
       "    - STS16, \u001b[3;38;5;241ms2s\u001b[0m\n"
      ]
     },
     "metadata": {},
     "output_type": "display_data"
    },
    {
     "data": {
      "text/html": [
       "<pre style=\"white-space:pre;overflow-x:auto;line-height:normal;font-family:Menlo,'DejaVu Sans Mono',consolas,'Courier New',monospace\">    - STSBenchmark, <span style=\"color: #626262; text-decoration-color: #626262; font-style: italic\">s2s</span>\n",
       "</pre>\n"
      ],
      "text/plain": [
       "    - STSBenchmark, \u001b[3;38;5;241ms2s\u001b[0m\n"
      ]
     },
     "metadata": {},
     "output_type": "display_data"
    },
    {
     "data": {
      "text/html": [
       "<pre style=\"white-space:pre;overflow-x:auto;line-height:normal;font-family:Menlo,'DejaVu Sans Mono',consolas,'Courier New',monospace\">\n",
       "\n",
       "</pre>\n"
      ],
      "text/plain": [
       "\n",
       "\n"
      ]
     },
     "metadata": {},
     "output_type": "display_data"
    },
    {
     "name": "stderr",
     "output_type": "stream",
     "text": [
      "WARNING:mteb.abstasks.AbsTask:Dataset 'ArxivClusteringP2P' is superseeded by 'ArXivHierarchicalClusteringP2P', you might consider using the newer version of the dataset.\n"
     ]
    },
    {
     "data": {
      "application/vnd.jupyter.widget-view+json": {
       "model_id": "5d34c89ead7b4e22811962d2a8a52ebc",
       "version_major": 2,
       "version_minor": 0
      },
      "text/plain": [
       "Batches:   0%|          | 0/782 [00:00<?, ?it/s]"
      ]
     },
     "metadata": {},
     "output_type": "display_data"
    },
    {
     "name": "stderr",
     "output_type": "stream",
     "text": []
    },
    {
     "data": {
      "application/vnd.jupyter.widget-view+json": {
       "model_id": "6ba91257910a4fef9a33cf6cca50790e",
       "version_major": 2,
       "version_minor": 0
      },
      "text/plain": [
       "Batches:   0%|          | 0/782 [00:00<?, ?it/s]"
      ]
     },
     "metadata": {},
     "output_type": "display_data"
    },
    {
     "name": "stderr",
     "output_type": "stream",
     "text": []
    },
    {
     "data": {
      "application/vnd.jupyter.widget-view+json": {
       "model_id": "f15d61e97fe443ada61c7ded81e9df0a",
       "version_major": 2,
       "version_minor": 0
      },
      "text/plain": [
       "Batches:   0%|          | 0/782 [00:00<?, ?it/s]"
      ]
     },
     "metadata": {},
     "output_type": "display_data"
    },
    {
     "name": "stderr",
     "output_type": "stream",
     "text": []
    },
    {
     "data": {
      "application/vnd.jupyter.widget-view+json": {
       "model_id": "118a8adc68524359af208636a451b3a9",
       "version_major": 2,
       "version_minor": 0
      },
      "text/plain": [
       "Batches:   0%|          | 0/782 [00:00<?, ?it/s]"
      ]
     },
     "metadata": {},
     "output_type": "display_data"
    },
    {
     "name": "stderr",
     "output_type": "stream",
     "text": []
    },
    {
     "data": {
      "application/vnd.jupyter.widget-view+json": {
       "model_id": "5b5ac9a145e84fa2bb532571cf111ec1",
       "version_major": 2,
       "version_minor": 0
      },
      "text/plain": [
       "Batches:   0%|          | 0/782 [00:00<?, ?it/s]"
      ]
     },
     "metadata": {},
     "output_type": "display_data"
    },
    {
     "name": "stderr",
     "output_type": "stream",
     "text": []
    },
    {
     "data": {
      "application/vnd.jupyter.widget-view+json": {
       "model_id": "910727972e4c460cb98cfa0456d75a8c",
       "version_major": 2,
       "version_minor": 0
      },
      "text/plain": [
       "Batches:   0%|          | 0/782 [00:00<?, ?it/s]"
      ]
     },
     "metadata": {},
     "output_type": "display_data"
    },
    {
     "name": "stderr",
     "output_type": "stream",
     "text": []
    },
    {
     "data": {
      "application/vnd.jupyter.widget-view+json": {
       "model_id": "4d108c38079645c19a7c5b82c7a70dff",
       "version_major": 2,
       "version_minor": 0
      },
      "text/plain": [
       "Batches:   0%|          | 0/782 [00:00<?, ?it/s]"
      ]
     },
     "metadata": {},
     "output_type": "display_data"
    },
    {
     "name": "stderr",
     "output_type": "stream",
     "text": []
    },
    {
     "data": {
      "application/vnd.jupyter.widget-view+json": {
       "model_id": "763b335e648b4644aeb505ca3c7b4d6c",
       "version_major": 2,
       "version_minor": 0
      },
      "text/plain": [
       "Batches:   0%|          | 0/782 [00:00<?, ?it/s]"
      ]
     },
     "metadata": {},
     "output_type": "display_data"
    },
    {
     "name": "stderr",
     "output_type": "stream",
     "text": []
    },
    {
     "data": {
      "application/vnd.jupyter.widget-view+json": {
       "model_id": "f8d83f463cb24bda890d0cd681df663a",
       "version_major": 2,
       "version_minor": 0
      },
      "text/plain": [
       "Batches:   0%|          | 0/782 [00:00<?, ?it/s]"
      ]
     },
     "metadata": {},
     "output_type": "display_data"
    },
    {
     "name": "stderr",
     "output_type": "stream",
     "text": []
    },
    {
     "data": {
      "application/vnd.jupyter.widget-view+json": {
       "model_id": "d2169531bacc4d219ee4d287f31f18b6",
       "version_major": 2,
       "version_minor": 0
      },
      "text/plain": [
       "Batches:   0%|          | 0/782 [00:00<?, ?it/s]"
      ]
     },
     "metadata": {},
     "output_type": "display_data"
    },
    {
     "name": "stderr",
     "output_type": "stream",
     "text": []
    },
    {
     "data": {
      "application/vnd.jupyter.widget-view+json": {
       "model_id": "714c2b9ded994a2bb8f49b0dce0d2640",
       "version_major": 2,
       "version_minor": 0
      },
      "text/plain": [
       "Batches:   0%|          | 0/782 [00:00<?, ?it/s]"
      ]
     },
     "metadata": {},
     "output_type": "display_data"
    },
    {
     "name": "stderr",
     "output_type": "stream",
     "text": []
    },
    {
     "data": {
      "application/vnd.jupyter.widget-view+json": {
       "model_id": "e1c7ad8b30e149cfa33af78d1d115dc1",
       "version_major": 2,
       "version_minor": 0
      },
      "text/plain": [
       "Batches:   0%|          | 0/782 [00:00<?, ?it/s]"
      ]
     },
     "metadata": {},
     "output_type": "display_data"
    }
   ],
   "source": [
    "# data\n",
    "training_dataset = MultOverlappingSentencesPairDataset(\n",
    "    iclr2024.abstract,\n",
    "    tokenizer,\n",
    "    device,\n",
    ")\n",
    "\n",
    "gen = torch.Generator()\n",
    "gen.manual_seed(42)\n",
    "training_loader = torch.utils.data.DataLoader(\n",
    "    training_dataset, batch_size=64, shuffle=True, generator=gen\n",
    ")\n",
    "\n",
    "# saving path mteb\n",
    "saving_path = (\n",
    "    Path(\"embeddings_\" + model_name.lower())\n",
    "    / Path(\"updated_dataset\")\n",
    "    / Path(\"mteb_benchmark\")\n",
    "    / Path(\"new_format\")\n",
    ")\n",
    "mteb_save_path = variables_path / saving_path\n",
    "(mteb_save_path).mkdir(exist_ok=True)\n",
    "\n",
    "\n",
    "# training\n",
    "losses, df_training_eval_results = train_loop(\n",
    "    wrapped_model,\n",
    "    training_loader,\n",
    "    device,\n",
    "    eval_train_data=None, #iclr2024.abstract[labels_iclr != \"unlabeled\"].to_list(),\n",
    "    eval_train_labels=None, #labels_iclr[labels_iclr != \"unlabeled\"],\n",
    "    eval_every_epochs=False,\n",
    "    eval_every_batches=50,\n",
    "    eval_function=MTEBEval,\n",
    "    pooler=mean_pool,\n",
    "    mteb_saving_path=mteb_save_path,\n",
    "    mteb_tasks=new_tasks,\n",
    "    n_epochs=1,\n",
    ")\n",
    "\n",
    "# Save results as parquet\n",
    "saving_path = Path(\"embeddings_\" + model_name.lower()) / Path(\n",
    "    \"updated_dataset\"\n",
    ")\n",
    "(variables_path / saving_path).mkdir(parents=True, exist_ok=True)\n",
    "\n",
    "np.save(variables_path / saving_path / \"losses_mteb_batches_new_tasks\", losses)\n",
    "df_training_eval_results.to_parquet(\n",
    "    variables_path / saving_path / \"df_training_eval_results_mteb_batches_new_tasks\",\n",
    "    index=False,\n",
    "    engine=\"pyarrow\",\n",
    "    compression=\"gzip\",\n",
    ")"
   ]
  },
  {
   "cell_type": "markdown",
   "metadata": {},
   "source": [
    "#### Plot"
   ]
  },
  {
   "cell_type": "code",
   "execution_count": null,
   "metadata": {},
   "outputs": [
    {
     "data": {
      "image/png": "[encoded data removed]",
      "text/plain": [
       "<Figure size 650x400 with 1 Axes>"
      ]
     },
     "metadata": {},
     "output_type": "display_data"
    }
   ],
   "source": [
    "%matplotlib inline\n",
    "\n",
    "fig, ax = plt.subplots(figsize=(3.25, 2), dpi=200)\n",
    "\n",
    "# load\n",
    "## mpnet crops\n",
    "model_name = \"MPNet\"\n",
    "saving_path = Path(\"embeddings_\" + model_name.lower()) / Path(\n",
    "    \"updated_dataset\"\n",
    ")\n",
    "df_training_eval_results = pd.read_parquet(\n",
    "    variables_path / saving_path / \"df_training_eval_results_mteb_batches\",\n",
    "    engine=\"pyarrow\",\n",
    ")\n",
    "\n",
    "df_training_eval_results.set_index(\"batch\", inplace=True)\n",
    "\n",
    "# calculate block means\n",
    "df_block_mean = pd.DataFrame()\n",
    "df_block_mean[\"clustering\"] = df_training_eval_results[\n",
    "    [\n",
    "        \"ArxivClusteringP2P\",\n",
    "        \"BiorxivClusteringP2P\",\n",
    "        \"MedrxivClusteringP2P\",\n",
    "        \"RedditClusteringP2P\",\n",
    "        \"StackExchangeClusteringP2P\",\n",
    "    ]\n",
    "].mean(axis=1)\n",
    "\n",
    "df_block_mean[\"reranking\"] = df_training_eval_results[\n",
    "    [\"SciDocsRR\", \"MindSmallReranking\"]\n",
    "].mean(axis=1)\n",
    "df_block_mean[\"retrieval\"] = df_training_eval_results[\n",
    "    [\"SCIDOCS\", \"ArguAna\"]\n",
    "].mean(axis=1)\n",
    "df_block_mean[\"sts\"] = df_training_eval_results[\n",
    "    [\"STS15\", \"STS16\", \"STSBenchmark\"]\n",
    "].mean(axis=1)\n",
    "\n",
    "# create palette\n",
    "palette = glasbey.create_palette(\n",
    "    palette_size=len(df_training_eval_results.columns),\n",
    "    lightness_bounds=(20, 75),\n",
    "    chroma_bounds=(50, 90),\n",
    ")\n",
    "\n",
    "\n",
    "for i, elem in enumerate(df_training_eval_results.columns):\n",
    "    ax.plot(\n",
    "        df_training_eval_results.index,\n",
    "        df_training_eval_results[elem],\n",
    "        label=elem,\n",
    "        c=palette[i],\n",
    "        alpha=0.5,\n",
    "    )\n",
    "    # ax.text(\n",
    "    #     df_training_eval_results.index[-1] + 0.1,\n",
    "    #     df_training_eval_results[elem].iloc[-1],\n",
    "    #     f\"{df_training_eval_results[elem].iloc[-1]:.1f}\",\n",
    "    #     fontsize=5,\n",
    "    #     va=\"center\",\n",
    "    #     ha=\"left\",\n",
    "    # )\n",
    "\n",
    "ax.plot(\n",
    "    df_training_eval_results.index,\n",
    "    df_training_eval_results.mean(axis=1),\n",
    "    label=\"Mean\",\n",
    "    c=\"black\",\n",
    "    lw=1,\n",
    ")\n",
    "# ax.text(\n",
    "#     df_training_eval_results.index[-1] + 0.1,\n",
    "#     df_training_eval_results.mean(axis=1).iloc[-1],\n",
    "#     f\"{df_training_eval_results.mean(axis=1).iloc[-1]:.1f}\",\n",
    "#     fontsize=5,\n",
    "#     va=\"center\",\n",
    "#     ha=\"left\",\n",
    "# )\n",
    "\n",
    "ax.plot(\n",
    "    df_block_mean.index,\n",
    "    df_block_mean.mean(axis=1),\n",
    "    label=\"Block mean\",\n",
    "    c=\"grey\",\n",
    "    lw=1,\n",
    ")\n",
    "\n",
    "ax.legend(loc=(1, 0))\n",
    "# ax.set_ylim(0.3, 0.65)\n",
    "ax.set_xlabel(\"Batch\")\n",
    "ax.set_ylabel(\"MTEB score\")\n",
    "\n",
    "fig.savefig(figures_path / \"mteb_scores_MPNet_crops_batches_train_iclr_v1.png\")"
   ]
  },
  {
   "cell_type": "markdown",
   "metadata": {},
   "source": [
    "#### Eval every 10 batches"
   ]
  },
  {
   "cell_type": "code",
   "execution_count": null,
   "metadata": {},
   "outputs": [],
   "source": [
    "model_name = \"MPNet\"\n",
    "model_path = \"microsoft/mpnet-base\""
   ]
  },
  {
   "cell_type": "code",
   "execution_count": null,
   "metadata": {},
   "outputs": [
    {
     "name": "stdout",
     "output_type": "stream",
     "text": [
      "Model:  MPNet\n",
      "Running on device: cuda\n"
     ]
    },
    {
     "name": "stderr",
     "output_type": "stream",
     "text": [
      "Some weights of MPNetModel were not initialized from the model checkpoint at microsoft/mpnet-base and are newly initialized: ['mpnet.pooler.dense.bias', 'mpnet.pooler.dense.weight']\n",
      "You should probably TRAIN this model on a down-stream task to be able to use it for predictions and inference.\n"
     ]
    },
    {
     "name": "stdout",
     "output_type": "stream",
     "text": [
      "CPU times: user 180 ms, sys: 113 ms, total: 294 ms\n",
      "Wall time: 3.23 s\n"
     ]
    }
   ],
   "source": [
    "%%time\n",
    "\n",
    "# fix random seeds\n",
    "fix_all_seeds()\n",
    "\n",
    "# set up model\n",
    "print(\"Model: \", model_name)\n",
    "\n",
    "device = \"cuda\" if torch.cuda.is_available() else \"cpu\"\n",
    "print(\"Running on device: {}\".format(device))\n",
    "\n",
    "tokenizer = AutoTokenizer.from_pretrained(model_path)\n",
    "model = AutoModel.from_pretrained(model_path)\n",
    "\n",
    "# wrap model\n",
    "wrapped_model = FineTunedHFModelWrapper(model, tokenizer)"
   ]
  },
  {
   "cell_type": "code",
   "execution_count": null,
   "metadata": {},
   "outputs": [
    {
     "data": {
      "application/vnd.jupyter.widget-view+json": {
       "model_id": "153e52095ad046328ad501b30c20b93d",
       "version_major": 2,
       "version_minor": 0
      },
      "text/plain": [
       "  0%|          | 0/368 [00:00<?, ?it/s]"
      ]
     },
     "metadata": {},
     "output_type": "display_data"
    },
    {
     "data": {
      "text/html": [
       "<pre style=\"white-space:pre;overflow-x:auto;line-height:normal;font-family:Menlo,'DejaVu Sans Mono',consolas,'Courier New',monospace\"><span style=\"color: #262626; text-decoration-color: #262626\">───────────────────────────────────────────────── </span><span style=\"font-weight: bold\">Selected tasks </span><span style=\"color: #262626; text-decoration-color: #262626\"> ─────────────────────────────────────────────────</span>\n",
       "</pre>\n"
      ],
      "text/plain": [
       "\u001b[38;5;235m───────────────────────────────────────────────── \u001b[0m\u001b[1mSelected tasks \u001b[0m\u001b[38;5;235m ─────────────────────────────────────────────────\u001b[0m\n"
      ]
     },
     "metadata": {},
     "output_type": "display_data"
    },
    {
     "data": {
      "text/html": [
       "<pre style=\"white-space:pre;overflow-x:auto;line-height:normal;font-family:Menlo,'DejaVu Sans Mono',consolas,'Courier New',monospace\"><span style=\"font-weight: bold\">Clustering</span>\n",
       "</pre>\n"
      ],
      "text/plain": [
       "\u001b[1mClustering\u001b[0m\n"
      ]
     },
     "metadata": {},
     "output_type": "display_data"
    },
    {
     "data": {
      "text/html": [
       "<pre style=\"white-space:pre;overflow-x:auto;line-height:normal;font-family:Menlo,'DejaVu Sans Mono',consolas,'Courier New',monospace\">    - ArxivClusteringP2P, <span style=\"color: #626262; text-decoration-color: #626262; font-style: italic\">p2p</span>\n",
       "</pre>\n"
      ],
      "text/plain": [
       "    - ArxivClusteringP2P, \u001b[3;38;5;241mp2p\u001b[0m\n"
      ]
     },
     "metadata": {},
     "output_type": "display_data"
    },
    {
     "data": {
      "text/html": [
       "<pre style=\"white-space:pre;overflow-x:auto;line-height:normal;font-family:Menlo,'DejaVu Sans Mono',consolas,'Courier New',monospace\">    - BiorxivClusteringP2P, <span style=\"color: #626262; text-decoration-color: #626262; font-style: italic\">p2p</span>\n",
       "</pre>\n"
      ],
      "text/plain": [
       "    - BiorxivClusteringP2P, \u001b[3;38;5;241mp2p\u001b[0m\n"
      ]
     },
     "metadata": {},
     "output_type": "display_data"
    },
    {
     "data": {
      "text/html": [
       "<pre style=\"white-space:pre;overflow-x:auto;line-height:normal;font-family:Menlo,'DejaVu Sans Mono',consolas,'Courier New',monospace\">    - MedrxivClusteringP2P, <span style=\"color: #626262; text-decoration-color: #626262; font-style: italic\">p2p</span>\n",
       "</pre>\n"
      ],
      "text/plain": [
       "    - MedrxivClusteringP2P, \u001b[3;38;5;241mp2p\u001b[0m\n"
      ]
     },
     "metadata": {},
     "output_type": "display_data"
    },
    {
     "data": {
      "text/html": [
       "<pre style=\"white-space:pre;overflow-x:auto;line-height:normal;font-family:Menlo,'DejaVu Sans Mono',consolas,'Courier New',monospace\">    - RedditClusteringP2P, <span style=\"color: #626262; text-decoration-color: #626262; font-style: italic\">p2p</span>\n",
       "</pre>\n"
      ],
      "text/plain": [
       "    - RedditClusteringP2P, \u001b[3;38;5;241mp2p\u001b[0m\n"
      ]
     },
     "metadata": {},
     "output_type": "display_data"
    },
    {
     "data": {
      "text/html": [
       "<pre style=\"white-space:pre;overflow-x:auto;line-height:normal;font-family:Menlo,'DejaVu Sans Mono',consolas,'Courier New',monospace\">    - StackExchangeClusteringP2P, <span style=\"color: #626262; text-decoration-color: #626262; font-style: italic\">p2p</span>\n",
       "</pre>\n"
      ],
      "text/plain": [
       "    - StackExchangeClusteringP2P, \u001b[3;38;5;241mp2p\u001b[0m\n"
      ]
     },
     "metadata": {},
     "output_type": "display_data"
    },
    {
     "data": {
      "text/html": [
       "<pre style=\"white-space:pre;overflow-x:auto;line-height:normal;font-family:Menlo,'DejaVu Sans Mono',consolas,'Courier New',monospace\">\n",
       "\n",
       "</pre>\n"
      ],
      "text/plain": [
       "\n",
       "\n"
      ]
     },
     "metadata": {},
     "output_type": "display_data"
    },
    {
     "data": {
      "text/html": [
       "<pre style=\"white-space:pre;overflow-x:auto;line-height:normal;font-family:Menlo,'DejaVu Sans Mono',consolas,'Courier New',monospace\"><span style=\"font-weight: bold\">Reranking</span>\n",
       "</pre>\n"
      ],
      "text/plain": [
       "\u001b[1mReranking\u001b[0m\n"
      ]
     },
     "metadata": {},
     "output_type": "display_data"
    },
    {
     "data": {
      "text/html": [
       "<pre style=\"white-space:pre;overflow-x:auto;line-height:normal;font-family:Menlo,'DejaVu Sans Mono',consolas,'Courier New',monospace\">    - SciDocsRR, <span style=\"color: #626262; text-decoration-color: #626262; font-style: italic\">s2s</span>\n",
       "</pre>\n"
      ],
      "text/plain": [
       "    - SciDocsRR, \u001b[3;38;5;241ms2s\u001b[0m\n"
      ]
     },
     "metadata": {},
     "output_type": "display_data"
    },
    {
     "data": {
      "text/html": [
       "<pre style=\"white-space:pre;overflow-x:auto;line-height:normal;font-family:Menlo,'DejaVu Sans Mono',consolas,'Courier New',monospace\">    - MindSmallReranking, <span style=\"color: #626262; text-decoration-color: #626262; font-style: italic\">s2s</span>\n",
       "</pre>\n"
      ],
      "text/plain": [
       "    - MindSmallReranking, \u001b[3;38;5;241ms2s\u001b[0m\n"
      ]
     },
     "metadata": {},
     "output_type": "display_data"
    },
    {
     "data": {
      "text/html": [
       "<pre style=\"white-space:pre;overflow-x:auto;line-height:normal;font-family:Menlo,'DejaVu Sans Mono',consolas,'Courier New',monospace\">\n",
       "\n",
       "</pre>\n"
      ],
      "text/plain": [
       "\n",
       "\n"
      ]
     },
     "metadata": {},
     "output_type": "display_data"
    },
    {
     "data": {
      "text/html": [
       "<pre style=\"white-space:pre;overflow-x:auto;line-height:normal;font-family:Menlo,'DejaVu Sans Mono',consolas,'Courier New',monospace\"><span style=\"font-weight: bold\">Retrieval</span>\n",
       "</pre>\n"
      ],
      "text/plain": [
       "\u001b[1mRetrieval\u001b[0m\n"
      ]
     },
     "metadata": {},
     "output_type": "display_data"
    },
    {
     "data": {
      "text/html": [
       "<pre style=\"white-space:pre;overflow-x:auto;line-height:normal;font-family:Menlo,'DejaVu Sans Mono',consolas,'Courier New',monospace\">    - SCIDOCS, <span style=\"color: #626262; text-decoration-color: #626262; font-style: italic\">s2p</span>\n",
       "</pre>\n"
      ],
      "text/plain": [
       "    - SCIDOCS, \u001b[3;38;5;241ms2p\u001b[0m\n"
      ]
     },
     "metadata": {},
     "output_type": "display_data"
    },
    {
     "data": {
      "text/html": [
       "<pre style=\"white-space:pre;overflow-x:auto;line-height:normal;font-family:Menlo,'DejaVu Sans Mono',consolas,'Courier New',monospace\">    - ArguAna, <span style=\"color: #626262; text-decoration-color: #626262; font-style: italic\">s2p</span>\n",
       "</pre>\n"
      ],
      "text/plain": [
       "    - ArguAna, \u001b[3;38;5;241ms2p\u001b[0m\n"
      ]
     },
     "metadata": {},
     "output_type": "display_data"
    },
    {
     "data": {
      "text/html": [
       "<pre style=\"white-space:pre;overflow-x:auto;line-height:normal;font-family:Menlo,'DejaVu Sans Mono',consolas,'Courier New',monospace\">\n",
       "\n",
       "</pre>\n"
      ],
      "text/plain": [
       "\n",
       "\n"
      ]
     },
     "metadata": {},
     "output_type": "display_data"
    },
    {
     "data": {
      "text/html": [
       "<pre style=\"white-space:pre;overflow-x:auto;line-height:normal;font-family:Menlo,'DejaVu Sans Mono',consolas,'Courier New',monospace\"><span style=\"font-weight: bold\">STS</span>\n",
       "</pre>\n"
      ],
      "text/plain": [
       "\u001b[1mSTS\u001b[0m\n"
      ]
     },
     "metadata": {},
     "output_type": "display_data"
    },
    {
     "data": {
      "text/html": [
       "<pre style=\"white-space:pre;overflow-x:auto;line-height:normal;font-family:Menlo,'DejaVu Sans Mono',consolas,'Courier New',monospace\">    - STS12, <span style=\"color: #626262; text-decoration-color: #626262; font-style: italic\">s2s</span>\n",
       "</pre>\n"
      ],
      "text/plain": [
       "    - STS12, \u001b[3;38;5;241ms2s\u001b[0m\n"
      ]
     },
     "metadata": {},
     "output_type": "display_data"
    },
    {
     "data": {
      "text/html": [
       "<pre style=\"white-space:pre;overflow-x:auto;line-height:normal;font-family:Menlo,'DejaVu Sans Mono',consolas,'Courier New',monospace\">    - STS13, <span style=\"color: #626262; text-decoration-color: #626262; font-style: italic\">s2s</span>\n",
       "</pre>\n"
      ],
      "text/plain": [
       "    - STS13, \u001b[3;38;5;241ms2s\u001b[0m\n"
      ]
     },
     "metadata": {},
     "output_type": "display_data"
    },
    {
     "data": {
      "text/html": [
       "<pre style=\"white-space:pre;overflow-x:auto;line-height:normal;font-family:Menlo,'DejaVu Sans Mono',consolas,'Courier New',monospace\">    - STS14, <span style=\"color: #626262; text-decoration-color: #626262; font-style: italic\">s2s</span>\n",
       "</pre>\n"
      ],
      "text/plain": [
       "    - STS14, \u001b[3;38;5;241ms2s\u001b[0m\n"
      ]
     },
     "metadata": {},
     "output_type": "display_data"
    },
    {
     "data": {
      "text/html": [
       "<pre style=\"white-space:pre;overflow-x:auto;line-height:normal;font-family:Menlo,'DejaVu Sans Mono',consolas,'Courier New',monospace\">    - STS15, <span style=\"color: #626262; text-decoration-color: #626262; font-style: italic\">s2s</span>\n",
       "</pre>\n"
      ],
      "text/plain": [
       "    - STS15, \u001b[3;38;5;241ms2s\u001b[0m\n"
      ]
     },
     "metadata": {},
     "output_type": "display_data"
    },
    {
     "data": {
      "text/html": [
       "<pre style=\"white-space:pre;overflow-x:auto;line-height:normal;font-family:Menlo,'DejaVu Sans Mono',consolas,'Courier New',monospace\">    - STS16, <span style=\"color: #626262; text-decoration-color: #626262; font-style: italic\">s2s</span>\n",
       "</pre>\n"
      ],
      "text/plain": [
       "    - STS16, \u001b[3;38;5;241ms2s\u001b[0m\n"
      ]
     },
     "metadata": {},
     "output_type": "display_data"
    },
    {
     "data": {
      "text/html": [
       "<pre style=\"white-space:pre;overflow-x:auto;line-height:normal;font-family:Menlo,'DejaVu Sans Mono',consolas,'Courier New',monospace\">    - STSBenchmark, <span style=\"color: #626262; text-decoration-color: #626262; font-style: italic\">s2s</span>\n",
       "</pre>\n"
      ],
      "text/plain": [
       "    - STSBenchmark, \u001b[3;38;5;241ms2s\u001b[0m\n"
      ]
     },
     "metadata": {},
     "output_type": "display_data"
    },
    {
     "data": {
      "text/html": [
       "<pre style=\"white-space:pre;overflow-x:auto;line-height:normal;font-family:Menlo,'DejaVu Sans Mono',consolas,'Courier New',monospace\">\n",
       "\n",
       "</pre>\n"
      ],
      "text/plain": [
       "\n",
       "\n"
      ]
     },
     "metadata": {},
     "output_type": "display_data"
    },
    {
     "name": "stderr",
     "output_type": "stream",
     "text": [
      "WARNING:mteb.abstasks.AbsTask:Dataset 'ArxivClusteringP2P' is superseeded by 'ArXivHierarchicalClusteringP2P', you might consider using the newer version of the dataset.\n"
     ]
    }
   ],
   "source": [
    "# data\n",
    "training_dataset = MultOverlappingSentencesPairDataset(\n",
    "    iclr2024.abstract,\n",
    "    tokenizer,\n",
    "    device,\n",
    ")\n",
    "\n",
    "gen = torch.Generator()\n",
    "gen.manual_seed(42)\n",
    "training_loader = torch.utils.data.DataLoader(\n",
    "    training_dataset, batch_size=64, shuffle=True, generator=gen\n",
    ")\n",
    "\n",
    "# saving path mteb\n",
    "saving_path = (\n",
    "    Path(\"embeddings_\" + model_name.lower())\n",
    "    / Path(\"updated_dataset\")\n",
    "    / Path(\"mteb_benchmark\")\n",
    "    / Path(\"new_format\")\n",
    ")\n",
    "mteb_save_path = variables_path / saving_path\n",
    "(mteb_save_path).mkdir(exist_ok=True)\n",
    "\n",
    "\n",
    "# training\n",
    "losses, df_training_eval_results = train_loop(\n",
    "    wrapped_model,\n",
    "    training_loader,\n",
    "    device,\n",
    "    eval_train_data=None, #iclr2024.abstract[labels_iclr != \"unlabeled\"].to_list(),\n",
    "    eval_train_labels=None, #labels_iclr[labels_iclr != \"unlabeled\"],\n",
    "    eval_every_epochs=False,\n",
    "    eval_every_batches=10,\n",
    "    eval_function=MTEBEval,\n",
    "    pooler=mean_pool,\n",
    "    mteb_saving_path=mteb_save_path,\n",
    "    mteb_tasks=mteb_tasks,\n",
    "    n_epochs=1,\n",
    ")\n",
    "\n",
    "# Save results as parquet\n",
    "saving_path = Path(\"embeddings_\" + model_name.lower()) / Path(\n",
    "    \"updated_dataset\"\n",
    ")\n",
    "(variables_path / saving_path).mkdir(parents=True, exist_ok=True)\n",
    "\n",
    "np.save(variables_path / saving_path / \"losses_mteb_batches_v2\", losses)\n",
    "df_training_eval_results.to_parquet(\n",
    "    variables_path / saving_path / \"df_training_eval_results_mteb_batches_v2\",\n",
    "    index=False,\n",
    "    engine=\"pyarrow\",\n",
    "    compression=\"gzip\",\n",
    ")"
   ]
  },
  {
   "cell_type": "markdown",
   "metadata": {},
   "source": [
    "##### Merge results"
   ]
  },
  {
   "cell_type": "code",
   "execution_count": null,
   "metadata": {},
   "outputs": [
    {
     "name": "stdout",
     "output_type": "stream",
     "text": [
      "[  0  10  20  30  40  50  60  70  80  90 100 110 150 200 250 300 350 367]\n"
     ]
    }
   ],
   "source": [
    "batches_1 = np.arange(0, 400, 50)\n",
    "batches_2 = np.arange(0, 120, 10)\n",
    "last_batch = np.array([367])\n",
    "\n",
    "all_batches = np.hstack((np.union1d(batches_1, batches_2), last_batch))\n",
    "print(all_batches)"
   ]
  },
  {
   "cell_type": "code",
   "execution_count": null,
   "metadata": {},
   "outputs": [],
   "source": [
    "import os\n",
    "import json\n",
    "\n",
    "\n",
    "def load_mteb_results(directory):\n",
    "    results = {}\n",
    "    for root, dirs, files in os.walk(directory):\n",
    "        for file in files:\n",
    "            if file.endswith(\".json\"):\n",
    "                file_path = os.path.join(root, file)\n",
    "                with open(file_path, \"r\") as f:\n",
    "                    data = json.load(f)\n",
    "\n",
    "                # Create a key based on the relative path\n",
    "                relative_path = os.path.relpath(file_path, directory)\n",
    "                key = os.path.splitext(relative_path)[\n",
    "                    0\n",
    "                ]  # Remove the .json extension\n",
    "                results[key] = data\n",
    "\n",
    "    return results"
   ]
  },
  {
   "cell_type": "code",
   "execution_count": null,
   "metadata": {},
   "outputs": [],
   "source": [
    "def create_mteb_dict(original_json_dict):\n",
    "    clean_dict = dict()\n",
    "    for key in np.sort(list(original_json_dict.keys())):\n",
    "        task = key.split(\"/\")[-1]\n",
    "        if \"scores\" in original_json_dict[key].keys():\n",
    "            # pretrained mpnet\n",
    "            score_mpnet = original_json_dict[key][\"scores\"][\"test\"][0][\n",
    "                \"main_score\"\n",
    "            ]\n",
    "            clean_dict[task] = score_mpnet\n",
    "\n",
    "        else:\n",
    "            continue\n",
    "\n",
    "    return clean_dict"
   ]
  },
  {
   "cell_type": "code",
   "execution_count": null,
   "metadata": {},
   "outputs": [],
   "source": [
    "final_dict_results = defaultdict(list)\n",
    "\n",
    "for batch in all_batches:\n",
    "    final_dict_results[\"batch\"].append(batch)\n",
    "\n",
    "    model_name = \"MPNet\"\n",
    "    saving_path = (\n",
    "        Path(\"embeddings_\" + model_name.lower())\n",
    "        / Path(\"updated_dataset\")\n",
    "        / Path(\"mteb_benchmark\")\n",
    "        / Path(\"new_format\")\n",
    "    )\n",
    "    root_directory = (\n",
    "        variables_path / saving_path / f\"results_epoch_0_batch_{batch}\"\n",
    "    )\n",
    "    json_results_dict = load_mteb_results(root_directory)\n",
    "\n",
    "    # transform\n",
    "    mteb_results_dict = create_mteb_dict(json_results_dict)\n",
    "\n",
    "    # append\n",
    "    [final_dict_results[k].append(v) for k, v in mteb_results_dict.items()]\n",
    "\n",
    "\n",
    "df_training_eval_results = pd.DataFrame(final_dict_results)"
   ]
  },
  {
   "cell_type": "code",
   "execution_count": null,
   "metadata": {},
   "outputs": [
    {
     "data": {
      "text/html": [
       "<div>\n",
       "<style scoped>\n",
       "    .dataframe tbody tr th:only-of-type {\n",
       "        vertical-align: middle;\n",
       "    }\n",
       "\n",
       "    .dataframe tbody tr th {\n",
       "        vertical-align: top;\n",
       "    }\n",
       "\n",
       "    .dataframe thead th {\n",
       "        text-align: right;\n",
       "    }\n",
       "</style>\n",
       "<table border=\"1\" class=\"dataframe\">\n",
       "  <thead>\n",
       "    <tr style=\"text-align: right;\">\n",
       "      <th></th>\n",
       "      <th>batch</th>\n",
       "      <th>ArguAna</th>\n",
       "      <th>ArxivClusteringP2P</th>\n",
       "      <th>BiorxivClusteringP2P</th>\n",
       "      <th>MedrxivClusteringP2P</th>\n",
       "      <th>MindSmallReranking</th>\n",
       "      <th>RedditClusteringP2P</th>\n",
       "      <th>SCIDOCS</th>\n",
       "      <th>STS12</th>\n",
       "      <th>STS13</th>\n",
       "      <th>STS14</th>\n",
       "      <th>STS15</th>\n",
       "      <th>STS16</th>\n",
       "      <th>STSBenchmark</th>\n",
       "      <th>SciDocsRR</th>\n",
       "      <th>StackExchangeClusteringP2P</th>\n",
       "    </tr>\n",
       "  </thead>\n",
       "  <tbody>\n",
       "    <tr>\n",
       "      <th>0</th>\n",
       "      <td>0</td>\n",
       "      <td>0.22550</td>\n",
       "      <td>0.286805</td>\n",
       "      <td>0.247922</td>\n",
       "      <td>0.238383</td>\n",
       "      <td>0.274675</td>\n",
       "      <td>0.405401</td>\n",
       "      <td>0.01415</td>\n",
       "      <td>0.243431</td>\n",
       "      <td>0.520162</td>\n",
       "      <td>0.446454</td>\n",
       "      <td>0.534895</td>\n",
       "      <td>0.505863</td>\n",
       "      <td>0.519878</td>\n",
       "      <td>0.560579</td>\n",
       "      <td>0.265462</td>\n",
       "    </tr>\n",
       "    <tr>\n",
       "      <th>1</th>\n",
       "      <td>10</td>\n",
       "      <td>0.26140</td>\n",
       "      <td>0.318198</td>\n",
       "      <td>0.282860</td>\n",
       "      <td>0.258624</td>\n",
       "      <td>0.280395</td>\n",
       "      <td>0.443804</td>\n",
       "      <td>0.02072</td>\n",
       "      <td>0.239287</td>\n",
       "      <td>0.546729</td>\n",
       "      <td>0.459267</td>\n",
       "      <td>0.525042</td>\n",
       "      <td>0.529872</td>\n",
       "      <td>0.543161</td>\n",
       "      <td>0.588079</td>\n",
       "      <td>0.277583</td>\n",
       "    </tr>\n",
       "    <tr>\n",
       "      <th>2</th>\n",
       "      <td>20</td>\n",
       "      <td>0.37117</td>\n",
       "      <td>0.364071</td>\n",
       "      <td>0.331347</td>\n",
       "      <td>0.298475</td>\n",
       "      <td>0.300186</td>\n",
       "      <td>0.492956</td>\n",
       "      <td>0.05335</td>\n",
       "      <td>0.269957</td>\n",
       "      <td>0.589645</td>\n",
       "      <td>0.500454</td>\n",
       "      <td>0.510676</td>\n",
       "      <td>0.605632</td>\n",
       "      <td>0.611643</td>\n",
       "      <td>0.626583</td>\n",
       "      <td>0.303922</td>\n",
       "    </tr>\n",
       "    <tr>\n",
       "      <th>3</th>\n",
       "      <td>30</td>\n",
       "      <td>0.44731</td>\n",
       "      <td>0.362579</td>\n",
       "      <td>0.322819</td>\n",
       "      <td>0.312544</td>\n",
       "      <td>0.296389</td>\n",
       "      <td>0.513832</td>\n",
       "      <td>0.10083</td>\n",
       "      <td>0.419878</td>\n",
       "      <td>0.704948</td>\n",
       "      <td>0.602115</td>\n",
       "      <td>0.665623</td>\n",
       "      <td>0.704864</td>\n",
       "      <td>0.706322</td>\n",
       "      <td>0.699604</td>\n",
       "      <td>0.307470</td>\n",
       "    </tr>\n",
       "    <tr>\n",
       "      <th>4</th>\n",
       "      <td>40</td>\n",
       "      <td>0.47056</td>\n",
       "      <td>0.361869</td>\n",
       "      <td>0.311688</td>\n",
       "      <td>0.312765</td>\n",
       "      <td>0.298347</td>\n",
       "      <td>0.532951</td>\n",
       "      <td>0.12007</td>\n",
       "      <td>0.496665</td>\n",
       "      <td>0.741651</td>\n",
       "      <td>0.637952</td>\n",
       "      <td>0.729790</td>\n",
       "      <td>0.745516</td>\n",
       "      <td>0.738614</td>\n",
       "      <td>0.712471</td>\n",
       "      <td>0.305911</td>\n",
       "    </tr>\n",
       "    <tr>\n",
       "      <th>5</th>\n",
       "      <td>50</td>\n",
       "      <td>0.47872</td>\n",
       "      <td>0.364901</td>\n",
       "      <td>0.315637</td>\n",
       "      <td>0.313393</td>\n",
       "      <td>0.297758</td>\n",
       "      <td>0.538351</td>\n",
       "      <td>0.12368</td>\n",
       "      <td>0.515515</td>\n",
       "      <td>0.744016</td>\n",
       "      <td>0.643029</td>\n",
       "      <td>0.735652</td>\n",
       "      <td>0.751302</td>\n",
       "      <td>0.743193</td>\n",
       "      <td>0.722179</td>\n",
       "      <td>0.309289</td>\n",
       "    </tr>\n",
       "    <tr>\n",
       "      <th>6</th>\n",
       "      <td>60</td>\n",
       "      <td>0.47465</td>\n",
       "      <td>0.371534</td>\n",
       "      <td>0.326483</td>\n",
       "      <td>0.311341</td>\n",
       "      <td>0.296084</td>\n",
       "      <td>0.536404</td>\n",
       "      <td>0.12126</td>\n",
       "      <td>0.511566</td>\n",
       "      <td>0.745379</td>\n",
       "      <td>0.638575</td>\n",
       "      <td>0.726518</td>\n",
       "      <td>0.752243</td>\n",
       "      <td>0.738001</td>\n",
       "      <td>0.726834</td>\n",
       "      <td>0.307270</td>\n",
       "    </tr>\n",
       "    <tr>\n",
       "      <th>7</th>\n",
       "      <td>70</td>\n",
       "      <td>0.47752</td>\n",
       "      <td>0.373153</td>\n",
       "      <td>0.325685</td>\n",
       "      <td>0.312915</td>\n",
       "      <td>0.295156</td>\n",
       "      <td>0.543178</td>\n",
       "      <td>0.12274</td>\n",
       "      <td>0.511637</td>\n",
       "      <td>0.749409</td>\n",
       "      <td>0.640792</td>\n",
       "      <td>0.730530</td>\n",
       "      <td>0.758662</td>\n",
       "      <td>0.738497</td>\n",
       "      <td>0.726324</td>\n",
       "      <td>0.308146</td>\n",
       "    </tr>\n",
       "    <tr>\n",
       "      <th>8</th>\n",
       "      <td>80</td>\n",
       "      <td>0.48461</td>\n",
       "      <td>0.364271</td>\n",
       "      <td>0.322668</td>\n",
       "      <td>0.308182</td>\n",
       "      <td>0.297375</td>\n",
       "      <td>0.541959</td>\n",
       "      <td>0.12513</td>\n",
       "      <td>0.521489</td>\n",
       "      <td>0.754751</td>\n",
       "      <td>0.651448</td>\n",
       "      <td>0.746694</td>\n",
       "      <td>0.764512</td>\n",
       "      <td>0.744506</td>\n",
       "      <td>0.728565</td>\n",
       "      <td>0.308180</td>\n",
       "    </tr>\n",
       "    <tr>\n",
       "      <th>9</th>\n",
       "      <td>90</td>\n",
       "      <td>0.48831</td>\n",
       "      <td>0.370887</td>\n",
       "      <td>0.324098</td>\n",
       "      <td>0.313450</td>\n",
       "      <td>0.294467</td>\n",
       "      <td>0.545709</td>\n",
       "      <td>0.12331</td>\n",
       "      <td>0.525614</td>\n",
       "      <td>0.756253</td>\n",
       "      <td>0.652269</td>\n",
       "      <td>0.743513</td>\n",
       "      <td>0.763252</td>\n",
       "      <td>0.744922</td>\n",
       "      <td>0.733977</td>\n",
       "      <td>0.305661</td>\n",
       "    </tr>\n",
       "    <tr>\n",
       "      <th>10</th>\n",
       "      <td>100</td>\n",
       "      <td>0.48978</td>\n",
       "      <td>0.369863</td>\n",
       "      <td>0.324325</td>\n",
       "      <td>0.310625</td>\n",
       "      <td>0.296960</td>\n",
       "      <td>0.543631</td>\n",
       "      <td>0.12193</td>\n",
       "      <td>0.526480</td>\n",
       "      <td>0.753826</td>\n",
       "      <td>0.651707</td>\n",
       "      <td>0.739935</td>\n",
       "      <td>0.761418</td>\n",
       "      <td>0.743386</td>\n",
       "      <td>0.735685</td>\n",
       "      <td>0.309663</td>\n",
       "    </tr>\n",
       "    <tr>\n",
       "      <th>11</th>\n",
       "      <td>110</td>\n",
       "      <td>0.48983</td>\n",
       "      <td>0.370794</td>\n",
       "      <td>0.320858</td>\n",
       "      <td>0.305705</td>\n",
       "      <td>0.299165</td>\n",
       "      <td>0.552376</td>\n",
       "      <td>0.12008</td>\n",
       "      <td>0.523319</td>\n",
       "      <td>0.750532</td>\n",
       "      <td>0.650155</td>\n",
       "      <td>0.742805</td>\n",
       "      <td>0.763432</td>\n",
       "      <td>0.742328</td>\n",
       "      <td>0.730206</td>\n",
       "      <td>0.309697</td>\n",
       "    </tr>\n",
       "    <tr>\n",
       "      <th>12</th>\n",
       "      <td>150</td>\n",
       "      <td>0.49964</td>\n",
       "      <td>0.374139</td>\n",
       "      <td>0.320273</td>\n",
       "      <td>0.306278</td>\n",
       "      <td>0.298157</td>\n",
       "      <td>0.544920</td>\n",
       "      <td>0.12719</td>\n",
       "      <td>0.501876</td>\n",
       "      <td>0.735802</td>\n",
       "      <td>0.635553</td>\n",
       "      <td>0.722063</td>\n",
       "      <td>0.754303</td>\n",
       "      <td>0.730757</td>\n",
       "      <td>0.730783</td>\n",
       "      <td>0.311187</td>\n",
       "    </tr>\n",
       "    <tr>\n",
       "      <th>13</th>\n",
       "      <td>200</td>\n",
       "      <td>0.50051</td>\n",
       "      <td>0.376146</td>\n",
       "      <td>0.322078</td>\n",
       "      <td>0.307569</td>\n",
       "      <td>0.299084</td>\n",
       "      <td>0.546489</td>\n",
       "      <td>0.12907</td>\n",
       "      <td>0.506205</td>\n",
       "      <td>0.740439</td>\n",
       "      <td>0.644274</td>\n",
       "      <td>0.736523</td>\n",
       "      <td>0.758755</td>\n",
       "      <td>0.725821</td>\n",
       "      <td>0.734343</td>\n",
       "      <td>0.308253</td>\n",
       "    </tr>\n",
       "    <tr>\n",
       "      <th>14</th>\n",
       "      <td>250</td>\n",
       "      <td>0.50792</td>\n",
       "      <td>0.381444</td>\n",
       "      <td>0.325622</td>\n",
       "      <td>0.311250</td>\n",
       "      <td>0.300248</td>\n",
       "      <td>0.555290</td>\n",
       "      <td>0.12948</td>\n",
       "      <td>0.500741</td>\n",
       "      <td>0.734572</td>\n",
       "      <td>0.636964</td>\n",
       "      <td>0.728454</td>\n",
       "      <td>0.756835</td>\n",
       "      <td>0.723585</td>\n",
       "      <td>0.735409</td>\n",
       "      <td>0.312631</td>\n",
       "    </tr>\n",
       "    <tr>\n",
       "      <th>15</th>\n",
       "      <td>300</td>\n",
       "      <td>0.50513</td>\n",
       "      <td>0.381708</td>\n",
       "      <td>0.325143</td>\n",
       "      <td>0.308855</td>\n",
       "      <td>0.300664</td>\n",
       "      <td>0.549626</td>\n",
       "      <td>0.12945</td>\n",
       "      <td>0.500719</td>\n",
       "      <td>0.732040</td>\n",
       "      <td>0.637960</td>\n",
       "      <td>0.724482</td>\n",
       "      <td>0.757442</td>\n",
       "      <td>0.719717</td>\n",
       "      <td>0.736047</td>\n",
       "      <td>0.311033</td>\n",
       "    </tr>\n",
       "    <tr>\n",
       "      <th>16</th>\n",
       "      <td>350</td>\n",
       "      <td>0.50031</td>\n",
       "      <td>0.379434</td>\n",
       "      <td>0.328625</td>\n",
       "      <td>0.310278</td>\n",
       "      <td>0.299719</td>\n",
       "      <td>0.555680</td>\n",
       "      <td>0.12875</td>\n",
       "      <td>0.497114</td>\n",
       "      <td>0.731757</td>\n",
       "      <td>0.636480</td>\n",
       "      <td>0.720674</td>\n",
       "      <td>0.756180</td>\n",
       "      <td>0.719178</td>\n",
       "      <td>0.736864</td>\n",
       "      <td>0.309871</td>\n",
       "    </tr>\n",
       "    <tr>\n",
       "      <th>17</th>\n",
       "      <td>367</td>\n",
       "      <td>0.50000</td>\n",
       "      <td>0.378723</td>\n",
       "      <td>0.322419</td>\n",
       "      <td>0.308897</td>\n",
       "      <td>0.299978</td>\n",
       "      <td>0.553235</td>\n",
       "      <td>0.12850</td>\n",
       "      <td>0.496785</td>\n",
       "      <td>0.731823</td>\n",
       "      <td>0.636534</td>\n",
       "      <td>0.721247</td>\n",
       "      <td>0.756424</td>\n",
       "      <td>0.719054</td>\n",
       "      <td>0.737081</td>\n",
       "      <td>0.310588</td>\n",
       "    </tr>\n",
       "  </tbody>\n",
       "</table>\n",
       "</div>"
      ],
      "text/plain": [
       "    batch  ArguAna  ArxivClusteringP2P  BiorxivClusteringP2P  \\\n",
       "0       0  0.22550            0.286805              0.247922   \n",
       "1      10  0.26140            0.318198              0.282860   \n",
       "2      20  0.37117            0.364071              0.331347   \n",
       "3      30  0.44731            0.362579              0.322819   \n",
       "4      40  0.47056            0.361869              0.311688   \n",
       "5      50  0.47872            0.364901              0.315637   \n",
       "6      60  0.47465            0.371534              0.326483   \n",
       "7      70  0.47752            0.373153              0.325685   \n",
       "8      80  0.48461            0.364271              0.322668   \n",
       "9      90  0.48831            0.370887              0.324098   \n",
       "10    100  0.48978            0.369863              0.324325   \n",
       "11    110  0.48983            0.370794              0.320858   \n",
       "12    150  0.49964            0.374139              0.320273   \n",
       "13    200  0.50051            0.376146              0.322078   \n",
       "14    250  0.50792            0.381444              0.325622   \n",
       "15    300  0.50513            0.381708              0.325143   \n",
       "16    350  0.50031            0.379434              0.328625   \n",
       "17    367  0.50000            0.378723              0.322419   \n",
       "\n",
       "    MedrxivClusteringP2P  MindSmallReranking  RedditClusteringP2P  SCIDOCS  \\\n",
       "0               0.238383            0.274675             0.405401  0.01415   \n",
       "1               0.258624            0.280395             0.443804  0.02072   \n",
       "2               0.298475            0.300186             0.492956  0.05335   \n",
       "3               0.312544            0.296389             0.513832  0.10083   \n",
       "4               0.312765            0.298347             0.532951  0.12007   \n",
       "5               0.313393            0.297758             0.538351  0.12368   \n",
       "6               0.311341            0.296084             0.536404  0.12126   \n",
       "7               0.312915            0.295156             0.543178  0.12274   \n",
       "8               0.308182            0.297375             0.541959  0.12513   \n",
       "9               0.313450            0.294467             0.545709  0.12331   \n",
       "10              0.310625            0.296960             0.543631  0.12193   \n",
       "11              0.305705            0.299165             0.552376  0.12008   \n",
       "12              0.306278            0.298157             0.544920  0.12719   \n",
       "13              0.307569            0.299084             0.546489  0.12907   \n",
       "14              0.311250            0.300248             0.555290  0.12948   \n",
       "15              0.308855            0.300664             0.549626  0.12945   \n",
       "16              0.310278            0.299719             0.555680  0.12875   \n",
       "17              0.308897            0.299978             0.553235  0.12850   \n",
       "\n",
       "       STS12     STS13     STS14     STS15     STS16  STSBenchmark  SciDocsRR  \\\n",
       "0   0.243431  0.520162  0.446454  0.534895  0.505863      0.519878   0.560579   \n",
       "1   0.239287  0.546729  0.459267  0.525042  0.529872      0.543161   0.588079   \n",
       "2   0.269957  0.589645  0.500454  0.510676  0.605632      0.611643   0.626583   \n",
       "3   0.419878  0.704948  0.602115  0.665623  0.704864      0.706322   0.699604   \n",
       "4   0.496665  0.741651  0.637952  0.729790  0.745516      0.738614   0.712471   \n",
       "5   0.515515  0.744016  0.643029  0.735652  0.751302      0.743193   0.722179   \n",
       "6   0.511566  0.745379  0.638575  0.726518  0.752243      0.738001   0.726834   \n",
       "7   0.511637  0.749409  0.640792  0.730530  0.758662      0.738497   0.726324   \n",
       "8   0.521489  0.754751  0.651448  0.746694  0.764512      0.744506   0.728565   \n",
       "9   0.525614  0.756253  0.652269  0.743513  0.763252      0.744922   0.733977   \n",
       "10  0.526480  0.753826  0.651707  0.739935  0.761418      0.743386   0.735685   \n",
       "11  0.523319  0.750532  0.650155  0.742805  0.763432      0.742328   0.730206   \n",
       "12  0.501876  0.735802  0.635553  0.722063  0.754303      0.730757   0.730783   \n",
       "13  0.506205  0.740439  0.644274  0.736523  0.758755      0.725821   0.734343   \n",
       "14  0.500741  0.734572  0.636964  0.728454  0.756835      0.723585   0.735409   \n",
       "15  0.500719  0.732040  0.637960  0.724482  0.757442      0.719717   0.736047   \n",
       "16  0.497114  0.731757  0.636480  0.720674  0.756180      0.719178   0.736864   \n",
       "17  0.496785  0.731823  0.636534  0.721247  0.756424      0.719054   0.737081   \n",
       "\n",
       "    StackExchangeClusteringP2P  \n",
       "0                     0.265462  \n",
       "1                     0.277583  \n",
       "2                     0.303922  \n",
       "3                     0.307470  \n",
       "4                     0.305911  \n",
       "5                     0.309289  \n",
       "6                     0.307270  \n",
       "7                     0.308146  \n",
       "8                     0.308180  \n",
       "9                     0.305661  \n",
       "10                    0.309663  \n",
       "11                    0.309697  \n",
       "12                    0.311187  \n",
       "13                    0.308253  \n",
       "14                    0.312631  \n",
       "15                    0.311033  \n",
       "16                    0.309871  \n",
       "17                    0.310588  "
      ]
     },
     "metadata": {},
     "output_type": "display_data"
    }
   ],
   "source": [
    "df_training_eval_results"
   ]
  },
  {
   "cell_type": "code",
   "execution_count": null,
   "metadata": {},
   "outputs": [],
   "source": [
    "model_name = \"MPNet\"\n",
    "saving_path = Path(\"embeddings_\" + model_name.lower()) / Path(\n",
    "    \"updated_dataset\"\n",
    ")\n",
    "df_training_eval_results.to_parquet(\n",
    "    variables_path / saving_path / \"df_training_eval_results_mteb_batches_v2\",\n",
    "    index=False,\n",
    "    engine=\"pyarrow\",\n",
    "    compression=\"gzip\",\n",
    ")"
   ]
  },
  {
   "cell_type": "markdown",
   "metadata": {},
   "source": [
    "#### Plot"
   ]
  },
  {
   "cell_type": "code",
   "execution_count": null,
   "metadata": {},
   "outputs": [
    {
     "data": {
      "image/png": "[encoded data removed]",
      "text/plain": [
       "<Figure size 650x400 with 1 Axes>"
      ]
     },
     "metadata": {},
     "output_type": "display_data"
    }
   ],
   "source": [
    "%matplotlib inline\n",
    "\n",
    "fig, ax = plt.subplots(figsize=(3.25, 2), dpi=200, layout=\"constrained\")\n",
    "\n",
    "# load\n",
    "## mpnet crops\n",
    "model_name = \"MPNet\"\n",
    "saving_path = Path(\"embeddings_\" + model_name.lower()) / Path(\n",
    "    \"updated_dataset\"\n",
    ")\n",
    "df_training_eval_results = pd.read_parquet(\n",
    "    variables_path / saving_path / \"df_training_eval_results_mteb_batches_v2\",\n",
    "    engine=\"pyarrow\",\n",
    ")\n",
    "\n",
    "df_training_eval_results.set_index(\"batch\", inplace=True)\n",
    "\n",
    "# calculate block means\n",
    "df_block_mean = pd.DataFrame()\n",
    "df_block_mean[\"clustering\"] = df_training_eval_results[\n",
    "    [\n",
    "        \"ArxivClusteringP2P\",\n",
    "        \"BiorxivClusteringP2P\",\n",
    "        \"MedrxivClusteringP2P\",\n",
    "        \"RedditClusteringP2P\",\n",
    "        \"StackExchangeClusteringP2P\",\n",
    "    ]\n",
    "].mean(axis=1)\n",
    "\n",
    "df_block_mean[\"reranking\"] = df_training_eval_results[\n",
    "    [\"SciDocsRR\", \"MindSmallReranking\"]\n",
    "].mean(axis=1)\n",
    "df_block_mean[\"retrieval\"] = df_training_eval_results[\n",
    "    [\"SCIDOCS\", \"ArguAna\"]\n",
    "].mean(axis=1)\n",
    "df_block_mean[\"sts\"] = df_training_eval_results[\n",
    "    [\"STS15\", \"STS16\", \"STSBenchmark\"]\n",
    "].mean(axis=1)\n",
    "\n",
    "# create palette\n",
    "palette = glasbey.create_palette(\n",
    "    palette_size=len(df_training_eval_results.columns),\n",
    "    lightness_bounds=(20, 75),\n",
    "    chroma_bounds=(50, 90),\n",
    ")\n",
    "\n",
    "\n",
    "for i, elem in enumerate(df_block_mean.columns):\n",
    "    ax.plot(\n",
    "        df_block_mean.index,\n",
    "        df_block_mean[elem],\n",
    "        label=[elem.upper() if elem == \"sts\" else elem.capitalize()],\n",
    "        c=palette[i],\n",
    "        alpha=0.5,\n",
    "    )\n",
    "    # ax.text(\n",
    "    #     df_training_eval_results.index[-1] + 0.1,\n",
    "    #     df_training_eval_results[elem].iloc[-1],\n",
    "    #     f\"{df_training_eval_results[elem].iloc[-1]:.1f}\",\n",
    "    #     fontsize=5,\n",
    "    #     va=\"center\",\n",
    "    #     ha=\"left\",\n",
    "    # )\n",
    "\n",
    "ax.plot(\n",
    "    df_training_eval_results.index,\n",
    "    df_training_eval_results.mean(axis=1),\n",
    "    label=\"Mean\",\n",
    "    c=\"black\",\n",
    "    lw=1,\n",
    ")\n",
    "# ax.text(\n",
    "#     df_training_eval_results.index[-1] + 0.1,\n",
    "#     df_training_eval_results.mean(axis=1).iloc[-1],\n",
    "#     f\"{df_training_eval_results.mean(axis=1).iloc[-1]:.1f}\",\n",
    "#     fontsize=5,\n",
    "#     va=\"center\",\n",
    "#     ha=\"left\",\n",
    "# )\n",
    "\n",
    "ax.plot(\n",
    "    df_block_mean.index,\n",
    "    df_block_mean.mean(axis=1),\n",
    "    label=\"Block mean\",\n",
    "    c=\"grey\",\n",
    "    lw=1,\n",
    ")\n",
    "\n",
    "ax.legend(loc=(1, 0))\n",
    "# ax.set_ylim(0.3, 0.65)\n",
    "ax.set_xlabel(\"Batch\")\n",
    "ax.set_ylabel(\"MTEB score\")\n",
    "\n",
    "fig.savefig(figures_path / \"mteb_scores_MPNet_crops_batches_train_iclr_v3.png\")"
   ]
  },
  {
   "cell_type": "code",
   "execution_count": null,
   "metadata": {},
   "outputs": [
    {
     "data": {
      "text/plain": [
       "clustering     8.3\n",
       "reranking      9.9\n",
       "retrieval     18.6\n",
       "sts           22.8\n",
       "dtype: float64"
      ]
     },
     "metadata": {},
     "output_type": "display_data"
    }
   ],
   "source": [
    "np.round((df_block_mean.loc[100] - df_block_mean.loc[0]) * 100, 1)"
   ]
  },
  {
   "cell_type": "code",
   "execution_count": null,
   "metadata": {},
   "outputs": [
    {
     "data": {
      "text/plain": [
       "0.32"
      ]
     },
     "metadata": {},
     "output_type": "display_data"
    }
   ],
   "source": [
    "2 / 10 + 3 / 25"
   ]
  }
 ],
 "metadata": {
  "kernelspec": {
   "display_name": "python3",
   "language": "python",
   "name": "python3"
  }
 },
 "nbformat": 4,
 "nbformat_minor": 4
}
