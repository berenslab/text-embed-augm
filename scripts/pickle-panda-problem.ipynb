{
 "cells": [
  {
   "cell_type": "code",
   "execution_count": null,
   "id": "41b72e3e-b319-4f3f-b70b-5e1fbb777836",
   "metadata": {},
   "outputs": [
    {
     "data": {
      "text/plain": [
       "'1.4.2'"
      ]
     },
     "execution_count": null,
     "metadata": {},
     "output_type": "execute_result"
    }
   ],
   "source": [
    "import pandas as pd\n",
    "\n",
    "from pathlib import Path\n",
    "\n",
    "pd.__version__"
   ]
  },
  {
   "cell_type": "code",
   "execution_count": null,
   "id": "caff9f3c-2fa9-4e3f-ad06-6f974593a2ae",
   "metadata": {},
   "outputs": [],
   "source": [
    "variables_path = Path(\"../results/variables\")\n",
    "figures_path = Path(\"../results/figures\")\n",
    "# berenslab_data_path = Path(\"/gpfs01/berens/data/data/pubmed_processed\")\n",
    "data_path = Path(\"/gpfs01/berens/user/rgonzalesmarquez/phd/text-embeddings/data\")"
   ]
  },
  {
   "cell_type": "markdown",
   "id": "c8d6adfd-1ce4-4b19-af89-3ef45b5dafc7",
   "metadata": {},
   "source": [
    "# 2024 data"
   ]
  },
  {
   "cell_type": "code",
   "execution_count": null,
   "id": "f2008f77-002e-41f4-bddd-19f770d9cb74",
   "metadata": {},
   "outputs": [
    {
     "name": "stdout",
     "output_type": "stream",
     "text": [
      "CPU times: user 304 ms, sys: 33.2 ms, total: 338 ms\n",
      "Wall time: 412 ms\n"
     ]
    }
   ],
   "source": [
    "%%time\n",
    "compression_opts = dict(method=\"zip\", archive_name=\"iclr.pickle.csv\")\n",
    "\n",
    "iclr2024 = pd.read_pickle(\n",
    "    data_path / \"iclr2024.pickle.zip\",\n",
    "    # index_col=False,\n",
    "    compression=compression_opts,\n",
    ")"
   ]
  },
  {
   "cell_type": "code",
   "execution_count": null,
   "id": "1143543c-7886-4cdc-a7ab-1ba8ae50f419",
   "metadata": {},
   "outputs": [
    {
     "data": {
      "text/html": [
       "<div>\n",
       "<style scoped>\n",
       "    .dataframe tbody tr th:only-of-type {\n",
       "        vertical-align: middle;\n",
       "    }\n",
       "\n",
       "    .dataframe tbody tr th {\n",
       "        vertical-align: top;\n",
       "    }\n",
       "\n",
       "    .dataframe thead th {\n",
       "        text-align: right;\n",
       "    }\n",
       "</style>\n",
       "<table border=\"1\" class=\"dataframe\">\n",
       "  <thead>\n",
       "    <tr style=\"text-align: right;\">\n",
       "      <th></th>\n",
       "      <th>index</th>\n",
       "      <th>year</th>\n",
       "      <th>id</th>\n",
       "      <th>title</th>\n",
       "      <th>abstract</th>\n",
       "      <th>authors</th>\n",
       "      <th>decision</th>\n",
       "      <th>scores</th>\n",
       "      <th>keywords</th>\n",
       "      <th>gender-first</th>\n",
       "      <th>gender-last</th>\n",
       "      <th>t-SNE x</th>\n",
       "      <th>t-SNE y</th>\n",
       "    </tr>\n",
       "  </thead>\n",
       "  <tbody>\n",
       "    <tr>\n",
       "      <th>0</th>\n",
       "      <td>0</td>\n",
       "      <td>2017</td>\n",
       "      <td>S1VaB4cex</td>\n",
       "      <td>FractalNet: Ultra-Deep Neural Networks without...</td>\n",
       "      <td>We introduce a design strategy for neural netw...</td>\n",
       "      <td>Gustav Larsson, Michael Maire, Gregory Shakhna...</td>\n",
       "      <td>Accept (Poster)</td>\n",
       "      <td>[5, 7, 6, 6]</td>\n",
       "      <td>[]</td>\n",
       "      <td>male</td>\n",
       "      <td>male</td>\n",
       "      <td>-28.117955</td>\n",
       "      <td>-20.418127</td>\n",
       "    </tr>\n",
       "    <tr>\n",
       "      <th>1</th>\n",
       "      <td>1</td>\n",
       "      <td>2017</td>\n",
       "      <td>H1W1UN9gg</td>\n",
       "      <td>Deep Information Propagation</td>\n",
       "      <td>We study the behavior of untrained neural netw...</td>\n",
       "      <td>Samuel S. Schoenholz, Justin Gilmer, Surya Gan...</td>\n",
       "      <td>Accept (Poster)</td>\n",
       "      <td>[8, 9, 8]</td>\n",
       "      <td>[theory, deep learning]</td>\n",
       "      <td>male</td>\n",
       "      <td>None</td>\n",
       "      <td>-32.466820</td>\n",
       "      <td>-10.791123</td>\n",
       "    </tr>\n",
       "    <tr>\n",
       "      <th>2</th>\n",
       "      <td>2</td>\n",
       "      <td>2017</td>\n",
       "      <td>r1GKzP5xx</td>\n",
       "      <td>Recurrent Normalization Propagation</td>\n",
       "      <td>We propose a LSTM parametrization  that preser...</td>\n",
       "      <td>César Laurent, Nicolas Ballas, Pascal Vincent</td>\n",
       "      <td>Invite to Workshop Track</td>\n",
       "      <td>[4, 6, 6]</td>\n",
       "      <td>[deep learning, optimization]</td>\n",
       "      <td>None</td>\n",
       "      <td>male</td>\n",
       "      <td>3.504240</td>\n",
       "      <td>19.946053</td>\n",
       "    </tr>\n",
       "    <tr>\n",
       "      <th>3</th>\n",
       "      <td>3</td>\n",
       "      <td>2017</td>\n",
       "      <td>S1J0E-71l</td>\n",
       "      <td>Surprisal-Driven Feedback in Recurrent Networks</td>\n",
       "      <td>Recurrent neural nets are widely used for pred...</td>\n",
       "      <td>K, a, m, i, l,  , R, o, c, k, i</td>\n",
       "      <td>Reject</td>\n",
       "      <td>[3, 4, 3]</td>\n",
       "      <td>[unsupervised learning, applications, deep lea...</td>\n",
       "      <td>None</td>\n",
       "      <td>None</td>\n",
       "      <td>4.553473</td>\n",
       "      <td>16.037763</td>\n",
       "    </tr>\n",
       "    <tr>\n",
       "      <th>4</th>\n",
       "      <td>4</td>\n",
       "      <td>2017</td>\n",
       "      <td>SJGCiw5gl</td>\n",
       "      <td>Pruning Convolutional Neural Networks for Reso...</td>\n",
       "      <td>We propose a new formulation for pruning convo...</td>\n",
       "      <td>Pavlo Molchanov, Stephen Tyree, Tero Karras, T...</td>\n",
       "      <td>Accept (Poster)</td>\n",
       "      <td>[6, 7, 9]</td>\n",
       "      <td>[deep learning, transfer learning]</td>\n",
       "      <td>None</td>\n",
       "      <td>male</td>\n",
       "      <td>-25.827705</td>\n",
       "      <td>-37.891772</td>\n",
       "    </tr>\n",
       "  </tbody>\n",
       "</table>\n",
       "</div>"
      ],
      "text/plain": [
       "   index  year         id                                              title  \\\n",
       "0      0  2017  S1VaB4cex  FractalNet: Ultra-Deep Neural Networks without...   \n",
       "1      1  2017  H1W1UN9gg                       Deep Information Propagation   \n",
       "2      2  2017  r1GKzP5xx                Recurrent Normalization Propagation   \n",
       "3      3  2017  S1J0E-71l    Surprisal-Driven Feedback in Recurrent Networks   \n",
       "4      4  2017  SJGCiw5gl  Pruning Convolutional Neural Networks for Reso...   \n",
       "\n",
       "                                            abstract  \\\n",
       "0  We introduce a design strategy for neural netw...   \n",
       "1  We study the behavior of untrained neural netw...   \n",
       "2  We propose a LSTM parametrization  that preser...   \n",
       "3  Recurrent neural nets are widely used for pred...   \n",
       "4  We propose a new formulation for pruning convo...   \n",
       "\n",
       "                                             authors  \\\n",
       "0  Gustav Larsson, Michael Maire, Gregory Shakhna...   \n",
       "1  Samuel S. Schoenholz, Justin Gilmer, Surya Gan...   \n",
       "2      César Laurent, Nicolas Ballas, Pascal Vincent   \n",
       "3                    K, a, m, i, l,  , R, o, c, k, i   \n",
       "4  Pavlo Molchanov, Stephen Tyree, Tero Karras, T...   \n",
       "\n",
       "                   decision        scores  \\\n",
       "0           Accept (Poster)  [5, 7, 6, 6]   \n",
       "1           Accept (Poster)     [8, 9, 8]   \n",
       "2  Invite to Workshop Track     [4, 6, 6]   \n",
       "3                    Reject     [3, 4, 3]   \n",
       "4           Accept (Poster)     [6, 7, 9]   \n",
       "\n",
       "                                            keywords gender-first gender-last  \\\n",
       "0                                                 []         male        male   \n",
       "1                            [theory, deep learning]         male        None   \n",
       "2                      [deep learning, optimization]         None        male   \n",
       "3  [unsupervised learning, applications, deep lea...         None        None   \n",
       "4                 [deep learning, transfer learning]         None        male   \n",
       "\n",
       "     t-SNE x    t-SNE y  \n",
       "0 -28.117955 -20.418127  \n",
       "1 -32.466820 -10.791123  \n",
       "2   3.504240  19.946053  \n",
       "3   4.553473  16.037763  \n",
       "4 -25.827705 -37.891772  "
      ]
     },
     "execution_count": null,
     "metadata": {},
     "output_type": "execute_result"
    }
   ],
   "source": [
    "iclr2024.head()"
   ]
  },
  {
   "cell_type": "code",
   "execution_count": null,
   "id": "c964533b-0db3-469c-918f-f40d09c1b125",
   "metadata": {},
   "outputs": [
    {
     "data": {
      "text/plain": [
       "['theory', 'deep learning']"
      ]
     },
     "execution_count": null,
     "metadata": {},
     "output_type": "execute_result"
    }
   ],
   "source": [
    "iclr2024.keywords.iloc[1]"
   ]
  },
  {
   "cell_type": "code",
   "execution_count": null,
   "id": "b63e4707-04b7-457e-a2fc-ec771fe7d16a",
   "metadata": {},
   "outputs": [
    {
     "name": "stdout",
     "output_type": "stream",
     "text": [
      "CPU times: user 2.31 s, sys: 85.4 ms, total: 2.4 s\n",
      "Wall time: 2.82 s\n"
     ]
    }
   ],
   "source": [
    "%%time\n",
    "iclr2024.to_parquet(\n",
    "    data_path / \"iclr2024.parquet.gzip\",\n",
    "    index=False,\n",
    "    engine=\"pyarrow\",\n",
    "    compression=\"gzip\",\n",
    ")"
   ]
  },
  {
   "cell_type": "code",
   "execution_count": null,
   "id": "0ad8054e-a4bc-4766-b681-839476bf4be9",
   "metadata": {},
   "outputs": [
    {
     "name": "stdout",
     "output_type": "stream",
     "text": [
      "CPU times: user 302 ms, sys: 104 ms, total: 406 ms\n",
      "Wall time: 611 ms\n"
     ]
    }
   ],
   "source": [
    "%%time\n",
    "iclr2024_parquet = pd.read_parquet(\n",
    "    data_path / \"iclr2024.parquet.gzip\",\n",
    "    #index=False,\n",
    "    engine=\"pyarrow\",\n",
    "    #compression=\"gzip\",\n",
    ")"
   ]
  },
  {
   "cell_type": "code",
   "execution_count": null,
   "id": "e24ac5a7-8164-452d-aa0f-05d13183516d",
   "metadata": {},
   "outputs": [
    {
     "data": {
      "text/html": [
       "<div>\n",
       "<style scoped>\n",
       "    .dataframe tbody tr th:only-of-type {\n",
       "        vertical-align: middle;\n",
       "    }\n",
       "\n",
       "    .dataframe tbody tr th {\n",
       "        vertical-align: top;\n",
       "    }\n",
       "\n",
       "    .dataframe thead th {\n",
       "        text-align: right;\n",
       "    }\n",
       "</style>\n",
       "<table border=\"1\" class=\"dataframe\">\n",
       "  <thead>\n",
       "    <tr style=\"text-align: right;\">\n",
       "      <th></th>\n",
       "      <th>index</th>\n",
       "      <th>year</th>\n",
       "      <th>id</th>\n",
       "      <th>title</th>\n",
       "      <th>abstract</th>\n",
       "      <th>authors</th>\n",
       "      <th>decision</th>\n",
       "      <th>scores</th>\n",
       "      <th>keywords</th>\n",
       "      <th>gender-first</th>\n",
       "      <th>gender-last</th>\n",
       "      <th>t-SNE x</th>\n",
       "      <th>t-SNE y</th>\n",
       "    </tr>\n",
       "  </thead>\n",
       "  <tbody>\n",
       "    <tr>\n",
       "      <th>0</th>\n",
       "      <td>0</td>\n",
       "      <td>2017</td>\n",
       "      <td>S1VaB4cex</td>\n",
       "      <td>FractalNet: Ultra-Deep Neural Networks without...</td>\n",
       "      <td>We introduce a design strategy for neural netw...</td>\n",
       "      <td>Gustav Larsson, Michael Maire, Gregory Shakhna...</td>\n",
       "      <td>Accept (Poster)</td>\n",
       "      <td>[5, 7, 6, 6]</td>\n",
       "      <td>[]</td>\n",
       "      <td>male</td>\n",
       "      <td>male</td>\n",
       "      <td>-28.117955</td>\n",
       "      <td>-20.418127</td>\n",
       "    </tr>\n",
       "    <tr>\n",
       "      <th>1</th>\n",
       "      <td>1</td>\n",
       "      <td>2017</td>\n",
       "      <td>H1W1UN9gg</td>\n",
       "      <td>Deep Information Propagation</td>\n",
       "      <td>We study the behavior of untrained neural netw...</td>\n",
       "      <td>Samuel S. Schoenholz, Justin Gilmer, Surya Gan...</td>\n",
       "      <td>Accept (Poster)</td>\n",
       "      <td>[8, 9, 8]</td>\n",
       "      <td>[theory, deep learning]</td>\n",
       "      <td>male</td>\n",
       "      <td>None</td>\n",
       "      <td>-32.466820</td>\n",
       "      <td>-10.791123</td>\n",
       "    </tr>\n",
       "    <tr>\n",
       "      <th>2</th>\n",
       "      <td>2</td>\n",
       "      <td>2017</td>\n",
       "      <td>r1GKzP5xx</td>\n",
       "      <td>Recurrent Normalization Propagation</td>\n",
       "      <td>We propose a LSTM parametrization  that preser...</td>\n",
       "      <td>César Laurent, Nicolas Ballas, Pascal Vincent</td>\n",
       "      <td>Invite to Workshop Track</td>\n",
       "      <td>[4, 6, 6]</td>\n",
       "      <td>[deep learning, optimization]</td>\n",
       "      <td>None</td>\n",
       "      <td>male</td>\n",
       "      <td>3.504240</td>\n",
       "      <td>19.946053</td>\n",
       "    </tr>\n",
       "    <tr>\n",
       "      <th>3</th>\n",
       "      <td>3</td>\n",
       "      <td>2017</td>\n",
       "      <td>S1J0E-71l</td>\n",
       "      <td>Surprisal-Driven Feedback in Recurrent Networks</td>\n",
       "      <td>Recurrent neural nets are widely used for pred...</td>\n",
       "      <td>K, a, m, i, l,  , R, o, c, k, i</td>\n",
       "      <td>Reject</td>\n",
       "      <td>[3, 4, 3]</td>\n",
       "      <td>[unsupervised learning, applications, deep lea...</td>\n",
       "      <td>None</td>\n",
       "      <td>None</td>\n",
       "      <td>4.553473</td>\n",
       "      <td>16.037763</td>\n",
       "    </tr>\n",
       "    <tr>\n",
       "      <th>4</th>\n",
       "      <td>4</td>\n",
       "      <td>2017</td>\n",
       "      <td>SJGCiw5gl</td>\n",
       "      <td>Pruning Convolutional Neural Networks for Reso...</td>\n",
       "      <td>We propose a new formulation for pruning convo...</td>\n",
       "      <td>Pavlo Molchanov, Stephen Tyree, Tero Karras, T...</td>\n",
       "      <td>Accept (Poster)</td>\n",
       "      <td>[6, 7, 9]</td>\n",
       "      <td>[deep learning, transfer learning]</td>\n",
       "      <td>None</td>\n",
       "      <td>male</td>\n",
       "      <td>-25.827705</td>\n",
       "      <td>-37.891772</td>\n",
       "    </tr>\n",
       "  </tbody>\n",
       "</table>\n",
       "</div>"
      ],
      "text/plain": [
       "   index  year         id                                              title  \\\n",
       "0      0  2017  S1VaB4cex  FractalNet: Ultra-Deep Neural Networks without...   \n",
       "1      1  2017  H1W1UN9gg                       Deep Information Propagation   \n",
       "2      2  2017  r1GKzP5xx                Recurrent Normalization Propagation   \n",
       "3      3  2017  S1J0E-71l    Surprisal-Driven Feedback in Recurrent Networks   \n",
       "4      4  2017  SJGCiw5gl  Pruning Convolutional Neural Networks for Reso...   \n",
       "\n",
       "                                            abstract  \\\n",
       "0  We introduce a design strategy for neural netw...   \n",
       "1  We study the behavior of untrained neural netw...   \n",
       "2  We propose a LSTM parametrization  that preser...   \n",
       "3  Recurrent neural nets are widely used for pred...   \n",
       "4  We propose a new formulation for pruning convo...   \n",
       "\n",
       "                                             authors  \\\n",
       "0  Gustav Larsson, Michael Maire, Gregory Shakhna...   \n",
       "1  Samuel S. Schoenholz, Justin Gilmer, Surya Gan...   \n",
       "2      César Laurent, Nicolas Ballas, Pascal Vincent   \n",
       "3                    K, a, m, i, l,  , R, o, c, k, i   \n",
       "4  Pavlo Molchanov, Stephen Tyree, Tero Karras, T...   \n",
       "\n",
       "                   decision        scores  \\\n",
       "0           Accept (Poster)  [5, 7, 6, 6]   \n",
       "1           Accept (Poster)     [8, 9, 8]   \n",
       "2  Invite to Workshop Track     [4, 6, 6]   \n",
       "3                    Reject     [3, 4, 3]   \n",
       "4           Accept (Poster)     [6, 7, 9]   \n",
       "\n",
       "                                            keywords gender-first gender-last  \\\n",
       "0                                                 []         male        male   \n",
       "1                            [theory, deep learning]         male        None   \n",
       "2                      [deep learning, optimization]         None        male   \n",
       "3  [unsupervised learning, applications, deep lea...         None        None   \n",
       "4                 [deep learning, transfer learning]         None        male   \n",
       "\n",
       "     t-SNE x    t-SNE y  \n",
       "0 -28.117955 -20.418127  \n",
       "1 -32.466820 -10.791123  \n",
       "2   3.504240  19.946053  \n",
       "3   4.553473  16.037763  \n",
       "4 -25.827705 -37.891772  "
      ]
     },
     "execution_count": null,
     "metadata": {},
     "output_type": "execute_result"
    }
   ],
   "source": [
    "iclr2024_parquet.head()"
   ]
  },
  {
   "cell_type": "code",
   "execution_count": null,
   "id": "0e8ee904-fd3c-4b89-8c05-1a6d5971c9cd",
   "metadata": {},
   "outputs": [
    {
     "data": {
      "text/plain": [
       "'theory'"
      ]
     },
     "execution_count": null,
     "metadata": {},
     "output_type": "execute_result"
    }
   ],
   "source": [
    "iclr2024_parquet.keywords.iloc[1]"
   ]
  },
  {
   "cell_type": "code",
   "execution_count": null,
   "id": "988076fc-0ef1-493c-954f-714d984693cc",
   "metadata": {},
   "outputs": [
    {
     "data": {
      "text/plain": [
       "\u001b[0;31mSignature:\u001b[0m\n",
       "\u001b[0mpd\u001b[0m\u001b[0;34m.\u001b[0m\u001b[0mread_parquet\u001b[0m\u001b[0;34m(\u001b[0m\u001b[0;34m\u001b[0m\n",
       "\u001b[0;34m\u001b[0m    \u001b[0mpath\u001b[0m\u001b[0;34m,\u001b[0m\u001b[0;34m\u001b[0m\n",
       "\u001b[0;34m\u001b[0m    \u001b[0mengine\u001b[0m\u001b[0;34m:\u001b[0m \u001b[0;34m'str'\u001b[0m \u001b[0;34m=\u001b[0m \u001b[0;34m'auto'\u001b[0m\u001b[0;34m,\u001b[0m\u001b[0;34m\u001b[0m\n",
       "\u001b[0;34m\u001b[0m    \u001b[0mcolumns\u001b[0m\u001b[0;34m=\u001b[0m\u001b[0;32mNone\u001b[0m\u001b[0;34m,\u001b[0m\u001b[0;34m\u001b[0m\n",
       "\u001b[0;34m\u001b[0m    \u001b[0mstorage_options\u001b[0m\u001b[0;34m:\u001b[0m \u001b[0;34m'StorageOptions'\u001b[0m \u001b[0;34m=\u001b[0m \u001b[0;32mNone\u001b[0m\u001b[0;34m,\u001b[0m\u001b[0;34m\u001b[0m\n",
       "\u001b[0;34m\u001b[0m    \u001b[0muse_nullable_dtypes\u001b[0m\u001b[0;34m:\u001b[0m \u001b[0;34m'bool'\u001b[0m \u001b[0;34m=\u001b[0m \u001b[0;32mFalse\u001b[0m\u001b[0;34m,\u001b[0m\u001b[0;34m\u001b[0m\n",
       "\u001b[0;34m\u001b[0m    \u001b[0;34m**\u001b[0m\u001b[0mkwargs\u001b[0m\u001b[0;34m,\u001b[0m\u001b[0;34m\u001b[0m\n",
       "\u001b[0;34m\u001b[0m\u001b[0;34m)\u001b[0m \u001b[0;34m->\u001b[0m \u001b[0;34m'DataFrame'\u001b[0m\u001b[0;34m\u001b[0m\u001b[0;34m\u001b[0m\u001b[0m\n",
       "\u001b[0;31mDocstring:\u001b[0m\n",
       "Load a parquet object from the file path, returning a DataFrame.\n",
       "\n",
       "Parameters\n",
       "----------\n",
       "path : str, path object or file-like object\n",
       "    String, path object (implementing ``os.PathLike[str]``), or file-like\n",
       "    object implementing a binary ``read()`` function.\n",
       "    The string could be a URL. Valid URL schemes include http, ftp, s3,\n",
       "    gs, and file. For file URLs, a host is expected. A local file could be:\n",
       "    ``file://localhost/path/to/table.parquet``.\n",
       "    A file URL can also be a path to a directory that contains multiple\n",
       "    partitioned parquet files. Both pyarrow and fastparquet support\n",
       "    paths to directories as well as file URLs. A directory path could be:\n",
       "    ``file://localhost/path/to/tables`` or ``s3://bucket/partition_dir``.\n",
       "engine : {'auto', 'pyarrow', 'fastparquet'}, default 'auto'\n",
       "    Parquet library to use. If 'auto', then the option\n",
       "    ``io.parquet.engine`` is used. The default ``io.parquet.engine``\n",
       "    behavior is to try 'pyarrow', falling back to 'fastparquet' if\n",
       "    'pyarrow' is unavailable.\n",
       "columns : list, default=None\n",
       "    If not None, only these columns will be read from the file.\n",
       "\n",
       "storage_options : dict, optional\n",
       "    Extra options that make sense for a particular storage connection, e.g.\n",
       "    host, port, username, password, etc. For HTTP(S) URLs the key-value pairs\n",
       "    are forwarded to ``urllib`` as header options. For other URLs (e.g.\n",
       "    starting with \"s3://\", and \"gcs://\") the key-value pairs are forwarded to\n",
       "    ``fsspec``. Please see ``fsspec`` and ``urllib`` for more details.\n",
       "\n",
       "    .. versionadded:: 1.3.0\n",
       "\n",
       "use_nullable_dtypes : bool, default False\n",
       "    If True, use dtypes that use ``pd.NA`` as missing value indicator\n",
       "    for the resulting DataFrame. (only applicable for the ``pyarrow``\n",
       "    engine)\n",
       "    As new dtypes are added that support ``pd.NA`` in the future, the\n",
       "    output with this option will change to use those dtypes.\n",
       "    Note: this is an experimental option, and behaviour (e.g. additional\n",
       "    support dtypes) may change without notice.\n",
       "\n",
       "    .. versionadded:: 1.2.0\n",
       "\n",
       "**kwargs\n",
       "    Any additional kwargs are passed to the engine.\n",
       "\n",
       "Returns\n",
       "-------\n",
       "DataFrame\n",
       "\u001b[0;31mFile:\u001b[0m      /usr/local/lib/python3.8/dist-packages/pandas/io/parquet.py\n",
       "\u001b[0;31mType:\u001b[0m      function\n"
      ]
     },
     "metadata": {},
     "output_type": "display_data"
    }
   ],
   "source": [
    "pd.read_parquet?"
   ]
  },
  {
   "cell_type": "markdown",
   "id": "c5dd6bf6-b9c8-407b-88eb-c2098b2f8f6d",
   "metadata": {},
   "source": [
    "### Sanity check with csv"
   ]
  },
  {
   "cell_type": "code",
   "execution_count": null,
   "id": "d8c5a0e9-de93-4e20-96f1-af285051e397",
   "metadata": {},
   "outputs": [
    {
     "name": "stdout",
     "output_type": "stream",
     "text": [
      "CPU times: user 2.66 s, sys: 33.6 ms, total: 2.69 s\n",
      "Wall time: 2.72 s\n"
     ]
    }
   ],
   "source": [
    "%%time\n",
    "compression_opts = dict(\n",
    "    method=\"zip\", archive_name=\"iclr2024_csv.csv\"\n",
    ")\n",
    "\n",
    "iclr2024.to_csv(\n",
    "    data_path / \"iclr2024_csv.zip\",\n",
    "    index=False,\n",
    "    compression=compression_opts,\n",
    ")"
   ]
  },
  {
   "cell_type": "code",
   "execution_count": null,
   "id": "b702811f-32e6-43cb-a9a0-fc4b8d8708d7",
   "metadata": {},
   "outputs": [
    {
     "name": "stdout",
     "output_type": "stream",
     "text": [
      "CPU times: user 495 ms, sys: 16.6 ms, total: 511 ms\n",
      "Wall time: 523 ms\n"
     ]
    }
   ],
   "source": [
    "%%time\n",
    "compression_opts = dict(\n",
    "    method=\"zip\", archive_name=\"iclr2024_csv.csv\"\n",
    ")\n",
    "\n",
    "iclr2024_csv = pd.read_csv(\n",
    "    data_path / \"iclr2024_csv.zip\",\n",
    "    #index=False,\n",
    "    compression=compression_opts,\n",
    ")"
   ]
  },
  {
   "cell_type": "code",
   "execution_count": null,
   "id": "8d6bf84d-ddc5-4c25-b444-9562d38b8399",
   "metadata": {},
   "outputs": [
    {
     "data": {
      "text/html": [
       "<div>\n",
       "<style scoped>\n",
       "    .dataframe tbody tr th:only-of-type {\n",
       "        vertical-align: middle;\n",
       "    }\n",
       "\n",
       "    .dataframe tbody tr th {\n",
       "        vertical-align: top;\n",
       "    }\n",
       "\n",
       "    .dataframe thead th {\n",
       "        text-align: right;\n",
       "    }\n",
       "</style>\n",
       "<table border=\"1\" class=\"dataframe\">\n",
       "  <thead>\n",
       "    <tr style=\"text-align: right;\">\n",
       "      <th></th>\n",
       "      <th>index</th>\n",
       "      <th>year</th>\n",
       "      <th>id</th>\n",
       "      <th>title</th>\n",
       "      <th>abstract</th>\n",
       "      <th>authors</th>\n",
       "      <th>decision</th>\n",
       "      <th>scores</th>\n",
       "      <th>keywords</th>\n",
       "      <th>gender-first</th>\n",
       "      <th>gender-last</th>\n",
       "      <th>t-SNE x</th>\n",
       "      <th>t-SNE y</th>\n",
       "    </tr>\n",
       "  </thead>\n",
       "  <tbody>\n",
       "    <tr>\n",
       "      <th>0</th>\n",
       "      <td>0</td>\n",
       "      <td>2017</td>\n",
       "      <td>S1VaB4cex</td>\n",
       "      <td>FractalNet: Ultra-Deep Neural Networks without...</td>\n",
       "      <td>We introduce a design strategy for neural netw...</td>\n",
       "      <td>Gustav Larsson, Michael Maire, Gregory Shakhna...</td>\n",
       "      <td>Accept (Poster)</td>\n",
       "      <td>[5, 7, 6, 6]</td>\n",
       "      <td>[]</td>\n",
       "      <td>male</td>\n",
       "      <td>male</td>\n",
       "      <td>-28.117955</td>\n",
       "      <td>-20.418127</td>\n",
       "    </tr>\n",
       "    <tr>\n",
       "      <th>1</th>\n",
       "      <td>1</td>\n",
       "      <td>2017</td>\n",
       "      <td>H1W1UN9gg</td>\n",
       "      <td>Deep Information Propagation</td>\n",
       "      <td>We study the behavior of untrained neural netw...</td>\n",
       "      <td>Samuel S. Schoenholz, Justin Gilmer, Surya Gan...</td>\n",
       "      <td>Accept (Poster)</td>\n",
       "      <td>[8, 9, 8]</td>\n",
       "      <td>['theory', 'deep learning']</td>\n",
       "      <td>male</td>\n",
       "      <td>None</td>\n",
       "      <td>-32.466820</td>\n",
       "      <td>-10.791123</td>\n",
       "    </tr>\n",
       "    <tr>\n",
       "      <th>2</th>\n",
       "      <td>2</td>\n",
       "      <td>2017</td>\n",
       "      <td>r1GKzP5xx</td>\n",
       "      <td>Recurrent Normalization Propagation</td>\n",
       "      <td>We propose a LSTM parametrization  that preser...</td>\n",
       "      <td>César Laurent, Nicolas Ballas, Pascal Vincent</td>\n",
       "      <td>Invite to Workshop Track</td>\n",
       "      <td>[4, 6, 6]</td>\n",
       "      <td>['deep learning', 'optimization']</td>\n",
       "      <td>None</td>\n",
       "      <td>male</td>\n",
       "      <td>3.504240</td>\n",
       "      <td>19.946053</td>\n",
       "    </tr>\n",
       "    <tr>\n",
       "      <th>3</th>\n",
       "      <td>3</td>\n",
       "      <td>2017</td>\n",
       "      <td>S1J0E-71l</td>\n",
       "      <td>Surprisal-Driven Feedback in Recurrent Networks</td>\n",
       "      <td>Recurrent neural nets are widely used for pred...</td>\n",
       "      <td>K, a, m, i, l,  , R, o, c, k, i</td>\n",
       "      <td>Reject</td>\n",
       "      <td>[3, 4, 3]</td>\n",
       "      <td>['unsupervised learning', 'applications', 'dee...</td>\n",
       "      <td>None</td>\n",
       "      <td>None</td>\n",
       "      <td>4.553473</td>\n",
       "      <td>16.037763</td>\n",
       "    </tr>\n",
       "    <tr>\n",
       "      <th>4</th>\n",
       "      <td>4</td>\n",
       "      <td>2017</td>\n",
       "      <td>SJGCiw5gl</td>\n",
       "      <td>Pruning Convolutional Neural Networks for Reso...</td>\n",
       "      <td>We propose a new formulation for pruning convo...</td>\n",
       "      <td>Pavlo Molchanov, Stephen Tyree, Tero Karras, T...</td>\n",
       "      <td>Accept (Poster)</td>\n",
       "      <td>[6, 7, 9]</td>\n",
       "      <td>['deep learning', 'transfer learning']</td>\n",
       "      <td>None</td>\n",
       "      <td>male</td>\n",
       "      <td>-25.827705</td>\n",
       "      <td>-37.891772</td>\n",
       "    </tr>\n",
       "  </tbody>\n",
       "</table>\n",
       "</div>"
      ],
      "text/plain": [
       "   index  year         id                                              title  \\\n",
       "0      0  2017  S1VaB4cex  FractalNet: Ultra-Deep Neural Networks without...   \n",
       "1      1  2017  H1W1UN9gg                       Deep Information Propagation   \n",
       "2      2  2017  r1GKzP5xx                Recurrent Normalization Propagation   \n",
       "3      3  2017  S1J0E-71l    Surprisal-Driven Feedback in Recurrent Networks   \n",
       "4      4  2017  SJGCiw5gl  Pruning Convolutional Neural Networks for Reso...   \n",
       "\n",
       "                                            abstract  \\\n",
       "0  We introduce a design strategy for neural netw...   \n",
       "1  We study the behavior of untrained neural netw...   \n",
       "2  We propose a LSTM parametrization  that preser...   \n",
       "3  Recurrent neural nets are widely used for pred...   \n",
       "4  We propose a new formulation for pruning convo...   \n",
       "\n",
       "                                             authors  \\\n",
       "0  Gustav Larsson, Michael Maire, Gregory Shakhna...   \n",
       "1  Samuel S. Schoenholz, Justin Gilmer, Surya Gan...   \n",
       "2      César Laurent, Nicolas Ballas, Pascal Vincent   \n",
       "3                    K, a, m, i, l,  , R, o, c, k, i   \n",
       "4  Pavlo Molchanov, Stephen Tyree, Tero Karras, T...   \n",
       "\n",
       "                   decision        scores  \\\n",
       "0           Accept (Poster)  [5, 7, 6, 6]   \n",
       "1           Accept (Poster)     [8, 9, 8]   \n",
       "2  Invite to Workshop Track     [4, 6, 6]   \n",
       "3                    Reject     [3, 4, 3]   \n",
       "4           Accept (Poster)     [6, 7, 9]   \n",
       "\n",
       "                                            keywords gender-first gender-last  \\\n",
       "0                                                 []         male        male   \n",
       "1                        ['theory', 'deep learning']         male        None   \n",
       "2                  ['deep learning', 'optimization']         None        male   \n",
       "3  ['unsupervised learning', 'applications', 'dee...         None        None   \n",
       "4             ['deep learning', 'transfer learning']         None        male   \n",
       "\n",
       "     t-SNE x    t-SNE y  \n",
       "0 -28.117955 -20.418127  \n",
       "1 -32.466820 -10.791123  \n",
       "2   3.504240  19.946053  \n",
       "3   4.553473  16.037763  \n",
       "4 -25.827705 -37.891772  "
      ]
     },
     "execution_count": null,
     "metadata": {},
     "output_type": "execute_result"
    }
   ],
   "source": [
    "iclr2024_csv.head()"
   ]
  },
  {
   "cell_type": "code",
   "execution_count": null,
   "id": "02b19fe8-e49d-4733-9695-67c3fed53b38",
   "metadata": {},
   "outputs": [
    {
     "data": {
      "text/plain": [
       "str"
      ]
     },
     "execution_count": null,
     "metadata": {},
     "output_type": "execute_result"
    }
   ],
   "source": [
    "type(iclr2024_csv.keywords.iloc[1])"
   ]
  },
  {
   "cell_type": "markdown",
   "id": "61cc3c3a-7df5-4392-ac98-be7cf64fbc11",
   "metadata": {},
   "source": [
    "# Old data"
   ]
  },
  {
   "cell_type": "code",
   "execution_count": null,
   "id": "2eaee5e7-2fa5-4b09-8cd5-f0f1e39afe8d",
   "metadata": {},
   "outputs": [
    {
     "name": "stdout",
     "output_type": "stream",
     "text": [
      "CPU times: user 266 ms, sys: 0 ns, total: 266 ms\n",
      "Wall time: 353 ms\n"
     ]
    }
   ],
   "source": [
    "%%time\n",
    "compression_opts = dict(method=\"zip\", archive_name=\"iclr.pickle.csv\")\n",
    "\n",
    "iclr = pd.read_pickle(\n",
    "    data_path / \"iclr.pickle.zip\",\n",
    "    # index_col=False,\n",
    "    compression=compression_opts,\n",
    ")"
   ]
  },
  {
   "cell_type": "code",
   "execution_count": null,
   "id": "62019c9b-c53b-4cfd-a3b4-cbbfb841cbca",
   "metadata": {},
   "outputs": [
    {
     "data": {
      "text/html": [
       "<div>\n",
       "<style scoped>\n",
       "    .dataframe tbody tr th:only-of-type {\n",
       "        vertical-align: middle;\n",
       "    }\n",
       "\n",
       "    .dataframe tbody tr th {\n",
       "        vertical-align: top;\n",
       "    }\n",
       "\n",
       "    .dataframe thead th {\n",
       "        text-align: right;\n",
       "    }\n",
       "</style>\n",
       "<table border=\"1\" class=\"dataframe\">\n",
       "  <thead>\n",
       "    <tr style=\"text-align: right;\">\n",
       "      <th></th>\n",
       "      <th>year</th>\n",
       "      <th>id</th>\n",
       "      <th>title</th>\n",
       "      <th>abstract</th>\n",
       "      <th>authors</th>\n",
       "      <th>decision</th>\n",
       "      <th>scores</th>\n",
       "      <th>keywords</th>\n",
       "      <th>gender-first</th>\n",
       "      <th>gender-last</th>\n",
       "      <th>t-SNE x</th>\n",
       "      <th>t-SNE y</th>\n",
       "    </tr>\n",
       "  </thead>\n",
       "  <tbody>\n",
       "    <tr>\n",
       "      <th>0</th>\n",
       "      <td>2018</td>\n",
       "      <td>ryBnUWb0b</td>\n",
       "      <td>Predicting Floor-Level for 911 Calls with Neur...</td>\n",
       "      <td>In cities with tall buildings, emergency respo...</td>\n",
       "      <td>William Falcon, Henning Schulzrinne</td>\n",
       "      <td>Accept (Poster)</td>\n",
       "      <td>[7, 6, 6]</td>\n",
       "      <td>[recurrent neural networks, rnn, lstm, mobile ...</td>\n",
       "      <td>male</td>\n",
       "      <td>None</td>\n",
       "      <td>2.536470</td>\n",
       "      <td>0.739367</td>\n",
       "    </tr>\n",
       "    <tr>\n",
       "      <th>1</th>\n",
       "      <td>2018</td>\n",
       "      <td>Skk3Jm96W</td>\n",
       "      <td>Some Considerations on Learning to Explore via...</td>\n",
       "      <td>We consider the problem of exploration in meta...</td>\n",
       "      <td>Bradly Stadie, Ge Yang, Rein Houthooft, Xi Che...</td>\n",
       "      <td>Invite to Workshop Track</td>\n",
       "      <td>[7, 4, 6]</td>\n",
       "      <td>[reinforcement learning, rl, exploration, meta...</td>\n",
       "      <td>male</td>\n",
       "      <td>male</td>\n",
       "      <td>49.831927</td>\n",
       "      <td>-29.813831</td>\n",
       "    </tr>\n",
       "    <tr>\n",
       "      <th>2</th>\n",
       "      <td>2018</td>\n",
       "      <td>r1RQdCg0W</td>\n",
       "      <td>MACH: Embarrassingly parallel $K$-class classi...</td>\n",
       "      <td>We present Merged-Averaged Classifiers via Has...</td>\n",
       "      <td>Qixuan Huang, Anshumali Shrivastava, Yiqiu Wang</td>\n",
       "      <td>Reject</td>\n",
       "      <td>[6, 6, 6]</td>\n",
       "      <td>[extreme classification, large-scale learning,...</td>\n",
       "      <td>None</td>\n",
       "      <td>None</td>\n",
       "      <td>-22.502752</td>\n",
       "      <td>9.577367</td>\n",
       "    </tr>\n",
       "    <tr>\n",
       "      <th>3</th>\n",
       "      <td>2018</td>\n",
       "      <td>rJ3fy0k0Z</td>\n",
       "      <td>Deterministic Policy Imitation Gradient Algorithm</td>\n",
       "      <td>The goal of imitation learning (IL) is to enab...</td>\n",
       "      <td>Fumihiro Sasaki, Atsuo Kawaguchi</td>\n",
       "      <td>Reject</td>\n",
       "      <td>[6, 5, 5]</td>\n",
       "      <td>[imitation learning]</td>\n",
       "      <td>None</td>\n",
       "      <td>None</td>\n",
       "      <td>40.437523</td>\n",
       "      <td>-47.690889</td>\n",
       "    </tr>\n",
       "    <tr>\n",
       "      <th>4</th>\n",
       "      <td>2018</td>\n",
       "      <td>SkBYYyZRZ</td>\n",
       "      <td>Searching for Activation Functions</td>\n",
       "      <td>The choice of activation functions in deep net...</td>\n",
       "      <td>Prajit Ramachandran, Barret Zoph, Quoc V. Le</td>\n",
       "      <td>Invite to Workshop Track</td>\n",
       "      <td>[5, 4, 7]</td>\n",
       "      <td>[meta learning, activation functions]</td>\n",
       "      <td>None</td>\n",
       "      <td>None</td>\n",
       "      <td>-33.260086</td>\n",
       "      <td>-4.038115</td>\n",
       "    </tr>\n",
       "  </tbody>\n",
       "</table>\n",
       "</div>"
      ],
      "text/plain": [
       "   year         id                                              title  \\\n",
       "0  2018  ryBnUWb0b  Predicting Floor-Level for 911 Calls with Neur...   \n",
       "1  2018  Skk3Jm96W  Some Considerations on Learning to Explore via...   \n",
       "2  2018  r1RQdCg0W  MACH: Embarrassingly parallel $K$-class classi...   \n",
       "3  2018  rJ3fy0k0Z  Deterministic Policy Imitation Gradient Algorithm   \n",
       "4  2018  SkBYYyZRZ                 Searching for Activation Functions   \n",
       "\n",
       "                                            abstract  \\\n",
       "0  In cities with tall buildings, emergency respo...   \n",
       "1  We consider the problem of exploration in meta...   \n",
       "2  We present Merged-Averaged Classifiers via Has...   \n",
       "3  The goal of imitation learning (IL) is to enab...   \n",
       "4  The choice of activation functions in deep net...   \n",
       "\n",
       "                                             authors  \\\n",
       "0                William Falcon, Henning Schulzrinne   \n",
       "1  Bradly Stadie, Ge Yang, Rein Houthooft, Xi Che...   \n",
       "2    Qixuan Huang, Anshumali Shrivastava, Yiqiu Wang   \n",
       "3                   Fumihiro Sasaki, Atsuo Kawaguchi   \n",
       "4       Prajit Ramachandran, Barret Zoph, Quoc V. Le   \n",
       "\n",
       "                   decision     scores  \\\n",
       "0           Accept (Poster)  [7, 6, 6]   \n",
       "1  Invite to Workshop Track  [7, 4, 6]   \n",
       "2                    Reject  [6, 6, 6]   \n",
       "3                    Reject  [6, 5, 5]   \n",
       "4  Invite to Workshop Track  [5, 4, 7]   \n",
       "\n",
       "                                            keywords gender-first gender-last  \\\n",
       "0  [recurrent neural networks, rnn, lstm, mobile ...         male        None   \n",
       "1  [reinforcement learning, rl, exploration, meta...         male        male   \n",
       "2  [extreme classification, large-scale learning,...         None        None   \n",
       "3                               [imitation learning]         None        None   \n",
       "4              [meta learning, activation functions]         None        None   \n",
       "\n",
       "     t-SNE x    t-SNE y  \n",
       "0   2.536470   0.739367  \n",
       "1  49.831927 -29.813831  \n",
       "2 -22.502752   9.577367  \n",
       "3  40.437523 -47.690889  \n",
       "4 -33.260086  -4.038115  "
      ]
     },
     "execution_count": null,
     "metadata": {},
     "output_type": "execute_result"
    }
   ],
   "source": [
    "iclr.head()"
   ]
  },
  {
   "cell_type": "code",
   "execution_count": null,
   "id": "4aa2f670-45b3-42a5-9418-b145bb1e31d3",
   "metadata": {},
   "outputs": [
    {
     "name": "stdout",
     "output_type": "stream",
     "text": [
      "CPU times: user 1.61 s, sys: 0 ns, total: 1.61 s\n",
      "Wall time: 1.6 s\n"
     ]
    }
   ],
   "source": [
    "%%time\n",
    "iclr.to_parquet(\n",
    "    data_path / \"iclr.parquet.gzip\",\n",
    "    index=False,\n",
    "    engine=\"pyarrow\",\n",
    "    compression=\"gzip\",\n",
    ")"
   ]
  },
  {
   "cell_type": "code",
   "execution_count": null,
   "id": "2234c340-7ecf-4eaf-9899-1178fc28881e",
   "metadata": {},
   "outputs": [
    {
     "name": "stdout",
     "output_type": "stream",
     "text": [
      "CPU times: user 249 ms, sys: 0 ns, total: 249 ms\n",
      "Wall time: 188 ms\n"
     ]
    }
   ],
   "source": [
    "%%time\n",
    "iclr_parquet = pd.read_parquet(\n",
    "    data_path / \"iclr.parquet.gzip\",\n",
    "    #index=False,\n",
    "    engine=\"pyarrow\",\n",
    "    #compression=\"gzip\",\n",
    ")"
   ]
  },
  {
   "cell_type": "code",
   "execution_count": null,
   "id": "e7d05a97-cf09-4149-8c71-0960150d4d32",
   "metadata": {},
   "outputs": [
    {
     "data": {
      "text/plain": [
       "array([7, 6, 6])"
      ]
     },
     "execution_count": null,
     "metadata": {},
     "output_type": "execute_result"
    }
   ],
   "source": [
    "iclr_parquet.scores.iloc[0]"
   ]
  },
  {
   "cell_type": "code",
   "execution_count": null,
   "id": "783663d8-b2a9-451e-838f-be7f9ca6059f",
   "metadata": {},
   "outputs": [],
   "source": []
  }
 ],
 "metadata": {
  "kernelspec": {
   "display_name": "python3",
   "language": "python",
   "name": "python3"
  }
 },
 "nbformat": 4,
 "nbformat_minor": 5
}
