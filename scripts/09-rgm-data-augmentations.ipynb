{
 "cells": [
  {
   "cell_type": "code",
   "execution_count": null,
   "metadata": {},
   "outputs": [],
   "source": [
    "import pandas as pd\n",
    "import random\n",
    "import numpy as np\n",
    "from random import randint\n",
    "import torch\n",
    "from transformers import AutoTokenizer, AutoModel\n",
    "import gc\n",
    "\n",
    "import scipy as sp\n",
    "from scipy import sparse\n",
    "import sklearn\n",
    "from sklearn.feature_extraction.text import TfidfVectorizer\n",
    "from sklearn.decomposition import TruncatedSVD\n",
    "from sklearn.preprocessing import normalize\n",
    "\n",
    "from openTSNE import TSNE, affinity\n",
    "\n",
    "import matplotlib.pyplot as plt\n",
    "import matplotlib\n",
    "\n",
    "import time\n",
    "import memory_profiler\n",
    "\n",
    "%load_ext memory_profiler\n",
    "\n",
    "from pathlib import Path"
   ]
  },
  {
   "cell_type": "code",
   "execution_count": null,
   "metadata": {},
   "outputs": [
    {
     "data": {
      "text/plain": [
       "'2.1.1+cu121'"
      ]
     },
     "execution_count": null,
     "metadata": {},
     "output_type": "execute_result"
    }
   ],
   "source": [
    "torch.__version__"
   ]
  },
  {
   "cell_type": "code",
   "execution_count": null,
   "metadata": {},
   "outputs": [],
   "source": [
    "%load_ext autoreload\n",
    "%autoreload 2\n",
    "\n",
    "from text_embeddings_src.model_stuff import train_loop\n",
    "from text_embeddings_src.data_stuff import (\n",
    "    SentencePairDataset,\n",
    "    MultSentencesPairDataset,\n",
    "    MultOverlappingSentencesPairDataset,\n",
    ")\n",
    "from text_embeddings_src.metrics import knn_accuracy\n",
    "from text_embeddings_src.embeddings import generate_embeddings"
   ]
  },
  {
   "cell_type": "code",
   "execution_count": null,
   "metadata": {},
   "outputs": [
    {
     "data": {
      "text/html": [
       "\n",
       "                <script type=\"application/javascript\" id=\"jupyter_black\">\n",
       "                (function() {\n",
       "                    if (window.IPython === undefined) {\n",
       "                        return\n",
       "                    }\n",
       "                    var msg = \"WARNING: it looks like you might have loaded \" +\n",
       "                        \"jupyter_black in a non-lab notebook with \" +\n",
       "                        \"`is_lab=True`. Please double check, and if \" +\n",
       "                        \"loading with `%load_ext` please review the README!\"\n",
       "                    console.log(msg)\n",
       "                    alert(msg)\n",
       "                })()\n",
       "                </script>\n",
       "                "
      ],
      "text/plain": [
       "<IPython.core.display.HTML object>"
      ]
     },
     "metadata": {},
     "output_type": "display_data"
    }
   ],
   "source": [
    "import black\n",
    "import jupyter_black\n",
    "\n",
    "jupyter_black.load(line_length=79)"
   ]
  },
  {
   "cell_type": "code",
   "execution_count": null,
   "metadata": {},
   "outputs": [],
   "source": [
    "variables_path = Path(\"../results/variables\")\n",
    "figures_path = Path(\"../results/figures\")\n",
    "data_path = Path(\"../data\")"
   ]
  },
  {
   "cell_type": "code",
   "execution_count": null,
   "metadata": {},
   "outputs": [],
   "source": [
    "plt.style.use(\"matplotlib_style.txt\")"
   ]
  },
  {
   "cell_type": "markdown",
   "metadata": {},
   "source": [
    "# Import"
   ]
  },
  {
   "cell_type": "markdown",
   "metadata": {},
   "source": [
    "## Data"
   ]
  },
  {
   "cell_type": "code",
   "execution_count": null,
   "metadata": {},
   "outputs": [],
   "source": [
    "# %%time\n",
    "# compression_opts = dict(method=\"zip\", archive_name=\"iclr.pickle.csv\")\n",
    "\n",
    "# iclr = pd.read_pickle(\n",
    "#     data_path / \"iclr.pickle.zip\",\n",
    "#     # index_col=False,\n",
    "#     compression=compression_opts,\n",
    "# )"
   ]
  },
  {
   "cell_type": "code",
   "execution_count": null,
   "metadata": {},
   "outputs": [],
   "source": [
    "iclr = pd.read_parquet(\n",
    "    data_path / \"iclr.parquet.gzip\",\n",
    "    # index=False,\n",
    "    engine=\"pyarrow\",\n",
    "    # compression=\"gzip\",\n",
    ")"
   ]
  },
  {
   "cell_type": "code",
   "execution_count": null,
   "metadata": {},
   "outputs": [],
   "source": [
    "iclr.keywords = iclr.keywords.transform(lambda x: list(x))\n",
    "iclr.scores = iclr.scores.transform(lambda x: list(x))"
   ]
  },
  {
   "cell_type": "code",
   "execution_count": null,
   "metadata": {},
   "outputs": [
    {
     "data": {
      "text/html": [
       "<div>\n",
       "<style scoped>\n",
       "    .dataframe tbody tr th:only-of-type {\n",
       "        vertical-align: middle;\n",
       "    }\n",
       "\n",
       "    .dataframe tbody tr th {\n",
       "        vertical-align: top;\n",
       "    }\n",
       "\n",
       "    .dataframe thead th {\n",
       "        text-align: right;\n",
       "    }\n",
       "</style>\n",
       "<table border=\"1\" class=\"dataframe\">\n",
       "  <thead>\n",
       "    <tr style=\"text-align: right;\">\n",
       "      <th></th>\n",
       "      <th>year</th>\n",
       "      <th>id</th>\n",
       "      <th>title</th>\n",
       "      <th>abstract</th>\n",
       "      <th>authors</th>\n",
       "      <th>decision</th>\n",
       "      <th>scores</th>\n",
       "      <th>keywords</th>\n",
       "      <th>gender-first</th>\n",
       "      <th>gender-last</th>\n",
       "      <th>t-SNE x</th>\n",
       "      <th>t-SNE y</th>\n",
       "    </tr>\n",
       "  </thead>\n",
       "  <tbody>\n",
       "    <tr>\n",
       "      <th>0</th>\n",
       "      <td>2018</td>\n",
       "      <td>ryBnUWb0b</td>\n",
       "      <td>Predicting Floor-Level for 911 Calls with Neur...</td>\n",
       "      <td>In cities with tall buildings, emergency respo...</td>\n",
       "      <td>William Falcon, Henning Schulzrinne</td>\n",
       "      <td>Accept (Poster)</td>\n",
       "      <td>[7, 6, 6]</td>\n",
       "      <td>[recurrent neural networks, rnn, lstm, mobile ...</td>\n",
       "      <td>male</td>\n",
       "      <td>None</td>\n",
       "      <td>2.536470</td>\n",
       "      <td>0.739367</td>\n",
       "    </tr>\n",
       "    <tr>\n",
       "      <th>1</th>\n",
       "      <td>2018</td>\n",
       "      <td>Skk3Jm96W</td>\n",
       "      <td>Some Considerations on Learning to Explore via...</td>\n",
       "      <td>We consider the problem of exploration in meta...</td>\n",
       "      <td>Bradly Stadie, Ge Yang, Rein Houthooft, Xi Che...</td>\n",
       "      <td>Invite to Workshop Track</td>\n",
       "      <td>[7, 4, 6]</td>\n",
       "      <td>[reinforcement learning, rl, exploration, meta...</td>\n",
       "      <td>male</td>\n",
       "      <td>male</td>\n",
       "      <td>49.831927</td>\n",
       "      <td>-29.813831</td>\n",
       "    </tr>\n",
       "    <tr>\n",
       "      <th>2</th>\n",
       "      <td>2018</td>\n",
       "      <td>r1RQdCg0W</td>\n",
       "      <td>MACH: Embarrassingly parallel $K$-class classi...</td>\n",
       "      <td>We present Merged-Averaged Classifiers via Has...</td>\n",
       "      <td>Qixuan Huang, Anshumali Shrivastava, Yiqiu Wang</td>\n",
       "      <td>Reject</td>\n",
       "      <td>[6, 6, 6]</td>\n",
       "      <td>[extreme classification, large-scale learning,...</td>\n",
       "      <td>None</td>\n",
       "      <td>None</td>\n",
       "      <td>-22.502752</td>\n",
       "      <td>9.577367</td>\n",
       "    </tr>\n",
       "    <tr>\n",
       "      <th>3</th>\n",
       "      <td>2018</td>\n",
       "      <td>rJ3fy0k0Z</td>\n",
       "      <td>Deterministic Policy Imitation Gradient Algorithm</td>\n",
       "      <td>The goal of imitation learning (IL) is to enab...</td>\n",
       "      <td>Fumihiro Sasaki, Atsuo Kawaguchi</td>\n",
       "      <td>Reject</td>\n",
       "      <td>[6, 5, 5]</td>\n",
       "      <td>[imitation learning]</td>\n",
       "      <td>None</td>\n",
       "      <td>None</td>\n",
       "      <td>40.437523</td>\n",
       "      <td>-47.690889</td>\n",
       "    </tr>\n",
       "    <tr>\n",
       "      <th>4</th>\n",
       "      <td>2018</td>\n",
       "      <td>SkBYYyZRZ</td>\n",
       "      <td>Searching for Activation Functions</td>\n",
       "      <td>The choice of activation functions in deep net...</td>\n",
       "      <td>Prajit Ramachandran, Barret Zoph, Quoc V. Le</td>\n",
       "      <td>Invite to Workshop Track</td>\n",
       "      <td>[5, 4, 7]</td>\n",
       "      <td>[meta learning, activation functions]</td>\n",
       "      <td>None</td>\n",
       "      <td>None</td>\n",
       "      <td>-33.260086</td>\n",
       "      <td>-4.038115</td>\n",
       "    </tr>\n",
       "    <tr>\n",
       "      <th>...</th>\n",
       "      <td>...</td>\n",
       "      <td>...</td>\n",
       "      <td>...</td>\n",
       "      <td>...</td>\n",
       "      <td>...</td>\n",
       "      <td>...</td>\n",
       "      <td>...</td>\n",
       "      <td>...</td>\n",
       "      <td>...</td>\n",
       "      <td>...</td>\n",
       "      <td>...</td>\n",
       "      <td>...</td>\n",
       "    </tr>\n",
       "    <tr>\n",
       "      <th>16531</th>\n",
       "      <td>2023</td>\n",
       "      <td>w4eQcMZsJa</td>\n",
       "      <td>Text-Driven Generative Domain Adaptation with ...</td>\n",
       "      <td>Combined with the generative prior of pre-trai...</td>\n",
       "      <td>Zhenhuan Liu, Liang Li, Jiayu Xiao, Zhengjun Z...</td>\n",
       "      <td>Desk rejected</td>\n",
       "      <td>[]</td>\n",
       "      <td>[gan, stylegan, clip, domain adaptation, style...</td>\n",
       "      <td>None</td>\n",
       "      <td>None</td>\n",
       "      <td>59.296526</td>\n",
       "      <td>5.206691</td>\n",
       "    </tr>\n",
       "    <tr>\n",
       "      <th>16532</th>\n",
       "      <td>2023</td>\n",
       "      <td>SDHSQuBpf2</td>\n",
       "      <td>Laziness, Barren Plateau, and Noises in Machin...</td>\n",
       "      <td>We define \\emph{laziness} to describe a large ...</td>\n",
       "      <td>Zexi Lin, Liang Jiang</td>\n",
       "      <td>Desk rejected</td>\n",
       "      <td>[]</td>\n",
       "      <td>[theoretical issues in deep learning, learning...</td>\n",
       "      <td>None</td>\n",
       "      <td>male</td>\n",
       "      <td>-29.178083</td>\n",
       "      <td>-21.810583</td>\n",
       "    </tr>\n",
       "    <tr>\n",
       "      <th>16533</th>\n",
       "      <td>2023</td>\n",
       "      <td>HyIY8u5LVDr</td>\n",
       "      <td>Discovering the Representation Bottleneck of G...</td>\n",
       "      <td>Most graph neural networks (GNNs) rely on the ...</td>\n",
       "      <td>Fang Wu, Siyuan Li, Lirong Wu, Dragomir Radev,...</td>\n",
       "      <td>Desk rejected</td>\n",
       "      <td>[]</td>\n",
       "      <td>[gnn bottleneck, graph rewiring, representatio...</td>\n",
       "      <td>None</td>\n",
       "      <td>male</td>\n",
       "      <td>-7.573978</td>\n",
       "      <td>68.386671</td>\n",
       "    </tr>\n",
       "    <tr>\n",
       "      <th>16534</th>\n",
       "      <td>2023</td>\n",
       "      <td>470wZ5Qk4ur</td>\n",
       "      <td>Results for Perfect Classification for Graph A...</td>\n",
       "      <td>We study the ability of one layer Graph Attent...</td>\n",
       "      <td>Kimon Fountoulakis, Amit Levi</td>\n",
       "      <td>Desk rejected</td>\n",
       "      <td>[]</td>\n",
       "      <td>[]</td>\n",
       "      <td>None</td>\n",
       "      <td>male</td>\n",
       "      <td>-7.753593</td>\n",
       "      <td>60.764583</td>\n",
       "    </tr>\n",
       "    <tr>\n",
       "      <th>16535</th>\n",
       "      <td>2023</td>\n",
       "      <td>3GDft6lexE</td>\n",
       "      <td>Cooperate or Compete: A New Perspective on Tra...</td>\n",
       "      <td>GANs have two competing modules: the generator...</td>\n",
       "      <td>Sobhan Babu</td>\n",
       "      <td>Desk rejected</td>\n",
       "      <td>[]</td>\n",
       "      <td>[generative adversarial networks, nash equilib...</td>\n",
       "      <td>None</td>\n",
       "      <td>None</td>\n",
       "      <td>38.470326</td>\n",
       "      <td>-1.929707</td>\n",
       "    </tr>\n",
       "  </tbody>\n",
       "</table>\n",
       "<p>16536 rows × 12 columns</p>\n",
       "</div>"
      ],
      "text/plain": [
       "       year           id                                              title  \\\n",
       "0      2018    ryBnUWb0b  Predicting Floor-Level for 911 Calls with Neur...   \n",
       "1      2018    Skk3Jm96W  Some Considerations on Learning to Explore via...   \n",
       "2      2018    r1RQdCg0W  MACH: Embarrassingly parallel $K$-class classi...   \n",
       "3      2018    rJ3fy0k0Z  Deterministic Policy Imitation Gradient Algorithm   \n",
       "4      2018    SkBYYyZRZ                 Searching for Activation Functions   \n",
       "...     ...          ...                                                ...   \n",
       "16531  2023   w4eQcMZsJa  Text-Driven Generative Domain Adaptation with ...   \n",
       "16532  2023   SDHSQuBpf2  Laziness, Barren Plateau, and Noises in Machin...   \n",
       "16533  2023  HyIY8u5LVDr  Discovering the Representation Bottleneck of G...   \n",
       "16534  2023  470wZ5Qk4ur  Results for Perfect Classification for Graph A...   \n",
       "16535  2023   3GDft6lexE  Cooperate or Compete: A New Perspective on Tra...   \n",
       "\n",
       "                                                abstract  \\\n",
       "0      In cities with tall buildings, emergency respo...   \n",
       "1      We consider the problem of exploration in meta...   \n",
       "2      We present Merged-Averaged Classifiers via Has...   \n",
       "3      The goal of imitation learning (IL) is to enab...   \n",
       "4      The choice of activation functions in deep net...   \n",
       "...                                                  ...   \n",
       "16531  Combined with the generative prior of pre-trai...   \n",
       "16532  We define \\emph{laziness} to describe a large ...   \n",
       "16533  Most graph neural networks (GNNs) rely on the ...   \n",
       "16534  We study the ability of one layer Graph Attent...   \n",
       "16535  GANs have two competing modules: the generator...   \n",
       "\n",
       "                                                 authors  \\\n",
       "0                    William Falcon, Henning Schulzrinne   \n",
       "1      Bradly Stadie, Ge Yang, Rein Houthooft, Xi Che...   \n",
       "2        Qixuan Huang, Anshumali Shrivastava, Yiqiu Wang   \n",
       "3                       Fumihiro Sasaki, Atsuo Kawaguchi   \n",
       "4           Prajit Ramachandran, Barret Zoph, Quoc V. Le   \n",
       "...                                                  ...   \n",
       "16531  Zhenhuan Liu, Liang Li, Jiayu Xiao, Zhengjun Z...   \n",
       "16532                              Zexi Lin, Liang Jiang   \n",
       "16533  Fang Wu, Siyuan Li, Lirong Wu, Dragomir Radev,...   \n",
       "16534                      Kimon Fountoulakis, Amit Levi   \n",
       "16535                                        Sobhan Babu   \n",
       "\n",
       "                       decision     scores  \\\n",
       "0               Accept (Poster)  [7, 6, 6]   \n",
       "1      Invite to Workshop Track  [7, 4, 6]   \n",
       "2                        Reject  [6, 6, 6]   \n",
       "3                        Reject  [6, 5, 5]   \n",
       "4      Invite to Workshop Track  [5, 4, 7]   \n",
       "...                         ...        ...   \n",
       "16531             Desk rejected         []   \n",
       "16532             Desk rejected         []   \n",
       "16533             Desk rejected         []   \n",
       "16534             Desk rejected         []   \n",
       "16535             Desk rejected         []   \n",
       "\n",
       "                                                keywords gender-first  \\\n",
       "0      [recurrent neural networks, rnn, lstm, mobile ...         male   \n",
       "1      [reinforcement learning, rl, exploration, meta...         male   \n",
       "2      [extreme classification, large-scale learning,...         None   \n",
       "3                                   [imitation learning]         None   \n",
       "4                  [meta learning, activation functions]         None   \n",
       "...                                                  ...          ...   \n",
       "16531  [gan, stylegan, clip, domain adaptation, style...         None   \n",
       "16532  [theoretical issues in deep learning, learning...         None   \n",
       "16533  [gnn bottleneck, graph rewiring, representatio...         None   \n",
       "16534                                                 []         None   \n",
       "16535  [generative adversarial networks, nash equilib...         None   \n",
       "\n",
       "      gender-last    t-SNE x    t-SNE y  \n",
       "0            None   2.536470   0.739367  \n",
       "1            male  49.831927 -29.813831  \n",
       "2            None -22.502752   9.577367  \n",
       "3            None  40.437523 -47.690889  \n",
       "4            None -33.260086  -4.038115  \n",
       "...           ...        ...        ...  \n",
       "16531        None  59.296526   5.206691  \n",
       "16532        male -29.178083 -21.810583  \n",
       "16533        male  -7.573978  68.386671  \n",
       "16534        male  -7.753593  60.764583  \n",
       "16535        None  38.470326  -1.929707  \n",
       "\n",
       "[16536 rows x 12 columns]"
      ]
     },
     "execution_count": null,
     "metadata": {},
     "output_type": "execute_result"
    }
   ],
   "source": [
    "iclr"
   ]
  },
  {
   "cell_type": "code",
   "execution_count": null,
   "metadata": {},
   "outputs": [],
   "source": [
    "titles_abstracts_together = [\n",
    "    iclr.title[i] + \" \" + iclr.abstract[i] for i in range(len(iclr))\n",
    "]"
   ]
  },
  {
   "cell_type": "code",
   "execution_count": null,
   "metadata": {},
   "outputs": [
    {
     "name": "stdout",
     "output_type": "stream",
     "text": [
      "16536\n"
     ]
    }
   ],
   "source": [
    "print(len(titles_abstracts_together))"
   ]
  },
  {
   "cell_type": "markdown",
   "metadata": {},
   "source": [
    "## Labels"
   ]
  },
  {
   "cell_type": "code",
   "execution_count": null,
   "metadata": {},
   "outputs": [
    {
     "name": "stdout",
     "output_type": "stream",
     "text": [
      "16536\n",
      "8964\n",
      "6849\n"
     ]
    }
   ],
   "source": [
    "# iclr = pd.read_pickle(\"iclr.pickle.zip\")\n",
    "\n",
    "keywords = [\n",
    "    \"network\",\n",
    "    \"graph\",\n",
    "    \"reinforcement\",\n",
    "    \"language\",\n",
    "    \"adversarial\",\n",
    "    \"federated\",\n",
    "    \"contrastive\",\n",
    "    \"domain\",\n",
    "    \"diffusion\",\n",
    "    \"out-of-dis\",\n",
    "    \"continual\",\n",
    "    \"distillation\",\n",
    "    \"architecture\",\n",
    "    \"privacy\",\n",
    "    \"protein\",\n",
    "    \"fair\",\n",
    "    \"attention\",\n",
    "    \"video\",\n",
    "    \"meta-learning\",\n",
    "    \"generative adv\",\n",
    "    \"autoencoder\",\n",
    "    \"game\",\n",
    "    \"semi-sup\",\n",
    "    \"pruning\",\n",
    "    \"physics\",\n",
    "    \"3d\",\n",
    "    \"translation\",\n",
    "    \"optimization\",\n",
    "    \"recurrent\",\n",
    "    \"word\",\n",
    "    \"bayesian\",\n",
    "]\n",
    "keywords = np.array(keywords)\n",
    "\n",
    "y = np.zeros(iclr.shape[0]) * np.nan\n",
    "\n",
    "for num, keyword in enumerate(keywords):\n",
    "    mask = [keyword.lower() in t.lower() for t in iclr.title]\n",
    "    y[mask & ~np.isnan(y)] = -1\n",
    "    y[mask & np.isnan(y)] = num\n",
    "\n",
    "print(y.size)\n",
    "print(np.sum(~np.isnan(y)))\n",
    "print(np.sum(y >= 0))\n",
    "\n",
    "labeled = y >= 0\n",
    "\n",
    "iclr_labeled = iclr[labeled].reset_index(drop=True)\n",
    "y_labeled = y[labeled].astype(int)\n",
    "iclr_labeled[\"y\"] = y_labeled\n",
    "iclr_labeled[\"label\"] = keywords[y_labeled]"
   ]
  },
  {
   "cell_type": "code",
   "execution_count": null,
   "metadata": {},
   "outputs": [
    {
     "data": {
      "text/plain": [
       "pandas.core.series.Series"
      ]
     },
     "execution_count": null,
     "metadata": {},
     "output_type": "execute_result"
    }
   ],
   "source": [
    "type(iclr_labeled[\"y\"])"
   ]
  },
  {
   "cell_type": "markdown",
   "metadata": {},
   "source": [
    "# SentencePairDataset"
   ]
  },
  {
   "cell_type": "markdown",
   "metadata": {},
   "source": [
    "## Understanding what he does in the sentence_map"
   ]
  },
  {
   "cell_type": "code",
   "execution_count": null,
   "metadata": {},
   "outputs": [],
   "source": [
    "abstracts = iclr.abstract  # .to_list()"
   ]
  },
  {
   "cell_type": "code",
   "execution_count": null,
   "metadata": {},
   "outputs": [
    {
     "data": {
      "text/plain": [
       "\"In cities with tall buildings, emergency responders need an accurate floor level location to find 911 callers quickly. We introduce a system to estimate a victim's floor level via their mobile device's sensor data in a two-step process. First, we train a neural network to determine when a smartphone enters or exits a building via GPS signal changes. Second, we use a barometer equipped smartphone to measure the change in barometric pressure from the entrance of the building to the victim's indoor location. Unlike impractical previous approaches, our system is the first that does not require the use of beacons, prior knowledge of the building infrastructure, or knowledge of user behavior. We demonstrate real-world feasibility through 63 experiments across five different tall buildings throughout New York City where our system predicted the correct floor level with 100% accuracy.\""
      ]
     },
     "metadata": {},
     "output_type": "display_data"
    }
   ],
   "source": [
    "abstracts[0]"
   ]
  },
  {
   "cell_type": "code",
   "execution_count": null,
   "metadata": {},
   "outputs": [
    {
     "data": {
      "text/plain": [
       "['In cities with tall buildings, emergency responders need an accurate floor level location to find 911 callers quickly',\n",
       " \" We introduce a system to estimate a victim's floor level via their mobile device's sensor data in a two-step process\",\n",
       " ' First, we train a neural network to determine when a smartphone enters or exits a building via GPS signal changes',\n",
       " \" Second, we use a barometer equipped smartphone to measure the change in barometric pressure from the entrance of the building to the victim's indoor location\",\n",
       " ' Unlike impractical previous approaches, our system is the first that does not require the use of beacons, prior knowledge of the building infrastructure, or knowledge of user behavior',\n",
       " ' We demonstrate real-world feasibility through 63 experiments across five different tall buildings throughout New York City where our system predicted the correct floor level with 100% accuracy',\n",
       " '']"
      ]
     },
     "metadata": {},
     "output_type": "display_data"
    }
   ],
   "source": [
    "abstracts[0].split(\".\")"
   ]
  },
  {
   "cell_type": "code",
   "execution_count": null,
   "metadata": {},
   "outputs": [],
   "source": [
    "test_out = abstracts.map(lambda a: a.split(\".\"))"
   ]
  },
  {
   "cell_type": "code",
   "execution_count": null,
   "metadata": {},
   "outputs": [
    {
     "name": "stdout",
     "output_type": "stream",
     "text": [
      "Object `split()` not found.\n"
     ]
    }
   ],
   "source": []
  },
  {
   "cell_type": "code",
   "execution_count": null,
   "metadata": {},
   "outputs": [
    {
     "data": {
      "text/plain": [
       "0        [In cities with tall buildings, emergency resp...\n",
       "1        [We consider the problem of exploration in met...\n",
       "2        [We present Merged-Averaged Classifiers via Ha...\n",
       "3        [The goal of imitation learning (IL) is to ena...\n",
       "4        [The choice of activation functions in deep ne...\n",
       "                               ...                        \n",
       "16531    [Combined with the generative prior of pre-tra...\n",
       "16532    [We define \\emph{laziness} to describe a large...\n",
       "16533    [Most graph neural networks (GNNs) rely on the...\n",
       "16534    [We study the ability of one layer Graph Atten...\n",
       "16535    [GANs have two competing modules: the generato...\n",
       "Name: abstract, Length: 16536, dtype: object"
      ]
     },
     "metadata": {},
     "output_type": "display_data"
    }
   ],
   "source": [
    "test_out"
   ]
  },
  {
   "cell_type": "code",
   "execution_count": null,
   "metadata": {},
   "outputs": [
    {
     "name": "stdout",
     "output_type": "stream",
     "text": [
      "In cities with tall buildings, emergency responders need an accurate floor level location to find 911 callers quickly.\n",
      "We introduce a system to estimate a victim's floor level via their mobile device's sensor data in a two-step process.\n",
      "First, we train a neural network to determine when a smartphone enters or exits a building via GPS signal changes.\n",
      "Second, we use a barometer equipped smartphone to measure the change in barometric pressure from the entrance of the building to the victim's indoor location.\n",
      "Unlike impractical previous approaches, our system is the first that does not require the use of beacons, prior knowledge of the building infrastructure, or knowledge of user behavior.\n",
      "We demonstrate real-world feasibility through 63 experiments across five different tall buildings throughout New York City where our system predicted the correct floor level with 100% accuracy.\n",
      ".\n"
     ]
    }
   ],
   "source": [
    "sentences_0 = test_out[0]\n",
    "for s in sentences_0:\n",
    "    # if len(s) >= 100:\n",
    "    print(s.strip() + \".\")"
   ]
  },
  {
   "cell_type": "code",
   "execution_count": null,
   "metadata": {},
   "outputs": [
    {
     "data": {
      "text/plain": [
       "0"
      ]
     },
     "metadata": {},
     "output_type": "display_data"
    }
   ],
   "source": [
    "len(sentences_0[-1])"
   ]
  },
  {
   "cell_type": "code",
   "execution_count": null,
   "metadata": {},
   "outputs": [
    {
     "name": "stdout",
     "output_type": "stream",
     "text": [
      "In cities with tall buildings, emergency responders need an accurate floor level location to find 911 callers quickly.\n",
      "We introduce a system to estimate a victim's floor level via their mobile device's sensor data in a two-step process.\n",
      "First, we train a neural network to determine when a smartphone enters or exits a building via GPS signal changes.\n",
      "Second, we use a barometer equipped smartphone to measure the change in barometric pressure from the entrance of the building to the victim's indoor location.\n",
      "Unlike impractical previous approaches, our system is the first that does not require the use of beacons, prior knowledge of the building infrastructure, or knowledge of user behavior.\n",
      "We demonstrate real-world feasibility through 63 experiments across five different tall buildings throughout New York City where our system predicted the correct floor level with 100% accuracy.\n"
     ]
    }
   ],
   "source": [
    "sentences_0 = test_out[0]\n",
    "for s in sentences_0:\n",
    "    if len(s) >= 100:\n",
    "        print(s.strip() + \".\")"
   ]
  },
  {
   "cell_type": "code",
   "execution_count": null,
   "metadata": {},
   "outputs": [],
   "source": [
    "sentences_map = {\n",
    "    s.strip() + \".\": i\n",
    "    for i, sentences in enumerate(abstracts.map(lambda a: a.split(\".\")))\n",
    "    for s in sentences\n",
    "    if len(s) >= 100\n",
    "}"
   ]
  },
  {
   "cell_type": "markdown",
   "metadata": {},
   "source": [
    "## Sentence length distribution"
   ]
  },
  {
   "cell_type": "code",
   "execution_count": null,
   "metadata": {},
   "outputs": [],
   "source": [
    "abstracts_list_sentences = abstracts.map(lambda a: a.split(\".\")).to_list()"
   ]
  },
  {
   "cell_type": "code",
   "execution_count": null,
   "metadata": {},
   "outputs": [
    {
     "data": {
      "text/plain": [
       "array(['In cities with tall buildings, emergency responders need an accurate floor level location to find 911 callers quickly',\n",
       "       \" We introduce a system to estimate a victim's floor level via their mobile device's sensor data in a two-step process\",\n",
       "       ' First, we train a neural network to determine when a smartphone enters or exits a building via GPS signal changes',\n",
       "       ...,\n",
       "       ' We observed that each module can perform better and learn faster if training is modeled as an infinitely repeated simultaneous game',\n",
       "       ' At every repetition of the base game (at every batch of training data) the stronger module (whose performance is increased or remains the same compared to the previous batch of training data) cooperates with the weaker module (whose performance is decreased compared to the previous batch of training data) and only the weaker module is allowed to increase its performance',\n",
       "       ''], dtype='<U981')"
      ]
     },
     "metadata": {},
     "output_type": "display_data"
    }
   ],
   "source": [
    "np.hstack(abstracts_list_sentences)  # ][0]"
   ]
  },
  {
   "cell_type": "code",
   "execution_count": null,
   "metadata": {},
   "outputs": [
    {
     "data": {
      "text/plain": [
       "153076"
      ]
     },
     "metadata": {},
     "output_type": "display_data"
    }
   ],
   "source": [
    "len(np.hstack(abstracts_list_sentences))"
   ]
  },
  {
   "cell_type": "code",
   "execution_count": null,
   "metadata": {},
   "outputs": [
    {
     "name": "stdout",
     "output_type": "stream",
     "text": [
      "CPU times: user 593 ms, sys: 119 ms, total: 711 ms\n",
      "Wall time: 712 ms\n"
     ]
    }
   ],
   "source": [
    "%%time\n",
    "len_sentences_characters = [\n",
    "    len(x) for x in np.hstack(abstracts_list_sentences)\n",
    "]"
   ]
  },
  {
   "cell_type": "code",
   "execution_count": null,
   "metadata": {},
   "outputs": [],
   "source": [
    "len_sentences_characters = np.array(len_sentences_characters)"
   ]
  },
  {
   "cell_type": "code",
   "execution_count": null,
   "metadata": {},
   "outputs": [
    {
     "name": "stdout",
     "output_type": "stream",
     "text": [
      "981\n",
      "0\n"
     ]
    }
   ],
   "source": [
    "print(np.amax(len_sentences_characters))\n",
    "print(np.amin(len_sentences_characters))"
   ]
  },
  {
   "cell_type": "code",
   "execution_count": null,
   "metadata": {},
   "outputs": [],
   "source": [
    "bin_edges_characters = np.arange(0, 1000, 10)"
   ]
  },
  {
   "cell_type": "code",
   "execution_count": null,
   "metadata": {},
   "outputs": [
    {
     "name": "stdout",
     "output_type": "stream",
     "text": [
      "CPU times: user 6.61 ms, sys: 457 µs, total: 7.07 ms\n",
      "Wall time: 6.21 ms\n"
     ]
    }
   ],
   "source": [
    "%%time\n",
    "\n",
    "counts_characters, bins_characters = np.histogram(\n",
    "    len_sentences_characters, bins=bin_edges_characters\n",
    ")"
   ]
  },
  {
   "cell_type": "code",
   "execution_count": null,
   "metadata": {},
   "outputs": [
    {
     "data": {
      "text/plain": [
       "Text(0.5, 0, 'Number of abstract characters')"
      ]
     },
     "metadata": {},
     "output_type": "display_data"
    },
    {
     "data": {
      "image/png": "[encoded data removed]",
      "text/plain": [
       "<Figure size 900x600 with 1 Axes>"
      ]
     },
     "metadata": {},
     "output_type": "display_data"
    }
   ],
   "source": [
    "fig, ax = plt.subplots(figsize=(3, 2))\n",
    "\n",
    "ax.hist(bins_characters[:-1], bins_characters, weights=counts_characters)\n",
    "ax.set_ylabel(\"Number of papers (thousands)\")\n",
    "ax.set_xlabel(\"Number of abstract characters\")\n",
    "# ax.set_yticks(np.arange(0, 400, 50) * 1000)\n",
    "# ax.set_yticklabels(np.arange(0, 400, 50))\n",
    "# ax.set_xlim(0, 3500)\n",
    "# ax.set_ylim(0, 350 * 1e3)"
   ]
  },
  {
   "cell_type": "code",
   "execution_count": null,
   "metadata": {},
   "outputs": [],
   "source": [
    "lens, counts = np.unique(len_sentences_characters, return_counts=True)"
   ]
  },
  {
   "cell_type": "code",
   "execution_count": null,
   "metadata": {},
   "outputs": [
    {
     "data": {
      "text/plain": [
       "38.401186338812096"
      ]
     },
     "metadata": {},
     "output_type": "display_data"
    }
   ],
   "source": [
    "len(\n",
    "    np.hstack(abstracts_list_sentences)[\n",
    "        (len_sentences_characters > 250) | (len_sentences_characters <= 100)\n",
    "    ]\n",
    ") / len(np.hstack(abstracts_list_sentences)) * 100"
   ]
  },
  {
   "cell_type": "code",
   "execution_count": null,
   "metadata": {},
   "outputs": [
    {
     "data": {
      "text/plain": [
       "32.062504899527035"
      ]
     },
     "metadata": {},
     "output_type": "display_data"
    }
   ],
   "source": [
    "len(\n",
    "    np.hstack(abstracts_list_sentences)[(len_sentences_characters <= 100)]\n",
    ") / len(np.hstack(abstracts_list_sentences)) * 100"
   ]
  },
  {
   "cell_type": "code",
   "execution_count": null,
   "metadata": {},
   "outputs": [
    {
     "data": {
      "text/plain": [
       "62.050876688703646"
      ]
     },
     "metadata": {},
     "output_type": "display_data"
    }
   ],
   "source": [
    "len(\n",
    "    np.hstack(abstracts_list_sentences)[\n",
    "        (len_sentences_characters >= 100) & (len_sentences_characters <= 250)\n",
    "    ]\n",
    ") / len(np.hstack(abstracts_list_sentences)) * 100"
   ]
  },
  {
   "cell_type": "code",
   "execution_count": null,
   "metadata": {},
   "outputs": [
    {
     "data": {
      "text/plain": [
       "94985"
      ]
     },
     "metadata": {},
     "output_type": "display_data"
    }
   ],
   "source": [
    "len(\n",
    "    np.hstack(abstracts_list_sentences)[\n",
    "        (len_sentences_characters >= 100) & (len_sentences_characters <= 250)\n",
    "    ]\n",
    ")"
   ]
  },
  {
   "cell_type": "markdown",
   "metadata": {},
   "source": [
    "## Number of contrastive pairs"
   ]
  },
  {
   "cell_type": "code",
   "execution_count": null,
   "metadata": {},
   "outputs": [],
   "source": [
    "abstracts = iclr.abstract  # .to_list()"
   ]
  },
  {
   "cell_type": "code",
   "execution_count": null,
   "metadata": {},
   "outputs": [],
   "source": [
    "model_names = [\n",
    "    \"BERT\",\n",
    "    \"MPNet\",\n",
    "    \"SBERT\",\n",
    "    \"SciBERT\",\n",
    "    \"SPECTER\",\n",
    "    \"SciNCL\",\n",
    "]\n",
    "\n",
    "\n",
    "model_paths = [\n",
    "    \"bert-base-uncased\",\n",
    "    \"microsoft/mpnet-base\",\n",
    "    \"sentence-transformers/all-mpnet-base-v2\",\n",
    "    \"allenai/scibert_scivocab_uncased\",\n",
    "    \"allenai/specter\",\n",
    "    \"malteos/scincl\",\n",
    "]"
   ]
  },
  {
   "cell_type": "code",
   "execution_count": null,
   "metadata": {},
   "outputs": [
    {
     "name": "stdout",
     "output_type": "stream",
     "text": [
      "Model:  BERT\n",
      "Running on device: cuda\n",
      "bert-base-uncased\n"
     ]
    }
   ],
   "source": [
    "i = 0\n",
    "seed = 42\n",
    "# Set the random seed for PyTorch\n",
    "torch.manual_seed(seed)\n",
    "torch.backends.cudnn.benchmark = False\n",
    "torch.backends.cudnn.deterministic = True\n",
    "# torch.use_deterministic_algorithms(True)\n",
    "# Set the random seed for NumPy\n",
    "np.random.seed(seed)\n",
    "# Set the random seed\n",
    "random.seed(seed)\n",
    "\n",
    "# set up model\n",
    "print(\"Model: \", model_names[i])\n",
    "\n",
    "device = \"cuda\" if torch.cuda.is_available() else \"cpu\"\n",
    "print(\"Running on device: {}\".format(device))\n",
    "\n",
    "tokenizer = AutoTokenizer.from_pretrained(model_paths[i])\n",
    "# model = AutoModel.from_pretrained(model_paths[i])\n",
    "print(model_paths[i])\n",
    "\n",
    "# data\n",
    "training_dataset = SentencePairDataset(\n",
    "    iclr.abstract, tokenizer, device, seed=42\n",
    ")"
   ]
  },
  {
   "cell_type": "code",
   "execution_count": null,
   "metadata": {},
   "outputs": [
    {
     "name": "stdout",
     "output_type": "stream",
     "text": [
      "16407\n"
     ]
    }
   ],
   "source": [
    "print(len(training_dataset))"
   ]
  },
  {
   "cell_type": "markdown",
   "metadata": {},
   "source": [
    "# MultSentencesPairDataset"
   ]
  },
  {
   "cell_type": "code",
   "execution_count": null,
   "metadata": {},
   "outputs": [],
   "source": [
    "n_cons_sntcs = 2\n",
    "regex_block = r\".{5,}?\\.\"\n",
    "_regex = regex_block\n",
    "for i in range(n_cons_sntcs - 1):\n",
    "    _regex += r\"\\s\" + regex_block"
   ]
  },
  {
   "cell_type": "code",
   "execution_count": null,
   "metadata": {},
   "outputs": [
    {
     "data": {
      "text/plain": [
       "'.{5,}\\\\.\\\\s.{5,}\\\\.'"
      ]
     },
     "metadata": {},
     "output_type": "display_data"
    }
   ],
   "source": [
    "import re\n",
    "\n",
    "_regex"
   ]
  },
  {
   "cell_type": "code",
   "execution_count": null,
   "metadata": {},
   "outputs": [
    {
     "data": {
      "text/plain": [
       "['. My name is Rita.  I am 25 zears old.  i AM SO COOL. you cannot believe it.']"
      ]
     },
     "metadata": {},
     "output_type": "display_data"
    }
   ],
   "source": [
    "s = \". My name is Rita.  I am 25 zears old.  i AM SO COOL. you cannot believe it.\"\n",
    "re.findall(_regex, s, flags=re.S)"
   ]
  },
  {
   "cell_type": "code",
   "execution_count": null,
   "metadata": {},
   "outputs": [
    {
     "data": {
      "text/plain": [
       "['baaaac', 'baaac']"
      ]
     },
     "metadata": {},
     "output_type": "display_data"
    }
   ],
   "source": [
    "r = r\"b[abc]{3,}?c\"\n",
    "s = \"baaaacabaaac\"\n",
    "re.findall(r, s)"
   ]
  },
  {
   "cell_type": "markdown",
   "metadata": {},
   "source": [
    "## Two-sentences length distribution (n_cons_sntcs=2)"
   ]
  },
  {
   "cell_type": "code",
   "execution_count": null,
   "metadata": {},
   "outputs": [],
   "source": [
    "abstracts = iclr.abstract  # .to_list()"
   ]
  },
  {
   "cell_type": "code",
   "execution_count": null,
   "metadata": {},
   "outputs": [],
   "source": [
    "n_cons_sntcs = 2\n",
    "regex_block = r\".{5,}?\\.\"\n",
    "_regex = regex_block\n",
    "for i in range(n_cons_sntcs - 1):\n",
    "    _regex += r\"\\s\" + regex_block"
   ]
  },
  {
   "cell_type": "code",
   "execution_count": null,
   "metadata": {},
   "outputs": [
    {
     "data": {
      "text/plain": [
       "[(\"In cities with tall buildings, emergency responders need an accurate floor level location to find 911 callers quickly. We introduce a system to estimate a victim's floor level via their mobile device's sensor data in a two-step process..\",\n",
       "  0),\n",
       " (\"First, we train a neural network to determine when a smartphone enters or exits a building via GPS signal changes. Second, we use a barometer equipped smartphone to measure the change in barometric pressure from the entrance of the building to the victim's indoor location..\",\n",
       "  0),\n",
       " ('Unlike impractical previous approaches, our system is the first that does not require the use of beacons, prior knowledge of the building infrastructure, or knowledge of user behavior. We demonstrate real-world feasibility through 63 experiments across five different tall buildings throughout New York City where our system predicted the correct floor level with 100% accuracy..',\n",
       "  0)]"
      ]
     },
     "execution_count": null,
     "metadata": {},
     "output_type": "execute_result"
    }
   ],
   "source": [
    "sentences_map = [\n",
    "    (s.strip() + \".\", i)\n",
    "    for i, sentences in enumerate(\n",
    "        abstracts[:1].map(lambda a: re.findall(_regex, a, flags=re.S))\n",
    "    )\n",
    "    for s in sentences\n",
    "    if (len(s) >= 100 * n_cons_sntcs)\n",
    "    & (len(s) <= 250 * n_cons_sntcs)  # limit the sentence lengths\n",
    "]\n",
    "\n",
    "sentences_map"
   ]
  },
  {
   "cell_type": "code",
   "execution_count": null,
   "metadata": {},
   "outputs": [],
   "source": [
    "abstracts_list_sentences = abstracts.map(\n",
    "    lambda a: re.findall(_regex, a, flags=re.S)\n",
    ").to_list()"
   ]
  },
  {
   "cell_type": "code",
   "execution_count": null,
   "metadata": {},
   "outputs": [
    {
     "data": {
      "text/plain": [
       "\"First, we train a neural network to determine when a smartphone enters or exits a building via GPS signal changes. Second, we use a barometer equipped smartphone to measure the change in barometric pressure from the entrance of the building to the victim's indoor location.\""
      ]
     },
     "execution_count": null,
     "metadata": {},
     "output_type": "execute_result"
    }
   ],
   "source": [
    "abstracts_list_sentences[0][1].strip()  # ][0]"
   ]
  },
  {
   "cell_type": "code",
   "execution_count": null,
   "metadata": {},
   "outputs": [
    {
     "data": {
      "text/plain": [
       "59003"
      ]
     },
     "execution_count": null,
     "metadata": {},
     "output_type": "execute_result"
    }
   ],
   "source": [
    "len(np.hstack(abstracts_list_sentences))"
   ]
  },
  {
   "cell_type": "code",
   "execution_count": null,
   "metadata": {},
   "outputs": [
    {
     "name": "stdout",
     "output_type": "stream",
     "text": [
      "CPU times: user 309 ms, sys: 708 µs, total: 309 ms\n",
      "Wall time: 309 ms\n"
     ]
    }
   ],
   "source": [
    "%%time\n",
    "len_sentences_characters = [\n",
    "    len(x) for x in np.hstack(abstracts_list_sentences)\n",
    "]"
   ]
  },
  {
   "cell_type": "code",
   "execution_count": null,
   "metadata": {},
   "outputs": [],
   "source": [
    "len_sentences_characters = np.array(len_sentences_characters)"
   ]
  },
  {
   "cell_type": "code",
   "execution_count": null,
   "metadata": {},
   "outputs": [
    {
     "name": "stdout",
     "output_type": "stream",
     "text": [
      "1209\n",
      "15\n"
     ]
    }
   ],
   "source": [
    "print(np.amax(len_sentences_characters))\n",
    "print(np.amin(len_sentences_characters))"
   ]
  },
  {
   "cell_type": "code",
   "execution_count": null,
   "metadata": {},
   "outputs": [],
   "source": [
    "bin_edges_characters = np.arange(0, 1220, 10)"
   ]
  },
  {
   "cell_type": "code",
   "execution_count": null,
   "metadata": {},
   "outputs": [
    {
     "name": "stdout",
     "output_type": "stream",
     "text": [
      "CPU times: user 3.43 ms, sys: 0 ns, total: 3.43 ms\n",
      "Wall time: 2.78 ms\n"
     ]
    }
   ],
   "source": [
    "%%time\n",
    "\n",
    "counts_characters, bins_characters = np.histogram(\n",
    "    len_sentences_characters, bins=bin_edges_characters\n",
    ")"
   ]
  },
  {
   "cell_type": "code",
   "execution_count": null,
   "metadata": {},
   "outputs": [
    {
     "data": {
      "text/plain": [
       "Text(0.5, 0, 'Number of abstract characters')"
      ]
     },
     "execution_count": null,
     "metadata": {},
     "output_type": "execute_result"
    },
    {
     "data": {
      "image/png": "[encoded data removed]",
      "text/plain": [
       "<Figure size 900x600 with 1 Axes>"
      ]
     },
     "metadata": {},
     "output_type": "display_data"
    }
   ],
   "source": [
    "fig, ax = plt.subplots(figsize=(3, 2))\n",
    "\n",
    "ax.hist(bins_characters[:-1], bins_characters, weights=counts_characters)\n",
    "ax.set_ylabel(\"Number of papers (thousands)\")\n",
    "ax.set_xlabel(\"Number of abstract characters\")\n",
    "# ax.set_yticks(np.arange(0, 400, 50) * 1000)\n",
    "# ax.set_yticklabels(np.arange(0, 400, 50))\n",
    "# ax.set_xlim(0, 3500)\n",
    "# ax.set_ylim(0, 350 * 1e3)"
   ]
  },
  {
   "cell_type": "code",
   "execution_count": null,
   "metadata": {},
   "outputs": [
    {
     "data": {
      "text/plain": [
       "array([\" Results are presented on a novel environment we call 'Krazy World'  and a set of maze environments. We show E-MAML and ERL2 deliver better performance on tasks where exploration is important.\",\n",
       "       '9% for Mobile NASNet-A and 0.6% for Inception-ResNet-v2. The simplicity of Swish and its similarity to ReLU make it easy for practitioners to replace ReLUs with Swish units in any neural network.',\n",
       "       'e. for every image from domain A find an analogous image in domain B. We present a matching-by-synthesis approach: AN-GAN, and show that it outperforms current techniques.',\n",
       "       'Relational databases store a significant amount of the worlds data. However, accessing this data currently requires users to understand a query language such as SQL.',\n",
       "       ' At inference time, it finds a close output to a given image which does not contain the adversarial changes. This output is then fed to the classifier.'],\n",
       "      dtype='<U1209')"
      ]
     },
     "execution_count": null,
     "metadata": {},
     "output_type": "execute_result"
    }
   ],
   "source": [
    "np.hstack(abstracts_list_sentences)[\n",
    "    (len_sentences_characters < 200) & (len_sentences_characters >= 150)\n",
    "][\n",
    "    :5\n",
    "]  # [-1# .strip()"
   ]
  },
  {
   "cell_type": "code",
   "execution_count": null,
   "metadata": {},
   "outputs": [
    {
     "data": {
      "text/plain": [
       "array([' This leads to a new theoretical result about LSTMs: low-dimensional embeddings derived from a low-memory LSTM are provably at least as powerful on classification tasks, up to small error, as a linear classifier over BonG vectors, a result that extensive empirical work has thus far been unable to show. Our experiments support these theoretical findings and establish strong, simple, and unsupervised baselines on standard benchmarks that in some cases are state of the art among word-level methods.',\n",
       "       ' To improve overall generalization, all types of variations in the environment have to be taken under consideration via different level of data augmentation steps. To this end, we propose House3D, a rich, extensible and efficient environment that contains 45,622 human-designed 3D scenes of visually realistic houses, ranging from single-room studios to multi-storied houses, equipped with a diverse set of fully labeled 3D objects, textures and scene layouts, based on the SUNCG dataset (Song et al.',\n",
       "       ' As a consequence, the proposed mechanism is modular, architecture-independent, easy to implement, and faster than iterative approaches.\\n\\nExperiments show that, when augmented with our approach, Wide Residual Networks systematically achieve superior performance on each of five different fine-grained recognition datasets: the Adience age and gender recognition benchmark, Caltech-UCSD Birds-200-2011, Stanford Dogs, Stanford Cars, and UEC Food-100, obtaining competitive and state-of-the-art scores.',\n",
       "       ' By collaboratively optimizing the information gain of the labeled source data as well as the entropy of unlabeled target data distributions, the proposed CoBRF algorithm achieves significantly better performance than the state-of-the-art methods. The proposed algorithm is extensively evaluated in various experimental setups in challenging domain adaptation tasks with noisy and small training data as well as open set domain adaptation problems, for two backbone networks of AlexNet and ResNet-50.',\n",
       "       ' Using second-order calculus of variations, we derive a formula that provides a practical condition for IB phase transitions, and draw its connection with the Fisher information matrix for parameterized models. We provide two perspectives to understand the formula, revealing that each IB phase transition is finding a component of maximum (nonlinear) correlation between X and Y orthogonal to the learned representation, in close analogy with canonical-correlation analysis (CCA) in linear settings.',\n",
       "       \" The proposed impossibility statements stem from a new technique that enables the repurposing of seminal results from distributed computing and leads to lower bounds for an array of decision, optimization, and estimation problems involving graphs. Strikingly, several of these problems are deemed impossible unless the product of a GNNmp's depth and width exceeds a polynomial of the graph size; this dependence remains significant even for tasks that appear simple or when considering approximation.\",\n",
       "       ' This update is strikingly analogous to the popular Straight Through Estimator (STE) based method which is typically viewed as a “trick” to avoid vanishing gradients issue but here we show that it is an implementation method for MD for certain projections. Our experiments on standard classification datasets (CIFAR-10/100, TinyImageNet) with convolutional and residual architectures show that our MD variants obtain fully-quantized networks with accuracies very close to the floating-point networks.',\n",
       "       ' Along this direction, this paper makes two complementary contributions which can also be reused as plugin in existing works: i) a novel node and edge embedding strategy which stimulates the multi-head strategy in attention models and allows the information in each channel to be merged independently. In contrast, only node embedding is accounted in previous works; ii) a general masking mechanism over the loss function is devised to improve the smoothness of objective learning for graph matching.',\n",
       "       ' While ongoing research is pursuing the use of unsupervised proxies for labels, we here explore a complementary strategy of reducing the required number of supervised synaptic updates to produce an adult-like ventral visual stream (as judged by the match to V1, V2, V4, IT, and behavior). Such models might require less precise machinery and energy expenditure to coordinate these updates and would thus move us closer to viable neuroscientific hypotheses about how the visual system wires itself up.',\n",
       "       'We give a distributed protocol with nearly-optimal communication and number of rounds for Column Subset Selection with respect to the entrywise {$\\\\ell_1$} norm ($k$-CSS$_1$), and more generally, for the $\\\\ell_p$-norm with $1 \\\\leq p < 2$. We study matrix factorization in $\\\\ell_1$-norm loss, rather than the more standard Frobenius norm loss, because the $\\\\ell_1$ norm is more robust to noise, which is observed to lead to improved performance in a wide range of computer vision and robotics problems.'],\n",
       "      dtype='<U1209')"
      ]
     },
     "execution_count": null,
     "metadata": {},
     "output_type": "execute_result"
    }
   ],
   "source": [
    "np.hstack(abstracts_list_sentences)[\n",
    "    (len_sentences_characters == 500)  # & (len_sentences_characters >= 150)\n",
    "][\n",
    "    :10\n",
    "]  # [-1# .strip()"
   ]
  },
  {
   "cell_type": "code",
   "execution_count": null,
   "metadata": {},
   "outputs": [],
   "source": []
  },
  {
   "cell_type": "code",
   "execution_count": null,
   "metadata": {},
   "outputs": [],
   "source": [
    "lens, counts = np.unique(len_sentences_characters, return_counts=True)"
   ]
  },
  {
   "cell_type": "code",
   "execution_count": null,
   "metadata": {},
   "outputs": [
    {
     "data": {
      "text/plain": [
       "38.401186338812096"
      ]
     },
     "execution_count": null,
     "metadata": {},
     "output_type": "execute_result"
    }
   ],
   "source": [
    "len(\n",
    "    np.hstack(abstracts_list_sentences)[\n",
    "        (len_sentences_characters > 250) | (len_sentences_characters <= 100)\n",
    "    ]\n",
    ") / len(np.hstack(abstracts_list_sentences)) * 100"
   ]
  },
  {
   "cell_type": "code",
   "execution_count": null,
   "metadata": {},
   "outputs": [
    {
     "data": {
      "text/plain": [
       "32.062504899527035"
      ]
     },
     "execution_count": null,
     "metadata": {},
     "output_type": "execute_result"
    }
   ],
   "source": [
    "len(\n",
    "    np.hstack(abstracts_list_sentences)[(len_sentences_characters <= 100)]\n",
    ") / len(np.hstack(abstracts_list_sentences)) * 100"
   ]
  },
  {
   "cell_type": "code",
   "execution_count": null,
   "metadata": {},
   "outputs": [
    {
     "data": {
      "text/plain": [
       "62.050876688703646"
      ]
     },
     "execution_count": null,
     "metadata": {},
     "output_type": "execute_result"
    }
   ],
   "source": [
    "len(\n",
    "    np.hstack(abstracts_list_sentences)[\n",
    "        (len_sentences_characters >= 100) & (len_sentences_characters <= 250)\n",
    "    ]\n",
    ") / len(np.hstack(abstracts_list_sentences)) * 100"
   ]
  },
  {
   "cell_type": "code",
   "execution_count": null,
   "metadata": {},
   "outputs": [
    {
     "data": {
      "text/plain": [
       "94985"
      ]
     },
     "execution_count": null,
     "metadata": {},
     "output_type": "execute_result"
    }
   ],
   "source": [
    "len(\n",
    "    np.hstack(abstracts_list_sentences)[\n",
    "        (len_sentences_characters >= 100) & (len_sentences_characters <= 250)\n",
    "    ]\n",
    ")"
   ]
  },
  {
   "cell_type": "markdown",
   "metadata": {},
   "source": [
    "## Number of contrastive pairs for n_cons_sntcs=3"
   ]
  },
  {
   "cell_type": "code",
   "execution_count": null,
   "metadata": {},
   "outputs": [],
   "source": [
    "abstracts = iclr.abstract  # .to_list()"
   ]
  },
  {
   "cell_type": "code",
   "execution_count": null,
   "metadata": {},
   "outputs": [],
   "source": [
    "n_cons_sntcs = 3\n",
    "regex_block = r\".{5,}?\\.\"\n",
    "_regex = regex_block\n",
    "for i in range(n_cons_sntcs - 1):\n",
    "    _regex += r\"\\s\" + regex_block"
   ]
  },
  {
   "cell_type": "code",
   "execution_count": null,
   "metadata": {},
   "outputs": [],
   "source": [
    "abstracts_list_sentences = abstracts.map(\n",
    "    lambda a: re.findall(_regex, a, flags=re.S)\n",
    ").to_list()"
   ]
  },
  {
   "cell_type": "code",
   "execution_count": null,
   "metadata": {},
   "outputs": [
    {
     "data": {
      "text/plain": [
       "\"First, we train a neural network to determine when a smartphone enters or exits a building via GPS signal changes. Second, we use a barometer equipped smartphone to measure the change in barometric pressure from the entrance of the building to the victim's indoor location.\""
      ]
     },
     "metadata": {},
     "output_type": "display_data"
    }
   ],
   "source": [
    "abstracts_list_sentences[0][1].strip()  # ][0]"
   ]
  },
  {
   "cell_type": "code",
   "execution_count": null,
   "metadata": {},
   "outputs": [
    {
     "data": {
      "text/plain": [
       "36177"
      ]
     },
     "execution_count": null,
     "metadata": {},
     "output_type": "execute_result"
    }
   ],
   "source": [
    "len(np.hstack(abstracts_list_sentences))"
   ]
  },
  {
   "cell_type": "code",
   "execution_count": null,
   "metadata": {},
   "outputs": [],
   "source": [
    "model_names = [\n",
    "    \"BERT\",\n",
    "    \"MPNet\",\n",
    "    \"SBERT\",\n",
    "    \"SciBERT\",\n",
    "    \"SPECTER\",\n",
    "    \"SciNCL\",\n",
    "]\n",
    "\n",
    "\n",
    "model_paths = [\n",
    "    \"bert-base-uncased\",\n",
    "    \"microsoft/mpnet-base\",\n",
    "    \"sentence-transformers/all-mpnet-base-v2\",\n",
    "    \"allenai/scibert_scivocab_uncased\",\n",
    "    \"allenai/specter\",\n",
    "    \"malteos/scincl\",\n",
    "]"
   ]
  },
  {
   "cell_type": "code",
   "execution_count": null,
   "metadata": {},
   "outputs": [
    {
     "name": "stdout",
     "output_type": "stream",
     "text": [
      "Model:  BERT\n",
      "Running on device: cuda\n",
      "bert-base-uncased\n"
     ]
    }
   ],
   "source": [
    "i = 0\n",
    "seed = 42\n",
    "# Set the random seed for PyTorch\n",
    "torch.manual_seed(seed)\n",
    "torch.backends.cudnn.benchmark = False\n",
    "torch.backends.cudnn.deterministic = True\n",
    "# torch.use_deterministic_algorithms(True)\n",
    "# Set the random seed for NumPy\n",
    "np.random.seed(seed)\n",
    "# Set the random seed\n",
    "random.seed(seed)\n",
    "\n",
    "# set up model\n",
    "print(\"Model: \", model_names[i])\n",
    "\n",
    "device = \"cuda\" if torch.cuda.is_available() else \"cpu\"\n",
    "print(\"Running on device: {}\".format(device))\n",
    "\n",
    "tokenizer = AutoTokenizer.from_pretrained(model_paths[i])\n",
    "# model = AutoModel.from_pretrained(model_paths[i])\n",
    "print(model_paths[i])\n",
    "\n",
    "# data\n",
    "training_dataset = MultSentencesPairDataset(\n",
    "    iclr.abstract, tokenizer, device, n_cons_sntcs=3, seed=42\n",
    ")"
   ]
  },
  {
   "cell_type": "code",
   "execution_count": null,
   "metadata": {},
   "outputs": [
    {
     "name": "stdout",
     "output_type": "stream",
     "text": [
      "12810\n"
     ]
    }
   ],
   "source": [
    "print(len(training_dataset))"
   ]
  },
  {
   "cell_type": "markdown",
   "metadata": {},
   "source": [
    "## Distribution of n of sentences per abstract"
   ]
  },
  {
   "cell_type": "code",
   "execution_count": null,
   "metadata": {},
   "outputs": [],
   "source": [
    "abstracts = iclr.abstract"
   ]
  },
  {
   "cell_type": "code",
   "execution_count": null,
   "metadata": {},
   "outputs": [],
   "source": [
    "test_out = abstracts.map(lambda a: a.split(\".\"))"
   ]
  },
  {
   "cell_type": "code",
   "execution_count": null,
   "metadata": {},
   "outputs": [
    {
     "data": {
      "text/plain": [
       "16536"
      ]
     },
     "execution_count": null,
     "metadata": {},
     "output_type": "execute_result"
    }
   ],
   "source": [
    "len(test_out)"
   ]
  },
  {
   "cell_type": "code",
   "execution_count": null,
   "metadata": {},
   "outputs": [],
   "source": [
    "n_sentences_per_abstract = [len(elem) for elem in test_out]"
   ]
  },
  {
   "cell_type": "code",
   "execution_count": null,
   "metadata": {},
   "outputs": [
    {
     "name": "stdout",
     "output_type": "stream",
     "text": [
      "41\n",
      "2\n"
     ]
    }
   ],
   "source": [
    "print(np.amax(n_sentences_per_abstract))\n",
    "print(np.amin(n_sentences_per_abstract))"
   ]
  },
  {
   "cell_type": "code",
   "execution_count": null,
   "metadata": {},
   "outputs": [],
   "source": [
    "bin_edges_characters = np.arange(0, 42, 1)"
   ]
  },
  {
   "cell_type": "code",
   "execution_count": null,
   "metadata": {},
   "outputs": [
    {
     "name": "stdout",
     "output_type": "stream",
     "text": [
      "CPU times: user 1.8 ms, sys: 0 ns, total: 1.8 ms\n",
      "Wall time: 1.43 ms\n"
     ]
    }
   ],
   "source": [
    "%%time\n",
    "\n",
    "counts_characters, bins_characters = np.histogram(\n",
    "    n_sentences_per_abstract, bins=bin_edges_characters\n",
    ")"
   ]
  },
  {
   "cell_type": "code",
   "execution_count": null,
   "metadata": {},
   "outputs": [
    {
     "data": {
      "image/png": "[encoded data removed]",
      "text/plain": [
       "<Figure size 900x600 with 1 Axes>"
      ]
     },
     "metadata": {},
     "output_type": "display_data"
    }
   ],
   "source": [
    "fig, ax = plt.subplots(figsize=(3, 2))\n",
    "\n",
    "ax.hist(bins_characters[:-1], bins_characters, weights=counts_characters)\n",
    "ax.set_ylabel(\"Number of papers\")\n",
    "ax.set_xlabel(\"Number of sentences per abstract\")\n",
    "ax.set_xticks(np.arange(0, 42, 2))\n",
    "\n",
    "fig.savefig(variables_path / \"n_sentences_per_abstract.png\")"
   ]
  },
  {
   "cell_type": "code",
   "execution_count": null,
   "metadata": {},
   "outputs": [
    {
     "name": "stdout",
     "output_type": "stream",
     "text": [
      "100.0\n",
      "Number of total sentences in the dataset:  153076\n",
      "Number of abstracts:  16536\n",
      "Number of abstracts with more than 2 sentences:  16536\n"
     ]
    }
   ],
   "source": [
    "print(\n",
    "    np.sum(np.array(n_sentences_per_abstract) >= 2)\n",
    "    / len(n_sentences_per_abstract)\n",
    "    * 100\n",
    ")\n",
    "print(\n",
    "    \"Number of total sentences in the dataset: \",\n",
    "    np.sum(np.array(n_sentences_per_abstract)),\n",
    ")\n",
    "print(\"Number of abstracts: \", len(n_sentences_per_abstract))\n",
    "print(\n",
    "    \"Number of abstracts with more than 2 sentences: \",\n",
    "    np.sum(np.array(n_sentences_per_abstract) >= 2),\n",
    ")"
   ]
  },
  {
   "cell_type": "code",
   "execution_count": null,
   "metadata": {},
   "outputs": [
    {
     "name": "stdout",
     "output_type": "stream",
     "text": [
      "99.87905176584422\n",
      "Number of abstracts:  16536\n",
      "Number of abstracts with more than 10 sentences:  16516\n"
     ]
    }
   ],
   "source": [
    "print(\n",
    "    np.sum(np.array(n_sentences_per_abstract) >= 4)\n",
    "    / len(n_sentences_per_abstract)\n",
    "    * 100\n",
    ")\n",
    "print(\"Number of abstracts: \", len(n_sentences_per_abstract))\n",
    "print(\n",
    "    \"Number of abstracts with more than 10 sentences: \",\n",
    "    np.sum(np.array(n_sentences_per_abstract) >= 4),\n",
    ")"
   ]
  },
  {
   "cell_type": "code",
   "execution_count": null,
   "metadata": {},
   "outputs": [
    {
     "name": "stdout",
     "output_type": "stream",
     "text": [
      "95.20440251572327\n",
      "Number of abstracts:  16536\n",
      "Number of abstracts with more than 6 sentences:  15743\n"
     ]
    }
   ],
   "source": [
    "print(\n",
    "    np.sum(np.array(n_sentences_per_abstract) >= 6)\n",
    "    / len(n_sentences_per_abstract)\n",
    "    * 100\n",
    ")\n",
    "print(\"Number of abstracts: \", len(n_sentences_per_abstract))\n",
    "print(\n",
    "    \"Number of abstracts with more than 6 sentences: \",\n",
    "    np.sum(np.array(n_sentences_per_abstract) >= 6),\n",
    ")"
   ]
  },
  {
   "cell_type": "code",
   "execution_count": null,
   "metadata": {},
   "outputs": [
    {
     "name": "stdout",
     "output_type": "stream",
     "text": [
      "39.71335268505079\n",
      "Number of abstracts:  16536\n",
      "Number of abstracts with more than 10 sentences:  6567\n"
     ]
    }
   ],
   "source": [
    "print(\n",
    "    np.sum(np.array(n_sentences_per_abstract) >= 10)\n",
    "    / len(n_sentences_per_abstract)\n",
    "    * 100\n",
    ")\n",
    "print(\"Number of abstracts: \", len(n_sentences_per_abstract))\n",
    "print(\n",
    "    \"Number of abstracts with more than 10 sentences: \",\n",
    "    np.sum(np.array(n_sentences_per_abstract) >= 10),\n",
    ")"
   ]
  },
  {
   "cell_type": "markdown",
   "metadata": {},
   "source": [
    "# MultOverlappingSentencesPairDataset"
   ]
  },
  {
   "cell_type": "code",
   "execution_count": null,
   "metadata": {},
   "outputs": [],
   "source": [
    "self.abstacts = abstracts\n",
    "self.rng = np.random.default_rng(seed)\n",
    "\n",
    "sentences_map = [\n",
    "    (s.strip() + \".\", i)\n",
    "    for i, sentences in enumerate(\n",
    "        abstracts.map(lambda a: a.split(\".\"))\n",
    "    )\n",
    "    for s in sentences\n",
    "    if (len(s) >= 100) & (len(s) <= 250)  #limit the sentence lengths\n",
    "]\n",
    "\n",
    "for key, group in itertools.groupby(\n",
    "        sentences_and_toks,\n",
    "        key=lambda kvtoksetc: kvtoksetc[0][1],\n",
    "    ):\n",
    "        grp = list(group)\n",
    "        if len(grp) < 2:\n",
    "            continue  # not enough sentences\n",
    "        else:\n",
    "             abs_sentences.append([kv[0] for kv in grp])\n",
    "             abs_toks.append([x[1] for x in grp])\n",
    "            self.abs_amsk.append([x[2] for x in grp])\n"
   ]
  },
  {
   "cell_type": "code",
   "execution_count": null,
   "metadata": {},
   "outputs": [],
   "source": [
    "abstracts = iclr.abstract"
   ]
  },
  {
   "cell_type": "code",
   "execution_count": null,
   "metadata": {},
   "outputs": [],
   "source": [
    "test_out = abstracts.map(lambda a: a.split(\".\"))"
   ]
  },
  {
   "cell_type": "code",
   "execution_count": null,
   "metadata": {},
   "outputs": [],
   "source": [
    "test_abstract = [elem.strip() + \".\" for elem in test_out[0]]"
   ]
  },
  {
   "cell_type": "code",
   "execution_count": null,
   "metadata": {},
   "outputs": [
    {
     "name": "stdout",
     "output_type": "stream",
     "text": [
      "In cities with tall buildings, emergency responders need an accurate floor level location to find 911 callers quickly.\n",
      "We introduce a system to estimate a victim's floor level via their mobile device's sensor data in a two-step process.\n",
      "First, we train a neural network to determine when a smartphone enters or exits a building via GPS signal changes.\n",
      "Second, we use a barometer equipped smartphone to measure the change in barometric pressure from the entrance of the building to the victim's indoor location.\n",
      "Unlike impractical previous approaches, our system is the first that does not require the use of beacons, prior knowledge of the building infrastructure, or knowledge of user behavior.\n",
      "We demonstrate real-world feasibility through 63 experiments across five different tall buildings throughout New York City where our system predicted the correct floor level with 100% accuracy.\n",
      ".\n"
     ]
    }
   ],
   "source": [
    "for sntc in test_abstract:\n",
    "    print(sntc)"
   ]
  },
  {
   "cell_type": "code",
   "execution_count": null,
   "metadata": {},
   "outputs": [],
   "source": [
    "np.random.seed(12)\n",
    "subset = np.random.choice(pubmed.AbstractText.shape[0], size=iclr.abstract.shape[0], replace=False)\n",
    "test_abstract"
   ]
  },
  {
   "cell_type": "code",
   "execution_count": null,
   "metadata": {},
   "outputs": [],
   "source": [
    "dummy_abstract = [\"A\", \"B\", \"C\", \"D\", \"E\"]"
   ]
  },
  {
   "cell_type": "code",
   "execution_count": null,
   "metadata": {},
   "outputs": [
    {
     "name": "stdout",
     "output_type": "stream",
     "text": [
      "A B\n",
      "B C\n",
      "C D\n",
      "D E\n"
     ]
    }
   ],
   "source": [
    "for i in range(len(dummy_abstract) - 1):\n",
    "    print(dummy_abstract[i], dummy_abstract[i + 1])"
   ]
  },
  {
   "cell_type": "code",
   "execution_count": null,
   "metadata": {},
   "outputs": [
    {
     "data": {
      "text/plain": [
       "'AB.'"
      ]
     },
     "execution_count": null,
     "metadata": {},
     "output_type": "execute_result"
    }
   ],
   "source": [
    "i = 0\n",
    "(dummy_abstract[i] + dummy_abstract[i + 1]).strip() + \".\""
   ]
  },
  {
   "cell_type": "code",
   "execution_count": null,
   "metadata": {},
   "outputs": [
    {
     "name": "stdout",
     "output_type": "stream",
     "text": [
      "2\n"
     ]
    }
   ],
   "source": [
    "# dummy_abstracts = [[\"A\", \"B\", \"C\", \"D\", \"E\"], [\"H\", \"I\", \"J\", \"K\", \"L\", \"M\"]]\n",
    "dummy_abstracts = pd.Series([\"A.B.C.D.E.\", \"H.I.J.K.L.M.\"])\n",
    "print(len(dummy_abstracts))"
   ]
  },
  {
   "cell_type": "code",
   "execution_count": null,
   "metadata": {},
   "outputs": [
    {
     "name": "stdout",
     "output_type": "stream",
     "text": [
      "CPU times: user 438 µs, sys: 0 ns, total: 438 µs\n",
      "Wall time: 453 µs\n"
     ]
    },
    {
     "data": {
      "text/plain": [
       "[('AB.', 0),\n",
       " ('BC.', 0),\n",
       " ('CD.', 0),\n",
       " ('DE.', 0),\n",
       " ('HI.', 1),\n",
       " ('IJ.', 1),\n",
       " ('JK.', 1),\n",
       " ('KL.', 1),\n",
       " ('LM.', 1)]"
      ]
     },
     "execution_count": null,
     "metadata": {},
     "output_type": "execute_result"
    }
   ],
   "source": [
    "%%time\n",
    "sentences_map = [\n",
    "    ((sentences[j] + sentences[j + 1]).strip() + \".\", i)\n",
    "    for i, sentences in enumerate(dummy_abstracts.map(lambda a: a.split(\".\")))\n",
    "    for j in range(len(sentences) - 1)\n",
    "    if (\n",
    "        len(sentences[j] + sentences[j + 1]) >= 2\n",
    "    )  # & (len(s) <= 250)  #limit the sentence lengths\n",
    "]\n",
    "sentences_map"
   ]
  },
  {
   "cell_type": "code",
   "execution_count": null,
   "metadata": {},
   "outputs": [
    {
     "data": {
      "text/plain": [
       "[(\"In cities with tall buildings, emergency responders need an accurate floor level location to find 911 callers quickly. We introduce a system to estimate a victim's floor level via their mobile device's sensor data in a two-step process.\",\n",
       "  0),\n",
       " (\"We introduce a system to estimate a victim's floor level via their mobile device's sensor data in a two-step process. First, we train a neural network to determine when a smartphone enters or exits a building via GPS signal changes.\",\n",
       "  0),\n",
       " (\"First, we train a neural network to determine when a smartphone enters or exits a building via GPS signal changes. Second, we use a barometer equipped smartphone to measure the change in barometric pressure from the entrance of the building to the victim's indoor location.\",\n",
       "  0),\n",
       " (\"Second, we use a barometer equipped smartphone to measure the change in barometric pressure from the entrance of the building to the victim's indoor location. Unlike impractical previous approaches, our system is the first that does not require the use of beacons, prior knowledge of the building infrastructure, or knowledge of user behavior.\",\n",
       "  0),\n",
       " ('Unlike impractical previous approaches, our system is the first that does not require the use of beacons, prior knowledge of the building infrastructure, or knowledge of user behavior. We demonstrate real-world feasibility through 63 experiments across five different tall buildings throughout New York City where our system predicted the correct floor level with 100% accuracy.',\n",
       "  0)]"
      ]
     },
     "execution_count": null,
     "metadata": {},
     "output_type": "execute_result"
    }
   ],
   "source": [
    "sentences_map = [\n",
    "    (sentences[j].strip() + \". \" + sentences[j + 1].strip() + \".\", i)\n",
    "    for i, sentences in enumerate(abstracts[:1].map(lambda a: a.split(\".\")))\n",
    "    for j in range(len(sentences) - 1)\n",
    "    if (\n",
    "        (len(sentences[j]) >= 1) & (len(sentences[j + 1]) >= 1)\n",
    "    )  # & (len(s) <= 250)  #limit the sentence lengths\n",
    "]\n",
    "sentences_map"
   ]
  },
  {
   "cell_type": "code",
   "execution_count": null,
   "metadata": {},
   "outputs": [
    {
     "name": "stdout",
     "output_type": "stream",
     "text": [
      "2\n"
     ]
    }
   ],
   "source": [
    "dummy_abstracts_2 = pd.Series([\"A.B..D.E.\", \"H..J..L.M.\"])\n",
    "print(len(dummy_abstracts))"
   ]
  },
  {
   "cell_type": "code",
   "execution_count": null,
   "metadata": {},
   "outputs": [
    {
     "data": {
      "text/plain": [
       "[('A. B. ', 0), ('D. E. ', 0)]"
      ]
     },
     "execution_count": null,
     "metadata": {},
     "output_type": "execute_result"
    }
   ],
   "source": [
    "# v1 -- BUENO\n",
    "# does not take pair BD if there is some shorter sentence in between\n",
    "n_cons_sntcs = 2\n",
    "sentence_map = []\n",
    "for i, sentences in enumerate(\n",
    "    dummy_abstracts_2[:1].map(lambda a: a.split(\".\"))\n",
    "):\n",
    "    for j in range(\n",
    "        len(sentences) - (n_cons_sntcs - 1)\n",
    "    ):  # loop through the next consecutive sentences (only n_cons_sntcs)\n",
    "        sentences_pack = \"\"\n",
    "        exceptions_count = 0\n",
    "        for k in range(n_cons_sntcs):\n",
    "            if len(sentences[j + k]) >= 1:\n",
    "                sentences_pack += sentences[j + k].strip() + \". \"\n",
    "            else:\n",
    "                exceptions_count += 1\n",
    "        if exceptions_count == 0:\n",
    "            sentence_map.append((sentences_pack, i))\n",
    "sentence_map"
   ]
  },
  {
   "cell_type": "code",
   "execution_count": null,
   "metadata": {},
   "outputs": [
    {
     "name": "stdout",
     "output_type": "stream",
     "text": [
      "CPU times: user 443 µs, sys: 0 ns, total: 443 µs\n",
      "Wall time: 472 µs\n"
     ]
    },
    {
     "data": {
      "text/plain": [
       "[('A. ', 0),\n",
       " ('B. ', 0),\n",
       " ('D. ', 0),\n",
       " ('E. ', 0),\n",
       " ('H. ', 1),\n",
       " ('J. ', 1),\n",
       " ('L. ', 1),\n",
       " ('M. ', 1)]"
      ]
     },
     "execution_count": null,
     "metadata": {},
     "output_type": "execute_result"
    }
   ],
   "source": [
    "%%time\n",
    "# v2 --BUENO\n",
    "# takes pair BD if there is some shorter sentence in between\n",
    "n_cons_sntcs = 1\n",
    "sentence_map = []\n",
    "\n",
    "for i, sentences in enumerate(\n",
    "    dummy_abstracts_2.map(lambda a: a.split(\".\"))\n",
    "):  # loop through abstracts\n",
    "    for j in range(\n",
    "        len(sentences) - (n_cons_sntcs - 1)\n",
    "    ):  # loop through sentences inside abstract\n",
    "        if len(sentences[j]) >= 1:  # length conditions\n",
    "            cons_sentences_pack = \"\"\n",
    "            cons_sentence_counts = 0\n",
    "            for k in range(\n",
    "                len(sentences) - j\n",
    "            ):  # loop through sentences to add them\n",
    "                if len(sentences[j + k]) >= 1:  # length conditions\n",
    "                    cons_sentences_pack += sentences[j + k].strip() + \". \"\n",
    "                    cons_sentence_counts += 1\n",
    "\n",
    "                if (\n",
    "                    cons_sentence_counts == n_cons_sntcs\n",
    "                ):  # check if we have already enough sentences\n",
    "                    sentence_map.append((cons_sentences_pack, i))\n",
    "                    break\n",
    "\n",
    "sentence_map"
   ]
  },
  {
   "cell_type": "code",
   "execution_count": null,
   "metadata": {},
   "outputs": [
    {
     "data": {
      "text/plain": [
       "[('In cities with tall buildings, emergency responders need an accurate floor level location to find 911 callers quickly. ',\n",
       "  0),\n",
       " (\"We introduce a system to estimate a victim's floor level via their mobile device's sensor data in a two-step process. \",\n",
       "  0),\n",
       " ('First, we train a neural network to determine when a smartphone enters or exits a building via GPS signal changes. ',\n",
       "  0),\n",
       " (\"Second, we use a barometer equipped smartphone to measure the change in barometric pressure from the entrance of the building to the victim's indoor location. \",\n",
       "  0),\n",
       " ('Unlike impractical previous approaches, our system is the first that does not require the use of beacons, prior knowledge of the building infrastructure, or knowledge of user behavior. ',\n",
       "  0),\n",
       " ('We demonstrate real-world feasibility through 63 experiments across five different tall buildings throughout New York City where our system predicted the correct floor level with 100% accuracy. ',\n",
       "  0)]"
      ]
     },
     "execution_count": null,
     "metadata": {},
     "output_type": "execute_result"
    }
   ],
   "source": [
    "n_cons_sntcs = 1\n",
    "sentence_map = []\n",
    "\n",
    "for i, sentences in enumerate(\n",
    "    abstracts[:1].map(lambda a: a.split(\".\"))\n",
    "):  # loop through abstracts\n",
    "    for j in range(\n",
    "        len(sentences) - (n_cons_sntcs - 1)\n",
    "    ):  # loop through sentences inside abstract\n",
    "        if len(sentences[j]) >= 1:  # length conditions\n",
    "            cons_sentences_pack = \"\"\n",
    "            cons_sentence_counts = 0\n",
    "            for k in range(\n",
    "                len(sentences) - j\n",
    "            ):  # loop through sentences to add them\n",
    "                if len(sentences[j + k]) >= 1:  # length conditions\n",
    "                    cons_sentences_pack += sentences[j + k].strip() + \". \"\n",
    "                    cons_sentence_counts += 1\n",
    "\n",
    "                if (\n",
    "                    cons_sentence_counts == n_cons_sntcs\n",
    "                ):  # check if we have already enough sentences\n",
    "                    sentence_map.append((cons_sentences_pack, i))\n",
    "                    break\n",
    "\n",
    "sentence_map"
   ]
  },
  {
   "cell_type": "markdown",
   "metadata": {},
   "source": [
    "### Test with class"
   ]
  },
  {
   "cell_type": "code",
   "execution_count": null,
   "metadata": {},
   "outputs": [],
   "source": [
    "from text_embeddings_src.data_stuff import (\n",
    "    MultOverlappingSentencesPairDataset,\n",
    ")"
   ]
  },
  {
   "cell_type": "code",
   "execution_count": null,
   "metadata": {},
   "outputs": [],
   "source": [
    "model_names = [\n",
    "    \"BERT\",\n",
    "    \"MPNet\",\n",
    "    \"SBERT\",\n",
    "    \"SciBERT\",\n",
    "    \"SPECTER\",\n",
    "    \"SciNCL\",\n",
    "]\n",
    "\n",
    "\n",
    "model_paths = [\n",
    "    \"bert-base-uncased\",\n",
    "    \"microsoft/mpnet-base\",\n",
    "    \"sentence-transformers/all-mpnet-base-v2\",\n",
    "    \"allenai/scibert_scivocab_uncased\",\n",
    "    \"allenai/specter\",\n",
    "    \"malteos/scincl\",\n",
    "]"
   ]
  },
  {
   "cell_type": "code",
   "execution_count": null,
   "metadata": {},
   "outputs": [
    {
     "name": "stdout",
     "output_type": "stream",
     "text": [
      "Model:  BERT\n",
      "Running on device: cuda\n",
      "bert-base-uncased\n"
     ]
    }
   ],
   "source": [
    "i = 0\n",
    "seed = 42\n",
    "# Set the random seed for PyTorch\n",
    "torch.manual_seed(seed)\n",
    "torch.backends.cudnn.benchmark = False\n",
    "torch.backends.cudnn.deterministic = True\n",
    "# torch.use_deterministic_algorithms(True)\n",
    "# Set the random seed for NumPy\n",
    "np.random.seed(seed)\n",
    "# Set the random seed\n",
    "random.seed(seed)\n",
    "\n",
    "# set up model\n",
    "print(\"Model: \", model_names[i])\n",
    "\n",
    "device = \"cuda\" if torch.cuda.is_available() else \"cpu\"\n",
    "print(\"Running on device: {}\".format(device))\n",
    "\n",
    "tokenizer = AutoTokenizer.from_pretrained(model_paths[i])\n",
    "# model = AutoModel.from_pretrained(model_paths[i])\n",
    "print(model_paths[i])"
   ]
  },
  {
   "cell_type": "code",
   "execution_count": null,
   "metadata": {},
   "outputs": [
    {
     "name": "stdout",
     "output_type": "stream",
     "text": [
      "CPU times: user 37.2 s, sys: 7.53 s, total: 44.7 s\n",
      "Wall time: 15 s\n"
     ]
    }
   ],
   "source": [
    "%%time\n",
    "# data\n",
    "training_dataset = MultSentencesPairDataset(\n",
    "    iclr.abstract, tokenizer, device, n_cons_sntcs=3, seed=42\n",
    ")"
   ]
  },
  {
   "cell_type": "code",
   "execution_count": null,
   "metadata": {},
   "outputs": [
    {
     "data": {
      "text/plain": [
       "12810"
      ]
     },
     "execution_count": null,
     "metadata": {},
     "output_type": "execute_result"
    }
   ],
   "source": [
    "len(training_dataset)"
   ]
  },
  {
   "cell_type": "code",
   "execution_count": null,
   "metadata": {},
   "outputs": [
    {
     "data": {
      "text/plain": [
       "((tensor([  101,  1999,  3655,  2007,  4206,  3121,  1010,  5057,  6869,  2545,\n",
       "           2342,  2019,  8321,  2723,  2504,  3295,  2000,  2424, 19989, 20587,\n",
       "           2015,  2855,  1012,  2057,  8970,  1037,  2291,  2000, 10197,  1037,\n",
       "           6778,  1005,  1055,  2723,  2504,  3081,  2037,  4684,  5080,  1005,\n",
       "           1055, 13617,  2951,  1999,  1037,  2048,  1011,  3357,  2832,  1012,\n",
       "           2034,  1010,  2057,  3345,  1037, 15756,  2897,  2000,  5646,  2043,\n",
       "           1037, 26381,  8039,  2030, 16639,  1037,  2311,  3081, 14658,  4742,\n",
       "           3431,  1012,  1012,   102,     0,     0,     0,     0,     0,     0,\n",
       "              0,     0,     0,     0,     0,     0,     0,     0,     0,     0,\n",
       "              0,     0,     0,     0,     0,     0,     0,     0,     0,     0,\n",
       "              0,     0,     0,     0,     0,     0,     0,     0,     0,     0,\n",
       "              0,     0,     0,     0,     0,     0,     0,     0,     0,     0,\n",
       "              0,     0,     0,     0,     0,     0,     0,     0,     0,     0,\n",
       "              0,     0,     0,     0,     0,     0,     0,     0,     0,     0,\n",
       "              0,     0,     0,     0,     0,     0,     0,     0,     0,     0,\n",
       "              0,     0,     0,     0,     0,     0,     0,     0,     0,     0,\n",
       "              0,     0,     0,     0,     0,     0,     0,     0,     0,     0,\n",
       "              0,     0,     0,     0,     0,     0,     0,     0,     0,     0,\n",
       "              0,     0,     0,     0,     0,     0,     0,     0,     0,     0,\n",
       "              0,     0,     0,     0,     0,     0,     0,     0,     0,     0,\n",
       "              0,     0,     0,     0,     0,     0,     0,     0,     0,     0,\n",
       "              0,     0,     0,     0,     0,     0,     0,     0,     0,     0,\n",
       "              0,     0,     0,     0,     0,     0,     0,     0,     0,     0,\n",
       "              0,     0,     0,     0,     0,     0,     0,     0,     0,     0,\n",
       "              0,     0,     0,     0,     0,     0,     0,     0,     0,     0,\n",
       "              0,     0,     0,     0,     0,     0,     0,     0,     0,     0,\n",
       "              0,     0,     0,     0,     0,     0,     0,     0,     0,     0,\n",
       "              0,     0,     0,     0,     0,     0,     0,     0,     0,     0,\n",
       "              0,     0,     0,     0,     0,     0,     0,     0,     0,     0,\n",
       "              0,     0,     0,     0,     0,     0,     0,     0,     0,     0,\n",
       "              0,     0,     0,     0,     0,     0,     0,     0,     0,     0,\n",
       "              0,     0,     0], device='cuda:0'),\n",
       "  tensor([1, 1, 1, 1, 1, 1, 1, 1, 1, 1, 1, 1, 1, 1, 1, 1, 1, 1, 1, 1, 1, 1, 1, 1,\n",
       "          1, 1, 1, 1, 1, 1, 1, 1, 1, 1, 1, 1, 1, 1, 1, 1, 1, 1, 1, 1, 1, 1, 1, 1,\n",
       "          1, 1, 1, 1, 1, 1, 1, 1, 1, 1, 1, 1, 1, 1, 1, 1, 1, 1, 1, 1, 1, 1, 1, 1,\n",
       "          1, 1, 0, 0, 0, 0, 0, 0, 0, 0, 0, 0, 0, 0, 0, 0, 0, 0, 0, 0, 0, 0, 0, 0,\n",
       "          0, 0, 0, 0, 0, 0, 0, 0, 0, 0, 0, 0, 0, 0, 0, 0, 0, 0, 0, 0, 0, 0, 0, 0,\n",
       "          0, 0, 0, 0, 0, 0, 0, 0, 0, 0, 0, 0, 0, 0, 0, 0, 0, 0, 0, 0, 0, 0, 0, 0,\n",
       "          0, 0, 0, 0, 0, 0, 0, 0, 0, 0, 0, 0, 0, 0, 0, 0, 0, 0, 0, 0, 0, 0, 0, 0,\n",
       "          0, 0, 0, 0, 0, 0, 0, 0, 0, 0, 0, 0, 0, 0, 0, 0, 0, 0, 0, 0, 0, 0, 0, 0,\n",
       "          0, 0, 0, 0, 0, 0, 0, 0, 0, 0, 0, 0, 0, 0, 0, 0, 0, 0, 0, 0, 0, 0, 0, 0,\n",
       "          0, 0, 0, 0, 0, 0, 0, 0, 0, 0, 0, 0, 0, 0, 0, 0, 0, 0, 0, 0, 0, 0, 0, 0,\n",
       "          0, 0, 0, 0, 0, 0, 0, 0, 0, 0, 0, 0, 0, 0, 0, 0, 0, 0, 0, 0, 0, 0, 0, 0,\n",
       "          0, 0, 0, 0, 0, 0, 0, 0, 0, 0, 0, 0, 0, 0, 0, 0, 0, 0, 0, 0, 0, 0, 0, 0,\n",
       "          0, 0, 0, 0, 0, 0, 0, 0, 0, 0, 0, 0, 0, 0, 0, 0, 0, 0, 0, 0, 0, 0, 0, 0,\n",
       "          0], device='cuda:0')),\n",
       " (tensor([  101,  2117,  1010,  2057,  2224,  1037,  3347, 18721,  6055, 26381,\n",
       "           2000,  5468,  1996,  2689,  1999,  3347, 28993,  3778,  2013,  1996,\n",
       "           4211,  1997,  1996,  2311,  2000,  1996,  6778,  1005,  1055,  7169,\n",
       "           3295,  1012,  4406, 17727, 22648, 14656,  3025,  8107,  1010,  2256,\n",
       "           2291,  2003,  1996,  2034,  2008,  2515,  2025,  5478,  1996,  2224,\n",
       "           1997, 14400,  2015,  1010,  3188,  3716,  1997,  1996,  2311,  6502,\n",
       "           1010,  2030,  3716,  1997,  5310,  5248,  1012,  2057, 10580,  2613,\n",
       "           1011,  2088, 24010,  2083,  6191,  7885,  2408,  2274,  2367,  4206,\n",
       "           3121,  2802,  2047,  2259,  2103,  2073,  2256,  2291, 10173,  1996,\n",
       "           6149,  2723,  2504,  2007,  2531,  1003, 10640,  1012,  1012,   102,\n",
       "              0,     0,     0,     0,     0,     0,     0,     0,     0,     0,\n",
       "              0,     0,     0,     0,     0,     0,     0,     0,     0,     0,\n",
       "              0,     0,     0,     0,     0,     0,     0,     0,     0,     0,\n",
       "              0,     0,     0,     0,     0,     0,     0,     0,     0,     0,\n",
       "              0,     0,     0,     0,     0,     0,     0,     0,     0,     0,\n",
       "              0,     0,     0,     0,     0,     0,     0,     0,     0,     0,\n",
       "              0,     0,     0,     0,     0,     0,     0,     0,     0,     0,\n",
       "              0,     0,     0,     0,     0,     0,     0,     0,     0,     0,\n",
       "              0,     0,     0,     0,     0,     0,     0,     0,     0,     0,\n",
       "              0,     0,     0,     0,     0,     0,     0,     0,     0,     0,\n",
       "              0,     0,     0,     0,     0,     0,     0,     0,     0,     0,\n",
       "              0,     0,     0,     0,     0,     0,     0,     0,     0,     0,\n",
       "              0,     0,     0,     0,     0,     0,     0,     0,     0,     0,\n",
       "              0,     0,     0,     0,     0,     0,     0,     0,     0,     0,\n",
       "              0,     0,     0,     0,     0,     0,     0,     0,     0,     0,\n",
       "              0,     0,     0,     0,     0,     0,     0,     0,     0,     0,\n",
       "              0,     0,     0,     0,     0,     0,     0,     0,     0,     0,\n",
       "              0,     0,     0,     0,     0,     0,     0,     0,     0,     0,\n",
       "              0,     0,     0,     0,     0,     0,     0,     0,     0,     0,\n",
       "              0,     0,     0,     0,     0,     0,     0,     0,     0,     0,\n",
       "              0,     0,     0,     0,     0,     0,     0,     0,     0,     0,\n",
       "              0,     0,     0], device='cuda:0'),\n",
       "  tensor([1, 1, 1, 1, 1, 1, 1, 1, 1, 1, 1, 1, 1, 1, 1, 1, 1, 1, 1, 1, 1, 1, 1, 1,\n",
       "          1, 1, 1, 1, 1, 1, 1, 1, 1, 1, 1, 1, 1, 1, 1, 1, 1, 1, 1, 1, 1, 1, 1, 1,\n",
       "          1, 1, 1, 1, 1, 1, 1, 1, 1, 1, 1, 1, 1, 1, 1, 1, 1, 1, 1, 1, 1, 1, 1, 1,\n",
       "          1, 1, 1, 1, 1, 1, 1, 1, 1, 1, 1, 1, 1, 1, 1, 1, 1, 1, 1, 1, 1, 1, 1, 1,\n",
       "          1, 1, 1, 1, 0, 0, 0, 0, 0, 0, 0, 0, 0, 0, 0, 0, 0, 0, 0, 0, 0, 0, 0, 0,\n",
       "          0, 0, 0, 0, 0, 0, 0, 0, 0, 0, 0, 0, 0, 0, 0, 0, 0, 0, 0, 0, 0, 0, 0, 0,\n",
       "          0, 0, 0, 0, 0, 0, 0, 0, 0, 0, 0, 0, 0, 0, 0, 0, 0, 0, 0, 0, 0, 0, 0, 0,\n",
       "          0, 0, 0, 0, 0, 0, 0, 0, 0, 0, 0, 0, 0, 0, 0, 0, 0, 0, 0, 0, 0, 0, 0, 0,\n",
       "          0, 0, 0, 0, 0, 0, 0, 0, 0, 0, 0, 0, 0, 0, 0, 0, 0, 0, 0, 0, 0, 0, 0, 0,\n",
       "          0, 0, 0, 0, 0, 0, 0, 0, 0, 0, 0, 0, 0, 0, 0, 0, 0, 0, 0, 0, 0, 0, 0, 0,\n",
       "          0, 0, 0, 0, 0, 0, 0, 0, 0, 0, 0, 0, 0, 0, 0, 0, 0, 0, 0, 0, 0, 0, 0, 0,\n",
       "          0, 0, 0, 0, 0, 0, 0, 0, 0, 0, 0, 0, 0, 0, 0, 0, 0, 0, 0, 0, 0, 0, 0, 0,\n",
       "          0, 0, 0, 0, 0, 0, 0, 0, 0, 0, 0, 0, 0, 0, 0, 0, 0, 0, 0, 0, 0, 0, 0, 0,\n",
       "          0], device='cuda:0')))"
      ]
     },
     "execution_count": null,
     "metadata": {},
     "output_type": "execute_result"
    }
   ],
   "source": [
    "training_dataset[0]"
   ]
  },
  {
   "cell_type": "code",
   "execution_count": null,
   "metadata": {},
   "outputs": [
    {
     "name": "stdout",
     "output_type": "stream",
     "text": [
      "CPU times: user 52.7 s, sys: 12.3 s, total: 1min 5s\n",
      "Wall time: 5.96 s\n"
     ]
    }
   ],
   "source": [
    "%%time\n",
    "# data\n",
    "training_dataset = MultOverlappingSentencesPairDataset(\n",
    "    iclr.abstract, tokenizer, device, n_cons_sntcs=3, seed=42\n",
    ")"
   ]
  },
  {
   "cell_type": "code",
   "execution_count": null,
   "metadata": {},
   "outputs": [
    {
     "data": {
      "text/plain": [
       "14657"
      ]
     },
     "metadata": {},
     "output_type": "display_data"
    }
   ],
   "source": [
    "len(training_dataset)"
   ]
  },
  {
   "cell_type": "code",
   "execution_count": null,
   "metadata": {},
   "outputs": [
    {
     "name": "stdout",
     "output_type": "stream",
     "text": [
      "CPU times: user 31.6 s, sys: 12.4 s, total: 44 s\n",
      "Wall time: 5.82 s\n"
     ]
    }
   ],
   "source": [
    "%%time\n",
    "# data\n",
    "training_dataset = MultOverlappingSentencesPairDataset(\n",
    "    iclr.abstract, tokenizer, device, n_cons_sntcs=1, seed=42\n",
    ")"
   ]
  },
  {
   "cell_type": "code",
   "execution_count": null,
   "metadata": {},
   "outputs": [
    {
     "data": {
      "text/plain": [
       "16407"
      ]
     },
     "execution_count": null,
     "metadata": {},
     "output_type": "execute_result"
    }
   ],
   "source": [
    "len(training_dataset)"
   ]
  },
  {
   "cell_type": "markdown",
   "metadata": {},
   "source": [
    "# AbstractSplitDataset"
   ]
  },
  {
   "cell_type": "code",
   "execution_count": null,
   "metadata": {},
   "outputs": [],
   "source": [
    "abstracts = iclr.abstract  # .to_list()"
   ]
  },
  {
   "cell_type": "code",
   "execution_count": null,
   "metadata": {},
   "outputs": [
    {
     "data": {
      "text/plain": [
       "0        In cities with tall buildings, emergency respo...\n",
       "1        We consider the problem of exploration in meta...\n",
       "2        We present Merged-Averaged Classifiers via Has...\n",
       "3        The goal of imitation learning (IL) is to enab...\n",
       "4        The choice of activation functions in deep net...\n",
       "                               ...                        \n",
       "16531    Combined with the generative prior of pre-trai...\n",
       "16532    We define \\emph{laziness} to describe a large ...\n",
       "16533    Most graph neural networks (GNNs) rely on the ...\n",
       "16534    We study the ability of one layer Graph Attent...\n",
       "16535    GANs have two competing modules: the generator...\n",
       "Name: abstract, Length: 16536, dtype: object"
      ]
     },
     "execution_count": null,
     "metadata": {},
     "output_type": "execute_result"
    }
   ],
   "source": [
    "abstracts"
   ]
  },
  {
   "cell_type": "code",
   "execution_count": null,
   "metadata": {},
   "outputs": [],
   "source": [
    "import re"
   ]
  },
  {
   "cell_type": "code",
   "execution_count": null,
   "metadata": {},
   "outputs": [],
   "source": [
    "sentences_map = dict()\n",
    "regex_block = r\".{5,}?\\.\"\n",
    "# for i, (abstract) in enumerate(abstracts):\n",
    "i = 1\n",
    "abstract = abstracts[i]\n",
    "\n",
    "n_sntcs = sum(\n",
    "    1 for _ in re.finditer(regex_block + r\"\\s\", abstract, flags=re.S)\n",
    ")\n",
    "# n_sntcs = abstract.count(\".\")\n",
    "\n",
    "_regex = regex_block + \"\".join(\n",
    "    [r\"\\s\" + regex_block for _ in range(n_sntcs // 2)]\n",
    ")\n",
    "\n",
    "part1 = re.match(_regex, abstract, flags=re.S)[0]\n",
    "part2 = re.sub(_regex, \"\", abstract, flags=re.S)\n",
    "sentences_map[part1] = i\n",
    "sentences_map[part2] = i"
   ]
  },
  {
   "cell_type": "code",
   "execution_count": null,
   "metadata": {},
   "outputs": [
    {
     "data": {
      "text/plain": [
       "{'We consider the problem of exploration in meta reinforcement learning. Two new meta reinforcement learning algorithms are suggested: E-MAML and ERL2.': 1,\n",
       " '': 1}"
      ]
     },
     "execution_count": null,
     "metadata": {},
     "output_type": "execute_result"
    }
   ],
   "source": [
    "sentences_map[part]"
   ]
  },
  {
   "cell_type": "markdown",
   "metadata": {},
   "source": [
    "# Labels based augmentation"
   ]
  },
  {
   "cell_type": "code",
   "execution_count": null,
   "metadata": {},
   "outputs": [
    {
     "name": "stdout",
     "output_type": "stream",
     "text": [
      "0    A.A.A.\n",
      "1    E.E.E.\n",
      "2    D.D.D.\n",
      "3    B.B.B.\n",
      "4    C.C.C.\n",
      "dtype: object\n",
      "['one' 'one' 'three' 'two' 'two']\n"
     ]
    }
   ],
   "source": [
    "toy_dataset = [\"A.A.A.\", \"B.B.B.\", \"C.C.C.\", \"D.D.D.\", \"E.E.E.\"]\n",
    "toy_labels = [\"one\", \"two\", \"two\", \"three\", \"one\"]\n",
    "\n",
    "toy_dataset = pd.Series(np.array(toy_dataset)[np.argsort(toy_labels)])\n",
    "toy_labels = np.sort(toy_labels)\n",
    "\n",
    "print(toy_dataset)\n",
    "print(toy_labels)"
   ]
  },
  {
   "cell_type": "code",
   "execution_count": null,
   "metadata": {},
   "outputs": [
    {
     "name": "stdout",
     "output_type": "stream",
     "text": [
      "[('A.A.A.', 'one'), ('E.E.E.', 'one')]\n",
      "[('D.D.D.', 'three')]\n",
      "[('B.B.B.', 'two'), ('C.C.C.', 'two')]\n"
     ]
    }
   ],
   "source": [
    "import itertools\n",
    "\n",
    "for key, group in itertools.groupby(\n",
    "    zip(toy_dataset, toy_labels),\n",
    "    key=lambda kvtoksetc: kvtoksetc[1],\n",
    "):\n",
    "    print(list(group))"
   ]
  },
  {
   "cell_type": "code",
   "execution_count": null,
   "metadata": {},
   "outputs": [
    {
     "data": {
      "text/plain": [
       "[('A. A. ', 0, 'one'),\n",
       " ('A. A. ', 0, 'one'),\n",
       " ('E. E. ', 1, 'one'),\n",
       " ('E. E. ', 1, 'one'),\n",
       " ('D. D. ', 2, 'three'),\n",
       " ('D. D. ', 2, 'three'),\n",
       " ('B. B. ', 3, 'two'),\n",
       " ('B. B. ', 3, 'two'),\n",
       " ('C. C. ', 4, 'two'),\n",
       " ('C. C. ', 4, 'two')]"
      ]
     },
     "execution_count": null,
     "metadata": {},
     "output_type": "execute_result"
    }
   ],
   "source": [
    "n_cons_sntcs = 2\n",
    "sentence_map = []\n",
    "\n",
    "for i, sentences in enumerate(\n",
    "    toy_dataset.map(lambda a: a.split(\".\"))\n",
    "):  # loop through abstracts\n",
    "    for j in range(\n",
    "        len(sentences) - (n_cons_sntcs - 1)\n",
    "    ):  # loop through sentences inside abstract\n",
    "        if len(sentences[j]) >= 1:  # length conditions\n",
    "            cons_sentences_pack = \"\"\n",
    "            cons_sentence_counts = 0\n",
    "            for k in range(\n",
    "                len(sentences) - j\n",
    "            ):  # loop through sentences to add them\n",
    "                if len(sentences[j + k]) >= 1:  # length conditions\n",
    "                    cons_sentences_pack += sentences[j + k].strip() + \". \"\n",
    "                    cons_sentence_counts += 1\n",
    "\n",
    "                if (\n",
    "                    cons_sentence_counts == n_cons_sntcs\n",
    "                ):  # check if we have already enough sentences\n",
    "                    sentence_map.append(\n",
    "                        (cons_sentences_pack, toy_labels[i])\n",
    "                    )\n",
    "                    break\n",
    "\n",
    "sentence_map"
   ]
  },
  {
   "cell_type": "markdown",
   "metadata": {},
   "source": [
    "#### test 2"
   ]
  },
  {
   "cell_type": "code",
   "execution_count": null,
   "metadata": {},
   "outputs": [],
   "source": [
    "toy_dataset = pd.Series(\n",
    "    [\"A.A.X.\", \"B.B.X.\", \"C.C.X.\", \"D.D.X.\", \"E.E.X.\", \"F.F.X\", \"G.G.X.\"]\n",
    ")\n",
    "toy_labels = pd.Series([\"one\", \"two\", \"two\", \"three\", \"one\", \"one\", \"two\"])"
   ]
  },
  {
   "cell_type": "code",
   "execution_count": null,
   "metadata": {},
   "outputs": [
    {
     "data": {
      "text/plain": [
       "[('A. A. ', 0, 'one'),\n",
       " ('A. X. ', 0, 'one'),\n",
       " ('B. B. ', 1, 'two'),\n",
       " ('B. X. ', 1, 'two'),\n",
       " ('C. C. ', 2, 'two'),\n",
       " ('C. X. ', 2, 'two'),\n",
       " ('D. D. ', 3, 'three'),\n",
       " ('D. X. ', 3, 'three'),\n",
       " ('E. E. ', 4, 'one'),\n",
       " ('E. X. ', 4, 'one'),\n",
       " ('F. F. ', 5, 'one'),\n",
       " ('F. X. ', 5, 'one'),\n",
       " ('G. G. ', 6, 'two'),\n",
       " ('G. X. ', 6, 'two')]"
      ]
     },
     "execution_count": null,
     "metadata": {},
     "output_type": "execute_result"
    }
   ],
   "source": [
    "n_cons_sntcs = 2\n",
    "sentences_map = []\n",
    "\n",
    "for i, sentences in enumerate(\n",
    "    toy_dataset.map(lambda a: a.split(\".\"))\n",
    "):  # loop through abstracts\n",
    "    for j in range(\n",
    "        len(sentences) - (n_cons_sntcs - 1)\n",
    "    ):  # loop through sentences inside abstract\n",
    "        if len(sentences[j]) >= 1:  # length conditions\n",
    "            cons_sentences_pack = \"\"\n",
    "            cons_sentence_counts = 0\n",
    "            for k in range(\n",
    "                len(sentences) - j\n",
    "            ):  # loop through sentences to add them\n",
    "                if len(sentences[j + k]) >= 1:  # length conditions\n",
    "                    cons_sentences_pack += sentences[j + k].strip() + \". \"\n",
    "                    cons_sentence_counts += 1\n",
    "\n",
    "                if (\n",
    "                    cons_sentence_counts == n_cons_sntcs\n",
    "                ):  # check if we have already enough sentences\n",
    "                    sentences_map.append(\n",
    "                        (cons_sentences_pack, i, toy_labels[i])\n",
    "                    )\n",
    "                    break\n",
    "\n",
    "sentences_map"
   ]
  },
  {
   "cell_type": "code",
   "execution_count": null,
   "metadata": {},
   "outputs": [],
   "source": [
    "model_names = [\n",
    "    \"BERT\",\n",
    "    \"MPNet\",\n",
    "    \"SBERT\",\n",
    "    \"SciBERT\",\n",
    "    \"SPECTER\",\n",
    "    \"SciNCL\",\n",
    "]\n",
    "\n",
    "\n",
    "model_paths = [\n",
    "    \"bert-base-uncased\",\n",
    "    \"microsoft/mpnet-base\",\n",
    "    \"sentence-transformers/all-mpnet-base-v2\",\n",
    "    \"allenai/scibert_scivocab_uncased\",\n",
    "    \"allenai/specter\",\n",
    "    \"malteos/scincl\",\n",
    "]"
   ]
  },
  {
   "cell_type": "code",
   "execution_count": null,
   "metadata": {},
   "outputs": [
    {
     "name": "stdout",
     "output_type": "stream",
     "text": [
      "Model:  BERT\n",
      "Running on device: cuda\n",
      "bert-base-uncased\n"
     ]
    }
   ],
   "source": [
    "i = 0\n",
    "seed = 42\n",
    "# Set the random seed for PyTorch\n",
    "torch.manual_seed(seed)\n",
    "torch.backends.cudnn.benchmark = False\n",
    "torch.backends.cudnn.deterministic = True\n",
    "# torch.use_deterministic_algorithms(True)\n",
    "# Set the random seed for NumPy\n",
    "np.random.seed(seed)\n",
    "# Set the random seed\n",
    "random.seed(seed)\n",
    "\n",
    "# set up model\n",
    "print(\"Model: \", model_names[i])\n",
    "\n",
    "device = \"cuda\" if torch.cuda.is_available() else \"cpu\"\n",
    "print(\"Running on device: {}\".format(device))\n",
    "\n",
    "tokenizer = AutoTokenizer.from_pretrained(model_paths[i])\n",
    "# model = AutoModel.from_pretrained(model_paths[i])\n",
    "print(model_paths[i])"
   ]
  },
  {
   "cell_type": "code",
   "execution_count": null,
   "metadata": {},
   "outputs": [],
   "source": [
    "import itertools\n",
    "\n",
    "tokenizer_kwargs = dict(\n",
    "    max_length=512,\n",
    "    padding=True,\n",
    "    truncation=True,\n",
    "    return_tensors=\"pt\",\n",
    ")\n",
    "\n",
    "sentences_tok = tokenizer(\n",
    "    [x for x, _, _ in sentences_map], **tokenizer_kwargs\n",
    ").to(device)\n",
    "\n",
    "\n",
    "# we group the flat sentences by the original abstract they\n",
    "# come from.  Then we can check whether we have enough\n",
    "# sentences and append the abstracts with at least two\n",
    "# sentences to our list.\n",
    "sentences_and_toks = zip(\n",
    "    sentences_map,\n",
    "    sentences_tok[\"input_ids\"],\n",
    "    sentences_tok[\"attention_mask\"],\n",
    ")\n",
    "abs_sentences = []  # np.empty(len(toy_dataset))\n",
    "abs_toks = []\n",
    "abs_mask = []\n",
    "for key, group in itertools.groupby(\n",
    "    sentences_and_toks,\n",
    "    key=lambda kvtoksetc: kvtoksetc[0][1],\n",
    "):\n",
    "    grp = list(group)\n",
    "    if len(grp) < 2:\n",
    "        continue  # not enough sentences\n",
    "    else:\n",
    "        abs_sentences.append([kv[0] for kv in grp])\n",
    "        # abs_sentences[key] = [kv[0] for kv in grp]\n",
    "        abs_toks.append([x[1] for x in grp])\n",
    "        abs_mask.append([x[2] for x in grp])"
   ]
  },
  {
   "cell_type": "code",
   "execution_count": null,
   "metadata": {},
   "outputs": [],
   "source": [
    "# rng = np.random.default_rng(42)\n",
    "# idx = 0\n",
    "# abstract_info = abs_sentences[idx]\n",
    "\n",
    "# print(abstract_info)\n",
    "# abstract_tok = abs_toks[idx]\n",
    "# print(abstract_tok)\n",
    "# amask = abs_amsk[idx]\n",
    "# print(amask)\n",
    "# print(\"------------\")\n",
    "# # from asbtract info I can get the label and the abst number, but now we asume we know them\n",
    "# label = \"one\"\n",
    "# abstract_indx = 0\n",
    "\n",
    "# abstracts_same_label = [\n",
    "#     elem\n",
    "#     for i, elem in enumerate(zip(abs_sentences, abs_toks, abs_amsk))\n",
    "#     if (toy_labels[i] == label)\n",
    "#     # & (elem[0][0][1] != abstract_indx)  # toy labels would be elem[0][0][2]\n",
    "# ]\n",
    "\n",
    "# print(len(abstracts_same_label))\n",
    "# abstracts_same_label[0]\n",
    "# iabstract = rng.choice(len(abstracts_same_label), replace=False)\n",
    "# print(iabstract)\n",
    "# print(abstracts_same_label[iabstract])\n",
    "# isentence = rng.choice(len(abstracts_same_label[iabstract][0]), replace=False)\n",
    "# print(isentence)\n",
    "# output = [elem[isentence] for elem in abstracts_same_label[iabstract]]\n",
    "# print(output)"
   ]
  },
  {
   "cell_type": "code",
   "execution_count": null,
   "metadata": {},
   "outputs": [
    {
     "name": "stdout",
     "output_type": "stream",
     "text": [
      "('A. A. ', 0, 'one')\n",
      "------------\n",
      "[('F. X. ', 5, 'one'), tensor([ 101, 1042, 1012, 1060, 1012,  102], device='cuda:0'), tensor([1, 1, 1, 1, 1, 1], device='cuda:0')]\n",
      "CPU times: user 1.14 ms, sys: 2.12 ms, total: 3.26 ms\n",
      "Wall time: 2.06 ms\n"
     ]
    }
   ],
   "source": [
    "%%time\n",
    "# same thing as above but clean\n",
    "rng = np.random.default_rng(42)\n",
    "idx = 0\n",
    "isentence2 = rng.choice(len(abs_sentences[idx]), replace=False)\n",
    "abstract_info = abs_sentences[idx][isentence2]\n",
    "print(abstract_info)\n",
    "abstract_tok = abs_toks[idx][isentence2]\n",
    "amask = abs_amsk[idx][isentence2]\n",
    "\n",
    "print(\"------------\")\n",
    "# from asbtract info I can get the label and the abst number, but now we asume we know them\n",
    "label = abstract_info[2]\n",
    "abstract_inx = abstract_info[1]\n",
    "\n",
    "abstracts_same_label = [\n",
    "    elem\n",
    "    for i, elem in enumerate(zip(abs_sentences, abs_toks, abs_amsk))\n",
    "    if (elem[0][0][2] == label)\n",
    "    & (elem[0][0][1] != abstract_indx)  # toy labels would be elem[0][0][2]\n",
    "]\n",
    "\n",
    "iabstract = rng.choice(len(abstracts_same_label), replace=False)\n",
    "isentence2 = rng.choice(len(abstracts_same_label[iabstract][0]), replace=False)\n",
    "output = [elem[isentence2] for elem in abstracts_same_label[iabstract]]\n",
    "print(output)"
   ]
  },
  {
   "cell_type": "code",
   "execution_count": null,
   "metadata": {},
   "outputs": [
    {
     "name": "stdout",
     "output_type": "stream",
     "text": [
      "------------\n",
      "('A. A. ', 0, 'one')\n",
      "[tensor([ 101, 1037, 1012, 1037, 1012,  102], device='cuda:0'), tensor([1, 1, 1, 1, 1, 1], device='cuda:0')]\n",
      "------------\n",
      "('F. X. ', 5, 'one')\n",
      "[tensor([ 101, 1042, 1012, 1060, 1012,  102], device='cuda:0'), tensor([1, 1, 1, 1, 1, 1], device='cuda:0')]\n",
      "CPU times: user 79 µs, sys: 4.16 ms, total: 4.24 ms\n",
      "Wall time: 2.77 ms\n"
     ]
    }
   ],
   "source": [
    "%%time\n",
    "# same thing as above but cleaner\n",
    "rng = np.random.default_rng(42)\n",
    "idx = 0\n",
    "print(\"------------\")\n",
    "\n",
    "isentence1 = rng.choice(len(abs_sentences[idx]), replace=False)\n",
    "abstract1_info = abs_sentences[idx][isentence1]\n",
    "print(abstract1_info)\n",
    "output1 = [abs_toks[idx][isentence1], abs_amsk[idx][isentence1]]\n",
    "print(output1)\n",
    "\n",
    "print(\"------------\")\n",
    "# from asbtract info I can get the label and the abst number, but now we asume we know them\n",
    "abstract1_label = abstract1_info[2]\n",
    "abstract1_idx = abstract1_info[1]\n",
    "\n",
    "abstracts_same_label = [\n",
    "    elem\n",
    "    for i, elem in enumerate(zip(abs_sentences, abs_toks, abs_amsk))\n",
    "    if (elem[0][0][2] == abstract1_label)\n",
    "    & (elem[0][0][1] != abstract1_idx)  # toy labels would be elem[0][0][2]\n",
    "]\n",
    "\n",
    "iabstract2 = rng.choice(len(abstracts_same_label), replace=False)\n",
    "isentence2 = rng.choice(\n",
    "    len(abstracts_same_label[iabstract2][0]), replace=False\n",
    ")\n",
    "abstract2_info = abstracts_same_label[iabstract2][0][isentence2]\n",
    "print(abstract2_info)\n",
    "\n",
    "output2 = [\n",
    "    abstracts_same_label[iabstract2][1][isentence2],\n",
    "    abstracts_same_label[iabstract2][2][isentence2],\n",
    "]\n",
    "print(output2)"
   ]
  },
  {
   "cell_type": "code",
   "execution_count": null,
   "metadata": {},
   "outputs": [],
   "source": [
    "# same thing as above but cleaner in function\n",
    "def __getitem__(self, idx):\n",
    "    # select sentence 1\n",
    "    isentence1 = self.rng.choice(len(abs_sentences[idx]), replace=False)\n",
    "    abstract1_info = self.abs_sentences[idx][isentence1]\n",
    "    output1 = (self.abs_toks[idx][isentence1], self.abs_amsk[idx][isentence1])\n",
    "\n",
    "    # select sentence 2\n",
    "    abstract1_label = abstract1_info[2]\n",
    "    abstract1_idx = abstract1_info[1]\n",
    "\n",
    "    abstracts_same_label = [\n",
    "        elem\n",
    "        for i, elem in enumerate(zip(abs_sentences, abs_toks, abs_mask))\n",
    "        if (elem[0][0][2] == abstract1_label)\n",
    "        & (elem[0][0][1] != abstract1_idx)\n",
    "    ]\n",
    "\n",
    "    iabstract2 = rng.choice(len(abstracts_same_label), replace=False)\n",
    "    isentence2 = rng.choice(\n",
    "        len(abstracts_same_label[iabstract2][0]), replace=False\n",
    "    )\n",
    "\n",
    "    output2 = (\n",
    "        abstracts_same_label[iabstract2][1][isentence2],\n",
    "        abstracts_same_label[iabstract2][2][isentence2],\n",
    "    )\n",
    "    return output1, output2"
   ]
  },
  {
   "cell_type": "markdown",
   "metadata": {},
   "source": [
    "#### code in class"
   ]
  },
  {
   "cell_type": "code",
   "execution_count": null,
   "metadata": {},
   "outputs": [],
   "source": [
    "class MultOverlappingSentencesLabelPairDataset(torch.utils.data.Dataset):\n",
    "    def __init__(\n",
    "        self,\n",
    "        abstracts,\n",
    "        labels,\n",
    "        tokenizer,\n",
    "        device,\n",
    "        n_cons_sntcs=2,\n",
    "        tokenizer_kwargs=None,\n",
    "        seed=42,\n",
    "    ):\n",
    "        # actually a list of tokens\n",
    "        self.abstracts = abstracts\n",
    "        self.labels = labels\n",
    "        self.n_cons_sntcs = n_cons_sntcs\n",
    "        self.rng = np.random.default_rng(seed)\n",
    "\n",
    "        # sentence map\n",
    "        self.sentences_map = []\n",
    "        for i, sentences in enumerate(\n",
    "            abstracts.map(lambda a: a.split(\".\"))\n",
    "        ):  # loop through abstracts\n",
    "            for j in range(\n",
    "                len(sentences) - (self.n_cons_sntcs - 1)\n",
    "            ):  # loop through sentences inside abstract\n",
    "                if (len(sentences[j]) >= 100) & (\n",
    "                    len(sentences[j]) <= 250\n",
    "                ):  # length conditions\n",
    "                    cons_sentences_pack = \"\"\n",
    "                    cons_sentence_counts = 0\n",
    "                    for k in range(\n",
    "                        len(sentences) - j\n",
    "                    ):  # loop through sentences to add them\n",
    "                        if (len(sentences[j + k]) >= 100) & (\n",
    "                            len(sentences[j + k]) <= 250\n",
    "                        ):  # length conditions\n",
    "                            cons_sentences_pack += (\n",
    "                                sentences[j + k].strip() + \". \"\n",
    "                            )\n",
    "                            cons_sentence_counts += 1\n",
    "\n",
    "                        if (\n",
    "                            cons_sentence_counts == self.n_cons_sntcs\n",
    "                        ):  # check if we have already enough sentences\n",
    "                            self.sentences_map.append(\n",
    "                                (cons_sentences_pack, i, self.labels[i])\n",
    "                            )\n",
    "                            break\n",
    "\n",
    "        if tokenizer_kwargs is None:\n",
    "            tokenizer_kwargs = dict(\n",
    "                max_length=512,\n",
    "                padding=True,\n",
    "                truncation=True,\n",
    "                return_tensors=\"pt\",\n",
    "            )\n",
    "\n",
    "        self.sentences_tok = tokenizer(\n",
    "            [x for x, _, _ in self.sentences_map], **tokenizer_kwargs\n",
    "        ).to(device)\n",
    "\n",
    "        # we group the flat sentences by the original abstract they\n",
    "        # come from.  Then we can check whether we have enough\n",
    "        # sentences and append the abstracts with at least two\n",
    "        # sentences to our list.\n",
    "        sentences_and_toks = zip(\n",
    "            self.sentences_map,\n",
    "            self.sentences_tok[\"input_ids\"],\n",
    "            self.sentences_tok[\"attention_mask\"],\n",
    "        )\n",
    "        self.abs_sentences = []\n",
    "        self.abs_toks = []\n",
    "        self.abs_amsk = []\n",
    "        for key, group in itertools.groupby(\n",
    "            sentences_and_toks,\n",
    "            key=lambda kvtoksetc: kvtoksetc[0][1],\n",
    "        ):\n",
    "            grp = list(group)\n",
    "            if len(grp) < 2:\n",
    "                continue  # not enough sentences\n",
    "            else:\n",
    "                self.abs_sentences.append([kv[0] for kv in grp])\n",
    "                self.abs_toks.append([x[1] for x in grp])\n",
    "                self.abs_amsk.append([x[2] for x in grp])\n",
    "\n",
    "        # we now have `self.abs_toks`, which is a list of lists,\n",
    "        # where the first list is the abstracts and the second is the\n",
    "        # token representation of the sentences within the given\n",
    "        # abstract.\n",
    "\n",
    "    def __getitem__(self, idx):\n",
    "        # select sentence 1\n",
    "        isentence1 = self.rng.choice(len(self.abs_sentences[idx]), replace=False)\n",
    "        abstract1_info = self.abs_sentences[idx][isentence1]\n",
    "        output1 = (\n",
    "            self.abs_toks[idx][isentence1],\n",
    "            self.abs_amsk[idx][isentence1],\n",
    "        )\n",
    "\n",
    "        # select sentence 2\n",
    "        abstract1_label = abstract1_info[2]\n",
    "        abstract1_idx = abstract1_info[1]\n",
    "\n",
    "        abstracts_same_label = [\n",
    "            elem\n",
    "            for i, elem in enumerate(\n",
    "                zip(self.abs_sentences, self.abs_toks, self.abs_amsk)\n",
    "            )\n",
    "            if (elem[0][0][2] == abstract1_label)\n",
    "            & (elem[0][0][1] != abstract1_idx)\n",
    "        ]\n",
    "\n",
    "        iabstract2 = self.rng.choice(len(abstracts_same_label), replace=False)\n",
    "        isentence2 = self.rng.choice(\n",
    "            len(abstracts_same_label[iabstract2][0]), replace=False\n",
    "        )\n",
    "\n",
    "        output2 = (\n",
    "            abstracts_same_label[iabstract2][1][isentence2],\n",
    "            abstracts_same_label[iabstract2][2][isentence2],\n",
    "        )\n",
    "        return output1, output2\n",
    "\n",
    "    def __len__(self):\n",
    "        return len(self.abs_sentences)"
   ]
  },
  {
   "cell_type": "code",
   "execution_count": null,
   "metadata": {},
   "outputs": [],
   "source": [
    "model_names = [\n",
    "    \"BERT\",\n",
    "    \"MPNet\",\n",
    "    \"SBERT\",\n",
    "    \"SciBERT\",\n",
    "    \"SPECTER\",\n",
    "    \"SciNCL\",\n",
    "]\n",
    "\n",
    "\n",
    "model_paths = [\n",
    "    \"bert-base-uncased\",\n",
    "    \"microsoft/mpnet-base\",\n",
    "    \"sentence-transformers/all-mpnet-base-v2\",\n",
    "    \"allenai/scibert_scivocab_uncased\",\n",
    "    \"allenai/specter\",\n",
    "    \"malteos/scincl\",\n",
    "]"
   ]
  },
  {
   "cell_type": "code",
   "execution_count": null,
   "metadata": {},
   "outputs": [
    {
     "name": "stdout",
     "output_type": "stream",
     "text": [
      "Model:  BERT\n",
      "Running on device: cuda\n",
      "bert-base-uncased\n"
     ]
    }
   ],
   "source": [
    "i = 0\n",
    "seed = 42\n",
    "# Set the random seed for PyTorch\n",
    "torch.manual_seed(seed)\n",
    "torch.backends.cudnn.benchmark = False\n",
    "torch.backends.cudnn.deterministic = True\n",
    "# torch.use_deterministic_algorithms(True)\n",
    "# Set the random seed for NumPy\n",
    "np.random.seed(seed)\n",
    "# Set the random seed\n",
    "random.seed(seed)\n",
    "\n",
    "# set up model\n",
    "print(\"Model: \", model_names[i])\n",
    "\n",
    "device = \"cuda\" if torch.cuda.is_available() else \"cpu\"\n",
    "print(\"Running on device: {}\".format(device))\n",
    "\n",
    "tokenizer = AutoTokenizer.from_pretrained(model_paths[i])\n",
    "# model = AutoModel.from_pretrained(model_paths[i])\n",
    "print(model_paths[i])"
   ]
  },
  {
   "cell_type": "code",
   "execution_count": null,
   "metadata": {},
   "outputs": [
    {
     "name": "stdout",
     "output_type": "stream",
     "text": [
      "6849\n",
      "<class 'pandas.core.series.Series'>\n",
      "6849\n",
      "<class 'pandas.core.series.Series'>\n"
     ]
    }
   ],
   "source": [
    "print(len(iclr.abstract[labeled]))\n",
    "print(type(iclr.abstract[labeled]))\n",
    "print(len(iclr_labeled[\"y\"]))\n",
    "print(type(iclr_labeled[\"y\"]))"
   ]
  },
  {
   "cell_type": "code",
   "execution_count": null,
   "metadata": {},
   "outputs": [
    {
     "name": "stdout",
     "output_type": "stream",
     "text": [
      "CPU times: user 14.2 s, sys: 4.22 s, total: 18.4 s\n",
      "Wall time: 2.51 s\n"
     ]
    }
   ],
   "source": [
    "%%time\n",
    "# data\n",
    "training_dataset = MultOverlappingSentencesLabelPairDataset(\n",
    "    iclr.abstract[labeled],\n",
    "    iclr_labeled[\"y\"],\n",
    "    tokenizer,\n",
    "    device,\n",
    "    n_cons_sntcs=1,\n",
    "    seed=42,\n",
    ")"
   ]
  },
  {
   "cell_type": "code",
   "execution_count": null,
   "metadata": {},
   "outputs": [
    {
     "data": {
      "text/plain": [
       "6803"
      ]
     },
     "execution_count": null,
     "metadata": {},
     "output_type": "execute_result"
    }
   ],
   "source": [
    "len(training_dataset)"
   ]
  },
  {
   "cell_type": "code",
   "execution_count": null,
   "metadata": {},
   "outputs": [
    {
     "data": {
      "text/plain": [
       "((tensor([  101,  2057,  4503,  1037, 23895,  4083,  2241,  3945,  3353,  2029,\n",
       "           2064,  6509,  5198,  2083,  1037,  2275,  1997,  4506,  1998,  5537,\n",
       "           1997, 10266,  2000,  9585,  2068,  5382,  2037,  7848,  1012,   102,\n",
       "              0,     0,     0,     0,     0,     0,     0,     0,     0,     0,\n",
       "              0,     0,     0,     0,     0,     0,     0,     0,     0,     0,\n",
       "              0,     0,     0,     0,     0,     0,     0,     0,     0,     0,\n",
       "              0,     0,     0,     0,     0,     0,     0,     0,     0,     0,\n",
       "              0,     0,     0,     0,     0,     0,     0,     0,     0,     0,\n",
       "              0,     0,     0,     0,     0,     0,     0,     0,     0,     0,\n",
       "              0,     0,     0,     0,     0,     0,     0,     0],\n",
       "         device='cuda:0'),\n",
       "  tensor([1, 1, 1, 1, 1, 1, 1, 1, 1, 1, 1, 1, 1, 1, 1, 1, 1, 1, 1, 1, 1, 1, 1, 1,\n",
       "          1, 1, 1, 1, 1, 1, 0, 0, 0, 0, 0, 0, 0, 0, 0, 0, 0, 0, 0, 0, 0, 0, 0, 0,\n",
       "          0, 0, 0, 0, 0, 0, 0, 0, 0, 0, 0, 0, 0, 0, 0, 0, 0, 0, 0, 0, 0, 0, 0, 0,\n",
       "          0, 0, 0, 0, 0, 0, 0, 0, 0, 0, 0, 0, 0, 0, 0, 0, 0, 0, 0, 0, 0, 0, 0, 0,\n",
       "          0, 0], device='cuda:0')),\n",
       " (tensor([  101,  7297,  1010,  1999,  5688,  2000,  3025,  2147,  1010,  2057,\n",
       "           5147, 10580,  2008,  1054,  2140, 13792,  2064,  2236,  5562,  6123,\n",
       "           8787, 25334,  3471,  2007,  7142,  4506,  2000,  2312,  6123,  7258,\n",
       "           1012,   102,     0,     0,     0,     0,     0,     0,     0,     0,\n",
       "              0,     0,     0,     0,     0,     0,     0,     0,     0,     0,\n",
       "              0,     0,     0,     0,     0,     0,     0,     0,     0,     0,\n",
       "              0,     0,     0,     0,     0,     0,     0,     0,     0,     0,\n",
       "              0,     0,     0,     0,     0,     0,     0,     0,     0,     0,\n",
       "              0,     0,     0,     0,     0,     0,     0,     0,     0,     0,\n",
       "              0,     0,     0,     0,     0,     0,     0,     0],\n",
       "         device='cuda:0'),\n",
       "  tensor([1, 1, 1, 1, 1, 1, 1, 1, 1, 1, 1, 1, 1, 1, 1, 1, 1, 1, 1, 1, 1, 1, 1, 1,\n",
       "          1, 1, 1, 1, 1, 1, 1, 1, 0, 0, 0, 0, 0, 0, 0, 0, 0, 0, 0, 0, 0, 0, 0, 0,\n",
       "          0, 0, 0, 0, 0, 0, 0, 0, 0, 0, 0, 0, 0, 0, 0, 0, 0, 0, 0, 0, 0, 0, 0, 0,\n",
       "          0, 0, 0, 0, 0, 0, 0, 0, 0, 0, 0, 0, 0, 0, 0, 0, 0, 0, 0, 0, 0, 0, 0, 0,\n",
       "          0, 0], device='cuda:0')))"
      ]
     },
     "execution_count": null,
     "metadata": {},
     "output_type": "execute_result"
    }
   ],
   "source": [
    "training_dataset[1]"
   ]
  },
  {
   "cell_type": "markdown",
   "metadata": {},
   "source": [
    "# Masked abstract"
   ]
  },
  {
   "cell_type": "markdown",
   "metadata": {},
   "source": [
    "QUESTIONS\n",
    "- is the attention mask the same if we have a [MASK] token somewhere?\n",
    "- do we want to take a fraction of the whole length or a fraction of the abstract length\n",
    "- do we want to also filter the abstracts by length?"
   ]
  },
  {
   "cell_type": "code",
   "execution_count": null,
   "metadata": {},
   "outputs": [],
   "source": [
    "abstracts = iclr.abstract"
   ]
  },
  {
   "cell_type": "code",
   "execution_count": null,
   "metadata": {},
   "outputs": [],
   "source": [
    "model_names = [\n",
    "    \"BERT\",\n",
    "    \"MPNet\",\n",
    "    \"SBERT\",\n",
    "    \"SciBERT\",\n",
    "    \"SPECTER\",\n",
    "    \"SciNCL\",\n",
    "]\n",
    "\n",
    "\n",
    "model_paths = [\n",
    "    \"bert-base-uncased\",\n",
    "    \"microsoft/mpnet-base\",\n",
    "    \"sentence-transformers/all-mpnet-base-v2\",\n",
    "    \"allenai/scibert_scivocab_uncased\",\n",
    "    \"allenai/specter\",\n",
    "    \"malteos/scincl\",\n",
    "]"
   ]
  },
  {
   "cell_type": "code",
   "execution_count": null,
   "metadata": {},
   "outputs": [
    {
     "name": "stdout",
     "output_type": "stream",
     "text": [
      "Model:  BERT\n",
      "Running on device: cuda\n",
      "bert-base-uncased\n"
     ]
    }
   ],
   "source": [
    "i = 0\n",
    "seed = 42\n",
    "# Set the random seed for PyTorch\n",
    "torch.manual_seed(seed)\n",
    "torch.backends.cudnn.benchmark = False\n",
    "torch.backends.cudnn.deterministic = True\n",
    "# torch.use_deterministic_algorithms(True)\n",
    "# Set the random seed for NumPy\n",
    "np.random.seed(seed)\n",
    "# Set the random seed\n",
    "random.seed(seed)\n",
    "\n",
    "# set up model\n",
    "print(\"Model: \", model_names[i])\n",
    "\n",
    "device = \"cuda\" if torch.cuda.is_available() else \"cpu\"\n",
    "print(\"Running on device: {}\".format(device))\n",
    "\n",
    "tokenizer = AutoTokenizer.from_pretrained(model_paths[i])\n",
    "# model = AutoModel.from_pretrained(model_paths[i])\n",
    "print(model_paths[i])"
   ]
  },
  {
   "cell_type": "markdown",
   "metadata": {},
   "source": [
    "## Explore distribution of abstracts lengths"
   ]
  },
  {
   "cell_type": "code",
   "execution_count": null,
   "metadata": {},
   "outputs": [
    {
     "name": "stdout",
     "output_type": "stream",
     "text": [
      "CPU times: user 5.77 ms, sys: 529 µs, total: 6.3 ms\n",
      "Wall time: 6.24 ms\n"
     ]
    }
   ],
   "source": [
    "%%time\n",
    "len_abstracts_characters = [len(x) for x in abstracts]"
   ]
  },
  {
   "cell_type": "code",
   "execution_count": null,
   "metadata": {},
   "outputs": [],
   "source": [
    "len_abstracts_characters = np.array(len_abstracts_characters)"
   ]
  },
  {
   "cell_type": "code",
   "execution_count": null,
   "metadata": {},
   "outputs": [
    {
     "name": "stdout",
     "output_type": "stream",
     "text": [
      "4999\n",
      "202\n"
     ]
    }
   ],
   "source": [
    "print(np.amax(len_abstracts_characters))\n",
    "print(np.amin(len_abstracts_characters))"
   ]
  },
  {
   "cell_type": "code",
   "execution_count": null,
   "metadata": {},
   "outputs": [],
   "source": [
    "bin_edges_characters = np.arange(200, 5000, 10)"
   ]
  },
  {
   "cell_type": "code",
   "execution_count": null,
   "metadata": {},
   "outputs": [
    {
     "name": "stdout",
     "output_type": "stream",
     "text": [
      "CPU times: user 1.83 ms, sys: 849 µs, total: 2.68 ms\n",
      "Wall time: 1.94 ms\n"
     ]
    }
   ],
   "source": [
    "%%time\n",
    "\n",
    "counts_characters, bins_characters = np.histogram(\n",
    "    len_abstracts_characters, bins=bin_edges_characters\n",
    ")"
   ]
  },
  {
   "cell_type": "code",
   "execution_count": null,
   "metadata": {},
   "outputs": [
    {
     "data": {
      "text/plain": [
       "[Text(0, 0, '0'),\n",
       " Text(250, 0, '250'),\n",
       " Text(500, 0, '500'),\n",
       " Text(750, 0, '750'),\n",
       " Text(1000, 0, '1000'),\n",
       " Text(1250, 0, '1250'),\n",
       " Text(1500, 0, '1500'),\n",
       " Text(1750, 0, '1750'),\n",
       " Text(2000, 0, '2000'),\n",
       " Text(2250, 0, '2250'),\n",
       " Text(2500, 0, '2500'),\n",
       " Text(2750, 0, '2750'),\n",
       " Text(3000, 0, '3000'),\n",
       " Text(3250, 0, '3250'),\n",
       " Text(3500, 0, '3500'),\n",
       " Text(3750, 0, '3750'),\n",
       " Text(4000, 0, '4000'),\n",
       " Text(4250, 0, '4250'),\n",
       " Text(4500, 0, '4500'),\n",
       " Text(4750, 0, '4750')]"
      ]
     },
     "execution_count": null,
     "metadata": {},
     "output_type": "execute_result"
    },
    {
     "data": {
      "image/png": "[encoded data removed]",
      "text/plain": [
       "<Figure size 900x600 with 1 Axes>"
      ]
     },
     "metadata": {},
     "output_type": "display_data"
    }
   ],
   "source": [
    "fig, ax = plt.subplots(figsize=(3, 2))\n",
    "\n",
    "ax.hist(bins_characters[:-1], bins_characters, weights=counts_characters)\n",
    "ax.set_ylabel(\"Number of papers\")\n",
    "ax.set_xlabel(\"Number of abstract characters\")\n",
    "ax.set_xticks(np.arange(0, 5000, 250))\n",
    "ax.set_xticklabels(np.arange(0, 5000, 250), fontsize=3)\n",
    "# ax.set_xlim(0, 3500)\n",
    "# ax.set_ylim(0, 350 * 1e3)"
   ]
  },
  {
   "cell_type": "markdown",
   "metadata": {},
   "source": [
    "## test: Fraction of the whole length"
   ]
  },
  {
   "cell_type": "code",
   "execution_count": null,
   "metadata": {},
   "outputs": [
    {
     "name": "stdout",
     "output_type": "stream",
     "text": [
      "In cities with tall buildings, emergency responders need an accurate floor level location to find 911 callers quickly. We introduce a system to estimate a victim's floor level via their mobile device's sensor data in a two-step process. First, we train a neural network to determine when a smartphone enters or exits a building via GPS signal changes. Second, we use a barometer equipped smartphone to measure the change in barometric pressure from the entrance of the building to the victim's indoor location. Unlike impractical previous approaches, our system is the first that does not require the use of beacons, prior knowledge of the building infrastructure, or knowledge of user behavior. We demonstrate real-world feasibility through 63 experiments across five different tall buildings throughout New York City where our system predicted the correct floor level with 100% accuracy.\n"
     ]
    }
   ],
   "source": [
    "print(abstracts[0])\n",
    "test_abstract = [\n",
    "    \"In cities with tall buildings, emergency responders need an accurate floor level location to find 911 callers quickly.\",\n",
    "    \"We introduce a system to estimate a victim's floor level via their mobile device's sensor data in a two-step process.\",\n",
    "]"
   ]
  },
  {
   "cell_type": "code",
   "execution_count": null,
   "metadata": {},
   "outputs": [],
   "source": [
    "tokenizer_kwargs = dict(\n",
    "    max_length=512,\n",
    "    padding=True,\n",
    "    truncation=True,\n",
    "    return_tensors=\"pt\",\n",
    ")"
   ]
  },
  {
   "cell_type": "code",
   "execution_count": null,
   "metadata": {},
   "outputs": [],
   "source": [
    "sentences_tok = tokenizer(\n",
    "    test_abstract, **tokenizer_kwargs, return_special_tokens_mask=True\n",
    ")  # .to(device)"
   ]
  },
  {
   "cell_type": "code",
   "execution_count": null,
   "metadata": {},
   "outputs": [
    {
     "data": {
      "text/plain": [
       "{'input_ids': tensor([[  101,  1999,  3655,  2007,  4206,  3121,  1010,  5057,  6869,  2545,\n",
       "          2342,  2019,  8321,  2723,  2504,  3295,  2000,  2424, 19989, 20587,\n",
       "          2015,  2855,  1012,   102,     0,     0,     0,     0,     0],\n",
       "        [  101,  2057,  8970,  1037,  2291,  2000, 10197,  1037,  6778,  1005,\n",
       "          1055,  2723,  2504,  3081,  2037,  4684,  5080,  1005,  1055, 13617,\n",
       "          2951,  1999,  1037,  2048,  1011,  3357,  2832,  1012,   102]]), 'token_type_ids': tensor([[0, 0, 0, 0, 0, 0, 0, 0, 0, 0, 0, 0, 0, 0, 0, 0, 0, 0, 0, 0, 0, 0, 0, 0,\n",
       "         0, 0, 0, 0, 0],\n",
       "        [0, 0, 0, 0, 0, 0, 0, 0, 0, 0, 0, 0, 0, 0, 0, 0, 0, 0, 0, 0, 0, 0, 0, 0,\n",
       "         0, 0, 0, 0, 0]]), 'attention_mask': tensor([[1, 1, 1, 1, 1, 1, 1, 1, 1, 1, 1, 1, 1, 1, 1, 1, 1, 1, 1, 1, 1, 1, 1, 1,\n",
       "         0, 0, 0, 0, 0],\n",
       "        [1, 1, 1, 1, 1, 1, 1, 1, 1, 1, 1, 1, 1, 1, 1, 1, 1, 1, 1, 1, 1, 1, 1, 1,\n",
       "         1, 1, 1, 1, 1]]), 'special_tokens_mask': tensor([[1, 0, 0, 0, 0, 0, 0, 0, 0, 0, 0, 0, 0, 0, 0, 0, 0, 0, 0, 0, 0, 0, 0, 1,\n",
       "         1, 1, 1, 1, 1],\n",
       "        [1, 0, 0, 0, 0, 0, 0, 0, 0, 0, 0, 0, 0, 0, 0, 0, 0, 0, 0, 0, 0, 0, 0, 0,\n",
       "         0, 0, 0, 0, 1]])}"
      ]
     },
     "execution_count": null,
     "metadata": {},
     "output_type": "execute_result"
    }
   ],
   "source": [
    "sentences_tok  # .keys()"
   ]
  },
  {
   "cell_type": "code",
   "execution_count": null,
   "metadata": {},
   "outputs": [],
   "source": [
    "mask_token_index = torch.where(\n",
    "    sentences_tok[\"input_ids\"] == tokenizer.mask_token_id\n",
    ")[1]"
   ]
  },
  {
   "cell_type": "code",
   "execution_count": null,
   "metadata": {},
   "outputs": [
    {
     "data": {
      "text/plain": [
       "int"
      ]
     },
     "execution_count": null,
     "metadata": {},
     "output_type": "execute_result"
    }
   ],
   "source": [
    "type(tokenizer.mask_token_id)"
   ]
  },
  {
   "cell_type": "code",
   "execution_count": null,
   "metadata": {},
   "outputs": [
    {
     "data": {
      "text/plain": [
       "'[MASK]'"
      ]
     },
     "execution_count": null,
     "metadata": {},
     "output_type": "execute_result"
    }
   ],
   "source": [
    "tokenizer.mask_token"
   ]
  },
  {
   "cell_type": "code",
   "execution_count": null,
   "metadata": {},
   "outputs": [
    {
     "name": "stdout",
     "output_type": "stream",
     "text": [
      "tensor([  101,  1999,  3655,  2007,  4206,  3121,  1010,  5057,  6869,  2545,\n",
      "         2342,  2019,  8321,  2723,  2504,  3295,  2000,  2424, 19989, 20587,\n",
      "         2015,  2855,  1012,   102,     0,     0,     0,     0,     0])\n",
      "tensor([1, 1, 1, 1, 1, 1, 1, 1, 1, 1, 1, 1, 1, 1, 1, 1, 1, 1, 1, 1, 1, 1, 1, 1,\n",
      "        0, 0, 0, 0, 0])\n",
      "tensor([1, 0, 0, 0, 0, 0, 0, 0, 0, 0, 0, 0, 0, 0, 0, 0, 0, 0, 0, 0, 0, 0, 0, 1,\n",
      "        1, 1, 1, 1, 1])\n"
     ]
    }
   ],
   "source": [
    "tokens = sentences_tok[\"input_ids\"][0]\n",
    "att_mask = sentences_tok[\"attention_mask\"][0]\n",
    "special_tokens_mask = sentences_tok[\"special_tokens_mask\"][0]\n",
    "print(tokens)\n",
    "print(att_mask)\n",
    "print(special_tokens_mask)\n"
   ]
  },
  {
   "cell_type": "code",
   "execution_count": null,
   "metadata": {},
   "outputs": [
    {
     "name": "stdout",
     "output_type": "stream",
     "text": [
      "torch.Size([29])\n",
      "24\n",
      "tensor(102)\n"
     ]
    }
   ],
   "source": [
    "print(att_mask.size())\n",
    "print(int(att_mask.sum()))\n",
    "print(tokens[int(att_mask.sum()) - 1])"
   ]
  },
  {
   "cell_type": "code",
   "execution_count": null,
   "metadata": {},
   "outputs": [
    {
     "data": {
      "text/plain": [
       "tensor([1, 0, 0, 0, 0, 0, 0, 0, 0, 0, 0, 0, 0, 0, 0, 0, 0, 0, 0, 0, 0, 0, 0, 1,\n",
       "        1, 1, 1, 1, 1])"
      ]
     },
     "execution_count": null,
     "metadata": {},
     "output_type": "execute_result"
    }
   ],
   "source": [
    "special_tokens_mask"
   ]
  },
  {
   "cell_type": "code",
   "execution_count": null,
   "metadata": {},
   "outputs": [
    {
     "data": {
      "text/plain": [
       "tensor([  101,  1999,  3655,  2007,  4206,  3121,  1010,  5057,  6869,  2545,\n",
       "         2342,  2019,  8321,  2723,  2504,  3295,  2000,  2424, 19989, 20587,\n",
       "         2015,  2855,  1012,   102,     0,     0,     0,     0,     0])"
      ]
     },
     "execution_count": null,
     "metadata": {},
     "output_type": "execute_result"
    }
   ],
   "source": [
    "tokens"
   ]
  },
  {
   "cell_type": "code",
   "execution_count": null,
   "metadata": {},
   "outputs": [],
   "source": [
    "seed = 42\n",
    "rng = np.random.default_rng(seed)"
   ]
  },
  {
   "cell_type": "code",
   "execution_count": null,
   "metadata": {},
   "outputs": [
    {
     "data": {
      "text/plain": [
       "tensor([0, 0, 1, 0, 0, 0, 0, 0, 0, 0, 0, 0, 0, 0, 1, 1, 0, 0, 0, 0, 0, 0, 0, 0,\n",
       "        0, 0, 0, 1, 1])"
      ]
     },
     "execution_count": null,
     "metadata": {},
     "output_type": "execute_result"
    }
   ],
   "source": [
    "mask = np.zeros(len(tokens), dtype=int)\n",
    "prob = 0.2\n",
    "mask[: round(len(tokens) * prob)] = 1\n",
    "rng.shuffle(mask)\n",
    "torch.from_numpy(mask)"
   ]
  },
  {
   "cell_type": "code",
   "execution_count": null,
   "metadata": {},
   "outputs": [],
   "source": [
    "test = torch.ones(att_mask.size(), dtype=int) * 103"
   ]
  },
  {
   "cell_type": "code",
   "execution_count": null,
   "metadata": {},
   "outputs": [
    {
     "data": {
      "text/plain": [
       "tensor([  101,  1999,  3655,  2007,  4206,  3121,  1010,  5057,  6869,  2545,\n",
       "         2342,  2019,  8321,  2723,   103,   103,  2000,  2424, 19989, 20587,\n",
       "         2015,  2855,  1012,   102,     0,     0,     0,     0,     0])"
      ]
     },
     "execution_count": null,
     "metadata": {},
     "output_type": "execute_result"
    }
   ],
   "source": [
    "torch.where((special_tokens_mask == 0) & (mask == 1), test, tokens)"
   ]
  },
  {
   "cell_type": "code",
   "execution_count": null,
   "metadata": {},
   "outputs": [
    {
     "data": {
      "text/plain": [
       "tensor([0, 0, 0, 0, 0, 0, 0, 0, 0, 0, 0, 0, 0, 0, 1, 1, 0, 0, 0, 0, 0, 0, 0, 1,\n",
       "        1, 0, 1, 0, 0])"
      ]
     },
     "metadata": {},
     "output_type": "display_data"
    }
   ],
   "source": [
    "# joined: FINAL\n",
    "mask = np.zeros(total_len, dtype=int)\n",
    "mask[: round(total_len * fraction_masked)] = 1\n",
    "rng.shuffle(mask)\n",
    "torch.from_numpy(mask)\n",
    "\n",
    "test = torch.ones(att_mask.size(), dtype=int) * 103\n",
    "\n",
    "sentences_1_masked = torch.where((special_tokens_mask == 0) & (mask == 1), test, tokens)"
   ]
  },
  {
   "cell_type": "code",
   "execution_count": null,
   "metadata": {},
   "outputs": [],
   "source": [
    "# import torch\n",
    "class MaskedAbstractDataset(torch.utils.data.Dataset):\n",
    "    \"\"\"FRACTION OF THE WHOLE LENGTH\n",
    "    THIS CLASS NEEDS CORRECTIONS OF MOVING THE THINGS OF GETITEM TO THE DEVICE LIKE THE CLASS THAT USES THE FRACTION OF THE INDIVIDUAL ABSTRACS\n",
    "    \n",
    "    \"\"\"\n",
    "    def __init__(self, abstracts, tokenizer, device, tokenizer_kwargs=None, fraction_masked = 0.4, seed=42):\n",
    "        # actually a list of tokens\n",
    "        self.abstracts = abstracts\n",
    "        self.rng = np.random.default_rng(seed)\n",
    "        self.fraction_masked = fraction_masked\n",
    "\n",
    "        if tokenizer_kwargs is None:\n",
    "            tokenizer_kwargs = dict(\n",
    "                max_length=512,\n",
    "                padding=True,\n",
    "                truncation=True,\n",
    "                return_tensors=\"pt\",\n",
    "                return_special_tokens_mask=True, # this one is new and important for this class\n",
    "            )\n",
    "\n",
    "        self.abstracts_tok = tokenizer(\n",
    "            self.abstracts, **tokenizer_kwargs\n",
    "        ).to(device)\n",
    "\n",
    "        \n",
    "    def __getitem__(self, idx):\n",
    "        \"\"\"\n",
    "        In this function you input a index idx and it selects ...\n",
    "        \"\"\"\n",
    "        # get original abstracts and masks\n",
    "        abstract = self.abstracts_tok[\"input_ids\"][idx]\n",
    "        amask = self.abstracts_tok[\"attention_mask\"][idx]\n",
    "        special_tokens_mask = self.abstracts_tok[\"special_tokens_mask\"][idx]\n",
    "\n",
    "        masked_token_value = torch.ones(abstract.size(), dtype=int) * 103\n",
    "\n",
    "        # masked abstract 1 -- maybe make this into function; ask Nik\n",
    "        mask_1 = np.zeros(len(abstract), dtype=int)\n",
    "        mask_1[: round(len(abstract) * self.fraction_masked)] = 1 \n",
    "        self.rng.shuffle(mask_1)\n",
    "        torch.from_numpy(mask_1)\n",
    "\n",
    "        abstract_1 = torch.where((special_tokens_mask == 0) & (mask_1 == 1), masked_token_value, abstract)\n",
    "\n",
    "         # masked abstract 2 -- maybe make this into function; ask Nik\n",
    "        mask_2 = np.zeros(len(abstract), dtype=int)\n",
    "        mask_2[: round(len(abstract) * self.fraction_masked)] = 1\n",
    "        self.rng.shuffle(mask_2)\n",
    "        torch.from_numpy(mask_2)\n",
    "\n",
    "        abstract_2 = torch.where((special_tokens_mask == 0) & (mask_2 == 1), masked_token_value, abstract)\n",
    "\n",
    "        return (abstract_1, amask), (abstract_2, amask)\n",
    "\n",
    "    def __len__(self):\n",
    "        return len(self.abstracts)"
   ]
  },
  {
   "cell_type": "markdown",
   "metadata": {},
   "source": [
    "## test: Fraction of the individual abstract length"
   ]
  },
  {
   "cell_type": "code",
   "execution_count": null,
   "metadata": {},
   "outputs": [
    {
     "name": "stdout",
     "output_type": "stream",
     "text": [
      "In cities with tall buildings, emergency responders need an accurate floor level location to find 911 callers quickly. We introduce a system to estimate a victim's floor level via their mobile device's sensor data in a two-step process. First, we train a neural network to determine when a smartphone enters or exits a building via GPS signal changes. Second, we use a barometer equipped smartphone to measure the change in barometric pressure from the entrance of the building to the victim's indoor location. Unlike impractical previous approaches, our system is the first that does not require the use of beacons, prior knowledge of the building infrastructure, or knowledge of user behavior. We demonstrate real-world feasibility through 63 experiments across five different tall buildings throughout New York City where our system predicted the correct floor level with 100% accuracy.\n"
     ]
    }
   ],
   "source": [
    "print(abstracts[0])\n",
    "test_abstract = [\n",
    "    \"In cities with tall buildings, emergency responders need an accurate floor level location to find 911 callers quickly.\",\n",
    "    \"We introduce a system to estimate a victim's floor level via their mobile device's sensor data in a two-step process.\",\n",
    "]"
   ]
  },
  {
   "cell_type": "code",
   "execution_count": null,
   "metadata": {},
   "outputs": [],
   "source": [
    "tokenizer_kwargs = dict(\n",
    "    max_length=512,\n",
    "    padding=True,\n",
    "    truncation=True,\n",
    "    return_tensors=\"pt\",\n",
    ")"
   ]
  },
  {
   "cell_type": "code",
   "execution_count": null,
   "metadata": {},
   "outputs": [],
   "source": [
    "sentences_tok = tokenizer(\n",
    "    test_abstract, **tokenizer_kwargs, return_special_tokens_mask=True\n",
    ")  # .to(device)"
   ]
  },
  {
   "cell_type": "code",
   "execution_count": null,
   "metadata": {},
   "outputs": [
    {
     "data": {
      "text/plain": [
       "{'input_ids': tensor([[  101,  1999,  3655,  2007,  4206,  3121,  1010,  5057,  6869,  2545,\n",
       "          2342,  2019,  8321,  2723,  2504,  3295,  2000,  2424, 19989, 20587,\n",
       "          2015,  2855,  1012,   102,     0,     0,     0,     0,     0],\n",
       "        [  101,  2057,  8970,  1037,  2291,  2000, 10197,  1037,  6778,  1005,\n",
       "          1055,  2723,  2504,  3081,  2037,  4684,  5080,  1005,  1055, 13617,\n",
       "          2951,  1999,  1037,  2048,  1011,  3357,  2832,  1012,   102]]), 'token_type_ids': tensor([[0, 0, 0, 0, 0, 0, 0, 0, 0, 0, 0, 0, 0, 0, 0, 0, 0, 0, 0, 0, 0, 0, 0, 0,\n",
       "         0, 0, 0, 0, 0],\n",
       "        [0, 0, 0, 0, 0, 0, 0, 0, 0, 0, 0, 0, 0, 0, 0, 0, 0, 0, 0, 0, 0, 0, 0, 0,\n",
       "         0, 0, 0, 0, 0]]), 'attention_mask': tensor([[1, 1, 1, 1, 1, 1, 1, 1, 1, 1, 1, 1, 1, 1, 1, 1, 1, 1, 1, 1, 1, 1, 1, 1,\n",
       "         0, 0, 0, 0, 0],\n",
       "        [1, 1, 1, 1, 1, 1, 1, 1, 1, 1, 1, 1, 1, 1, 1, 1, 1, 1, 1, 1, 1, 1, 1, 1,\n",
       "         1, 1, 1, 1, 1]]), 'special_tokens_mask': tensor([[1, 0, 0, 0, 0, 0, 0, 0, 0, 0, 0, 0, 0, 0, 0, 0, 0, 0, 0, 0, 0, 0, 0, 1,\n",
       "         1, 1, 1, 1, 1],\n",
       "        [1, 0, 0, 0, 0, 0, 0, 0, 0, 0, 0, 0, 0, 0, 0, 0, 0, 0, 0, 0, 0, 0, 0, 0,\n",
       "         0, 0, 0, 0, 1]])}"
      ]
     },
     "execution_count": null,
     "metadata": {},
     "output_type": "execute_result"
    }
   ],
   "source": [
    "sentences_tok  # .keys()"
   ]
  },
  {
   "cell_type": "code",
   "execution_count": null,
   "metadata": {},
   "outputs": [
    {
     "name": "stdout",
     "output_type": "stream",
     "text": [
      "tensor([  101,  1999,  3655,  2007,  4206,  3121,  1010,  5057,  6869,  2545,\n",
      "         2342,  2019,  8321,  2723,  2504,  3295,  2000,  2424, 19989, 20587,\n",
      "         2015,  2855,  1012,   102,     0,     0,     0,     0,     0])\n",
      "tensor([1, 1, 1, 1, 1, 1, 1, 1, 1, 1, 1, 1, 1, 1, 1, 1, 1, 1, 1, 1, 1, 1, 1, 1,\n",
      "        0, 0, 0, 0, 0])\n",
      "tensor([1, 0, 0, 0, 0, 0, 0, 0, 0, 0, 0, 0, 0, 0, 0, 0, 0, 0, 0, 0, 0, 0, 0, 1,\n",
      "        1, 1, 1, 1, 1])\n"
     ]
    }
   ],
   "source": [
    "tokens = sentences_tok[\"input_ids\"][0]\n",
    "att_mask = sentences_tok[\"attention_mask\"][0]\n",
    "special_tokens_mask = sentences_tok[\"special_tokens_mask\"][0]\n",
    "print(tokens)\n",
    "print(att_mask)\n",
    "print(special_tokens_mask)"
   ]
  },
  {
   "cell_type": "code",
   "execution_count": null,
   "metadata": {},
   "outputs": [
    {
     "data": {
      "text/plain": [
       "4"
      ]
     },
     "execution_count": null,
     "metadata": {},
     "output_type": "execute_result"
    }
   ],
   "source": [
    "len(np.arange(4))"
   ]
  },
  {
   "cell_type": "code",
   "execution_count": null,
   "metadata": {},
   "outputs": [
    {
     "name": "stdout",
     "output_type": "stream",
     "text": [
      "torch.Size([29])\n",
      "24\n",
      "tensor(102)\n"
     ]
    }
   ],
   "source": [
    "print(att_mask.size())\n",
    "print(int(att_mask.sum()))\n",
    "print(tokens[int(att_mask.sum()) - 1])"
   ]
  },
  {
   "cell_type": "code",
   "execution_count": null,
   "metadata": {},
   "outputs": [
    {
     "data": {
      "text/plain": [
       "tensor([1, 0, 0, 0, 0, 0, 0, 0, 0, 0, 0, 0, 0, 0, 0, 0, 0, 0, 0, 0, 0, 0, 0, 1,\n",
       "        1, 1, 1, 1, 1])"
      ]
     },
     "execution_count": null,
     "metadata": {},
     "output_type": "execute_result"
    }
   ],
   "source": [
    "special_tokens_mask"
   ]
  },
  {
   "cell_type": "code",
   "execution_count": null,
   "metadata": {},
   "outputs": [
    {
     "data": {
      "text/plain": [
       "22"
      ]
     },
     "execution_count": null,
     "metadata": {},
     "output_type": "execute_result"
    }
   ],
   "source": [
    "int((special_tokens_mask == 0).sum())"
   ]
  },
  {
   "cell_type": "code",
   "execution_count": null,
   "metadata": {},
   "outputs": [
    {
     "data": {
      "text/plain": [
       "tensor([  101,  1999,  3655,  2007,  4206,  3121,  1010,  5057,  6869,  2545,\n",
       "         2342,  2019,  8321,  2723,  2504,  3295,  2000,  2424, 19989, 20587,\n",
       "         2015,  2855,  1012,   102,     0,     0,     0,     0,     0])"
      ]
     },
     "execution_count": null,
     "metadata": {},
     "output_type": "execute_result"
    }
   ],
   "source": [
    "tokens"
   ]
  },
  {
   "cell_type": "code",
   "execution_count": null,
   "metadata": {},
   "outputs": [],
   "source": [
    "seed = 42\n",
    "rng = np.random.default_rng(seed)"
   ]
  },
  {
   "cell_type": "code",
   "execution_count": null,
   "metadata": {},
   "outputs": [
    {
     "name": "stdout",
     "output_type": "stream",
     "text": [
      "[0 1 2 3] (4,)\n"
     ]
    },
    {
     "data": {
      "text/plain": [
       "array([0, 0, 1, 2, 3, 0, 0, 0])"
      ]
     },
     "execution_count": null,
     "metadata": {},
     "output_type": "execute_result"
    }
   ],
   "source": [
    "a = np.arange(4)\n",
    "print(a, a.shape)\n",
    "np.pad(a, (1, 8 - len(a) - 1))"
   ]
  },
  {
   "cell_type": "code",
   "execution_count": null,
   "metadata": {},
   "outputs": [
    {
     "name": "stdout",
     "output_type": "stream",
     "text": [
      "(22,)\n",
      "[1 0 0 0 0 0 0 1 1 0 0 1 0 0 0 0 0 0 0 0 0 0]\n",
      "(29,)\n"
     ]
    },
    {
     "data": {
      "text/plain": [
       "tensor([0, 1, 0, 0, 0, 0, 0, 0, 1, 1, 0, 0, 1, 0, 0, 0, 0, 0, 0, 0, 0, 0, 0, 0,\n",
       "        0, 0, 0, 0, 0])"
      ]
     },
     "execution_count": null,
     "metadata": {},
     "output_type": "execute_result"
    }
   ],
   "source": [
    "#BUENO\n",
    "total_len = int((special_tokens_mask == 0).sum())\n",
    "prob = 0.2\n",
    "\n",
    "mask = np.zeros(total_len, dtype=int)\n",
    "mask[: round(total_len * prob)] = 1\n",
    "rng.shuffle(mask)\n",
    "print(mask.shape)\n",
    "print(mask)\n",
    "\n",
    "mask = np.pad(mask, (1, len(tokens) - total_len - 1))\n",
    "print(mask.shape)\n",
    "torch.from_numpy(mask)"
   ]
  },
  {
   "cell_type": "code",
   "execution_count": null,
   "metadata": {},
   "outputs": [],
   "source": [
    "# import torch\n",
    "class MaskedAbstractDataset(torch.utils.data.Dataset):\n",
    "    \"\"\"FRACTION OF THE INDIVIDUAL ABSTRACT LENGTH\"\"\"\n",
    "\n",
    "    def __init__(\n",
    "        self,\n",
    "        abstracts,\n",
    "        tokenizer,\n",
    "        device,\n",
    "        tokenizer_kwargs=None,\n",
    "        fraction_masked=0.4,\n",
    "        seed=42,\n",
    "    ):\n",
    "        # actually a list of tokens\n",
    "        self.abstracts = abstracts\n",
    "        self.rng = np.random.default_rng(seed)\n",
    "        self.fraction_masked = fraction_masked\n",
    "\n",
    "        if tokenizer_kwargs is None:\n",
    "            tokenizer_kwargs = dict(\n",
    "                max_length=512,\n",
    "                padding=True,\n",
    "                truncation=True,\n",
    "                return_tensors=\"pt\",\n",
    "                return_special_tokens_mask=True,  # this one is new and important for this class\n",
    "            )\n",
    "\n",
    "        self.abstracts_tok = tokenizer(self.abstracts, **tokenizer_kwargs).to(\n",
    "            device\n",
    "        )\n",
    "\n",
    "    def __getitem__(self, idx):\n",
    "        \"\"\"\n",
    "        In this function you input a index idx and it selects ...\n",
    "        \"\"\"\n",
    "        # get original abstracts and masks\n",
    "        abstract = self.abstracts_tok[\"input_ids\"][idx]\n",
    "        amask = self.abstracts_tok[\"attention_mask\"][idx]\n",
    "        special_tokens_mask = self.abstracts_tok[\"special_tokens_mask\"][idx]\n",
    "\n",
    "        masked_token_value = (\n",
    "            torch.ones(abstract.size(), dtype=int, device=device) * 103\n",
    "        )\n",
    "        real_abstract_length = int((special_tokens_mask == 0).sum())\n",
    "\n",
    "        # masked abstract 1 -- maybe make this into function; ask Nik\n",
    "        mask_1 = np.zeros(real_abstract_length, dtype=int)\n",
    "        mask_1[: round(real_abstract_length * self.fraction_masked)] = 1\n",
    "        self.rng.shuffle(mask_1)\n",
    "        mask_1 = np.pad(\n",
    "            mask_1, (1, len(abstract) - real_abstract_length - 1)\n",
    "        )  # pad 1 zero at the beggining for the CLS token, and pad the end to fill until reaching original length\n",
    "        mask_1 = torch.from_numpy(mask_1).to(device)\n",
    "\n",
    "        abstract_1 = torch.where(\n",
    "            (special_tokens_mask == 0) & (mask_1 == 1),\n",
    "            masked_token_value,\n",
    "            abstract,\n",
    "        )\n",
    "\n",
    "        # masked abstract 2 -- maybe make this into function; ask Nik\n",
    "        mask_2 = np.zeros(real_abstract_length, dtype=int)\n",
    "        mask_2[: round(real_abstract_length * self.fraction_masked)] = 1\n",
    "        self.rng.shuffle(mask_2)\n",
    "        mask_2 = np.pad(mask_2, (1, len(abstract) - real_abstract_length - 1))\n",
    "        mask_2 = torch.from_numpy(mask_2).to(device)\n",
    "\n",
    "        abstract_2 = torch.where(\n",
    "            (special_tokens_mask == 0) & (mask_2 == 1),\n",
    "            masked_token_value,\n",
    "            abstract,\n",
    "        )\n",
    "\n",
    "        return (abstract_1, amask), (abstract_2, amask)\n",
    "\n",
    "    def __len__(self):\n",
    "        return len(self.abstracts)"
   ]
  },
  {
   "cell_type": "markdown",
   "metadata": {},
   "source": [
    "### Test class"
   ]
  },
  {
   "cell_type": "markdown",
   "metadata": {},
   "source": [
    "#### Dummy test"
   ]
  },
  {
   "cell_type": "code",
   "execution_count": null,
   "metadata": {},
   "outputs": [],
   "source": [
    "model_names = [\n",
    "    \"BERT\",\n",
    "    \"MPNet\",\n",
    "    \"SBERT\",\n",
    "    \"SciBERT\",\n",
    "    \"SPECTER\",\n",
    "    \"SciNCL\",\n",
    "]\n",
    "\n",
    "\n",
    "model_paths = [\n",
    "    \"bert-base-uncased\",\n",
    "    \"microsoft/mpnet-base\",\n",
    "    \"sentence-transformers/all-mpnet-base-v2\",\n",
    "    \"allenai/scibert_scivocab_uncased\",\n",
    "    \"allenai/specter\",\n",
    "    \"malteos/scincl\",\n",
    "]"
   ]
  },
  {
   "cell_type": "code",
   "execution_count": null,
   "metadata": {},
   "outputs": [
    {
     "name": "stdout",
     "output_type": "stream",
     "text": [
      "Model:  BERT\n",
      "Running on device: cuda\n",
      "bert-base-uncased\n"
     ]
    }
   ],
   "source": [
    "i = 0\n",
    "seed = 42\n",
    "# Set the random seed for PyTorch\n",
    "torch.manual_seed(seed)\n",
    "torch.backends.cudnn.benchmark = False\n",
    "torch.backends.cudnn.deterministic = True\n",
    "# torch.use_deterministic_algorithms(True)\n",
    "# Set the random seed for NumPy\n",
    "np.random.seed(seed)\n",
    "# Set the random seed\n",
    "random.seed(seed)\n",
    "\n",
    "# set up model\n",
    "print(\"Model: \", model_names[i])\n",
    "\n",
    "device = \"cuda\" if torch.cuda.is_available() else \"cpu\"\n",
    "print(\"Running on device: {}\".format(device))\n",
    "\n",
    "tokenizer = AutoTokenizer.from_pretrained(model_paths[i])\n",
    "# model = AutoModel.from_pretrained(model_paths[i])\n",
    "print(model_paths[i])"
   ]
  },
  {
   "cell_type": "code",
   "execution_count": null,
   "metadata": {},
   "outputs": [
    {
     "name": "stdout",
     "output_type": "stream",
     "text": [
      "In cities with tall buildings, emergency responders need an accurate floor level location to find 911 callers quickly. We introduce a system to estimate a victim's floor level via their mobile device's sensor data in a two-step process. First, we train a neural network to determine when a smartphone enters or exits a building via GPS signal changes. Second, we use a barometer equipped smartphone to measure the change in barometric pressure from the entrance of the building to the victim's indoor location. Unlike impractical previous approaches, our system is the first that does not require the use of beacons, prior knowledge of the building infrastructure, or knowledge of user behavior. We demonstrate real-world feasibility through 63 experiments across five different tall buildings throughout New York City where our system predicted the correct floor level with 100% accuracy.\n",
      "['In cities with tall buildings, emergency responders need an accurate floor level location to find 911 callers quickly.', \"We introduce a system to estimate a victim's floor level via their mobile device's sensor data in a two-step process.\"]\n"
     ]
    }
   ],
   "source": [
    "print(abstracts[0])\n",
    "test_abstract = [\n",
    "    \"In cities with tall buildings, emergency responders need an accurate floor level location to find 911 callers quickly.\",\n",
    "    \"We introduce a system to estimate a victim's floor level via their mobile device's sensor data in a two-step process.\",\n",
    "]\n",
    "print(test_abstract)"
   ]
  },
  {
   "cell_type": "code",
   "execution_count": null,
   "metadata": {},
   "outputs": [],
   "source": [
    "tokenizer_kwargs = dict(\n",
    "    max_length=512,\n",
    "    padding=True,\n",
    "    truncation=True,\n",
    "    return_tensors=\"pt\",\n",
    ")"
   ]
  },
  {
   "cell_type": "code",
   "execution_count": null,
   "metadata": {},
   "outputs": [],
   "source": [
    "abstracts_tok = tokenizer(\n",
    "    test_abstract, **tokenizer_kwargs, return_special_tokens_mask=True\n",
    ").to(device)"
   ]
  },
  {
   "cell_type": "code",
   "execution_count": null,
   "metadata": {},
   "outputs": [],
   "source": [
    "seed = 42\n",
    "rng = np.random.default_rng(seed)\n",
    "fraction_masked = 0.4\n",
    "idx = 1"
   ]
  },
  {
   "cell_type": "code",
   "execution_count": null,
   "metadata": {},
   "outputs": [],
   "source": [
    "abstract = abstracts_tok[\"input_ids\"][idx]\n",
    "amask = abstracts_tok[\"attention_mask\"][idx]\n",
    "special_tokens_mask = abstracts_tok[\"special_tokens_mask\"][idx]\n",
    "\n",
    "masked_token_value_1 = (\n",
    "    torch.ones(abstract.size(), dtype=int, device=device) * 103\n",
    ")\n",
    "real_sentences_length_1 = int((special_tokens_mask == 0).sum())\n",
    "\n",
    "# masked abstract 1 -- maybe make this into function; ask Nik\n",
    "mask_1 = np.zeros(real_sentences_length_1, dtype=int)\n",
    "mask_1[: round(real_sentences_length_1 * fraction_masked)] = 1\n",
    "rng.shuffle(mask_1)\n",
    "mask_1 = np.pad(\n",
    "    mask_1, (1, len(abstract) - real_sentences_length_1 - 1)\n",
    ")  # pad 1 zero at the beggining for the CLS token, and pad the end to fill until reaching original length\n",
    "mask_1 = torch.from_numpy(mask_1).to(device)\n",
    "\n",
    "sentences_1_masked = torch.where(\n",
    "    (special_tokens_mask == 0) & (mask_1 == 1), masked_token_value_1, abstract\n",
    ")\n",
    "\n",
    "# masked abstract 2 -- maybe make this into function; ask Nik\n",
    "mask_2 = np.zeros(real_sentences_length_1, dtype=int)\n",
    "mask_2[: round(real_sentences_length_1 * fraction_masked)] = 1\n",
    "rng.shuffle(mask_2)\n",
    "mask_2 = np.pad(mask_2, (1, len(abstract) - real_sentences_length_1 - 1))\n",
    "mask_2 = torch.from_numpy(mask_2).to(device)\n",
    "\n",
    "sentences_2_masked = torch.where(\n",
    "    (special_tokens_mask == 0) & (mask_2 == 1), masked_token_value_1, abstract\n",
    ")"
   ]
  },
  {
   "cell_type": "code",
   "execution_count": null,
   "metadata": {},
   "outputs": [
    {
     "name": "stdout",
     "output_type": "stream",
     "text": [
      "tensor([  101,  2057,  8970,  1037,  2291,  2000, 10197,  1037,  6778,  1005,\n",
      "         1055,  2723,  2504,  3081,  2037,  4684,  5080,  1005,  1055, 13617,\n",
      "         2951,  1999,  1037,  2048,  1011,  3357,  2832,  1012,   102])\n",
      "tensor([  101,   103,  8970,  1037,  2291,  2000,   103,  1037,  6778,  1005,\n",
      "          103,   103,   103,  3081,   103,   103,  5080,  1005,  1055, 13617,\n",
      "         2951,  1999,   103,   103,  1011,   103,  2832,   103,   102])\n",
      "tensor([  101,   103,   103,   103,  2291,  2000,   103,  1037,  6778,  1005,\n",
      "          103,  2723,   103,  3081,   103,   103,  5080,  1005,   103, 13617,\n",
      "         2951,  1999,  1037,  2048,  1011,  3357,   103,   103,   102])\n"
     ]
    }
   ],
   "source": [
    "print(abstract)\n",
    "print(sentences_1_masked)\n",
    "print(sentences_2_masked)"
   ]
  },
  {
   "cell_type": "code",
   "execution_count": null,
   "metadata": {},
   "outputs": [
    {
     "name": "stdout",
     "output_type": "stream",
     "text": [
      "<class 'torch.Tensor'>\n",
      "<class 'torch.Tensor'>\n"
     ]
    }
   ],
   "source": [
    "print(type(abstract))\n",
    "print(type(sentences_1_masked))"
   ]
  },
  {
   "cell_type": "markdown",
   "metadata": {},
   "source": [
    "#### Real test: WORKS"
   ]
  },
  {
   "cell_type": "code",
   "execution_count": null,
   "metadata": {},
   "outputs": [],
   "source": [
    "# RUN CLASS ABOVE"
   ]
  },
  {
   "cell_type": "code",
   "execution_count": null,
   "metadata": {},
   "outputs": [],
   "source": [
    "model_names = [\n",
    "    \"BERT\",\n",
    "    \"MPNet\",\n",
    "    \"SBERT\",\n",
    "    \"SciBERT\",\n",
    "    \"SPECTER\",\n",
    "    \"SciNCL\",\n",
    "]\n",
    "\n",
    "\n",
    "model_paths = [\n",
    "    \"bert-base-uncased\",\n",
    "    \"microsoft/mpnet-base\",\n",
    "    \"sentence-transformers/all-mpnet-base-v2\",\n",
    "    \"allenai/scibert_scivocab_uncased\",\n",
    "    \"allenai/specter\",\n",
    "    \"malteos/scincl\",\n",
    "]"
   ]
  },
  {
   "cell_type": "code",
   "execution_count": null,
   "metadata": {},
   "outputs": [
    {
     "name": "stdout",
     "output_type": "stream",
     "text": [
      "Model:  BERT\n",
      "Running on device: cuda\n",
      "bert-base-uncased\n"
     ]
    }
   ],
   "source": [
    "i = 0\n",
    "seed = 42\n",
    "# Set the random seed for PyTorch\n",
    "torch.manual_seed(seed)\n",
    "torch.backends.cudnn.benchmark = False\n",
    "torch.backends.cudnn.deterministic = True\n",
    "# torch.use_deterministic_algorithms(True)\n",
    "# Set the random seed for NumPy\n",
    "np.random.seed(seed)\n",
    "# Set the random seed\n",
    "random.seed(seed)\n",
    "\n",
    "# set up model\n",
    "print(\"Model: \", model_names[i])\n",
    "\n",
    "device = \"cuda\" if torch.cuda.is_available() else \"cpu\"\n",
    "print(\"Running on device: {}\".format(device))\n",
    "\n",
    "tokenizer = AutoTokenizer.from_pretrained(model_paths[i])\n",
    "# model = AutoModel.from_pretrained(model_paths[i])\n",
    "print(model_paths[i])"
   ]
  },
  {
   "cell_type": "code",
   "execution_count": null,
   "metadata": {},
   "outputs": [
    {
     "name": "stdout",
     "output_type": "stream",
     "text": [
      "CPU times: user 31.2 s, sys: 4.9 s, total: 36.1 s\n",
      "Wall time: 4.63 s\n"
     ]
    }
   ],
   "source": [
    "%%time\n",
    "# data\n",
    "training_dataset = MaskedAbstractDataset(\n",
    "    iclr.abstract.tolist(), tokenizer, device, fraction_masked=0.4, seed=42\n",
    ")"
   ]
  },
  {
   "cell_type": "code",
   "execution_count": null,
   "metadata": {},
   "outputs": [
    {
     "name": "stdout",
     "output_type": "stream",
     "text": [
      "16536\n",
      "16536\n"
     ]
    }
   ],
   "source": [
    "print(len(iclr.abstract))\n",
    "print(len(training_dataset))"
   ]
  },
  {
   "cell_type": "code",
   "execution_count": null,
   "metadata": {},
   "outputs": [],
   "source": [
    "test_sample = training_dataset[0]"
   ]
  },
  {
   "cell_type": "code",
   "execution_count": null,
   "metadata": {},
   "outputs": [
    {
     "name": "stdout",
     "output_type": "stream",
     "text": [
      "tensor([  101,  1999,   103,  2007,  4206,   103,   103,  5057,  6869,   103,\n",
      "          103,  2019,   103,  2723,   103,   103,  2000,  2424,   103, 20587,\n",
      "         2015,  2855,  1012,  2057,  8970,   103,  2291,   103,   103,  1037,\n",
      "          103,   103,   103,  2723,   103,  3081,  2037,   103,  5080,  1005,\n",
      "          103,   103,  2951,  1999,   103,   103,  1011,   103,  2832,  1012,\n",
      "         2034,   103,  2057,  3345,  1037,   103,  2897,  2000,   103,  2043,\n",
      "         1037, 26381,  8039,  2030, 16639,  1037,  2311,   103, 14658,  4742,\n",
      "          103,  1012,   103,  1010,  2057,  2224,  1037,  3347, 18721,  6055,\n",
      "        26381,  2000,   103,  1996,   103,  1999,  3347, 28993,  3778,  2013,\n",
      "         1996,   103,  1997,  1996,   103,   103,  1996,  6778,  1005,  1055,\n",
      "          103,  3295,  1012,  4406, 17727, 22648,   103,  3025,   103,   103,\n",
      "         2256,   103,  2003,   103,   103,   103,  2515,   103,  5478,  1996,\n",
      "          103,  1997, 14400,  2015,  1010,  3188,   103,  1997,  1996,  2311,\n",
      "          103,   103,  2030,   103,   103,  5310,   103,  1012,   103,   103,\n",
      "         2613,  1011,   103,   103,   103,  6191,   103,   103,   103,   103,\n",
      "         4206,   103,   103,  2047,  2259,  2103,   103,  2256,   103,   103,\n",
      "          103,   103,  2723,  2504,   103,  2531,   103, 10640,  1012,   102,\n",
      "            0,     0,     0,     0,     0,     0,     0,     0,     0,     0,\n",
      "            0,     0,     0,     0,     0,     0,     0,     0,     0,     0,\n",
      "            0,     0,     0,     0,     0,     0,     0,     0,     0,     0,\n",
      "            0,     0,     0,     0,     0,     0,     0,     0,     0,     0,\n",
      "            0,     0,     0,     0,     0,     0,     0,     0,     0,     0,\n",
      "            0,     0,     0,     0,     0,     0,     0,     0,     0,     0,\n",
      "            0,     0,     0,     0,     0,     0,     0,     0,     0,     0,\n",
      "            0,     0,     0,     0,     0,     0,     0,     0,     0,     0,\n",
      "            0,     0,     0,     0,     0,     0,     0,     0,     0,     0,\n",
      "            0,     0,     0,     0,     0,     0,     0,     0,     0,     0,\n",
      "            0,     0,     0,     0,     0,     0,     0,     0,     0,     0,\n",
      "            0,     0,     0,     0,     0,     0,     0,     0,     0,     0,\n",
      "            0,     0,     0,     0,     0,     0,     0,     0,     0,     0,\n",
      "            0,     0,     0,     0,     0,     0,     0,     0,     0,     0,\n",
      "            0,     0,     0,     0,     0,     0,     0,     0,     0,     0,\n",
      "            0,     0,     0,     0,     0,     0,     0,     0,     0,     0,\n",
      "            0,     0,     0,     0,     0,     0,     0,     0,     0,     0,\n",
      "            0,     0,     0,     0,     0,     0,     0,     0,     0,     0,\n",
      "            0,     0,     0,     0,     0,     0,     0,     0,     0,     0,\n",
      "            0,     0,     0,     0,     0,     0,     0,     0,     0,     0,\n",
      "            0,     0,     0,     0,     0,     0,     0,     0,     0,     0,\n",
      "            0,     0,     0,     0,     0,     0,     0,     0,     0,     0,\n",
      "            0,     0,     0,     0,     0,     0,     0,     0,     0,     0,\n",
      "            0,     0,     0,     0,     0,     0,     0,     0,     0,     0,\n",
      "            0,     0,     0,     0,     0,     0,     0,     0,     0,     0,\n",
      "            0,     0,     0,     0,     0,     0,     0,     0,     0,     0,\n",
      "            0,     0,     0,     0,     0,     0,     0,     0,     0,     0,\n",
      "            0,     0,     0,     0,     0,     0,     0,     0,     0,     0,\n",
      "            0,     0,     0,     0,     0,     0,     0,     0,     0,     0,\n",
      "            0,     0,     0,     0,     0,     0,     0,     0,     0,     0,\n",
      "            0,     0,     0,     0,     0,     0,     0,     0,     0,     0,\n",
      "            0,     0,     0,     0,     0,     0,     0,     0,     0,     0,\n",
      "            0,     0,     0,     0,     0,     0,     0,     0,     0,     0,\n",
      "            0,     0,     0,     0,     0,     0,     0,     0,     0,     0,\n",
      "            0,     0], device='cuda:0')\n",
      "tensor([  101,  1999,  3655,  2007,   103,  3121,   103,  5057,  6869,  2545,\n",
      "          103,   103,  8321,  2723,  2504,  3295,   103,  2424,   103, 20587,\n",
      "         2015,  2855,  1012,  2057,  8970,  1037,  2291,  2000,   103,  1037,\n",
      "         6778,   103,  1055,   103,   103,   103,   103,  4684,   103,  1005,\n",
      "         1055, 13617,  2951,   103,   103,   103,  1011,   103,  2832,   103,\n",
      "          103,  1010,   103,   103,   103,   103,  2897,  2000,  5646,   103,\n",
      "         1037, 26381,   103,  2030, 16639,  1037,   103,   103, 14658,   103,\n",
      "         3431,   103,  2117,   103,   103,  2224,  1037,   103, 18721,  6055,\n",
      "          103,  2000,  5468,   103,   103,  1999,  3347, 28993,  3778,  2013,\n",
      "          103,   103,   103,  1996,   103,  2000,  1996,  6778,  1005,   103,\n",
      "         7169,   103,  1012,  4406,   103,   103, 14656,   103,  8107,  1010,\n",
      "         2256,   103,  2003,  1996,  2034,   103,  2515,   103,   103,   103,\n",
      "         2224,  1997, 14400,  2015,   103,   103,  3716,  1997,   103,  2311,\n",
      "         6502,  1010,  2030,  3716,  1997,  5310,   103,  1012,   103, 10580,\n",
      "         2613,   103,  2088,   103,   103,  6191,   103,  2408,  2274,  2367,\n",
      "         4206,  3121,   103,   103,   103,   103,  2073,  2256,  2291, 10173,\n",
      "         1996,  6149,   103,  2504,   103,   103,   103,   103,  1012,   102,\n",
      "            0,     0,     0,     0,     0,     0,     0,     0,     0,     0,\n",
      "            0,     0,     0,     0,     0,     0,     0,     0,     0,     0,\n",
      "            0,     0,     0,     0,     0,     0,     0,     0,     0,     0,\n",
      "            0,     0,     0,     0,     0,     0,     0,     0,     0,     0,\n",
      "            0,     0,     0,     0,     0,     0,     0,     0,     0,     0,\n",
      "            0,     0,     0,     0,     0,     0,     0,     0,     0,     0,\n",
      "            0,     0,     0,     0,     0,     0,     0,     0,     0,     0,\n",
      "            0,     0,     0,     0,     0,     0,     0,     0,     0,     0,\n",
      "            0,     0,     0,     0,     0,     0,     0,     0,     0,     0,\n",
      "            0,     0,     0,     0,     0,     0,     0,     0,     0,     0,\n",
      "            0,     0,     0,     0,     0,     0,     0,     0,     0,     0,\n",
      "            0,     0,     0,     0,     0,     0,     0,     0,     0,     0,\n",
      "            0,     0,     0,     0,     0,     0,     0,     0,     0,     0,\n",
      "            0,     0,     0,     0,     0,     0,     0,     0,     0,     0,\n",
      "            0,     0,     0,     0,     0,     0,     0,     0,     0,     0,\n",
      "            0,     0,     0,     0,     0,     0,     0,     0,     0,     0,\n",
      "            0,     0,     0,     0,     0,     0,     0,     0,     0,     0,\n",
      "            0,     0,     0,     0,     0,     0,     0,     0,     0,     0,\n",
      "            0,     0,     0,     0,     0,     0,     0,     0,     0,     0,\n",
      "            0,     0,     0,     0,     0,     0,     0,     0,     0,     0,\n",
      "            0,     0,     0,     0,     0,     0,     0,     0,     0,     0,\n",
      "            0,     0,     0,     0,     0,     0,     0,     0,     0,     0,\n",
      "            0,     0,     0,     0,     0,     0,     0,     0,     0,     0,\n",
      "            0,     0,     0,     0,     0,     0,     0,     0,     0,     0,\n",
      "            0,     0,     0,     0,     0,     0,     0,     0,     0,     0,\n",
      "            0,     0,     0,     0,     0,     0,     0,     0,     0,     0,\n",
      "            0,     0,     0,     0,     0,     0,     0,     0,     0,     0,\n",
      "            0,     0,     0,     0,     0,     0,     0,     0,     0,     0,\n",
      "            0,     0,     0,     0,     0,     0,     0,     0,     0,     0,\n",
      "            0,     0,     0,     0,     0,     0,     0,     0,     0,     0,\n",
      "            0,     0,     0,     0,     0,     0,     0,     0,     0,     0,\n",
      "            0,     0,     0,     0,     0,     0,     0,     0,     0,     0,\n",
      "            0,     0,     0,     0,     0,     0,     0,     0,     0,     0,\n",
      "            0,     0,     0,     0,     0,     0,     0,     0,     0,     0,\n",
      "            0,     0], device='cuda:0')\n"
     ]
    }
   ],
   "source": [
    "print(test_sample[0][0])\n",
    "print(test_sample[1][0])"
   ]
  },
  {
   "cell_type": "code",
   "execution_count": null,
   "metadata": {},
   "outputs": [
    {
     "data": {
      "text/plain": [
       "tensor(0.3941, device='cuda:0')"
      ]
     },
     "execution_count": null,
     "metadata": {},
     "output_type": "execute_result"
    }
   ],
   "source": [
    "(test_sample[0][0] == 103).sum() / (test_sample[0][0] != 0).sum()"
   ]
  },
  {
   "cell_type": "code",
   "execution_count": null,
   "metadata": {},
   "outputs": [],
   "source": []
  },
  {
   "cell_type": "code",
   "execution_count": null,
   "metadata": {},
   "outputs": [
    {
     "data": {
      "text/plain": [
       "['Hola', 'Holaa', 'Holaaa']"
      ]
     },
     "execution_count": null,
     "metadata": {},
     "output_type": "execute_result"
    }
   ],
   "source": [
    "[elem[:6] for elem in [\"Hola\", \"Holaa\", \"Holaaaa\"]]"
   ]
  },
  {
   "cell_type": "code",
   "execution_count": null,
   "metadata": {},
   "outputs": [
    {
     "ename": "NameError",
     "evalue": "name 'abstracts' is not defined",
     "output_type": "error",
     "traceback": [
      "\u001b[0;31m---------------------------------------------------------------------------\u001b[0m",
      "\u001b[0;31mNameError\u001b[0m                                 Traceback (most recent call last)",
      "File \u001b[0;32m<timed eval>:1\u001b[0m, in \u001b[0;36m<module>\u001b[0;34m\u001b[0m\n",
      "\u001b[0;31mNameError\u001b[0m: name 'abstracts' is not defined"
     ]
    }
   ],
   "source": [
    "%%time\n",
    "[elem[:1000] for elem in abstracts]"
   ]
  },
  {
   "cell_type": "markdown",
   "metadata": {},
   "source": [
    "# MaskedMultOverlappingSentencesPairDataset"
   ]
  },
  {
   "cell_type": "code",
   "execution_count": null,
   "metadata": {},
   "outputs": [],
   "source": [
    "import itertools\n",
    "\n",
    "\n",
    "class MaskedMultOverlappingSentencesPairDataset(torch.utils.data.Dataset):\n",
    "    def __init__(\n",
    "        self,\n",
    "        abstracts,\n",
    "        tokenizer,\n",
    "        device,\n",
    "        n_cons_sntcs=2,\n",
    "        tokenizer_kwargs=None,\n",
    "        fraction_masked=0.4,\n",
    "        seed=42,\n",
    "    ):\n",
    "        # actually a list of tokens\n",
    "        self.abstracts = abstracts\n",
    "        self.rng = np.random.default_rng(seed)\n",
    "        self.n_cons_sntcs = n_cons_sntcs\n",
    "        self.device = device\n",
    "        self.fraction_masked = fraction_masked\n",
    "\n",
    "        # sentence map\n",
    "        self.sentences_map = []\n",
    "        for i, sentences in enumerate(\n",
    "            abstracts.map(lambda a: a.split(\".\"))\n",
    "        ):  # loop through abstracts\n",
    "            for j in range(\n",
    "                len(sentences) - (self.n_cons_sntcs - 1)\n",
    "            ):  # loop through sentences inside abstract\n",
    "                if (len(sentences[j]) >= 100) & (\n",
    "                    len(sentences[j]) <= 250\n",
    "                ):  # length conditions\n",
    "                    cons_sentences_pack = \"\"\n",
    "                    cons_sentence_counts = 0\n",
    "                    for k in range(\n",
    "                        len(sentences) - j\n",
    "                    ):  # loop through sentences to add them\n",
    "                        if (len(sentences[j + k]) >= 100) & (\n",
    "                            len(sentences[j + k]) <= 250\n",
    "                        ):  # length conditions\n",
    "                            cons_sentences_pack += (\n",
    "                                sentences[j + k].strip() + \". \"\n",
    "                            )\n",
    "                            cons_sentence_counts += 1\n",
    "\n",
    "                        if (\n",
    "                            cons_sentence_counts == self.n_cons_sntcs\n",
    "                        ):  # check if we have already enough sentences\n",
    "                            self.sentences_map.append((cons_sentences_pack, i))\n",
    "                            break\n",
    "\n",
    "        if tokenizer_kwargs is None:\n",
    "            tokenizer_kwargs = dict(\n",
    "                max_length=512,\n",
    "                padding=True,\n",
    "                truncation=True,\n",
    "                return_tensors=\"pt\",\n",
    "                return_special_tokens_mask=True,  # this one is new and important for this class\n",
    "            )\n",
    "\n",
    "        self.sentences_tok = tokenizer(\n",
    "            [x for x, _ in self.sentences_map], **tokenizer_kwargs\n",
    "        ).to(self.device)\n",
    "\n",
    "        # we group the flat sentences by the original abstract they\n",
    "        # come from.  Then we can check whether we have enough\n",
    "        # sentences and append the abstracts with at least two\n",
    "        # sentences to our list.\n",
    "        sentences_and_toks = zip(\n",
    "            self.sentences_map,\n",
    "            self.sentences_tok[\"input_ids\"],\n",
    "            self.sentences_tok[\"attention_mask\"],\n",
    "            self.sentences_tok[\"special_tokens_mask\"],\n",
    "        )\n",
    "        self.abs_sentences = []\n",
    "        self.abs_toks = []\n",
    "        self.abs_mask = []\n",
    "        self.abs_special_msk = []\n",
    "        for key, group in itertools.groupby(\n",
    "            sentences_and_toks,\n",
    "            key=lambda kvtoksetc: kvtoksetc[0][\n",
    "                1\n",
    "            ],  # this is selecting the index from the abstract from the tuple inside sentences_map\n",
    "        ):\n",
    "            grp = list(group)\n",
    "            if len(grp) < 2:\n",
    "                continue  # not enough sentences\n",
    "            else:\n",
    "                self.abs_sentences.append([kv[0] for kv in grp])\n",
    "                self.abs_toks.append([x[1] for x in grp])\n",
    "                self.abs_mask.append([x[2] for x in grp])\n",
    "                self.abs_special_msk.append([x[3] for x in grp])\n",
    "\n",
    "        # we now have `self.abs_toks`, which is a list of lists,\n",
    "        # where the first list is the abstracts and the second is the\n",
    "        # token representation of the sentences within the given\n",
    "        # abstract.\n",
    "\n",
    "    def __getitem__(self, idx):\n",
    "        abstract = self.abs_toks[idx]\n",
    "        amask = self.abs_mask[idx]\n",
    "        special_tokens_mask = self.abs_special_msk[idx]\n",
    "        i1, i2 = self.rng.choice(len(abstract), size=2, replace=False)\n",
    "\n",
    "        # select pair of cons sentences\n",
    "        sentences_1 = abstract[i1]\n",
    "        amask_1 = amask[i1]\n",
    "        special_tokens_mask_1 = special_tokens_mask[i1]\n",
    "        sentences_2 = abstract[i2]\n",
    "        amask_2 = amask[i2]\n",
    "        special_tokens_mask_2 = special_tokens_mask[i2]\n",
    "\n",
    "        # sentences 1\n",
    "        masked_token_value_1 = (\n",
    "            torch.ones(sentences_1.size(), dtype=int, device=self.device) * 103\n",
    "        )\n",
    "        real_sentences_length_1 = int((special_tokens_mask_1 == 0).sum())\n",
    "\n",
    "        # masked sentences 1 -- maybe make this into function; ask Nik\n",
    "        mask_1 = np.zeros(real_sentences_length_1, dtype=int)\n",
    "        mask_1[: round(real_sentences_length_1 * self.fraction_masked)] = 1\n",
    "        self.rng.shuffle(mask_1)\n",
    "        mask_1 = np.pad(\n",
    "            mask_1, (1, len(sentences_1) - real_sentences_length_1 - 1)\n",
    "        )  # pad 1 zero at the beggining for the CLS token, and pad the end to fill until reaching original length\n",
    "        mask_1 = torch.from_numpy(mask_1).to(self.device)\n",
    "\n",
    "        sentences_1_masked = torch.where(\n",
    "            (special_tokens_mask_1 == 0) & (mask_1 == 1),\n",
    "            masked_token_value_1,\n",
    "            sentences_1,\n",
    "        )\n",
    "\n",
    "        # sentences 2\n",
    "        masked_token_value_2 = (\n",
    "            torch.ones(sentences_2.size(), dtype=int, device=self.device) * 103\n",
    "        )\n",
    "        real_sentences_length_2 = int((special_tokens_mask_2 == 0).sum())\n",
    "\n",
    "        # masked sentences 2 -- maybe make this into function; ask Nik\n",
    "        mask_2 = np.zeros(real_sentences_length_2, dtype=int)\n",
    "        mask_2[: round(real_sentences_length_2 * self.fraction_masked)] = 1\n",
    "        self.rng.shuffle(mask_2)\n",
    "        mask_2 = np.pad(\n",
    "            mask_2, (1, len(sentences_2) - real_sentences_length_2 - 1)\n",
    "        )\n",
    "        mask_2 = torch.from_numpy(mask_2).to(self.device)\n",
    "\n",
    "        sentences_2_masked = torch.where(\n",
    "            (special_tokens_mask_2 == 0) & (mask_2 == 1),\n",
    "            masked_token_value_2,\n",
    "            sentences_2,\n",
    "        )\n",
    "\n",
    "        return (sentences_1_masked, amask_1), (sentences_2_masked, amask_2)\n",
    "\n",
    "    def __len__(self):\n",
    "        return len(self.abs_sentences)"
   ]
  },
  {
   "cell_type": "code",
   "execution_count": null,
   "metadata": {},
   "outputs": [],
   "source": [
    "model_names = [\n",
    "    \"BERT\",\n",
    "    \"MPNet\",\n",
    "    \"SBERT\",\n",
    "    \"SciBERT\",\n",
    "    \"SPECTER\",\n",
    "    \"SciNCL\",\n",
    "]\n",
    "\n",
    "\n",
    "model_paths = [\n",
    "    \"bert-base-uncased\",\n",
    "    \"microsoft/mpnet-base\",\n",
    "    \"sentence-transformers/all-mpnet-base-v2\",\n",
    "    \"allenai/scibert_scivocab_uncased\",\n",
    "    \"allenai/specter\",\n",
    "    \"malteos/scincl\",\n",
    "]"
   ]
  },
  {
   "cell_type": "code",
   "execution_count": null,
   "metadata": {},
   "outputs": [
    {
     "name": "stdout",
     "output_type": "stream",
     "text": [
      "Model:  BERT\n",
      "Running on device: cuda\n",
      "bert-base-uncased\n"
     ]
    }
   ],
   "source": [
    "i = 0\n",
    "seed = 42\n",
    "# Set the random seed for PyTorch\n",
    "torch.manual_seed(seed)\n",
    "torch.backends.cudnn.benchmark = False\n",
    "torch.backends.cudnn.deterministic = True\n",
    "# torch.use_deterministic_algorithms(True)\n",
    "# Set the random seed for NumPy\n",
    "np.random.seed(seed)\n",
    "# Set the random seed\n",
    "random.seed(seed)\n",
    "\n",
    "# set up model\n",
    "print(\"Model: \", model_names[i])\n",
    "\n",
    "device = \"cuda\" if torch.cuda.is_available() else \"cpu\"\n",
    "print(\"Running on device: {}\".format(device))\n",
    "\n",
    "tokenizer = AutoTokenizer.from_pretrained(model_paths[i])\n",
    "# model = AutoModel.from_pretrained(model_paths[i])\n",
    "print(model_paths[i])"
   ]
  },
  {
   "cell_type": "code",
   "execution_count": null,
   "metadata": {},
   "outputs": [
    {
     "name": "stdout",
     "output_type": "stream",
     "text": [
      "CPU times: user 51.7 s, sys: 17.6 s, total: 1min 9s\n",
      "Wall time: 6.63 s\n"
     ]
    }
   ],
   "source": [
    "%%time\n",
    "# data\n",
    "training_dataset_test_len = MultOverlappingSentencesPairDataset(\n",
    "    iclr.abstract, tokenizer, device, n_cons_sntcs=2, seed=42\n",
    ")"
   ]
  },
  {
   "cell_type": "code",
   "execution_count": null,
   "metadata": {},
   "outputs": [
    {
     "name": "stdout",
     "output_type": "stream",
     "text": [
      "15931\n"
     ]
    }
   ],
   "source": [
    "print(len(training_dataset_test_len))"
   ]
  },
  {
   "cell_type": "code",
   "execution_count": null,
   "metadata": {},
   "outputs": [
    {
     "name": "stdout",
     "output_type": "stream",
     "text": [
      "CPU times: user 55.9 s, sys: 21.7 s, total: 1min 17s\n",
      "Wall time: 7.95 s\n"
     ]
    }
   ],
   "source": [
    "%%time\n",
    "# data\n",
    "training_dataset = MaskedMultOverlappingSentencesPairDataset(\n",
    "    iclr.abstract,\n",
    "    tokenizer,\n",
    "    device,\n",
    "    n_cons_sntcs=2,\n",
    "    fraction_masked=0.4,\n",
    "    seed=42,\n",
    ")"
   ]
  },
  {
   "cell_type": "code",
   "execution_count": null,
   "metadata": {},
   "outputs": [
    {
     "name": "stdout",
     "output_type": "stream",
     "text": [
      "16536\n",
      "15931\n"
     ]
    }
   ],
   "source": [
    "print(len(iclr.abstract))\n",
    "print(len(training_dataset))"
   ]
  },
  {
   "cell_type": "code",
   "execution_count": null,
   "metadata": {},
   "outputs": [
    {
     "data": {
      "text/plain": [
       "(\"In cities with tall buildings, emergency responders need an accurate floor level location to find 911 callers quickly. We introduce a system to estimate a victim's floor level via their mobile device's sensor data in a two-step process. \",\n",
       " 0)"
      ]
     },
     "execution_count": null,
     "metadata": {},
     "output_type": "execute_result"
    }
   ],
   "source": [
    "training_dataset.abs_sentences[0][0]"
   ]
  },
  {
   "cell_type": "code",
   "execution_count": null,
   "metadata": {},
   "outputs": [
    {
     "data": {
      "text/plain": [
       "tensor([  101,  1999,  3655,  2007,  4206,  3121,  1010,  5057,  6869,  2545,\n",
       "         2342,  2019,  8321,  2723,  2504,  3295,  2000,  2424, 19989, 20587,\n",
       "         2015,  2855,  1012,  2057,  8970,  1037,  2291,  2000, 10197,  1037,\n",
       "         6778,  1005,  1055,  2723,  2504,  3081,  2037,  4684,  5080,  1005,\n",
       "         1055, 13617,  2951,  1999,  1037,  2048,  1011,  3357,  2832,  1012,\n",
       "          102,     0,     0,     0,     0,     0,     0,     0,     0,     0,\n",
       "            0,     0,     0,     0,     0,     0,     0,     0,     0,     0,\n",
       "            0,     0,     0,     0,     0,     0,     0,     0,     0,     0,\n",
       "            0,     0,     0,     0,     0,     0,     0,     0,     0,     0,\n",
       "            0,     0,     0,     0,     0,     0,     0,     0,     0,     0,\n",
       "            0,     0,     0,     0,     0,     0,     0,     0,     0,     0,\n",
       "            0,     0,     0,     0,     0,     0,     0,     0,     0,     0,\n",
       "            0,     0,     0,     0,     0,     0,     0,     0,     0,     0,\n",
       "            0,     0,     0,     0,     0,     0,     0,     0,     0,     0,\n",
       "            0,     0,     0,     0,     0,     0,     0,     0,     0,     0,\n",
       "            0,     0,     0,     0,     0,     0,     0,     0,     0,     0,\n",
       "            0,     0,     0,     0,     0,     0,     0,     0,     0,     0,\n",
       "            0,     0], device='cuda:0')"
      ]
     },
     "execution_count": null,
     "metadata": {},
     "output_type": "execute_result"
    }
   ],
   "source": [
    "training_dataset.abs_toks[0][0]"
   ]
  },
  {
   "cell_type": "code",
   "execution_count": null,
   "metadata": {},
   "outputs": [],
   "source": [
    "test_sample = training_dataset[0]"
   ]
  },
  {
   "cell_type": "code",
   "execution_count": null,
   "metadata": {},
   "outputs": [
    {
     "name": "stdout",
     "output_type": "stream",
     "text": [
      "tensor([  101,  1999,   103,  2007,  4206,   103,   103,   103,   103,  2545,\n",
      "         2342,  2019,  8321,  2723,   103,  3295,  2000,  2424, 19989,   103,\n",
      "         2015,  2855,  1012,  2057,   103,  1037,  2291,  2000, 10197,   103,\n",
      "         6778,  1005,   103,   103,  2504,   103,  2037,   103,   103,  1005,\n",
      "          103, 13617,   103,   103,  1037,   103,   103,   103,  2832,  1012,\n",
      "          102,     0,     0,     0,     0,     0,     0,     0,     0,     0,\n",
      "            0,     0,     0,     0,     0,     0,     0,     0,     0,     0,\n",
      "            0,     0,     0,     0,     0,     0,     0,     0,     0,     0,\n",
      "            0,     0,     0,     0,     0,     0,     0,     0,     0,     0,\n",
      "            0,     0,     0,     0,     0,     0,     0,     0,     0,     0,\n",
      "            0,     0,     0,     0,     0,     0,     0,     0,     0,     0,\n",
      "            0,     0,     0,     0,     0,     0,     0,     0,     0,     0,\n",
      "            0,     0,     0,     0,     0,     0,     0,     0,     0,     0,\n",
      "            0,     0,     0,     0,     0,     0,     0,     0,     0,     0,\n",
      "            0,     0,     0,     0,     0,     0,     0,     0,     0,     0,\n",
      "            0,     0,     0,     0,     0,     0,     0,     0,     0,     0,\n",
      "            0,     0,     0,     0,     0,     0,     0,     0,     0,     0,\n",
      "            0,     0], device='cuda:0')\n",
      "tensor([  101,  2117,   103,  2057,   103,  1037,   103,   103,   103,   103,\n",
      "         2000,   103,  1996,  2689,   103,   103, 28993,  3778,   103,   103,\n",
      "          103,  1997,  1996,  2311,  2000,   103,  6778,  1005,   103,   103,\n",
      "         3295,  1012,  4406, 17727,   103,   103,  3025,   103,  1010,   103,\n",
      "         2291,  2003,  1996,  2034,  2008,  2515,   103,   103,   103,  2224,\n",
      "         1997,   103,  2015,   103,  3188,  3716,  1997,  1996,  2311,  6502,\n",
      "          103,  2030,  3716,   103,  5310,  5248,  1012,   102,     0,     0,\n",
      "            0,     0,     0,     0,     0,     0,     0,     0,     0,     0,\n",
      "            0,     0,     0,     0,     0,     0,     0,     0,     0,     0,\n",
      "            0,     0,     0,     0,     0,     0,     0,     0,     0,     0,\n",
      "            0,     0,     0,     0,     0,     0,     0,     0,     0,     0,\n",
      "            0,     0,     0,     0,     0,     0,     0,     0,     0,     0,\n",
      "            0,     0,     0,     0,     0,     0,     0,     0,     0,     0,\n",
      "            0,     0,     0,     0,     0,     0,     0,     0,     0,     0,\n",
      "            0,     0,     0,     0,     0,     0,     0,     0,     0,     0,\n",
      "            0,     0,     0,     0,     0,     0,     0,     0,     0,     0,\n",
      "            0,     0,     0,     0,     0,     0,     0,     0,     0,     0,\n",
      "            0,     0], device='cuda:0')\n"
     ]
    }
   ],
   "source": [
    "print(test_sample[0][0])\n",
    "print(test_sample[1][0])"
   ]
  },
  {
   "cell_type": "code",
   "execution_count": null,
   "metadata": {},
   "outputs": [],
   "source": []
  },
  {
   "cell_type": "code",
   "execution_count": null,
   "metadata": {},
   "outputs": [],
   "source": []
  },
  {
   "cell_type": "code",
   "execution_count": null,
   "metadata": {},
   "outputs": [],
   "source": []
  }
 ],
 "metadata": {
  "kernelspec": {
   "display_name": "python3",
   "language": "python",
   "name": "python3"
  }
 },
 "nbformat": 4,
 "nbformat_minor": 4
}
