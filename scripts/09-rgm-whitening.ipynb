{
 "cells": [
  {
   "cell_type": "code",
   "execution_count": null,
   "id": "2875705d",
   "metadata": {},
   "outputs": [],
   "source": [
    "import pandas as pd\n",
    "import random\n",
    "import numpy as np\n",
    "from random import randint\n",
    "\n",
    "import pickle\n",
    "import time\n",
    "import memory_profiler\n",
    "\n",
    "%load_ext memory_profiler\n",
    "\n",
    "from pathlib import Path\n",
    "import distro\n",
    "\n",
    "%load_ext watermark"
   ]
  },
  {
   "cell_type": "code",
   "execution_count": null,
   "id": "08fdbffd",
   "metadata": {},
   "outputs": [
    {
     "data": {
      "text/plain": [
       "'2.1.1+cu121'"
      ]
     },
     "execution_count": null,
     "metadata": {},
     "output_type": "execute_result"
    }
   ],
   "source": [
    "torch.__version__"
   ]
  },
  {
   "cell_type": "code",
   "execution_count": null,
   "id": "fc676833",
   "metadata": {},
   "outputs": [],
   "source": [
    "%load_ext autoreload\n",
    "%autoreload 2\n",
    "\n",
    "from text_embeddings_src.legacy.metrics import knn_accuracy\n"
   ]
  },
  {
   "cell_type": "code",
   "execution_count": null,
   "id": "4187e547",
   "metadata": {},
   "outputs": [],
   "source": [
    "import black\n",
    "import jupyter_black\n",
    "\n",
    "jupyter_black.load(line_length=79)"
   ]
  },
  {
   "cell_type": "code",
   "execution_count": null,
   "id": "56c5fc69",
   "metadata": {},
   "outputs": [],
   "source": [
    "variables_path = Path(\"../../results/variables\")\n",
    "figures_path = Path(\"../../results/figures/updated_dataset\")\n",
    "data_path = Path(\"../../data\")"
   ]
  },
  {
   "cell_type": "code",
   "execution_count": null,
   "id": "3bd1f12c",
   "metadata": {},
   "outputs": [],
   "source": [
    "# MANUAL FIX TO PATH ISSUE FROM VSCODE\n",
    "import text_embeddings_src\n",
    "\n",
    "nb_path = Path(text_embeddings_src.__path__[0]).parents[0] / Path(\n",
    "    \"scripts/updated_dataset\"\n",
    ")\n",
    "assert nb_path.exists(), \"The path does not exist\"\n",
    "\n",
    "variables_path = (nb_path / variables_path).resolve(strict=True)\n",
    "figures_path = (nb_path / figures_path).resolve(strict=True)\n",
    "data_path = (nb_path / data_path).resolve(strict=True)"
   ]
  },
  {
   "cell_type": "code",
   "execution_count": null,
   "id": "a9f5aa5b",
   "metadata": {},
   "outputs": [],
   "source": [
    "# plt.style.use((nb_path / Path(\"../matplotlib_style.txt\")).resolve(strict=True))"
   ]
  },
  {
   "cell_type": "code",
   "execution_count": null,
   "id": "d23bc34e",
   "metadata": {},
   "outputs": [
    {
     "name": "stdout",
     "output_type": "stream",
     "text": [
      "Author: Rita González-Márquez\n",
      "\n",
      "Last updated: 2024-03-12 03:38:05CET\n",
      "\n",
      "Python implementation: CPython\n",
      "Python version       : 3.11.5\n",
      "IPython version      : 8.18.1\n",
      "\n",
      "openTSNE: 1.0.0\n",
      "\n",
      "Compiler    : GCC 11.2.0\n",
      "OS          : Linux\n",
      "Release     : 3.10.0-1160.el7.x86_64\n",
      "Machine     : x86_64\n",
      "Processor   : x86_64\n",
      "CPU cores   : 64\n",
      "Architecture: 64bit\n",
      "\n",
      "Hostname: rgonzalesmarquez_GPU0-llm_gber7\n",
      "\n",
      "matplotlib     : 3.8.2\n",
      "scipy          : 1.11.4\n",
      "distro         : 1.8.0\n",
      "sklearn        : 1.3.2\n",
      "memory_profiler: 0.61.0\n",
      "jupyter_black  : 0.3.4\n",
      "numpy          : 1.26.2\n",
      "black          : 23.11.0\n",
      "openTSNE       : 1.0.0\n",
      "pandas         : 2.1.3\n",
      "torch          : 2.1.1\n",
      "adapters       : 0.1.0\n",
      "\n",
      "Watermark: 2.4.3\n",
      "\n",
      "Ubuntu 22.04.3 LTS\n"
     ]
    }
   ],
   "source": [
    "%watermark -a 'Rita González-Márquez' -t -d -tz -u -v -iv -w -m -h -p transformers -p openTSNE\n",
    "print(distro.name(pretty=True))"
   ]
  },
  {
   "cell_type": "markdown",
   "id": "75c9d1e7",
   "metadata": {},
   "source": [
    "# Import"
   ]
  },
  {
   "cell_type": "code",
   "execution_count": null,
   "id": "2e7cc29c",
   "metadata": {},
   "outputs": [
    {
     "name": "stdout",
     "output_type": "stream",
     "text": [
      "CPU times: user 264 ms, sys: 90.5 ms, total: 354 ms\n",
      "Wall time: 359 ms\n"
     ]
    }
   ],
   "source": [
    "%%time\n",
    "iclr2024 = pd.read_parquet(\n",
    "    data_path / \"iclr2024.parquet.gzip\",\n",
    "    engine=\"pyarrow\",\n",
    ")"
   ]
  },
  {
   "cell_type": "code",
   "execution_count": null,
   "id": "e808f181",
   "metadata": {},
   "outputs": [],
   "source": [
    "iclr2024.keywords = iclr2024.keywords.transform(lambda x: list(x))\n",
    "iclr2024.scores = iclr2024.scores.transform(lambda x: list(x))"
   ]
  },
  {
   "cell_type": "code",
   "execution_count": null,
   "id": "6fcb00db",
   "metadata": {},
   "outputs": [],
   "source": [
    "iclr2024"
   ]
  },
  {
   "cell_type": "code",
   "execution_count": null,
   "id": "f9d4b475",
   "metadata": {},
   "outputs": [],
   "source": [
    "labels_iclr = np.load(variables_path / \"updated_dataset\" / \"labels_iclr.npy\")\n",
    "colors_iclr = np.load(variables_path / \"updated_dataset\" / \"colors_iclr.npy\")\n",
    "\n",
    "pickle_in = open(\n",
    "    variables_path / \"updated_dataset\" / \"dict_label_to_color.pkl\", \"rb\"\n",
    ")\n",
    "dict_label_to_color = pickle.load(pickle_in)"
   ]
  },
  {
   "cell_type": "markdown",
   "id": "dd4666e2-d228-45de-b5c5-28f88a21d9c6",
   "metadata": {},
   "source": [
    "# kNN accuracy for centered and whitened representations\n",
    "Using both euclidean and cosine distances for comparison.\n",
    "The numbers here and in the paper are obtained using an older and smaller version of the ICLR dataset (see shapes in a cell below)."
   ]
  },
  {
   "cell_type": "code",
   "execution_count": null,
   "id": "0230b96e",
   "metadata": {},
   "outputs": [],
   "source": [
    "def print_table(knn_accs):\n",
    "    print([\"euclidean\", \"cosine\"])\n",
    "    print(\n",
    "        \"Raw:      \",\n",
    "        round(knn_accs[0, 0], 3) * 100,\n",
    "        round(knn_accs[0, 1], 3) * 100,\n",
    "    )\n",
    "    print(\n",
    "        \"Centered: \",\n",
    "        round(knn_accs[1, 0], 3) * 100,\n",
    "        round(knn_accs[1, 1], 3) * 100,\n",
    "    )\n",
    "    print(\n",
    "        \"Whitened: \",\n",
    "        round(knn_accs[2, 0], 3) * 100,\n",
    "        round(knn_accs[2, 1], 3) * 100,\n",
    "    )\n",
    "    print(\"---------------\")"
   ]
  },
  {
   "cell_type": "markdown",
   "id": "2931b3f7",
   "metadata": {},
   "source": [
    "## MPNet"
   ]
  },
  {
   "cell_type": "code",
   "execution_count": null,
   "id": "eaad37d1",
   "metadata": {},
   "outputs": [],
   "source": [
    "# load\n",
    "saving_path = Path(\"embeddings_\" + \"mpnet\") / Path(\"updated_dataset\")\n",
    "embedding_av = np.load(\n",
    "    variables_path / saving_path / \"embedding_abstracts_only_av.npy\"\n",
    ")\n",
    "\n",
    "embedding_asbtracts_only_av_after_training_av_1_epoch = np.load(\n",
    "    variables_path\n",
    "    / saving_path\n",
    "    / \"embedding_asbtracts_only_av_after_training_av_1_epoch.npy\"\n",
    ")"
   ]
  },
  {
   "cell_type": "code",
   "execution_count": null,
   "id": "d9cd4545",
   "metadata": {},
   "outputs": [
    {
     "name": "stdout",
     "output_type": "stream",
     "text": [
      "(12997,)\n"
     ]
    },
    {
     "data": {
      "text/plain": [
       "1300"
      ]
     },
     "execution_count": null,
     "metadata": {},
     "output_type": "execute_result"
    }
   ],
   "source": [
    "# THE NUMBERS FROM THE PAPER ARE OBTAINED USING THE OLD VERSION OF THE ICLR DATASET (SEE SHAPES HERE)\n",
    "print(labels_iclr[labels_iclr != \"unlabeled\"].shape)\n",
    "round(0.1 * labels_iclr[labels_iclr != \"unlabeled\"].shape[0])"
   ]
  },
  {
   "cell_type": "markdown",
   "id": "74e4598e",
   "metadata": {},
   "source": [
    "### Baseline"
   ]
  },
  {
   "cell_type": "code",
   "execution_count": null,
   "id": "59886217-8dba-4d20-9965-8f143affbbe9",
   "metadata": {},
   "outputs": [
    {
     "name": "stdout",
     "output_type": "stream",
     "text": [
      "CPU times: user 1min 5s, sys: 1min 12s, total: 2min 18s\n",
      "Wall time: 5.11 s\n"
     ]
    }
   ],
   "source": [
    "%%time\n",
    "knn_accuracy_before_training_centered_and_whitened = (\n",
    "    knn_accuracy_whitening_scores(\n",
    "        embedding_av[labels_iclr != \"unlabeled\"],\n",
    "        labels_iclr[labels_iclr != \"unlabeled\"],\n",
    "        rs=42,\n",
    "    )\n",
    ")\n",
    "knn_accuracy_before_training_centered_and_whitened_rs23 = (\n",
    "    knn_accuracy_whitening_scores(\n",
    "        embedding_av[labels_iclr != \"unlabeled\"],\n",
    "        labels_iclr[labels_iclr != \"unlabeled\"],\n",
    "        rs=23,\n",
    "    )\n",
    ")"
   ]
  },
  {
   "cell_type": "code",
   "execution_count": null,
   "id": "cafc7797-f407-4795-88df-4faf0b477a34",
   "metadata": {},
   "outputs": [
    {
     "name": "stdout",
     "output_type": "stream",
     "text": [
      "['euclidean', 'cosine']\n",
      "Raw:       37.4 39.6\n",
      "Centered:  37.4 37.0\n",
      "Whitened:  17.599999999999998 46.9\n",
      "---------------\n",
      "['euclidean', 'cosine']\n",
      "Raw:       39.800000000000004 41.6\n",
      "Centered:  39.800000000000004 37.9\n",
      "Whitened:  20.0 49.4\n",
      "---------------\n"
     ]
    }
   ],
   "source": [
    "# rs=23\n",
    "print_table(knn_accuracy_before_training_centered_and_whitened)\n",
    "print_table(knn_accuracy_before_training_centered_and_whitened_rs23)"
   ]
  },
  {
   "cell_type": "markdown",
   "id": "38224dfd",
   "metadata": {},
   "source": [
    "### After fine-tuning"
   ]
  },
  {
   "cell_type": "code",
   "execution_count": null,
   "id": "76a4ea5f",
   "metadata": {},
   "outputs": [
    {
     "name": "stdout",
     "output_type": "stream",
     "text": [
      "CPU times: user 1min 7s, sys: 1min 22s, total: 2min 30s\n",
      "Wall time: 5.18 s\n"
     ]
    }
   ],
   "source": [
    "%%time\n",
    "knn_accuracy_after_training_centered_and_whitened = (\n",
    "    knn_accuracy_whitening_scores(\n",
    "        embedding_asbtracts_only_av_after_training_av_1_epoch[\n",
    "            labels_iclr != \"unlabeled\"\n",
    "        ],\n",
    "        labels_iclr[labels_iclr != \"unlabeled\"],\n",
    "        rs=42,\n",
    "    )\n",
    ")\n",
    "knn_accuracy_after_training_centered_and_whitened_rs23 = (\n",
    "    knn_accuracy_whitening_scores(\n",
    "        embedding_asbtracts_only_av_after_training_av_1_epoch[\n",
    "            labels_iclr != \"unlabeled\"\n",
    "        ],\n",
    "        labels_iclr[labels_iclr != \"unlabeled\"],\n",
    "        rs=23,\n",
    "    )\n",
    ")"
   ]
  },
  {
   "cell_type": "code",
   "execution_count": null,
   "id": "ca9db77b",
   "metadata": {},
   "outputs": [
    {
     "name": "stdout",
     "output_type": "stream",
     "text": [
      "['euclidean', 'cosine']\n",
      "Raw:       58.699999999999996 59.3\n",
      "Centered:  58.699999999999996 58.9\n",
      "Whitened:  36.199999999999996 56.49999999999999\n",
      "---------------\n",
      "['euclidean', 'cosine']\n",
      "Raw:       60.6 60.199999999999996\n",
      "Centered:  60.6 59.5\n",
      "Whitened:  38.2 57.099999999999994\n",
      "---------------\n"
     ]
    }
   ],
   "source": [
    "# rs=23\n",
    "print_table(knn_accuracy_after_training_centered_and_whitened)\n",
    "print_table(knn_accuracy_after_training_centered_and_whitened_rs23)"
   ]
  },
  {
   "cell_type": "markdown",
   "id": "dd981a58",
   "metadata": {},
   "source": [
    "## SBERT"
   ]
  },
  {
   "cell_type": "markdown",
   "id": "3c8710dd",
   "metadata": {},
   "source": [
    "### Baseline"
   ]
  },
  {
   "cell_type": "code",
   "execution_count": null,
   "id": "49b57039",
   "metadata": {},
   "outputs": [],
   "source": [
    "# save\n",
    "saving_path = Path(\"embeddings_\" + \"sbert\") / Path(\"updated_dataset\")\n",
    "embedding_av_sbert = np.load(\n",
    "    variables_path / saving_path / \"embedding_abstracts_only_av.npy\"\n",
    ")"
   ]
  },
  {
   "cell_type": "code",
   "execution_count": null,
   "id": "1f6d1208",
   "metadata": {},
   "outputs": [
    {
     "name": "stdout",
     "output_type": "stream",
     "text": [
      "CPU times: user 1min 10s, sys: 1min 29s, total: 2min 39s\n",
      "Wall time: 5.22 s\n"
     ]
    }
   ],
   "source": [
    "%%time\n",
    "knn_accuracy_sbert_before_training_centered_and_whitened = (\n",
    "    knn_accuracy_whitening_scores(\n",
    "        embedding_av_sbert[labels_iclr != \"unlabeled\"],\n",
    "        labels_iclr[labels_iclr != \"unlabeled\"],\n",
    "        rs=42,\n",
    "    )\n",
    ")\n",
    "knn_accuracy_sbert_before_training_centered_and_whitened_rs23 = (\n",
    "    knn_accuracy_whitening_scores(\n",
    "        embedding_av_sbert[labels_iclr != \"unlabeled\"],\n",
    "        labels_iclr[labels_iclr != \"unlabeled\"],\n",
    "        rs=23,\n",
    "    )\n",
    ")"
   ]
  },
  {
   "cell_type": "code",
   "execution_count": null,
   "id": "630b22ca",
   "metadata": {},
   "outputs": [
    {
     "name": "stdout",
     "output_type": "stream",
     "text": [
      "['euclidean', 'cosine']\n",
      "Raw:       63.3 62.4\n",
      "Centered:  63.3 62.7\n",
      "Whitened:  46.7 57.099999999999994\n",
      "---------------\n",
      "['euclidean', 'cosine']\n",
      "Raw:       63.2 63.2\n",
      "Centered:  63.2 61.8\n",
      "Whitened:  50.0 58.199999999999996\n",
      "---------------\n"
     ]
    }
   ],
   "source": [
    "# rs=23\n",
    "print_table(knn_accuracy_sbert_before_training_centered_and_whitened)\n",
    "print_table(knn_accuracy_sbert_before_training_centered_and_whitened_rs23)"
   ]
  },
  {
   "cell_type": "code",
   "execution_count": null,
   "id": "d6f485ce",
   "metadata": {},
   "outputs": [
    {
     "name": "stdout",
     "output_type": "stream",
     "text": [
      "2.1254666\n",
      "4.802613\n",
      "2.1115158\n"
     ]
    }
   ],
   "source": [
    "# Not normalized\n",
    "print(np.linalg.norm(embedding_av_sbert[0]))\n",
    "print(np.linalg.norm(embedding_av[0]))\n",
    "print(np.linalg.norm(embedding_asbtracts_only_av_after_training_av_1_epoch[0]))"
   ]
  }
 ],
 "metadata": {
  "kernelspec": {
   "display_name": "python3",
   "language": "python",
   "name": "python3"
  }
 },
 "nbformat": 4,
 "nbformat_minor": 5
}
